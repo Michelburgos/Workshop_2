{
 "cells": [
  {
   "cell_type": "markdown",
   "metadata": {},
   "source": [
    "### Importación de bibliotecas"
   ]
  },
  {
   "cell_type": "code",
   "execution_count": 5,
   "metadata": {},
   "outputs": [],
   "source": [
    "import sys\n",
    "import os\n",
    "import pandas as pd \n",
    "import numpy as np\n",
    "import seaborn as sns\n",
    "import matplotlib.pyplot as plt\n",
    "import re"
   ]
  },
  {
   "cell_type": "markdown",
   "metadata": {},
   "source": [
    "### Establecer conexión a la base de datos PostgreSQL"
   ]
  },
  {
   "cell_type": "code",
   "execution_count": 6,
   "metadata": {},
   "outputs": [
    {
     "name": "stderr",
     "output_type": "stream",
     "text": [
      "2025-04-11 16:04:35,547 - INFO - Conexión a la base de datos 'grammys_db' creada exitosamente.\n"
     ]
    }
   ],
   "source": [
    "sys.path.append(os.path.abspath('../source'))\n",
    "\n",
    "from BD_connection import get_connection\n",
    "\n",
    "conexion = get_connection()\n"
   ]
  },
  {
   "cell_type": "markdown",
   "metadata": {},
   "source": [
    "### Leer datos de la tabla 'raw_grammy' desde la base de datos"
   ]
  },
  {
   "cell_type": "code",
   "execution_count": 7,
   "metadata": {},
   "outputs": [
    {
     "name": "stdout",
     "output_type": "stream",
     "text": [
      "   year                              title               published_at  \\\n",
      "0  2019  62nd Annual GRAMMY Awards  (2019)  2020-05-19T05:10:28-07:00   \n",
      "1  2019  62nd Annual GRAMMY Awards  (2019)  2020-05-19T05:10:28-07:00   \n",
      "2  2019  62nd Annual GRAMMY Awards  (2019)  2020-05-19T05:10:28-07:00   \n",
      "3  2019  62nd Annual GRAMMY Awards  (2019)  2020-05-19T05:10:28-07:00   \n",
      "4  2019  62nd Annual GRAMMY Awards  (2019)  2020-05-19T05:10:28-07:00   \n",
      "\n",
      "                  updated_at            category     nominee         artist  \\\n",
      "0  2020-05-19T05:10:28-07:00  Record Of The Year     Bad Guy  Billie Eilish   \n",
      "1  2020-05-19T05:10:28-07:00  Record Of The Year     Hey, Ma       Bon Iver   \n",
      "2  2020-05-19T05:10:28-07:00  Record Of The Year     7 rings  Ariana Grande   \n",
      "3  2020-05-19T05:10:28-07:00  Record Of The Year  Hard Place         H.E.R.   \n",
      "4  2020-05-19T05:10:28-07:00  Record Of The Year        Talk         Khalid   \n",
      "\n",
      "                                             workers  \\\n",
      "0  Finneas O'Connell, producer; Rob Kinelski & Fi...   \n",
      "1  BJ Burton, Brad Cook, Chris Messina & Justin V...   \n",
      "2  Charles Anderson, Tommy Brown, Michael Foster ...   \n",
      "3  Rodney “Darkchild” Jerkins, producer; Joseph H...   \n",
      "4  Disclosure & Denis Kosiak, producers; Ingmar C...   \n",
      "\n",
      "                                                 img  winner  \n",
      "0  https://www.grammy.com/sites/com/files/styles/...    True  \n",
      "1  https://www.grammy.com/sites/com/files/styles/...    True  \n",
      "2  https://www.grammy.com/sites/com/files/styles/...    True  \n",
      "3  https://www.grammy.com/sites/com/files/styles/...    True  \n",
      "4  https://www.grammy.com/sites/com/files/styles/...    True  \n"
     ]
    }
   ],
   "source": [
    "df = pd.read_sql_query(\"SELECT * FROM raw_grammy\", conexion)\n",
    "print(df.head())"
   ]
  },
  {
   "cell_type": "markdown",
   "metadata": {},
   "source": [
    "### Mostrar información general del DataFrame"
   ]
  },
  {
   "cell_type": "code",
   "execution_count": 8,
   "metadata": {},
   "outputs": [
    {
     "name": "stdout",
     "output_type": "stream",
     "text": [
      "<class 'pandas.core.frame.DataFrame'>\n",
      "RangeIndex: 4810 entries, 0 to 4809\n",
      "Data columns (total 10 columns):\n",
      " #   Column        Non-Null Count  Dtype \n",
      "---  ------        --------------  ----- \n",
      " 0   year          4810 non-null   int64 \n",
      " 1   title         4810 non-null   object\n",
      " 2   published_at  4810 non-null   object\n",
      " 3   updated_at    4810 non-null   object\n",
      " 4   category      4810 non-null   object\n",
      " 5   nominee       4804 non-null   object\n",
      " 6   artist        2970 non-null   object\n",
      " 7   workers       2620 non-null   object\n",
      " 8   img           3443 non-null   object\n",
      " 9   winner        4810 non-null   bool  \n",
      "dtypes: bool(1), int64(1), object(8)\n",
      "memory usage: 343.0+ KB\n"
     ]
    }
   ],
   "source": [
    "df.info()"
   ]
  },
  {
   "cell_type": "markdown",
   "metadata": {},
   "source": [
    "El dataset tiene una cantidad significativa de valores nulos, especialmente en artist (38% nulos) y workers (45% nulos), lo que indica que la imputación de artistas será crucial para análisis posteriores.\n",
    "La columna nominee tiene pocos nulos (6 filas), pero estos casos pueden requerir atención especial, ya que nominee es un campo clave.\n",
    "La ausencia de nulos en year, category, y winner sugiere que estos campos son confiables para análisis de tendencias o agrupaciones."
   ]
  },
  {
   "cell_type": "markdown",
   "metadata": {},
   "source": [
    "### Identificar y mostrar filas duplicadas (si las hay)"
   ]
  },
  {
   "cell_type": "code",
   "execution_count": 9,
   "metadata": {},
   "outputs": [
    {
     "name": "stdout",
     "output_type": "stream",
     "text": [
      "Datos duplicados:\n",
      " Empty DataFrame\n",
      "Columns: [year, title, published_at, updated_at, category, nominee, artist, workers, img, winner]\n",
      "Index: []\n"
     ]
    }
   ],
   "source": [
    "duplicate_values= df[df.duplicated(keep=False)]\n",
    "print(\"Datos duplicados:\\n\", duplicate_values)"
   ]
  },
  {
   "cell_type": "markdown",
   "metadata": {},
   "source": [
    "La ausencia de duplicados exactos indica que el dataset está limpio en términos de entradas redundantes idénticas."
   ]
  },
  {
   "cell_type": "markdown",
   "metadata": {},
   "source": [
    "## Manejo de Nulos"
   ]
  },
  {
   "cell_type": "code",
   "execution_count": 10,
   "metadata": {},
   "outputs": [
    {
     "name": "stdout",
     "output_type": "stream",
     "text": [
      "Valores nulos:\n",
      " year               0\n",
      "title              0\n",
      "published_at       0\n",
      "updated_at         0\n",
      "category           0\n",
      "nominee            6\n",
      "artist          1840\n",
      "workers         2190\n",
      "img             1367\n",
      "winner             0\n",
      "dtype: int64\n"
     ]
    }
   ],
   "source": [
    "null_values= df.isnull().sum()\n",
    "print(\"Valores nulos:\\n\", null_values)"
   ]
  },
  {
   "cell_type": "markdown",
   "metadata": {},
   "source": [
    "La alta proporción de nulos en artist y workers destaca la necesidad de estrategias de imputación, como usar nominee o workers para llenar artist cuando sea posible.\n",
    "Los 6 nulos en nominee representan un problema menor, pero podrían corresponder a categorías específicas que no especifican nominados.\n",
    "La columna img tiene nulos significativos, pero puede ser menos crítica si el análisis se centra en datos textuales."
   ]
  },
  {
   "cell_type": "markdown",
   "metadata": {},
   "source": [
    "#### Mostrar filas donde la columna 'nominee' es nula"
   ]
  },
  {
   "cell_type": "code",
   "execution_count": 11,
   "metadata": {},
   "outputs": [
    {
     "data": {
      "text/html": [
       "<div>\n",
       "<style scoped>\n",
       "    .dataframe tbody tr th:only-of-type {\n",
       "        vertical-align: middle;\n",
       "    }\n",
       "\n",
       "    .dataframe tbody tr th {\n",
       "        vertical-align: top;\n",
       "    }\n",
       "\n",
       "    .dataframe thead th {\n",
       "        text-align: right;\n",
       "    }\n",
       "</style>\n",
       "<table border=\"1\" class=\"dataframe\">\n",
       "  <thead>\n",
       "    <tr style=\"text-align: right;\">\n",
       "      <th></th>\n",
       "      <th>year</th>\n",
       "      <th>title</th>\n",
       "      <th>published_at</th>\n",
       "      <th>updated_at</th>\n",
       "      <th>category</th>\n",
       "      <th>nominee</th>\n",
       "      <th>artist</th>\n",
       "      <th>workers</th>\n",
       "      <th>img</th>\n",
       "      <th>winner</th>\n",
       "    </tr>\n",
       "  </thead>\n",
       "  <tbody>\n",
       "    <tr>\n",
       "      <th>2274</th>\n",
       "      <td>2000</td>\n",
       "      <td>43rd Annual GRAMMY Awards  (2000)</td>\n",
       "      <td>2017-11-28T00:03:45-08:00</td>\n",
       "      <td>2019-09-10T01:11:09-07:00</td>\n",
       "      <td>Remixer of the Year, Non-Classical</td>\n",
       "      <td>None</td>\n",
       "      <td>None</td>\n",
       "      <td>None</td>\n",
       "      <td>None</td>\n",
       "      <td>True</td>\n",
       "    </tr>\n",
       "    <tr>\n",
       "      <th>2372</th>\n",
       "      <td>1999</td>\n",
       "      <td>42nd Annual GRAMMY Awards  (1999)</td>\n",
       "      <td>2017-11-28T00:03:45-08:00</td>\n",
       "      <td>2019-09-10T01:09:02-07:00</td>\n",
       "      <td>Remixer Of The Year, Non-Classical</td>\n",
       "      <td>None</td>\n",
       "      <td>None</td>\n",
       "      <td>None</td>\n",
       "      <td>None</td>\n",
       "      <td>True</td>\n",
       "    </tr>\n",
       "    <tr>\n",
       "      <th>2464</th>\n",
       "      <td>1998</td>\n",
       "      <td>41st Annual GRAMMY Awards  (1998)</td>\n",
       "      <td>2017-11-28T00:03:45-08:00</td>\n",
       "      <td>2019-09-10T01:08:19-07:00</td>\n",
       "      <td>Remixer Of The Year, Non-classical</td>\n",
       "      <td>None</td>\n",
       "      <td>None</td>\n",
       "      <td>None</td>\n",
       "      <td>None</td>\n",
       "      <td>True</td>\n",
       "    </tr>\n",
       "    <tr>\n",
       "      <th>2560</th>\n",
       "      <td>1997</td>\n",
       "      <td>40th Annual GRAMMY Awards  (1997)</td>\n",
       "      <td>2017-11-28T00:03:45-08:00</td>\n",
       "      <td>2019-09-10T01:07:37-07:00</td>\n",
       "      <td>Remixer Of The Year, Non-Classical</td>\n",
       "      <td>None</td>\n",
       "      <td>None</td>\n",
       "      <td>None</td>\n",
       "      <td>None</td>\n",
       "      <td>True</td>\n",
       "    </tr>\n",
       "    <tr>\n",
       "      <th>4527</th>\n",
       "      <td>1965</td>\n",
       "      <td>8th Annual GRAMMY Awards  (1965)</td>\n",
       "      <td>2017-11-28T00:03:45-08:00</td>\n",
       "      <td>2019-09-10T01:06:59-07:00</td>\n",
       "      <td>Best New Country &amp; Western Artist</td>\n",
       "      <td>None</td>\n",
       "      <td>None</td>\n",
       "      <td>None</td>\n",
       "      <td>None</td>\n",
       "      <td>True</td>\n",
       "    </tr>\n",
       "    <tr>\n",
       "      <th>4574</th>\n",
       "      <td>1964</td>\n",
       "      <td>7th Annual GRAMMY Awards  (1964)</td>\n",
       "      <td>2017-11-28T00:03:45-08:00</td>\n",
       "      <td>2019-09-10T01:06:11-07:00</td>\n",
       "      <td>Best New Country &amp; Western Artist Of 1964</td>\n",
       "      <td>None</td>\n",
       "      <td>None</td>\n",
       "      <td>None</td>\n",
       "      <td>None</td>\n",
       "      <td>True</td>\n",
       "    </tr>\n",
       "  </tbody>\n",
       "</table>\n",
       "</div>"
      ],
      "text/plain": [
       "      year                              title               published_at  \\\n",
       "2274  2000  43rd Annual GRAMMY Awards  (2000)  2017-11-28T00:03:45-08:00   \n",
       "2372  1999  42nd Annual GRAMMY Awards  (1999)  2017-11-28T00:03:45-08:00   \n",
       "2464  1998  41st Annual GRAMMY Awards  (1998)  2017-11-28T00:03:45-08:00   \n",
       "2560  1997  40th Annual GRAMMY Awards  (1997)  2017-11-28T00:03:45-08:00   \n",
       "4527  1965   8th Annual GRAMMY Awards  (1965)  2017-11-28T00:03:45-08:00   \n",
       "4574  1964   7th Annual GRAMMY Awards  (1964)  2017-11-28T00:03:45-08:00   \n",
       "\n",
       "                     updated_at                                   category  \\\n",
       "2274  2019-09-10T01:11:09-07:00         Remixer of the Year, Non-Classical   \n",
       "2372  2019-09-10T01:09:02-07:00         Remixer Of The Year, Non-Classical   \n",
       "2464  2019-09-10T01:08:19-07:00         Remixer Of The Year, Non-classical   \n",
       "2560  2019-09-10T01:07:37-07:00         Remixer Of The Year, Non-Classical   \n",
       "4527  2019-09-10T01:06:59-07:00          Best New Country & Western Artist   \n",
       "4574  2019-09-10T01:06:11-07:00  Best New Country & Western Artist Of 1964   \n",
       "\n",
       "     nominee artist workers   img  winner  \n",
       "2274    None   None    None  None    True  \n",
       "2372    None   None    None  None    True  \n",
       "2464    None   None    None  None    True  \n",
       "2560    None   None    None  None    True  \n",
       "4527    None   None    None  None    True  \n",
       "4574    None   None    None  None    True  "
      ]
     },
     "execution_count": 11,
     "metadata": {},
     "output_type": "execute_result"
    }
   ],
   "source": [
    "df.loc[df[\"nominee\"].isna()]"
   ]
  },
  {
   "cell_type": "markdown",
   "metadata": {},
   "source": [
    "Los nulos en nominee están concentrados en categorías específicas y años antiguos, sugiriendo que estas categorías podrían no haber registrado nominados de manera estándar."
   ]
  },
  {
   "cell_type": "code",
   "execution_count": 12,
   "metadata": {},
   "outputs": [
    {
     "data": {
      "text/html": [
       "<div>\n",
       "<style scoped>\n",
       "    .dataframe tbody tr th:only-of-type {\n",
       "        vertical-align: middle;\n",
       "    }\n",
       "\n",
       "    .dataframe tbody tr th {\n",
       "        vertical-align: top;\n",
       "    }\n",
       "\n",
       "    .dataframe thead th {\n",
       "        text-align: right;\n",
       "    }\n",
       "</style>\n",
       "<table border=\"1\" class=\"dataframe\">\n",
       "  <thead>\n",
       "    <tr style=\"text-align: right;\">\n",
       "      <th></th>\n",
       "      <th>year</th>\n",
       "      <th>title</th>\n",
       "      <th>published_at</th>\n",
       "      <th>updated_at</th>\n",
       "      <th>category</th>\n",
       "      <th>nominee</th>\n",
       "      <th>artist</th>\n",
       "      <th>workers</th>\n",
       "      <th>img</th>\n",
       "      <th>winner</th>\n",
       "    </tr>\n",
       "  </thead>\n",
       "  <tbody>\n",
       "  </tbody>\n",
       "</table>\n",
       "</div>"
      ],
      "text/plain": [
       "Empty DataFrame\n",
       "Columns: [year, title, published_at, updated_at, category, nominee, artist, workers, img, winner]\n",
       "Index: []"
      ]
     },
     "execution_count": 12,
     "metadata": {},
     "output_type": "execute_result"
    }
   ],
   "source": [
    "df = df.dropna(subset=[\"nominee\"])\n",
    "df.loc[df[\"nominee\"].isna()]"
   ]
  },
  {
   "cell_type": "markdown",
   "metadata": {},
   "source": [
    "Ya que carecen de información útil para imputar artistas estas filas se eliminan."
   ]
  },
  {
   "cell_type": "markdown",
   "metadata": {},
   "source": [
    "#### Mostrar filas donde la columna 'artist' es nula"
   ]
  },
  {
   "cell_type": "code",
   "execution_count": 13,
   "metadata": {},
   "outputs": [
    {
     "data": {
      "text/html": [
       "<div>\n",
       "<style scoped>\n",
       "    .dataframe tbody tr th:only-of-type {\n",
       "        vertical-align: middle;\n",
       "    }\n",
       "\n",
       "    .dataframe tbody tr th {\n",
       "        vertical-align: top;\n",
       "    }\n",
       "\n",
       "    .dataframe thead th {\n",
       "        text-align: right;\n",
       "    }\n",
       "</style>\n",
       "<table border=\"1\" class=\"dataframe\">\n",
       "  <thead>\n",
       "    <tr style=\"text-align: right;\">\n",
       "      <th></th>\n",
       "      <th>year</th>\n",
       "      <th>title</th>\n",
       "      <th>published_at</th>\n",
       "      <th>updated_at</th>\n",
       "      <th>category</th>\n",
       "      <th>nominee</th>\n",
       "      <th>artist</th>\n",
       "      <th>workers</th>\n",
       "      <th>img</th>\n",
       "      <th>winner</th>\n",
       "    </tr>\n",
       "  </thead>\n",
       "  <tbody>\n",
       "    <tr>\n",
       "      <th>16</th>\n",
       "      <td>2019</td>\n",
       "      <td>62nd Annual GRAMMY Awards  (2019)</td>\n",
       "      <td>2020-05-19T05:10:28-07:00</td>\n",
       "      <td>2020-05-19T05:10:28-07:00</td>\n",
       "      <td>Song Of The Year</td>\n",
       "      <td>Bad Guy</td>\n",
       "      <td>None</td>\n",
       "      <td>Billie Eilish O'Connell &amp; Finneas O'Connell, s...</td>\n",
       "      <td>https://www.grammy.com/sites/com/files/styles/...</td>\n",
       "      <td>True</td>\n",
       "    </tr>\n",
       "    <tr>\n",
       "      <th>17</th>\n",
       "      <td>2019</td>\n",
       "      <td>62nd Annual GRAMMY Awards  (2019)</td>\n",
       "      <td>2020-05-19T05:10:28-07:00</td>\n",
       "      <td>2020-05-19T05:10:28-07:00</td>\n",
       "      <td>Song Of The Year</td>\n",
       "      <td>Always Remember Us This Way</td>\n",
       "      <td>None</td>\n",
       "      <td>Natalie Hemby, Lady Gaga, Hillary Lindsey &amp; Lo...</td>\n",
       "      <td>https://www.grammy.com/sites/com/files/styles/...</td>\n",
       "      <td>True</td>\n",
       "    </tr>\n",
       "    <tr>\n",
       "      <th>18</th>\n",
       "      <td>2019</td>\n",
       "      <td>62nd Annual GRAMMY Awards  (2019)</td>\n",
       "      <td>2020-05-19T05:10:28-07:00</td>\n",
       "      <td>2020-05-19T05:10:28-07:00</td>\n",
       "      <td>Song Of The Year</td>\n",
       "      <td>Bring My Flowers Now</td>\n",
       "      <td>None</td>\n",
       "      <td>Brandi Carlile, Phil Hanseroth, Tim Hanseroth ...</td>\n",
       "      <td>https://www.grammy.com/sites/com/files/styles/...</td>\n",
       "      <td>True</td>\n",
       "    </tr>\n",
       "    <tr>\n",
       "      <th>19</th>\n",
       "      <td>2019</td>\n",
       "      <td>62nd Annual GRAMMY Awards  (2019)</td>\n",
       "      <td>2020-05-19T05:10:28-07:00</td>\n",
       "      <td>2020-05-19T05:10:28-07:00</td>\n",
       "      <td>Song Of The Year</td>\n",
       "      <td>Hard Place</td>\n",
       "      <td>None</td>\n",
       "      <td>Ruby Amanfu, Sam Ashworth, D. Arcelious Harris...</td>\n",
       "      <td>https://www.grammy.com/sites/com/files/styles/...</td>\n",
       "      <td>True</td>\n",
       "    </tr>\n",
       "    <tr>\n",
       "      <th>20</th>\n",
       "      <td>2019</td>\n",
       "      <td>62nd Annual GRAMMY Awards  (2019)</td>\n",
       "      <td>2020-05-19T05:10:28-07:00</td>\n",
       "      <td>2020-05-19T05:10:28-07:00</td>\n",
       "      <td>Song Of The Year</td>\n",
       "      <td>Lover</td>\n",
       "      <td>None</td>\n",
       "      <td>Taylor Swift, songwriter (Taylor Swift)</td>\n",
       "      <td>https://www.grammy.com/sites/com/files/styles/...</td>\n",
       "      <td>True</td>\n",
       "    </tr>\n",
       "    <tr>\n",
       "      <th>...</th>\n",
       "      <td>...</td>\n",
       "      <td>...</td>\n",
       "      <td>...</td>\n",
       "      <td>...</td>\n",
       "      <td>...</td>\n",
       "      <td>...</td>\n",
       "      <td>...</td>\n",
       "      <td>...</td>\n",
       "      <td>...</td>\n",
       "      <td>...</td>\n",
       "    </tr>\n",
       "    <tr>\n",
       "      <th>4805</th>\n",
       "      <td>1958</td>\n",
       "      <td>1st Annual GRAMMY Awards  (1958)</td>\n",
       "      <td>2017-11-28T00:03:45-08:00</td>\n",
       "      <td>2019-09-10T01:11:09-07:00</td>\n",
       "      <td>Best Classical Performance - Instrumentalist (...</td>\n",
       "      <td>Tchaikovsky: Piano Concerto No. 1 In B Flat Mi...</td>\n",
       "      <td>None</td>\n",
       "      <td>Van Cliburn, artist (Symphony Of The Air Orche...</td>\n",
       "      <td>None</td>\n",
       "      <td>True</td>\n",
       "    </tr>\n",
       "    <tr>\n",
       "      <th>4806</th>\n",
       "      <td>1958</td>\n",
       "      <td>1st Annual GRAMMY Awards  (1958)</td>\n",
       "      <td>2017-11-28T00:03:45-08:00</td>\n",
       "      <td>2019-09-10T01:11:09-07:00</td>\n",
       "      <td>Best Classical Performance - Instrumentalist (...</td>\n",
       "      <td>Segovia Golden Jubilee</td>\n",
       "      <td>None</td>\n",
       "      <td>Andres Segovia, artist</td>\n",
       "      <td>https://www.grammy.com/sites/com/files/styles/...</td>\n",
       "      <td>True</td>\n",
       "    </tr>\n",
       "    <tr>\n",
       "      <th>4807</th>\n",
       "      <td>1958</td>\n",
       "      <td>1st Annual GRAMMY Awards  (1958)</td>\n",
       "      <td>2017-11-28T00:03:45-08:00</td>\n",
       "      <td>2019-09-10T01:11:09-07:00</td>\n",
       "      <td>Best Classical Performance - Chamber Music (In...</td>\n",
       "      <td>Beethoven: Quartet 130</td>\n",
       "      <td>None</td>\n",
       "      <td>Hollywood String Quartet (Alvin Dinkin, Paul S...</td>\n",
       "      <td>None</td>\n",
       "      <td>True</td>\n",
       "    </tr>\n",
       "    <tr>\n",
       "      <th>4808</th>\n",
       "      <td>1958</td>\n",
       "      <td>1st Annual GRAMMY Awards  (1958)</td>\n",
       "      <td>2017-11-28T00:03:45-08:00</td>\n",
       "      <td>2019-09-10T01:11:09-07:00</td>\n",
       "      <td>Best Classical Performance - Vocal Soloist (Wi...</td>\n",
       "      <td>Operatic Recital</td>\n",
       "      <td>None</td>\n",
       "      <td>None</td>\n",
       "      <td>None</td>\n",
       "      <td>True</td>\n",
       "    </tr>\n",
       "    <tr>\n",
       "      <th>4809</th>\n",
       "      <td>1958</td>\n",
       "      <td>1st Annual GRAMMY Awards  (1958)</td>\n",
       "      <td>2017-11-28T00:03:45-08:00</td>\n",
       "      <td>2019-09-10T01:11:09-07:00</td>\n",
       "      <td>Best Classical Performance - Operatic Or Choral</td>\n",
       "      <td>Virtuoso</td>\n",
       "      <td>None</td>\n",
       "      <td>Roger Wagner, choir director</td>\n",
       "      <td>None</td>\n",
       "      <td>True</td>\n",
       "    </tr>\n",
       "  </tbody>\n",
       "</table>\n",
       "<p>1834 rows × 10 columns</p>\n",
       "</div>"
      ],
      "text/plain": [
       "      year                              title               published_at  \\\n",
       "16    2019  62nd Annual GRAMMY Awards  (2019)  2020-05-19T05:10:28-07:00   \n",
       "17    2019  62nd Annual GRAMMY Awards  (2019)  2020-05-19T05:10:28-07:00   \n",
       "18    2019  62nd Annual GRAMMY Awards  (2019)  2020-05-19T05:10:28-07:00   \n",
       "19    2019  62nd Annual GRAMMY Awards  (2019)  2020-05-19T05:10:28-07:00   \n",
       "20    2019  62nd Annual GRAMMY Awards  (2019)  2020-05-19T05:10:28-07:00   \n",
       "...    ...                                ...                        ...   \n",
       "4805  1958   1st Annual GRAMMY Awards  (1958)  2017-11-28T00:03:45-08:00   \n",
       "4806  1958   1st Annual GRAMMY Awards  (1958)  2017-11-28T00:03:45-08:00   \n",
       "4807  1958   1st Annual GRAMMY Awards  (1958)  2017-11-28T00:03:45-08:00   \n",
       "4808  1958   1st Annual GRAMMY Awards  (1958)  2017-11-28T00:03:45-08:00   \n",
       "4809  1958   1st Annual GRAMMY Awards  (1958)  2017-11-28T00:03:45-08:00   \n",
       "\n",
       "                     updated_at  \\\n",
       "16    2020-05-19T05:10:28-07:00   \n",
       "17    2020-05-19T05:10:28-07:00   \n",
       "18    2020-05-19T05:10:28-07:00   \n",
       "19    2020-05-19T05:10:28-07:00   \n",
       "20    2020-05-19T05:10:28-07:00   \n",
       "...                         ...   \n",
       "4805  2019-09-10T01:11:09-07:00   \n",
       "4806  2019-09-10T01:11:09-07:00   \n",
       "4807  2019-09-10T01:11:09-07:00   \n",
       "4808  2019-09-10T01:11:09-07:00   \n",
       "4809  2019-09-10T01:11:09-07:00   \n",
       "\n",
       "                                               category  \\\n",
       "16                                     Song Of The Year   \n",
       "17                                     Song Of The Year   \n",
       "18                                     Song Of The Year   \n",
       "19                                     Song Of The Year   \n",
       "20                                     Song Of The Year   \n",
       "...                                                 ...   \n",
       "4805  Best Classical Performance - Instrumentalist (...   \n",
       "4806  Best Classical Performance - Instrumentalist (...   \n",
       "4807  Best Classical Performance - Chamber Music (In...   \n",
       "4808  Best Classical Performance - Vocal Soloist (Wi...   \n",
       "4809    Best Classical Performance - Operatic Or Choral   \n",
       "\n",
       "                                                nominee artist  \\\n",
       "16                                              Bad Guy   None   \n",
       "17                          Always Remember Us This Way   None   \n",
       "18                                 Bring My Flowers Now   None   \n",
       "19                                           Hard Place   None   \n",
       "20                                                Lover   None   \n",
       "...                                                 ...    ...   \n",
       "4805  Tchaikovsky: Piano Concerto No. 1 In B Flat Mi...   None   \n",
       "4806                             Segovia Golden Jubilee   None   \n",
       "4807                             Beethoven: Quartet 130   None   \n",
       "4808                                   Operatic Recital   None   \n",
       "4809                                           Virtuoso   None   \n",
       "\n",
       "                                                workers  \\\n",
       "16    Billie Eilish O'Connell & Finneas O'Connell, s...   \n",
       "17    Natalie Hemby, Lady Gaga, Hillary Lindsey & Lo...   \n",
       "18    Brandi Carlile, Phil Hanseroth, Tim Hanseroth ...   \n",
       "19    Ruby Amanfu, Sam Ashworth, D. Arcelious Harris...   \n",
       "20              Taylor Swift, songwriter (Taylor Swift)   \n",
       "...                                                 ...   \n",
       "4805  Van Cliburn, artist (Symphony Of The Air Orche...   \n",
       "4806                             Andres Segovia, artist   \n",
       "4807  Hollywood String Quartet (Alvin Dinkin, Paul S...   \n",
       "4808                                               None   \n",
       "4809                       Roger Wagner, choir director   \n",
       "\n",
       "                                                    img  winner  \n",
       "16    https://www.grammy.com/sites/com/files/styles/...    True  \n",
       "17    https://www.grammy.com/sites/com/files/styles/...    True  \n",
       "18    https://www.grammy.com/sites/com/files/styles/...    True  \n",
       "19    https://www.grammy.com/sites/com/files/styles/...    True  \n",
       "20    https://www.grammy.com/sites/com/files/styles/...    True  \n",
       "...                                                 ...     ...  \n",
       "4805                                               None    True  \n",
       "4806  https://www.grammy.com/sites/com/files/styles/...    True  \n",
       "4807                                               None    True  \n",
       "4808                                               None    True  \n",
       "4809                                               None    True  \n",
       "\n",
       "[1834 rows x 10 columns]"
      ]
     },
     "execution_count": 13,
     "metadata": {},
     "output_type": "execute_result"
    }
   ],
   "source": [
    "df.loc[df[\"artist\"].isna()]"
   ]
  },
  {
   "cell_type": "markdown",
   "metadata": {},
   "source": [
    "La alta cantidad de nulos en artist indica una inconsistencia en cómo se registraron los intérpretes, especialmente en categorías como \"Song Of The Year\" (donde los compositores aparecen en workers) y categorías clásicas.\n",
    "La presencia de datos en workers para muchas filas sugiere que la imputación de artist puede realizarse extrayendo nombres de workers o nominee.\n",
    "Las categorías clásicas más antiguas (1958) tienen más nulos, lo que podría reflejar diferencias en la recolección de datos en esos años."
   ]
  },
  {
   "cell_type": "markdown",
   "metadata": {},
   "source": [
    "#### Filtrar filas donde tanto 'artist' como 'workers' son nulos"
   ]
  },
  {
   "cell_type": "code",
   "execution_count": 14,
   "metadata": {},
   "outputs": [
    {
     "data": {
      "text/html": [
       "<div>\n",
       "<style scoped>\n",
       "    .dataframe tbody tr th:only-of-type {\n",
       "        vertical-align: middle;\n",
       "    }\n",
       "\n",
       "    .dataframe tbody tr th {\n",
       "        vertical-align: top;\n",
       "    }\n",
       "\n",
       "    .dataframe thead th {\n",
       "        text-align: right;\n",
       "    }\n",
       "</style>\n",
       "<table border=\"1\" class=\"dataframe\">\n",
       "  <thead>\n",
       "    <tr style=\"text-align: right;\">\n",
       "      <th></th>\n",
       "      <th>year</th>\n",
       "      <th>title</th>\n",
       "      <th>published_at</th>\n",
       "      <th>updated_at</th>\n",
       "      <th>category</th>\n",
       "      <th>nominee</th>\n",
       "      <th>artist</th>\n",
       "      <th>workers</th>\n",
       "      <th>img</th>\n",
       "      <th>winner</th>\n",
       "    </tr>\n",
       "  </thead>\n",
       "  <tbody>\n",
       "    <tr>\n",
       "      <th>24</th>\n",
       "      <td>2019</td>\n",
       "      <td>62nd Annual GRAMMY Awards  (2019)</td>\n",
       "      <td>2020-05-19T05:10:28-07:00</td>\n",
       "      <td>2020-05-19T05:10:28-07:00</td>\n",
       "      <td>Best New Artist</td>\n",
       "      <td>Billie Eilish</td>\n",
       "      <td>None</td>\n",
       "      <td>None</td>\n",
       "      <td>None</td>\n",
       "      <td>True</td>\n",
       "    </tr>\n",
       "    <tr>\n",
       "      <th>25</th>\n",
       "      <td>2019</td>\n",
       "      <td>62nd Annual GRAMMY Awards  (2019)</td>\n",
       "      <td>2020-05-19T05:10:28-07:00</td>\n",
       "      <td>2020-05-19T05:10:28-07:00</td>\n",
       "      <td>Best New Artist</td>\n",
       "      <td>Black Pumas</td>\n",
       "      <td>None</td>\n",
       "      <td>None</td>\n",
       "      <td>None</td>\n",
       "      <td>True</td>\n",
       "    </tr>\n",
       "    <tr>\n",
       "      <th>26</th>\n",
       "      <td>2019</td>\n",
       "      <td>62nd Annual GRAMMY Awards  (2019)</td>\n",
       "      <td>2020-05-19T05:10:28-07:00</td>\n",
       "      <td>2020-05-19T05:10:28-07:00</td>\n",
       "      <td>Best New Artist</td>\n",
       "      <td>Lil Nas X</td>\n",
       "      <td>None</td>\n",
       "      <td>None</td>\n",
       "      <td>None</td>\n",
       "      <td>True</td>\n",
       "    </tr>\n",
       "    <tr>\n",
       "      <th>27</th>\n",
       "      <td>2019</td>\n",
       "      <td>62nd Annual GRAMMY Awards  (2019)</td>\n",
       "      <td>2020-05-19T05:10:28-07:00</td>\n",
       "      <td>2020-05-19T05:10:28-07:00</td>\n",
       "      <td>Best New Artist</td>\n",
       "      <td>Lizzo</td>\n",
       "      <td>None</td>\n",
       "      <td>None</td>\n",
       "      <td>None</td>\n",
       "      <td>True</td>\n",
       "    </tr>\n",
       "    <tr>\n",
       "      <th>28</th>\n",
       "      <td>2019</td>\n",
       "      <td>62nd Annual GRAMMY Awards  (2019)</td>\n",
       "      <td>2020-05-19T05:10:28-07:00</td>\n",
       "      <td>2020-05-19T05:10:28-07:00</td>\n",
       "      <td>Best New Artist</td>\n",
       "      <td>Maggie Rogers</td>\n",
       "      <td>None</td>\n",
       "      <td>None</td>\n",
       "      <td>None</td>\n",
       "      <td>True</td>\n",
       "    </tr>\n",
       "    <tr>\n",
       "      <th>...</th>\n",
       "      <td>...</td>\n",
       "      <td>...</td>\n",
       "      <td>...</td>\n",
       "      <td>...</td>\n",
       "      <td>...</td>\n",
       "      <td>...</td>\n",
       "      <td>...</td>\n",
       "      <td>...</td>\n",
       "      <td>...</td>\n",
       "      <td>...</td>\n",
       "    </tr>\n",
       "    <tr>\n",
       "      <th>4699</th>\n",
       "      <td>1961</td>\n",
       "      <td>4th Annual GRAMMY Awards  (1961)</td>\n",
       "      <td>2017-11-28T00:03:45-08:00</td>\n",
       "      <td>2019-09-10T01:08:19-07:00</td>\n",
       "      <td>Best New Artist Of 1961</td>\n",
       "      <td>Peter Nero</td>\n",
       "      <td>None</td>\n",
       "      <td>None</td>\n",
       "      <td>None</td>\n",
       "      <td>True</td>\n",
       "    </tr>\n",
       "    <tr>\n",
       "      <th>4745</th>\n",
       "      <td>1960</td>\n",
       "      <td>3rd Annual GRAMMY Awards  (1960)</td>\n",
       "      <td>2017-11-28T00:03:45-08:00</td>\n",
       "      <td>2019-09-10T01:07:37-07:00</td>\n",
       "      <td>Best New Artist Of 1960</td>\n",
       "      <td>Bob Newhart</td>\n",
       "      <td>None</td>\n",
       "      <td>None</td>\n",
       "      <td>None</td>\n",
       "      <td>True</td>\n",
       "    </tr>\n",
       "    <tr>\n",
       "      <th>4762</th>\n",
       "      <td>1959</td>\n",
       "      <td>2nd Annual GRAMMY Awards  (1959)</td>\n",
       "      <td>2017-11-28T00:03:45-08:00</td>\n",
       "      <td>2019-09-10T01:06:59-07:00</td>\n",
       "      <td>Best Classical Performance - Vocal Soloist (Wi...</td>\n",
       "      <td>Bjoerling In Opera</td>\n",
       "      <td>None</td>\n",
       "      <td>None</td>\n",
       "      <td>None</td>\n",
       "      <td>True</td>\n",
       "    </tr>\n",
       "    <tr>\n",
       "      <th>4781</th>\n",
       "      <td>1959</td>\n",
       "      <td>2nd Annual GRAMMY Awards  (1959)</td>\n",
       "      <td>2017-11-28T00:03:45-08:00</td>\n",
       "      <td>2019-09-10T01:06:59-07:00</td>\n",
       "      <td>Best New Artist Of 1959</td>\n",
       "      <td>Bobby Darin</td>\n",
       "      <td>None</td>\n",
       "      <td>None</td>\n",
       "      <td>None</td>\n",
       "      <td>True</td>\n",
       "    </tr>\n",
       "    <tr>\n",
       "      <th>4808</th>\n",
       "      <td>1958</td>\n",
       "      <td>1st Annual GRAMMY Awards  (1958)</td>\n",
       "      <td>2017-11-28T00:03:45-08:00</td>\n",
       "      <td>2019-09-10T01:11:09-07:00</td>\n",
       "      <td>Best Classical Performance - Vocal Soloist (Wi...</td>\n",
       "      <td>Operatic Recital</td>\n",
       "      <td>None</td>\n",
       "      <td>None</td>\n",
       "      <td>None</td>\n",
       "      <td>True</td>\n",
       "    </tr>\n",
       "  </tbody>\n",
       "</table>\n",
       "<p>180 rows × 10 columns</p>\n",
       "</div>"
      ],
      "text/plain": [
       "      year                              title               published_at  \\\n",
       "24    2019  62nd Annual GRAMMY Awards  (2019)  2020-05-19T05:10:28-07:00   \n",
       "25    2019  62nd Annual GRAMMY Awards  (2019)  2020-05-19T05:10:28-07:00   \n",
       "26    2019  62nd Annual GRAMMY Awards  (2019)  2020-05-19T05:10:28-07:00   \n",
       "27    2019  62nd Annual GRAMMY Awards  (2019)  2020-05-19T05:10:28-07:00   \n",
       "28    2019  62nd Annual GRAMMY Awards  (2019)  2020-05-19T05:10:28-07:00   \n",
       "...    ...                                ...                        ...   \n",
       "4699  1961   4th Annual GRAMMY Awards  (1961)  2017-11-28T00:03:45-08:00   \n",
       "4745  1960   3rd Annual GRAMMY Awards  (1960)  2017-11-28T00:03:45-08:00   \n",
       "4762  1959   2nd Annual GRAMMY Awards  (1959)  2017-11-28T00:03:45-08:00   \n",
       "4781  1959   2nd Annual GRAMMY Awards  (1959)  2017-11-28T00:03:45-08:00   \n",
       "4808  1958   1st Annual GRAMMY Awards  (1958)  2017-11-28T00:03:45-08:00   \n",
       "\n",
       "                     updated_at  \\\n",
       "24    2020-05-19T05:10:28-07:00   \n",
       "25    2020-05-19T05:10:28-07:00   \n",
       "26    2020-05-19T05:10:28-07:00   \n",
       "27    2020-05-19T05:10:28-07:00   \n",
       "28    2020-05-19T05:10:28-07:00   \n",
       "...                         ...   \n",
       "4699  2019-09-10T01:08:19-07:00   \n",
       "4745  2019-09-10T01:07:37-07:00   \n",
       "4762  2019-09-10T01:06:59-07:00   \n",
       "4781  2019-09-10T01:06:59-07:00   \n",
       "4808  2019-09-10T01:11:09-07:00   \n",
       "\n",
       "                                               category             nominee  \\\n",
       "24                                      Best New Artist       Billie Eilish   \n",
       "25                                      Best New Artist         Black Pumas   \n",
       "26                                      Best New Artist           Lil Nas X   \n",
       "27                                      Best New Artist               Lizzo   \n",
       "28                                      Best New Artist       Maggie Rogers   \n",
       "...                                                 ...                 ...   \n",
       "4699                            Best New Artist Of 1961          Peter Nero   \n",
       "4745                            Best New Artist Of 1960         Bob Newhart   \n",
       "4762  Best Classical Performance - Vocal Soloist (Wi...  Bjoerling In Opera   \n",
       "4781                            Best New Artist Of 1959         Bobby Darin   \n",
       "4808  Best Classical Performance - Vocal Soloist (Wi...    Operatic Recital   \n",
       "\n",
       "     artist workers   img  winner  \n",
       "24     None    None  None    True  \n",
       "25     None    None  None    True  \n",
       "26     None    None  None    True  \n",
       "27     None    None  None    True  \n",
       "28     None    None  None    True  \n",
       "...     ...     ...   ...     ...  \n",
       "4699   None    None  None    True  \n",
       "4745   None    None  None    True  \n",
       "4762   None    None  None    True  \n",
       "4781   None    None  None    True  \n",
       "4808   None    None  None    True  \n",
       "\n",
       "[180 rows x 10 columns]"
      ]
     },
     "execution_count": 14,
     "metadata": {},
     "output_type": "execute_result"
    }
   ],
   "source": [
    "artist_workers_null = df[df['artist'].isna() & df['workers'].isna()]\n",
    "artist_workers_null"
   ]
  },
  {
   "cell_type": "markdown",
   "metadata": {},
   "source": [
    "Las 180 filas con artist y workers nulos son un desafío para la imputación, pero nominee ofrece una fuente viable para recuperar nombres de artistas, especialmente en categorías como \"Best New Artist\".\n",
    "Estas filas representan aproximadamente el 3.7% del dataset, un porcentaje manejable para limpieza o imputación."
   ]
  },
  {
   "cell_type": "markdown",
   "metadata": {},
   "source": [
    "#### Contar la frecuencia de categorías en las filas con 'artist' y 'workers' nulos "
   ]
  },
  {
   "cell_type": "code",
   "execution_count": 15,
   "metadata": {},
   "outputs": [
    {
     "name": "stdout",
     "output_type": "stream",
     "text": [
      "category\n",
      "Best New Artist                                                                              50\n",
      "Producer Of The Year, Non-Classical                                                          22\n",
      "Producer Of The Year, Classical                                                              22\n",
      "Classical Producer Of The Year                                                               18\n",
      "Producer Of The Year (Non-Classical)                                                         10\n",
      "Producer Of The Year                                                                         10\n",
      "Best New Artist Of The Year                                                                   9\n",
      "Best Classical Vocal Soloist Performance                                                      7\n",
      "Best Classical Vocal Performance                                                              4\n",
      "Best Small Ensemble Performance (With Or Without Conductor)                                   4\n",
      "Best Classical Performance - Instrumental Soloist Or Soloists (With Or Without Orchestra)     4\n",
      "Best Producer Of The Year                                                                     3\n",
      "Most Promising New Classical Recording Artist                                                 3\n",
      "Best Classical Performance - Vocal Soloist (With Or Without Orchestra)                        2\n",
      "Producer Of The Year (Non Classical)                                                          1\n",
      "Best New Classical Artist                                                                     1\n",
      "Best Classical Vocal Soloist                                                                  1\n",
      "Producer Of The Year, (Non Classical)                                                         1\n",
      "Best Performance - Instrumental Soloist Or Soloists (With Or Without Orchestra)               1\n",
      "Best Classical Performance - Vocal Soloist                                                    1\n",
      "Best New Artist Of 1963                                                                       1\n",
      "Best New Artist Of 1964                                                                       1\n",
      "Best New Artist Of 1962                                                                       1\n",
      "Best New Artist Of 1961                                                                       1\n",
      "Best New Artist Of 1960                                                                       1\n",
      "Best New Artist Of 1959                                                                       1\n",
      "Name: count, dtype: int64\n"
     ]
    }
   ],
   "source": [
    "category_counts = artist_workers_null['category'].value_counts()\n",
    "print(category_counts)"
   ]
  },
  {
   "cell_type": "markdown",
   "metadata": {},
   "source": [
    "La categoría \"Best New Artist\" es particularmente problemática, con 50 casos, pero nominee probablemente contiene nombres de artistas directamente imputables."
   ]
  },
  {
   "cell_type": "markdown",
   "metadata": {},
   "source": [
    "#### Agrupar por categoría y mostrar ejemplos de 'nominee' para cada una"
   ]
  },
  {
   "cell_type": "code",
   "execution_count": 16,
   "metadata": {},
   "outputs": [
    {
     "name": "stdout",
     "output_type": "stream",
     "text": [
      "\n",
      "Categoría: Best Classical Performance - Instrumental Soloist Or Soloists (With Or Without Orchestra)\n",
      "Frecuencia: 4\n",
      "Ejemplos de 'nominee':\n",
      "  - Horowitz - The Studio Recordings, New York 1985\n",
      "  - Switched-On-Bach\n",
      "  - Horowitz In Concert (Haydn, Schumann, Scriabin, Debussy, Mozart, Chopin)\n",
      "  - Baroque Guitar (Works Of Bach, Sanz, Weiss, Etc.)\n",
      "\n",
      "Categoría: Best Classical Performance - Vocal Soloist\n",
      "Frecuencia: 1\n",
      "Ejemplos de 'nominee':\n",
      "  - A Program Of Song - Leontyne Price Recital\n",
      "\n",
      "Categoría: Best Classical Performance - Vocal Soloist (With Or Without Orchestra)\n",
      "Frecuencia: 2\n",
      "Ejemplos de 'nominee':\n",
      "  - Bjoerling In Opera\n",
      "  - Operatic Recital\n",
      "\n",
      "Categoría: Best Classical Vocal Performance\n",
      "Frecuencia: 4\n",
      "Ejemplos de 'nominee':\n",
      "  - An Italian Songbook - Works Of Bellini, Donizetti, Rossini\n",
      "  - The Impatient Lover - Italian Songs By Beethoven, Schubert, Mozart\n",
      "  - The Art Of Arleen Auger (Works Of Larsen, Purcell, Schumann, Mozart)\n",
      "  - Kathleen Battle At Carnegie Hall (Handel, Mozart, Liszt, Strauss, etc.)\n",
      "\n",
      "Categoría: Best Classical Vocal Soloist\n",
      "Frecuencia: 1\n",
      "Ejemplos de 'nominee':\n",
      "  - The Girl With Orange Lips (Falla, Ravel, etc.)\n",
      "\n",
      "Categoría: Best Classical Vocal Soloist Performance\n",
      "Frecuencia: 7\n",
      "Ejemplos de 'nominee':\n",
      "  - Kathleen Battle - Salzburg Recital\n",
      "  - Brahms: Die Schone Magelone\n",
      "  - Luciano Pavarotti - Hits From Lincoln Center\n",
      "  - Herbert: Music Of Victor Herbert\n",
      "  - Leontyne Price Sings Richard Strauss\n",
      "\n",
      "Categoría: Best New Artist\n",
      "Frecuencia: 50\n",
      "Ejemplos de 'nominee':\n",
      "  - Billie Eilish\n",
      "  - Black Pumas\n",
      "  - Lil Nas X\n",
      "  - Lizzo\n",
      "  - Maggie Rogers\n",
      "\n",
      "Categoría: Best New Artist Of 1959\n",
      "Frecuencia: 1\n",
      "Ejemplos de 'nominee':\n",
      "  - Bobby Darin\n",
      "\n",
      "Categoría: Best New Artist Of 1960\n",
      "Frecuencia: 1\n",
      "Ejemplos de 'nominee':\n",
      "  - Bob Newhart\n",
      "\n",
      "Categoría: Best New Artist Of 1961\n",
      "Frecuencia: 1\n",
      "Ejemplos de 'nominee':\n",
      "  - Peter Nero\n",
      "\n",
      "Categoría: Best New Artist Of 1962\n",
      "Frecuencia: 1\n",
      "Ejemplos de 'nominee':\n",
      "  - Robert Goulet\n",
      "\n",
      "Categoría: Best New Artist Of 1963\n",
      "Frecuencia: 1\n",
      "Ejemplos de 'nominee':\n",
      "  - Ward Swingle (The Swingle Singers)\n",
      "\n",
      "Categoría: Best New Artist Of 1964\n",
      "Frecuencia: 1\n",
      "Ejemplos de 'nominee':\n",
      "  - The Beatles\n",
      "\n",
      "Categoría: Best New Artist Of The Year\n",
      "Frecuencia: 9\n",
      "Ejemplos de 'nominee':\n",
      "  - Debby Boone\n",
      "  - Starland Vocal Band\n",
      "  - Natalie Cole\n",
      "  - Marvin Hamlisch\n",
      "  - America\n",
      "\n",
      "Categoría: Best New Classical Artist\n",
      "Frecuencia: 1\n",
      "Ejemplos de 'nominee':\n",
      "  - Stravinsky: L' Histoire Du Soldat (The Soldier's Tale - Suite) - (also) - Walton: Façade (An Instrumental Suite In The Original Scoring)\n",
      "\n",
      "Categoría: Best Performance - Instrumental Soloist Or Soloists (With Or Without Orchestra)\n",
      "Frecuencia: 1\n",
      "Ejemplos de 'nominee':\n",
      "  - Horowitz On Television (Chopin, Scriabin, Scarlatti, Horowitz)\n",
      "\n",
      "Categoría: Best Producer Of The Year\n",
      "Frecuencia: 3\n",
      "Ejemplos de 'nominee':\n",
      "  - Thom Bell\n",
      "  - Stevie Wonder\n",
      "  - Arif Mardin\n",
      "\n",
      "Categoría: Best Small Ensemble Performance (With Or Without Conductor)\n",
      "Frecuencia: 4\n",
      "Ejemplos de 'nominee':\n",
      "  - Colors Of Love - Works Of Thomas, Stucky, Tavener & Rands\n",
      "  - Reich: Music For 18 Musicians\n",
      "  - Hindemith: Kammermusik No. 1 With Finale 1921, Op. 24 No. 1\n",
      "  - Boulez: ...Explosante-Fixe...\n",
      "\n",
      "Categoría: Classical Producer Of The Year\n",
      "Frecuencia: 18\n",
      "Ejemplos de 'nominee':\n",
      "  - Joanna Nickrenz\n",
      "  - Steven Epstein\n",
      "  - Andrew Cornall\n",
      "  - Judith Sherman\n",
      "  - Michael Fine\n",
      "\n",
      "Categoría: Most Promising New Classical Recording Artist\n",
      "Frecuencia: 3\n",
      "Ejemplos de 'nominee':\n",
      "  - Bach: Goldberg Variations\n",
      "  - The Age Of Bel Canto: Operatic Scenes (Boyngne, cond.)\n",
      "  - Liszt: Concerto No. 1 For Piano & Orchestra (Bernstein, cond.; N.Y. Philharmonic)\n",
      "\n",
      "Categoría: Producer Of The Year\n",
      "Frecuencia: 10\n",
      "Ejemplos de 'nominee':\n",
      "  - Babyface\n",
      "  - Don Was\n",
      "  - David Foster\n",
      "  - Quincy Jones\n",
      "  - Peter Asher\n",
      "\n",
      "Categoría: Producer Of The Year (Non Classical)\n",
      "Frecuencia: 1\n",
      "Ejemplos de 'nominee':\n",
      "  - David Foster\n",
      "\n",
      "Categoría: Producer Of The Year (Non-Classical)\n",
      "Frecuencia: 10\n",
      "Ejemplos de 'nominee':\n",
      "  - Babyface & L.A. Reid\n",
      "  - Brian Eno & Daniel Lanois\n",
      "  - Quincy Jones\n",
      "  - Neil Dorfsman\n",
      "  - Jimmy Jam & Terry Lewis\n",
      "\n",
      "Categoría: Producer Of The Year, (Non Classical)\n",
      "Frecuencia: 1\n",
      "Ejemplos de 'nominee':\n",
      "  - Narada Michael Walden\n",
      "\n",
      "Categoría: Producer Of The Year, Classical\n",
      "Frecuencia: 22\n",
      "Ejemplos de 'nominee':\n",
      "  - Blanton Alspaugh\n",
      "  - David Frost\n",
      "  - Judith Sherman\n",
      "  - Blanton Alspaugh (producer)\n",
      "  - Steven Epstein\n",
      "\n",
      "Categoría: Producer Of The Year, Non-Classical\n",
      "Frecuencia: 22\n",
      "Ejemplos de 'nominee':\n",
      "  - Pharrell Williams\n",
      "  - Greg Kurstin\n",
      "  - Jeff Bhasker\n",
      "  - Max Martin\n",
      "  - Dan Auerbach\n"
     ]
    }
   ],
   "source": [
    "for category, group in artist_workers_null.groupby('category'):\n",
    "    print(f\"\\nCategoría: {category}\")\n",
    "    print(f\"Frecuencia: {len(group)}\")\n",
    "    # Mostrar hasta 5 ejemplos de 'nominee' (o todos si son menos)\n",
    "    nominees = group['nominee'].dropna().unique()[:5]\n",
    "    print(\"Ejemplos de 'nominee':\")\n",
    "    for nominee in nominees:\n",
    "        print(f\"  - {nominee}\")"
   ]
  },
  {
   "cell_type": "markdown",
   "metadata": {},
   "source": [
    "Las categorías con muchos casos, como \"Best New Artist\" y \"Producer Of The Year\", tienen valores de nominee que son nombres de artistas o productores, ideales para imputar artist.\n",
    "Las categorías clásicas con títulos largos (por ejemplo, \"Horowitz - The Studio Recordings\") son más difíciles de imputar, ya que nominee no siempre refleja un nombre claro de artista."
   ]
  },
  {
   "cell_type": "markdown",
   "metadata": {},
   "source": [
    "#### imputación de artistas teniendo en cuenta la columna 'nominee'"
   ]
  },
  {
   "cell_type": "code",
   "execution_count": 17,
   "metadata": {},
   "outputs": [
    {
     "name": "stdout",
     "output_type": "stream",
     "text": [
      "\n",
      "Eliminando 25 filas de categorías problemáticas:\n",
      "                                               category  \\\n",
      "2382  Best Small Ensemble Performance (With Or Witho...   \n",
      "2475  Best Small Ensemble Performance (With Or Witho...   \n",
      "2570  Best Small Ensemble Performance (With Or Witho...   \n",
      "2571                   Best Classical Vocal Performance   \n",
      "2658  Best Small Ensemble Performance (With Or Witho...   \n",
      "\n",
      "                                                nominee  \n",
      "2382  Colors Of Love - Works Of Thomas, Stucky, Tave...  \n",
      "2475                      Reich: Music For 18 Musicians  \n",
      "2570  Hindemith: Kammermusik No. 1 With Finale 1921,...  \n",
      "2571  An Italian Songbook - Works Of Bellini, Donize...  \n",
      "2658                      Boulez: ...Explosante-Fixe...  \n"
     ]
    }
   ],
   "source": [
    "mask_both_null = df['artist'].isna() & df['workers'].isna()\n",
    "subset = df[mask_both_null].copy()\n",
    "\n",
    "problematic_categories = [\n",
    "    'Best Small Ensemble Performance (With Or Without Conductor)',\n",
    "    'Most Promising New Classical Recording Artist',\n",
    "    'Best Classical Performance - Instrumental Soloist Or Soloists (With Or Without Orchestra)',\n",
    "    'Best Performance - Instrumental Soloist Or Soloists (With Or Without Orchestra)',\n",
    "    'Best Classical Vocal Soloist',  \n",
    "    'Best New Classical Artist',\n",
    "    'Best Classical Vocal Performance',\n",
    "    'Best Classical Vocal Soloist Performance' \n",
    "]\n",
    "\n",
    "mask_problematic = subset['category'].isin(problematic_categories)\n",
    "if mask_problematic.any():\n",
    "    print(f\"\\nEliminando {mask_problematic.sum()} filas de categorías problemáticas:\")\n",
    "    print(subset[mask_problematic][['category', 'nominee']].head())\n",
    "    df = df[~df.index.isin(subset[mask_problematic].index)]\n"
   ]
  },
  {
   "cell_type": "code",
   "execution_count": 18,
   "metadata": {},
   "outputs": [
    {
     "name": "stderr",
     "output_type": "stream",
     "text": [
      "/tmp/ipykernel_59577/3906321294.py:36: SettingWithCopyWarning: \n",
      "A value is trying to be set on a copy of a slice from a DataFrame.\n",
      "Try using .loc[row_indexer,col_indexer] = value instead\n",
      "\n",
      "See the caveats in the documentation: https://pandas.pydata.org/pandas-docs/stable/user_guide/indexing.html#returning-a-view-versus-a-copy\n",
      "  subset['artist'] = subset.apply(lambda row: impute_artist(row['nominee'], row['category']), axis=1)\n"
     ]
    }
   ],
   "source": [
    "mask_both_null = df['artist'].isna() & df['workers'].isna()\n",
    "subset = df[mask_both_null]\n",
    "\n",
    "artist_categories = [\n",
    "    'Best New Artist', 'Best New Artist Of', 'Best Producer Of The Year', \n",
    "    'Producer Of The Year', 'Classical Producer Of The Year', 'Remixer Of The Year'\n",
    "]\n",
    "\n",
    "def impute_artist(nominee, category):\n",
    "    \"\"\"Imputa el nombre del artista desde el campo nominee según la categoría.\n",
    "\n",
    "    Args:\n",
    "        nominee: Nombre del nominado, puede incluir información adicional.\n",
    "        category (str): Categoría de la nominación.\n",
    "\n",
    "    Returns:\n",
    "        str | None: Nombre del artista extraído o None si no se puede determinar.\n",
    "    \"\"\"\n",
    "    if pd.isna(nominee):\n",
    "        return None\n",
    "\n",
    "    if any(cat in category for cat in artist_categories):\n",
    "        return nominee\n",
    "   \n",
    "    match = re.match(r'^([^-\\(]+?)\\s*[-–]\\s*.*$', nominee)\n",
    "    if match:\n",
    "        return match.group(1).strip()\n",
    "\n",
    "    if len(nominee.split()) > 3 or any(kw in nominee.lower() for kw in ['album', 'song', 'works of']):\n",
    "        return None\n",
    "\n",
    "    return nominee\n",
    "\n",
    "\n",
    "\n",
    "subset['artist'] = subset.apply(lambda row: impute_artist(row['nominee'], row['category']), axis=1)"
   ]
  },
  {
   "cell_type": "code",
   "execution_count": 19,
   "metadata": {},
   "outputs": [
    {
     "name": "stdout",
     "output_type": "stream",
     "text": [
      "=== Valores nulos después de la imputación ===\n",
      "artist     1654\n",
      "workers    2159\n",
      "nominee       0\n",
      "dtype: int64\n"
     ]
    }
   ],
   "source": [
    "df.loc[mask_both_null, 'artist'] = subset['artist']\n",
    "print(\"=== Valores nulos después de la imputación ===\")\n",
    "print(df[['artist', 'workers', 'nominee']].isnull().sum())"
   ]
  },
  {
   "cell_type": "markdown",
   "metadata": {},
   "source": [
    "#### Filtrar filas donde 'artist' es nulo pero 'workers' no lo es"
   ]
  },
  {
   "cell_type": "code",
   "execution_count": 20,
   "metadata": {},
   "outputs": [],
   "source": [
    "mask_artist_null_workers_notnull = df['artist'].isna() & df['workers'].notna()\n",
    "workers_rows = df[mask_artist_null_workers_notnull]"
   ]
  },
  {
   "cell_type": "code",
   "execution_count": 21,
   "metadata": {},
   "outputs": [
    {
     "name": "stdout",
     "output_type": "stream",
     "text": [
      "\n",
      "=== Ejemplos únicos de 'workers' (hasta 10) ===\n",
      "1. Billie Eilish O'Connell & Finneas O'Connell, songwriters (Billie Eilish)\n",
      "2. Natalie Hemby, Lady Gaga, Hillary Lindsey & Lori McKenna, songwriters (Lady Gaga)\n",
      "3. Brandi Carlile, Phil Hanseroth, Tim Hanseroth & Tanya Tucker, songwriters (Tanya Tucker)\n",
      "4. Ruby Amanfu, Sam Ashworth, D. Arcelious Harris, H.E.R. & Rodney Jerkins, songwriters (H.E.R.)\n",
      "5. Taylor Swift, songwriter (Taylor Swift)\n",
      "6. Jack Antonoff & Lana Del Rey, songwriters (Lana Del Rey)\n",
      "7. Tom Barnes, Lewis Capaldi, Pete Kelleher, Benjamin Kohn & Sam Roman, songwriters (Lewis Capaldi)\n",
      "8. Steven Cheung, Eric Frederic, Melissa Jefferson & Jesse Saint John, songwriters (Lizzo)\n",
      "9. Gary Clark Jr., songwriter (Gary Clark Jr.)\n",
      "10. Danny Carey, Justin Chancellor, Adam Jones & Maynard James Keenan, songwriters (Tool)\n"
     ]
    }
   ],
   "source": [
    "print(\"\\n=== Ejemplos únicos de 'workers' (hasta 10) ===\")\n",
    "unique_workers = workers_rows['workers'].dropna().unique()[:10]\n",
    "for i, worker in enumerate(unique_workers, 1):\n",
    "    print(f\"{i}. {worker}\")"
   ]
  },
  {
   "cell_type": "markdown",
   "metadata": {},
   "source": [
    "Los valores de workers en estas filas ofrecen una fuente clara para imputar artist, ya que el nombre entre paréntesis suele ser el intérprete principal.\n",
    "La estructura consistente (compositores seguidos de \"(artista)\") facilita la extracción automática con expresiones regulares"
   ]
  },
  {
   "cell_type": "markdown",
   "metadata": {},
   "source": [
    "#### Extracción de 'artist' desde paréntesis finales en créditos de 'workers' en las filas filtradas"
   ]
  },
  {
   "cell_type": "code",
   "execution_count": 22,
   "metadata": {},
   "outputs": [
    {
     "name": "stderr",
     "output_type": "stream",
     "text": [
      "/tmp/ipykernel_59577/1329184039.py:19: SettingWithCopyWarning: \n",
      "A value is trying to be set on a copy of a slice from a DataFrame.\n",
      "Try using .loc[row_indexer,col_indexer] = value instead\n",
      "\n",
      "See the caveats in the documentation: https://pandas.pydata.org/pandas-docs/stable/user_guide/indexing.html#returning-a-view-versus-a-copy\n",
      "  workers_rows['artist'] = workers_rows['workers'].apply(extract_artist_from_parentheses)\n"
     ]
    }
   ],
   "source": [
    "def extract_artist_from_parentheses(workers):\n",
    "    \"\"\"Extrae el nombre del artista desde el campo 'workers' si está entre paréntesis al final.\n",
    "\n",
    "    Args:\n",
    "        workers: Texto que contiene información sobre colaboradores, posiblemente con un artista entre paréntesis.\n",
    "\n",
    "    Returns:\n",
    "        str | None: Nombre del artista extraído de los paréntesis o None si no se encuentra.\n",
    "    \"\"\"\n",
    "    if pd.isna(workers):\n",
    "        return None\n",
    " \n",
    "    paren_match = re.search(r'\\(([^)]+)\\)$', workers)\n",
    "    if paren_match:\n",
    "        return paren_match.group(1).strip()\n",
    "    return None \n",
    "\n",
    "# Aplicar imputación\n",
    "workers_rows['artist'] = workers_rows['workers'].apply(extract_artist_from_parentheses)\n",
    "df.loc[mask_artist_null_workers_notnull, 'artist'] = workers_rows['artist']"
   ]
  },
  {
   "cell_type": "code",
   "execution_count": 23,
   "metadata": {},
   "outputs": [
    {
     "name": "stdout",
     "output_type": "stream",
     "text": [
      "\n",
      "=== Valores nulos después de la imputación desde paréntesis ===\n",
      "artist      321\n",
      "workers    2159\n",
      "nominee       0\n",
      "dtype: int64\n"
     ]
    }
   ],
   "source": [
    "print(\"\\n=== Valores nulos después de la imputación desde paréntesis ===\")\n",
    "print(df[['artist', 'workers', 'nominee']].isnull().sum())"
   ]
  },
  {
   "cell_type": "markdown",
   "metadata": {},
   "source": [
    "Los 321 nulos que quedan en artist probablemente corresponden a filas donde workers no sigue el formato estándar con paréntesis o donde ambos campos son nulos desde el inicio."
   ]
  },
  {
   "cell_type": "code",
   "execution_count": 24,
   "metadata": {},
   "outputs": [
    {
     "name": "stdout",
     "output_type": "stream",
     "text": [
      "\n",
      "=== Ejemplos únicos de 'workers' (hasta 10) ===\n",
      "1. Stephen Paulus, composer\n",
      "2. Randy Brecker, soloist\n",
      "3. Melissa Aldana, soloist\n",
      "4. Julian Lage, soloist\n",
      "5. Branford Marsalis, soloist\n",
      "6. Christian McBride, soloist\n",
      "7. Kirk Franklin; Kirk Franklin, songwriter\n",
      "8. Gloria Gaynor Featuring Yolanda Adams; Bryan Fowler, Gloria Gaynor & Chris Stevens, songwriters\n",
      "9. Travis Greene Featuring Jekalyn Carr\n",
      "10. Koryn Hawthorne Featuring Natalie Grant\n"
     ]
    }
   ],
   "source": [
    "print(\"\\n=== Ejemplos únicos de 'workers' (hasta 10) ===\")\n",
    "mask_artist_null_workers_notnull = df['artist'].isna() & df['workers'].notna()\n",
    "workers_rows = df[mask_artist_null_workers_notnull]\n",
    "unique_workers = workers_rows['workers'].dropna().unique()[:10]\n",
    "for i, worker in enumerate(unique_workers, 1):\n",
    "    print(f\"{i}. {worker}\")"
   ]
  },
  {
   "cell_type": "markdown",
   "metadata": {},
   "source": [
    "#### Imputación de 'artists' basada en patrones de roles, colaboraciones y fallback del campo 'workers'"
   ]
  },
  {
   "cell_type": "code",
   "execution_count": 25,
   "metadata": {},
   "outputs": [],
   "source": [
    "\n",
    "def extraer_artista(worker):\n",
    "    \"\"\"Extrae el nombre del artista desde el campo 'workers' utilizando reglas específicas.\n",
    "\n",
    "    Args:\n",
    "        worker: Texto que contiene información sobre colaboradores, puede ser nulo.\n",
    "\n",
    "    Returns:\n",
    "        str | None: Nombre del artista extraído según las reglas definidas o None si no se puede determinar.\n",
    "    \"\"\"\n",
    "    if pd.isnull(worker):\n",
    "        return None\n",
    "\n",
    "    m = re.match(r\"([^,;]+), (soloist|composer|conductor|artist)\", worker)\n",
    "    if m:\n",
    "        return m.group(1).strip()\n",
    "\n",
    "  \n",
    "    m = re.match(r\"(.+?(Featuring|&| and ).*?)(;|,|$)\", worker, re.IGNORECASE)\n",
    "    if m:\n",
    "        return m.group(1).strip()\n",
    "\n",
    "  \n",
    "    return worker.strip()\n",
    "\n",
    "\n",
    "df['artist'] = df['artist'].fillna(df['workers'].apply(extraer_artista))\n"
   ]
  },
  {
   "cell_type": "code",
   "execution_count": 26,
   "metadata": {},
   "outputs": [
    {
     "data": {
      "text/plain": [
       "year               0\n",
       "title              0\n",
       "published_at       0\n",
       "updated_at         0\n",
       "category           0\n",
       "nominee            0\n",
       "artist             0\n",
       "workers         2159\n",
       "img             1336\n",
       "winner             0\n",
       "dtype: int64"
      ]
     },
     "execution_count": 26,
     "metadata": {},
     "output_type": "execute_result"
    }
   ],
   "source": [
    "df.isna().sum()"
   ]
  },
  {
   "cell_type": "markdown",
   "metadata": {},
   "source": [
    "### Mostrar la distribución de valores en la columna 'artist'"
   ]
  },
  {
   "cell_type": "code",
   "execution_count": 27,
   "metadata": {},
   "outputs": [
    {
     "data": {
      "text/plain": [
       "artist\n",
       "(Various Artists)                                 66\n",
       "Various Artists                                   44\n",
       "Chicago Symphony Orchestra                        29\n",
       "John Williams                                     24\n",
       "Henry Mancini                                     22\n",
       "                                                  ..\n",
       "Tom Petty & The Heartbreakers                      1\n",
       "Weezer                                             1\n",
       "The King's Singers                                 1\n",
       "JoAnn Falletta; Buffalo Philharmonic Orchestra     1\n",
       "Israel And New Breed                               1\n",
       "Name: count, Length: 2465, dtype: int64"
      ]
     },
     "execution_count": 27,
     "metadata": {},
     "output_type": "execute_result"
    }
   ],
   "source": [
    "df[\"artist\"].value_counts()"
   ]
  },
  {
   "cell_type": "markdown",
   "metadata": {},
   "source": [
    "#### Estandarizar el valor \"(Various Artists)\" a \"Various Artists\" para consistencia"
   ]
  },
  {
   "cell_type": "code",
   "execution_count": 28,
   "metadata": {},
   "outputs": [],
   "source": [
    "df[\"artist\"] = df[\"artist\"].replace({\"(Various Artists)\": \"Various Artists\"})"
   ]
  },
  {
   "cell_type": "code",
   "execution_count": 29,
   "metadata": {},
   "outputs": [
    {
     "data": {
      "text/plain": [
       "artist\n",
       "Various Artists                                          110\n",
       "Chicago Symphony Orchestra                                29\n",
       "John Williams                                             24\n",
       "U2                                                        22\n",
       "Henry Mancini                                             22\n",
       "                                                        ... \n",
       "Keely Smith, Louis Prima                                   1\n",
       "David Seville & The Chipmunks (Ross Bagdasarian, Sr.)      1\n",
       "The Champs                                                 1\n",
       "Laurindo Almeida, guitar; Salli Terri, vocals              1\n",
       "Nelson Riddle                                              1\n",
       "Name: count, Length: 2464, dtype: int64"
      ]
     },
     "execution_count": 29,
     "metadata": {},
     "output_type": "execute_result"
    }
   ],
   "source": [
    "df[\"artist\"].value_counts()"
   ]
  },
  {
   "cell_type": "code",
   "execution_count": 30,
   "metadata": {},
   "outputs": [
    {
     "data": {
      "text/html": [
       "<div>\n",
       "<style scoped>\n",
       "    .dataframe tbody tr th:only-of-type {\n",
       "        vertical-align: middle;\n",
       "    }\n",
       "\n",
       "    .dataframe tbody tr th {\n",
       "        vertical-align: top;\n",
       "    }\n",
       "\n",
       "    .dataframe thead th {\n",
       "        text-align: right;\n",
       "    }\n",
       "</style>\n",
       "<table border=\"1\" class=\"dataframe\">\n",
       "  <thead>\n",
       "    <tr style=\"text-align: right;\">\n",
       "      <th></th>\n",
       "      <th>year</th>\n",
       "      <th>title</th>\n",
       "      <th>published_at</th>\n",
       "      <th>updated_at</th>\n",
       "      <th>category</th>\n",
       "      <th>nominee</th>\n",
       "      <th>artist</th>\n",
       "      <th>workers</th>\n",
       "      <th>img</th>\n",
       "      <th>winner</th>\n",
       "    </tr>\n",
       "  </thead>\n",
       "  <tbody>\n",
       "    <tr>\n",
       "      <th>0</th>\n",
       "      <td>2019</td>\n",
       "      <td>62nd Annual GRAMMY Awards  (2019)</td>\n",
       "      <td>2020-05-19T05:10:28-07:00</td>\n",
       "      <td>2020-05-19T05:10:28-07:00</td>\n",
       "      <td>Record Of The Year</td>\n",
       "      <td>Bad Guy</td>\n",
       "      <td>Billie Eilish</td>\n",
       "      <td>Finneas O'Connell, producer; Rob Kinelski &amp; Fi...</td>\n",
       "      <td>https://www.grammy.com/sites/com/files/styles/...</td>\n",
       "      <td>True</td>\n",
       "    </tr>\n",
       "    <tr>\n",
       "      <th>1</th>\n",
       "      <td>2019</td>\n",
       "      <td>62nd Annual GRAMMY Awards  (2019)</td>\n",
       "      <td>2020-05-19T05:10:28-07:00</td>\n",
       "      <td>2020-05-19T05:10:28-07:00</td>\n",
       "      <td>Record Of The Year</td>\n",
       "      <td>Hey, Ma</td>\n",
       "      <td>Bon Iver</td>\n",
       "      <td>BJ Burton, Brad Cook, Chris Messina &amp; Justin V...</td>\n",
       "      <td>https://www.grammy.com/sites/com/files/styles/...</td>\n",
       "      <td>True</td>\n",
       "    </tr>\n",
       "    <tr>\n",
       "      <th>2</th>\n",
       "      <td>2019</td>\n",
       "      <td>62nd Annual GRAMMY Awards  (2019)</td>\n",
       "      <td>2020-05-19T05:10:28-07:00</td>\n",
       "      <td>2020-05-19T05:10:28-07:00</td>\n",
       "      <td>Record Of The Year</td>\n",
       "      <td>7 rings</td>\n",
       "      <td>Ariana Grande</td>\n",
       "      <td>Charles Anderson, Tommy Brown, Michael Foster ...</td>\n",
       "      <td>https://www.grammy.com/sites/com/files/styles/...</td>\n",
       "      <td>True</td>\n",
       "    </tr>\n",
       "    <tr>\n",
       "      <th>3</th>\n",
       "      <td>2019</td>\n",
       "      <td>62nd Annual GRAMMY Awards  (2019)</td>\n",
       "      <td>2020-05-19T05:10:28-07:00</td>\n",
       "      <td>2020-05-19T05:10:28-07:00</td>\n",
       "      <td>Record Of The Year</td>\n",
       "      <td>Hard Place</td>\n",
       "      <td>H.E.R.</td>\n",
       "      <td>Rodney “Darkchild” Jerkins, producer; Joseph H...</td>\n",
       "      <td>https://www.grammy.com/sites/com/files/styles/...</td>\n",
       "      <td>True</td>\n",
       "    </tr>\n",
       "    <tr>\n",
       "      <th>4</th>\n",
       "      <td>2019</td>\n",
       "      <td>62nd Annual GRAMMY Awards  (2019)</td>\n",
       "      <td>2020-05-19T05:10:28-07:00</td>\n",
       "      <td>2020-05-19T05:10:28-07:00</td>\n",
       "      <td>Record Of The Year</td>\n",
       "      <td>Talk</td>\n",
       "      <td>Khalid</td>\n",
       "      <td>Disclosure &amp; Denis Kosiak, producers; Ingmar C...</td>\n",
       "      <td>https://www.grammy.com/sites/com/files/styles/...</td>\n",
       "      <td>True</td>\n",
       "    </tr>\n",
       "  </tbody>\n",
       "</table>\n",
       "</div>"
      ],
      "text/plain": [
       "   year                              title               published_at  \\\n",
       "0  2019  62nd Annual GRAMMY Awards  (2019)  2020-05-19T05:10:28-07:00   \n",
       "1  2019  62nd Annual GRAMMY Awards  (2019)  2020-05-19T05:10:28-07:00   \n",
       "2  2019  62nd Annual GRAMMY Awards  (2019)  2020-05-19T05:10:28-07:00   \n",
       "3  2019  62nd Annual GRAMMY Awards  (2019)  2020-05-19T05:10:28-07:00   \n",
       "4  2019  62nd Annual GRAMMY Awards  (2019)  2020-05-19T05:10:28-07:00   \n",
       "\n",
       "                  updated_at            category     nominee         artist  \\\n",
       "0  2020-05-19T05:10:28-07:00  Record Of The Year     Bad Guy  Billie Eilish   \n",
       "1  2020-05-19T05:10:28-07:00  Record Of The Year     Hey, Ma       Bon Iver   \n",
       "2  2020-05-19T05:10:28-07:00  Record Of The Year     7 rings  Ariana Grande   \n",
       "3  2020-05-19T05:10:28-07:00  Record Of The Year  Hard Place         H.E.R.   \n",
       "4  2020-05-19T05:10:28-07:00  Record Of The Year        Talk         Khalid   \n",
       "\n",
       "                                             workers  \\\n",
       "0  Finneas O'Connell, producer; Rob Kinelski & Fi...   \n",
       "1  BJ Burton, Brad Cook, Chris Messina & Justin V...   \n",
       "2  Charles Anderson, Tommy Brown, Michael Foster ...   \n",
       "3  Rodney “Darkchild” Jerkins, producer; Joseph H...   \n",
       "4  Disclosure & Denis Kosiak, producers; Ingmar C...   \n",
       "\n",
       "                                                 img  winner  \n",
       "0  https://www.grammy.com/sites/com/files/styles/...    True  \n",
       "1  https://www.grammy.com/sites/com/files/styles/...    True  \n",
       "2  https://www.grammy.com/sites/com/files/styles/...    True  \n",
       "3  https://www.grammy.com/sites/com/files/styles/...    True  \n",
       "4  https://www.grammy.com/sites/com/files/styles/...    True  "
      ]
     },
     "execution_count": 30,
     "metadata": {},
     "output_type": "execute_result"
    }
   ],
   "source": [
    "df.head()"
   ]
  },
  {
   "cell_type": "markdown",
   "metadata": {},
   "source": [
    "### Eliminar columnas no esenciales para análisis posteriores"
   ]
  },
  {
   "cell_type": "code",
   "execution_count": 31,
   "metadata": {},
   "outputs": [],
   "source": [
    "df = df.drop(columns= ['published_at', 'updated_at', 'img'])"
   ]
  },
  {
   "cell_type": "markdown",
   "metadata": {},
   "source": [
    "Se eliminan esas columnas ya que no representan informacion relevante en el analisis del conjunto de datos. "
   ]
  },
  {
   "cell_type": "markdown",
   "metadata": {},
   "source": [
    "#### Renombrar la columna 'winner' a 'is_nominated' para mayor claridad"
   ]
  },
  {
   "cell_type": "code",
   "execution_count": 32,
   "metadata": {},
   "outputs": [
    {
     "data": {
      "text/plain": [
       "winner\n",
       "True    4779\n",
       "Name: count, dtype: int64"
      ]
     },
     "execution_count": 32,
     "metadata": {},
     "output_type": "execute_result"
    }
   ],
   "source": [
    "df[\"winner\"].value_counts()"
   ]
  },
  {
   "cell_type": "code",
   "execution_count": 33,
   "metadata": {},
   "outputs": [],
   "source": [
    "df.rename(columns= {'winner': 'is_nominated'}, inplace = True)"
   ]
  },
  {
   "cell_type": "markdown",
   "metadata": {},
   "source": [
    "Al solo tener valores 'True' en la columna de 'winner' a pesar de que hay nominados que perdieron podemos inferir que en realidad representa si un artista fue nominado o no en lugar de si gano o no. "
   ]
  },
  {
   "cell_type": "code",
   "execution_count": 34,
   "metadata": {},
   "outputs": [
    {
     "data": {
      "text/html": [
       "<div>\n",
       "<style scoped>\n",
       "    .dataframe tbody tr th:only-of-type {\n",
       "        vertical-align: middle;\n",
       "    }\n",
       "\n",
       "    .dataframe tbody tr th {\n",
       "        vertical-align: top;\n",
       "    }\n",
       "\n",
       "    .dataframe thead th {\n",
       "        text-align: right;\n",
       "    }\n",
       "</style>\n",
       "<table border=\"1\" class=\"dataframe\">\n",
       "  <thead>\n",
       "    <tr style=\"text-align: right;\">\n",
       "      <th></th>\n",
       "      <th>year</th>\n",
       "      <th>title</th>\n",
       "      <th>category</th>\n",
       "      <th>nominee</th>\n",
       "      <th>artist</th>\n",
       "      <th>workers</th>\n",
       "      <th>is_nominated</th>\n",
       "    </tr>\n",
       "  </thead>\n",
       "  <tbody>\n",
       "    <tr>\n",
       "      <th>0</th>\n",
       "      <td>2019</td>\n",
       "      <td>62nd Annual GRAMMY Awards  (2019)</td>\n",
       "      <td>Record Of The Year</td>\n",
       "      <td>Bad Guy</td>\n",
       "      <td>Billie Eilish</td>\n",
       "      <td>Finneas O'Connell, producer; Rob Kinelski &amp; Fi...</td>\n",
       "      <td>True</td>\n",
       "    </tr>\n",
       "    <tr>\n",
       "      <th>1</th>\n",
       "      <td>2019</td>\n",
       "      <td>62nd Annual GRAMMY Awards  (2019)</td>\n",
       "      <td>Record Of The Year</td>\n",
       "      <td>Hey, Ma</td>\n",
       "      <td>Bon Iver</td>\n",
       "      <td>BJ Burton, Brad Cook, Chris Messina &amp; Justin V...</td>\n",
       "      <td>True</td>\n",
       "    </tr>\n",
       "    <tr>\n",
       "      <th>2</th>\n",
       "      <td>2019</td>\n",
       "      <td>62nd Annual GRAMMY Awards  (2019)</td>\n",
       "      <td>Record Of The Year</td>\n",
       "      <td>7 rings</td>\n",
       "      <td>Ariana Grande</td>\n",
       "      <td>Charles Anderson, Tommy Brown, Michael Foster ...</td>\n",
       "      <td>True</td>\n",
       "    </tr>\n",
       "    <tr>\n",
       "      <th>3</th>\n",
       "      <td>2019</td>\n",
       "      <td>62nd Annual GRAMMY Awards  (2019)</td>\n",
       "      <td>Record Of The Year</td>\n",
       "      <td>Hard Place</td>\n",
       "      <td>H.E.R.</td>\n",
       "      <td>Rodney “Darkchild” Jerkins, producer; Joseph H...</td>\n",
       "      <td>True</td>\n",
       "    </tr>\n",
       "    <tr>\n",
       "      <th>4</th>\n",
       "      <td>2019</td>\n",
       "      <td>62nd Annual GRAMMY Awards  (2019)</td>\n",
       "      <td>Record Of The Year</td>\n",
       "      <td>Talk</td>\n",
       "      <td>Khalid</td>\n",
       "      <td>Disclosure &amp; Denis Kosiak, producers; Ingmar C...</td>\n",
       "      <td>True</td>\n",
       "    </tr>\n",
       "  </tbody>\n",
       "</table>\n",
       "</div>"
      ],
      "text/plain": [
       "   year                              title            category     nominee  \\\n",
       "0  2019  62nd Annual GRAMMY Awards  (2019)  Record Of The Year     Bad Guy   \n",
       "1  2019  62nd Annual GRAMMY Awards  (2019)  Record Of The Year     Hey, Ma   \n",
       "2  2019  62nd Annual GRAMMY Awards  (2019)  Record Of The Year     7 rings   \n",
       "3  2019  62nd Annual GRAMMY Awards  (2019)  Record Of The Year  Hard Place   \n",
       "4  2019  62nd Annual GRAMMY Awards  (2019)  Record Of The Year        Talk   \n",
       "\n",
       "          artist                                            workers  \\\n",
       "0  Billie Eilish  Finneas O'Connell, producer; Rob Kinelski & Fi...   \n",
       "1       Bon Iver  BJ Burton, Brad Cook, Chris Messina & Justin V...   \n",
       "2  Ariana Grande  Charles Anderson, Tommy Brown, Michael Foster ...   \n",
       "3         H.E.R.  Rodney “Darkchild” Jerkins, producer; Joseph H...   \n",
       "4         Khalid  Disclosure & Denis Kosiak, producers; Ingmar C...   \n",
       "\n",
       "   is_nominated  \n",
       "0          True  \n",
       "1          True  \n",
       "2          True  \n",
       "3          True  \n",
       "4          True  "
      ]
     },
     "execution_count": 34,
     "metadata": {},
     "output_type": "execute_result"
    }
   ],
   "source": [
    "df.head()"
   ]
  },
  {
   "cell_type": "markdown",
   "metadata": {},
   "source": [
    "## Visualizaciones"
   ]
  },
  {
   "cell_type": "code",
   "execution_count": 35,
   "metadata": {},
   "outputs": [
    {
     "data": {
      "image/png": "[encoded data removed]",
      "text/plain": [
       "<Figure size 1200x800 with 1 Axes>"
      ]
     },
     "metadata": {},
     "output_type": "display_data"
    }
   ],
   "source": [
    "artist_nominations = df[\"artist\"].value_counts().head(10)\n",
    "\n",
    "plt.figure(figsize=(12, 8))\n",
    "\n",
    "sns.barplot(x=artist_nominations.values,\n",
    "            y=artist_nominations.index)\n",
    "\n",
    "plt.title(\"Top 10 Artists with the Most Nominations\")\n",
    "plt.xlabel(\"Number of Nominations\")\n",
    "plt.ylabel(\"Artist\")\n",
    "\n",
    "plt.show()"
   ]
  },
  {
   "cell_type": "markdown",
   "metadata": {},
   "source": [
    "\"Various Artists\" lidera con alrededor de 100 nominaciones, seguido por la Chicago Symphony Orchestra (~80) y John Williams (~70).\n",
    "Hay una caída significativa después de los primeros tres, con U2 en ~50 nominaciones y el resto entre 25 y 45.\n",
    "La lista incluye una mezcla de artistas individuales (Beyoncé, Stevie Wonder), bandas (U2), compositores (John Williams), y ensembles (Chicago Symphony Orchestra)."
   ]
  },
  {
   "cell_type": "code",
   "execution_count": 36,
   "metadata": {},
   "outputs": [
    {
     "data": {
      "image/png": "[encoded data removed]",
      "text/plain": [
       "<Figure size 1200x600 with 1 Axes>"
      ]
     },
     "metadata": {},
     "output_type": "display_data"
    }
   ],
   "source": [
    "plt.figure(figsize=(12, 6))\n",
    "sns.countplot(x=\"category\", data=df[df[\"is_nominated\"]], \n",
    "              order=df[\"category\"].value_counts().index[:10])\n",
    "plt.title(\"Distribución de Nominaciones por Categoría de Grammy\")\n",
    "plt.xlabel(\"Categoría de Grammy\")\n",
    "plt.ylabel(\"Cantidad de Nominaciones\")\n",
    "plt.xticks(rotation=45)\n",
    "plt.show()"
   ]
  },
  {
   "cell_type": "markdown",
   "metadata": {},
   "source": [
    "Categorías principales: \"Song of the Year\", \"Record of the Year\", y \"Album of the Year\" son las más competitivas, lo esperado dado su prestigio y alcance (abarcan todos los géneros).\n",
    "Categorías de nicho: \"Best Opera Recording\" y \"Best Chamber Music Performance\" reflejan la representación de música clásica, que tiene múltiples categorías específicas.\n",
    "\"Best Album Notes\": Su alta nominación sugiere un reconocimiento significativo a la labor de documentación histórica en la música."
   ]
  },
  {
   "cell_type": "code",
   "execution_count": 37,
   "metadata": {},
   "outputs": [
    {
     "data": {
      "image/png": "[encoded data removed]",
      "text/plain": [
       "<Figure size 1200x600 with 1 Axes>"
      ]
     },
     "metadata": {},
     "output_type": "display_data"
    }
   ],
   "source": [
    "plt.figure(figsize=(12, 6))\n",
    "yearly_nominations = df[df[\"is_nominated\"]][\"year\"].value_counts().sort_index()\n",
    "plt.plot(yearly_nominations.index, yearly_nominations.values, marker=\"o\")\n",
    "plt.title(\"Tendencia de Nominaciones a Grammy por Año\")\n",
    "plt.xlabel(\"Año\")\n",
    "plt.ylabel(\"Cantidad de Nominaciones\")\n",
    "plt.grid(True)\n",
    "plt.show()"
   ]
  },
  {
   "cell_type": "markdown",
   "metadata": {},
   "source": [
    "Las nominaciones son bajas y estables (~50) desde 1960 hasta 1980.\n",
    "Hay un crecimiento gradual de 1980 a 2000, estabilizándose en ~100 nominaciones por año hasta 2010.\n",
    "Una caída abrupta en 2010 (~50), seguida de un aumento exponencial en 2011-2019, con un pico de ~450 en 2019.\n"
   ]
  }
 ],
 "metadata": {
  "kernelspec": {
   "display_name": "Python venv",
   "language": "python",
   "name": "venv"
  },
  "language_info": {
   "codemirror_mode": {
    "name": "ipython",
    "version": 3
   },
   "file_extension": ".py",
   "mimetype": "text/x-python",
   "name": "python",
   "nbconvert_exporter": "python",
   "pygments_lexer": "ipython3",
   "version": "3.12.3"
  }
 },
 "nbformat": 4,
 "nbformat_minor": 2
}
