{
 "cells": [
  {
   "cell_type": "markdown",
   "metadata": {},
   "source": [
    "### Importación de bibliotecas necesarias"
   ]
  },
  {
   "cell_type": "code",
   "execution_count": 1,
   "metadata": {},
   "outputs": [],
   "source": [
    "import sys\n",
    "import os\n",
    "import pandas as pd"
   ]
  },
  {
   "cell_type": "markdown",
   "metadata": {},
   "source": [
    "### Establecer conexión a la base de datos PostgreSQL"
   ]
  },
  {
   "cell_type": "code",
   "execution_count": 2,
   "metadata": {},
   "outputs": [
    {
     "name": "stderr",
     "output_type": "stream",
     "text": [
      "2025-04-10 22:56:44,333 - INFO - Conexión a la base de datos 'grammys_db' creada exitosamente.\n"
     ]
    }
   ],
   "source": [
    "\n",
    "sys.path.append(os.path.abspath('../source'))\n",
    "\n",
    "from BD_connection import get_connection\n",
    "\n",
    "conexion = get_connection()\n"
   ]
  },
  {
   "cell_type": "markdown",
   "metadata": {},
   "source": [
    "### Cargar datos desde un archivo CSV"
   ]
  },
  {
   "cell_type": "code",
   "execution_count": 3,
   "metadata": {},
   "outputs": [
    {
     "name": "stdout",
     "output_type": "stream",
     "text": [
      "   year                              title               published_at  \\\n",
      "0  2019  62nd Annual GRAMMY Awards  (2019)  2020-05-19T05:10:28-07:00   \n",
      "1  2019  62nd Annual GRAMMY Awards  (2019)  2020-05-19T05:10:28-07:00   \n",
      "2  2019  62nd Annual GRAMMY Awards  (2019)  2020-05-19T05:10:28-07:00   \n",
      "3  2019  62nd Annual GRAMMY Awards  (2019)  2020-05-19T05:10:28-07:00   \n",
      "4  2019  62nd Annual GRAMMY Awards  (2019)  2020-05-19T05:10:28-07:00   \n",
      "\n",
      "                  updated_at            category     nominee         artist  \\\n",
      "0  2020-05-19T05:10:28-07:00  Record Of The Year     Bad Guy  Billie Eilish   \n",
      "1  2020-05-19T05:10:28-07:00  Record Of The Year     Hey, Ma       Bon Iver   \n",
      "2  2020-05-19T05:10:28-07:00  Record Of The Year     7 rings  Ariana Grande   \n",
      "3  2020-05-19T05:10:28-07:00  Record Of The Year  Hard Place         H.E.R.   \n",
      "4  2020-05-19T05:10:28-07:00  Record Of The Year        Talk         Khalid   \n",
      "\n",
      "                                             workers  \\\n",
      "0  Finneas O'Connell, producer; Rob Kinelski & Fi...   \n",
      "1  BJ Burton, Brad Cook, Chris Messina & Justin V...   \n",
      "2  Charles Anderson, Tommy Brown, Michael Foster ...   \n",
      "3  Rodney “Darkchild” Jerkins, producer; Joseph H...   \n",
      "4  Disclosure & Denis Kosiak, producers; Ingmar C...   \n",
      "\n",
      "                                                 img  winner  \n",
      "0  https://www.grammy.com/sites/com/files/styles/...    True  \n",
      "1  https://www.grammy.com/sites/com/files/styles/...    True  \n",
      "2  https://www.grammy.com/sites/com/files/styles/...    True  \n",
      "3  https://www.grammy.com/sites/com/files/styles/...    True  \n",
      "4  https://www.grammy.com/sites/com/files/styles/...    True  \n"
     ]
    }
   ],
   "source": [
    "\n",
    "data = pd.read_csv('../data/the_grammy_awards.csv')\n",
    "print(data.head())  \n"
   ]
  },
  {
   "cell_type": "markdown",
   "metadata": {},
   "source": [
    "### Insertar los datos del DataFrame en la tabla 'raw_grammy'"
   ]
  },
  {
   "cell_type": "code",
   "execution_count": 5,
   "metadata": {},
   "outputs": [
    {
     "name": "stderr",
     "output_type": "stream",
     "text": [
      "2025-04-10 22:57:30,682 - INFO - Conexión a la base de datos 'grammys_db' creada exitosamente.\n"
     ]
    },
    {
     "name": "stdout",
     "output_type": "stream",
     "text": [
      "Error al insertar datos: (psycopg2.OperationalError) connection to server at \"localhost\" (::1), port 3305 failed: received invalid response to SSL negotiation: J\n",
      "\n",
      "(Background on this error at: https://sqlalche.me/e/20/e3q8)\n"
     ]
    }
   ],
   "source": [
    "def insert_data(df: pd.DataFrame):\n",
    "    \"\"\"Inserta un DataFrame en la tabla 'raw_grammy' de una base de datos PostgreSQL.\n",
    "\n",
    "    Args:\n",
    "        df (pd.DataFrame): DataFrame con los datos a insertar.\n",
    "\n",
    "    Raises:\n",
    "        Exception: Si ocurre un error durante la conexión o la inserción de datos.\n",
    "    \"\"\"\n",
    "    try:\n",
    "        engine = get_connection()\n",
    "        df.to_sql(name=\"raw_grammy\", con=engine, if_exists='replace', index=False)\n",
    "        print(f\"{len(df)} registros insertados.\")\n",
    "    except Exception as e:\n",
    "        print(f\"Error al insertar datos: {e}\")\n",
    "\n",
    "insert_data(data)"
   ]
  },
  {
   "cell_type": "markdown",
   "metadata": {},
   "source": [
    "### Leer los datos de la tabla 'raw_grammy' para verificar la inserción"
   ]
  },
  {
   "cell_type": "code",
   "execution_count": 14,
   "metadata": {},
   "outputs": [
    {
     "name": "stdout",
     "output_type": "stream",
     "text": [
      "   year                              title               published_at  \\\n",
      "0  2019  62nd Annual GRAMMY Awards  (2019)  2020-05-19T05:10:28-07:00   \n",
      "1  2019  62nd Annual GRAMMY Awards  (2019)  2020-05-19T05:10:28-07:00   \n",
      "2  2019  62nd Annual GRAMMY Awards  (2019)  2020-05-19T05:10:28-07:00   \n",
      "3  2019  62nd Annual GRAMMY Awards  (2019)  2020-05-19T05:10:28-07:00   \n",
      "4  2019  62nd Annual GRAMMY Awards  (2019)  2020-05-19T05:10:28-07:00   \n",
      "\n",
      "                  updated_at            category     nominee         artist  \\\n",
      "0  2020-05-19T05:10:28-07:00  Record Of The Year     Bad Guy  Billie Eilish   \n",
      "1  2020-05-19T05:10:28-07:00  Record Of The Year     Hey, Ma       Bon Iver   \n",
      "2  2020-05-19T05:10:28-07:00  Record Of The Year     7 rings  Ariana Grande   \n",
      "3  2020-05-19T05:10:28-07:00  Record Of The Year  Hard Place         H.E.R.   \n",
      "4  2020-05-19T05:10:28-07:00  Record Of The Year        Talk         Khalid   \n",
      "\n",
      "                                             workers  \\\n",
      "0  Finneas O'Connell, producer; Rob Kinelski & Fi...   \n",
      "1  BJ Burton, Brad Cook, Chris Messina & Justin V...   \n",
      "2  Charles Anderson, Tommy Brown, Michael Foster ...   \n",
      "3  Rodney “Darkchild” Jerkins, producer; Joseph H...   \n",
      "4  Disclosure & Denis Kosiak, producers; Ingmar C...   \n",
      "\n",
      "                                                 img  winner  \n",
      "0  https://www.grammy.com/sites/com/files/styles/...    True  \n",
      "1  https://www.grammy.com/sites/com/files/styles/...    True  \n",
      "2  https://www.grammy.com/sites/com/files/styles/...    True  \n",
      "3  https://www.grammy.com/sites/com/files/styles/...    True  \n",
      "4  https://www.grammy.com/sites/com/files/styles/...    True  \n"
     ]
    }
   ],
   "source": [
    "data = pd.read_sql_query(\"SELECT * FROM raw_grammy\", conexion)\n",
    "print(data.head())"
   ]
  }
 ],
 "metadata": {
  "kernelspec": {
   "display_name": "venv",
   "language": "python",
   "name": "python3"
  },
  "language_info": {
   "codemirror_mode": {
    "name": "ipython",
    "version": 3
   },
   "file_extension": ".py",
   "mimetype": "text/x-python",
   "name": "python",
   "nbconvert_exporter": "python",
   "pygments_lexer": "ipython3",
   "version": "3.11.4"
  }
 },
 "nbformat": 4,
 "nbformat_minor": 2
}
