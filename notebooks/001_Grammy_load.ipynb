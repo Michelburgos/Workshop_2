{
 "cells": [
  {
   "cell_type": "code",
   "execution_count": 1,
   "metadata": {},
   "outputs": [
    {
     "name": "stdout",
     "output_type": "stream",
     "text": [
      "Conexión a la base de datos exitosa.\n"
     ]
    }
   ],
   "source": [
    "import sys\n",
    "import os\n",
    "import pandas as pd\n",
    "\n",
    "\n",
    "sys.path.append(os.path.abspath('../source'))\n",
    "\n",
    "from BD_connection import get_sqlalchemy_engine\n",
    "\n",
    "conexion = get_sqlalchemy_engine()\n"
   ]
  },
  {
   "cell_type": "code",
   "execution_count": 3,
   "metadata": {},
   "outputs": [
    {
     "name": "stdout",
     "output_type": "stream",
     "text": [
      "   year                              title               published_at  \\\n",
      "0  2019  62nd Annual GRAMMY Awards  (2019)  2020-05-19T05:10:28-07:00   \n",
      "1  2019  62nd Annual GRAMMY Awards  (2019)  2020-05-19T05:10:28-07:00   \n",
      "2  2019  62nd Annual GRAMMY Awards  (2019)  2020-05-19T05:10:28-07:00   \n",
      "3  2019  62nd Annual GRAMMY Awards  (2019)  2020-05-19T05:10:28-07:00   \n",
      "4  2019  62nd Annual GRAMMY Awards  (2019)  2020-05-19T05:10:28-07:00   \n",
      "\n",
      "                  updated_at            category     nominee         artist  \\\n",
      "0  2020-05-19T05:10:28-07:00  Record Of The Year     Bad Guy  Billie Eilish   \n",
      "1  2020-05-19T05:10:28-07:00  Record Of The Year     Hey, Ma       Bon Iver   \n",
      "2  2020-05-19T05:10:28-07:00  Record Of The Year     7 rings  Ariana Grande   \n",
      "3  2020-05-19T05:10:28-07:00  Record Of The Year  Hard Place         H.E.R.   \n",
      "4  2020-05-19T05:10:28-07:00  Record Of The Year        Talk         Khalid   \n",
      "\n",
      "                                             workers  \\\n",
      "0  Finneas O'Connell, producer; Rob Kinelski & Fi...   \n",
      "1  BJ Burton, Brad Cook, Chris Messina & Justin V...   \n",
      "2  Charles Anderson, Tommy Brown, Michael Foster ...   \n",
      "3  Rodney “Darkchild” Jerkins, producer; Joseph H...   \n",
      "4  Disclosure & Denis Kosiak, producers; Ingmar C...   \n",
      "\n",
      "                                                 img  winner  \n",
      "0  https://www.grammy.com/sites/com/files/styles/...    True  \n",
      "1  https://www.grammy.com/sites/com/files/styles/...    True  \n",
      "2  https://www.grammy.com/sites/com/files/styles/...    True  \n",
      "3  https://www.grammy.com/sites/com/files/styles/...    True  \n",
      "4  https://www.grammy.com/sites/com/files/styles/...    True  \n"
     ]
    }
   ],
   "source": [
    "\n",
    "df = pd.read_csv('../data/the_grammy_awards.csv')\n",
    "print(df.head())  \n"
   ]
  },
  {
   "cell_type": "code",
   "execution_count": 4,
   "metadata": {},
   "outputs": [
    {
     "data": {
      "text/plain": [
       "4810"
      ]
     },
     "execution_count": 4,
     "metadata": {},
     "output_type": "execute_result"
    }
   ],
   "source": [
    "df.to_sql('raw_grammy', conexion, if_exists='replace', index=False)"
   ]
  },
  {
   "cell_type": "code",
   "execution_count": 5,
   "metadata": {},
   "outputs": [
    {
     "name": "stdout",
     "output_type": "stream",
     "text": [
      "   year                              title               published_at  \\\n",
      "0  2019  62nd Annual GRAMMY Awards  (2019)  2020-05-19T05:10:28-07:00   \n",
      "1  2019  62nd Annual GRAMMY Awards  (2019)  2020-05-19T05:10:28-07:00   \n",
      "2  2019  62nd Annual GRAMMY Awards  (2019)  2020-05-19T05:10:28-07:00   \n",
      "3  2019  62nd Annual GRAMMY Awards  (2019)  2020-05-19T05:10:28-07:00   \n",
      "4  2019  62nd Annual GRAMMY Awards  (2019)  2020-05-19T05:10:28-07:00   \n",
      "\n",
      "                  updated_at            category     nominee         artist  \\\n",
      "0  2020-05-19T05:10:28-07:00  Record Of The Year     Bad Guy  Billie Eilish   \n",
      "1  2020-05-19T05:10:28-07:00  Record Of The Year     Hey, Ma       Bon Iver   \n",
      "2  2020-05-19T05:10:28-07:00  Record Of The Year     7 rings  Ariana Grande   \n",
      "3  2020-05-19T05:10:28-07:00  Record Of The Year  Hard Place         H.E.R.   \n",
      "4  2020-05-19T05:10:28-07:00  Record Of The Year        Talk         Khalid   \n",
      "\n",
      "                                             workers  \\\n",
      "0  Finneas O'Connell, producer; Rob Kinelski & Fi...   \n",
      "1  BJ Burton, Brad Cook, Chris Messina & Justin V...   \n",
      "2  Charles Anderson, Tommy Brown, Michael Foster ...   \n",
      "3  Rodney “Darkchild” Jerkins, producer; Joseph H...   \n",
      "4  Disclosure & Denis Kosiak, producers; Ingmar C...   \n",
      "\n",
      "                                                 img  winner  \n",
      "0  https://www.grammy.com/sites/com/files/styles/...       1  \n",
      "1  https://www.grammy.com/sites/com/files/styles/...       1  \n",
      "2  https://www.grammy.com/sites/com/files/styles/...       1  \n",
      "3  https://www.grammy.com/sites/com/files/styles/...       1  \n",
      "4  https://www.grammy.com/sites/com/files/styles/...       1  \n"
     ]
    }
   ],
   "source": [
    "df = pd.read_sql_query(\"SELECT * FROM raw_grammy\", conexion)\n",
    "print(df.head())"
   ]
  }
 ],
 "metadata": {
  "kernelspec": {
   "display_name": "venv",
   "language": "python",
   "name": "python3"
  },
  "language_info": {
   "codemirror_mode": {
    "name": "ipython",
    "version": 3
   },
   "file_extension": ".py",
   "mimetype": "text/x-python",
   "name": "python",
   "nbconvert_exporter": "python",
   "pygments_lexer": "ipython3",
   "version": "3.11.4"
  }
 },
 "nbformat": 4,
 "nbformat_minor": 2
}
