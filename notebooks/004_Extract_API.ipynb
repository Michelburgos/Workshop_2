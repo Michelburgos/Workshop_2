{
 "cells": [
  {
   "cell_type": "code",
   "execution_count": 3,
   "id": "131e0496",
   "metadata": {},
   "outputs": [],
   "source": [
    "import pandas as pd\n",
    "import requests\n",
    "from tqdm import tqdm\n",
    "import time\n",
    "import re\n"
   ]
  },
  {
   "cell_type": "markdown",
   "id": "ace91bfe",
   "metadata": {},
   "source": [
    "# Bueno"
   ]
  },
  {
   "cell_type": "code",
   "execution_count": null,
   "id": "bdafbdd9",
   "metadata": {},
   "outputs": [
    {
     "name": "stdout",
     "output_type": "stream",
     "text": [
      "🔄 Cargando y limpiando datos...\n",
      "✅ Total artistas únicos: 30149\n",
      "🚀 Consultando Wikidata...\n"
     ]
    },
    {
     "name": "stderr",
     "output_type": "stream",
     "text": [
      "🔎 Batches SPARQL: 30180it [29:06, 17.28it/s]                            \n"
     ]
    },
    {
     "name": "stdout",
     "output_type": "stream",
     "text": [
      "✅ Archivo 'wikidata_artists.csv' creado correctamente.\n"
     ]
    }
   ],
   "source": [
    "\n",
    "# =======================\n",
    "# 1. CARGAR Y LIMPIAR CSV\n",
    "# =======================\n",
    "print(\"🔄 Cargando y limpiando datos...\")\n",
    "\n",
    "df = pd.read_csv(\"../data/artists.csv\", header=None, names=[\"raw\"])\n",
    "\n",
    "def separar_y_limpiar(nombre):\n",
    "    if pd.isna(nombre):\n",
    "        return []\n",
    "    separadores = [\";\", \",\", \"&\", \"Featuring\", \" feat.\", \"Feat.\", \" ft.\", \"/\", \" x \"]\n",
    "    for sep in separadores:\n",
    "        nombre = nombre.replace(sep, \"|\")\n",
    "    partes = nombre.split(\"|\")\n",
    "    return [re.sub(r'[^\\w\\s\\-]', '', p.strip().strip('\"').strip(\"'\")) for p in partes if p.strip()]\n",
    "\n",
    "todos_los_artistas = []\n",
    "for nombre in df[\"raw\"]:\n",
    "    todos_los_artistas.extend(separar_y_limpiar(nombre))\n",
    "\n",
    "artistas_unicos = sorted(set([a for a in todos_los_artistas if a]))\n",
    "print(f\"✅ Total artistas únicos: {len(artistas_unicos)}\")\n",
    "\n",
    "# =======================\n",
    "# 2. CONSULTA SPARQL CON TODOS LOS CAMPOS\n",
    "# =======================\n",
    "WIKIDATA_ENDPOINT = \"https://query.wikidata.org/sparql\"\n",
    "\n",
    "def construir_query_sparql(artistas):\n",
    "    values = \"\\n\".join([f'\"{nombre}\"@en' for nombre in artistas])\n",
    "    query = f\"\"\"\n",
    "    SELECT ?artistLabel ?birth ?death ?countryLabel ?typeLabel ?genreLabel ?awardLabel ?genderLabel WHERE {{\n",
    "      VALUES ?name {{ {values} }}\n",
    "      ?artist rdfs:label ?name.\n",
    "      ?artist wdt:P166 ?award.\n",
    "      ?award rdfs:label ?awardLabel.\n",
    "      OPTIONAL {{ ?artist wdt:P27 ?country. }}\n",
    "      OPTIONAL {{ ?artist wdt:P31 ?type. }}\n",
    "      OPTIONAL {{ ?artist wdt:P136 ?genre. }}\n",
    "      OPTIONAL {{ ?artist wdt:P569 ?birth. }}\n",
    "      OPTIONAL {{ ?artist wdt:P570 ?death. }}\n",
    "      OPTIONAL {{ ?artist wdt:P21 ?gender. }}  # Género con P21\n",
    "      SERVICE wikibase:label {{ bd:serviceParam wikibase:language \"[AUTO_LANGUAGE],en\". }}\n",
    "    }}\n",
    "    \"\"\"\n",
    "    return query\n",
    "\n",
    "def obtener_datos_wikidata(artistas_batch):\n",
    "    query = construir_query_sparql(artistas_batch)\n",
    "    headers = {\"Accept\": \"application/sparql-results+json\"}\n",
    "    try:\n",
    "        response = requests.post(WIKIDATA_ENDPOINT, data={\"query\": query}, headers=headers)\n",
    "        response.raise_for_status()\n",
    "        return response.json()\n",
    "    except requests.exceptions.RequestException as e:\n",
    "        print(\"❌ Error en SPARQL:\", e)\n",
    "        return None\n",
    "\n",
    "# =======================\n",
    "# 3. CONSULTA ROBUSTA\n",
    "# =======================\n",
    "print(\"🚀 Consultando Wikidata...\")\n",
    "\n",
    "MAX_QUERY_SIZE = 60000\n",
    "results = []\n",
    "i = 0\n",
    "\n",
    "with tqdm(total=len(artistas_unicos), desc=\"🔎 Batches SPARQL\") as pbar:\n",
    "    while i < len(artistas_unicos):\n",
    "        batch_size = 60\n",
    "        batch_success = False\n",
    "\n",
    "        while batch_size > 0 and not batch_success:\n",
    "            batch = artistas_unicos[i:i+batch_size]\n",
    "            query = construir_query_sparql(batch)\n",
    "            if len(query.encode(\"utf-8\")) > MAX_QUERY_SIZE:\n",
    "                batch_size -= 5\n",
    "                continue\n",
    "\n",
    "            data = obtener_datos_wikidata(batch)\n",
    "            if data:\n",
    "                for row in data[\"results\"][\"bindings\"]:\n",
    "                    results.append({\n",
    "                        \"artist\": row.get(\"artistLabel\", {}).get(\"value\", \"\"),\n",
    "                        \"birth\": row.get(\"birth\", {}).get(\"value\", \"\"),\n",
    "                        \"death\": row.get(\"death\", {}).get(\"value\", \"\"),\n",
    "                        \"country\": row.get(\"countryLabel\", {}).get(\"value\", \"\"),\n",
    "                        \"type\": row.get(\"typeLabel\", {}).get(\"value\", \"\"),\n",
    "                        \"genre\": row.get(\"genreLabel\", {}).get(\"value\", \"\"),\n",
    "                        \"award\": row.get(\"awardLabel\", {}).get(\"value\", \"No awards\"),\n",
    "                        \"gender\": row.get(\"genderLabel\", {}).get(\"value\", \"Unknown\")  # Valor por defecto si no hay género\n",
    "                    })\n",
    "                batch_success = True\n",
    "                i += batch_size\n",
    "                pbar.update(batch_size)\n",
    "                time.sleep(1.1)\n",
    "            else:\n",
    "                batch_size = batch_size // 2\n",
    "\n",
    "        if not batch_success:\n",
    "            print(f\"⚠️  Saltando artista en índice {i}: {artistas_unicos[i]}\")\n",
    "            i += 1\n",
    "            pbar.update(1)\n",
    "\n",
    "# =======================\n",
    "# 4. GUARDAR RESULTADOS\n",
    "# =======================\n",
    "columnas_ordenadas = [\"artist\", \"country\", \"type\", \"genre\", \"award\", \"birth\", \"death\", \"gender\"]\n",
    "df_result = pd.DataFrame(results, columns=columnas_ordenadas)\n",
    "\n"
   ]
  },
  {
   "cell_type": "code",
   "execution_count": 5,
   "id": "c37231c7",
   "metadata": {},
   "outputs": [
    {
     "name": "stdout",
     "output_type": "stream",
     "text": [
      "✅ Archivo 'wikidata_artists_part1.csv' creado correctamente.\n",
      "✅ Archivo 'wikidata_artists_part2.csv' creado correctamente.\n"
     ]
    }
   ],
   "source": [
    "# Calcular el punto de división (por la mitad en este caso)\n",
    "halfway = len(df_result) // 2\n",
    "\n",
    "# Guardar la primera parte del DataFrame\n",
    "df_result.iloc[:halfway].to_csv(\"../data/wikidata_artists_part1.csv\", index=False)\n",
    "print(\"✅ Archivo 'wikidata_artists_part1.csv' creado correctamente.\")\n",
    "\n",
    "# Guardar la segunda parte del DataFrame\n",
    "df_result.iloc[halfway:].to_csv(\"../data/wikidata_artists_part2.csv\", index=False)\n",
    "print(\"✅ Archivo 'wikidata_artists_part2.csv' creado correctamente.\")"
   ]
  }
 ],
 "metadata": {
  "kernelspec": {
   "display_name": "venv",
   "language": "python",
   "name": "python3"
  },
  "language_info": {
   "codemirror_mode": {
    "name": "ipython",
    "version": 3
   },
   "file_extension": ".py",
   "mimetype": "text/x-python",
   "name": "python",
   "nbconvert_exporter": "python",
   "pygments_lexer": "ipython3",
   "version": "3.11.4"
  }
 },
 "nbformat": 4,
 "nbformat_minor": 5
}
