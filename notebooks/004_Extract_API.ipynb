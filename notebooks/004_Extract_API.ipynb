{
 "cells": [
  {
   "cell_type": "code",
   "execution_count": 2,
   "id": "131e0496",
   "metadata": {},
   "outputs": [],
   "source": [
    "import pandas as pd\n",
    "import matplotlib.pyplot as plt\n",
    "import seaborn as sns\n",
    "import re\n",
    "import requests\n",
    "import time"
   ]
  },
  {
   "cell_type": "code",
   "execution_count": 4,
   "id": "fde48609",
   "metadata": {},
   "outputs": [
    {
     "name": "stdout",
     "output_type": "stream",
     "text": [
      "🎵 Total de artistas únicos: 2967\n"
     ]
    }
   ],
   "source": [
    "\n",
    "# Leer el archivo de Spotify (ajusta el path si es necesario)\n",
    "df_artists = pd.read_csv(\"../data/artists.csv\")\n",
    "\n",
    "artistas_raw = df_artists['artist'].dropna().unique()\n",
    "artistas = set()\n",
    "\n",
    "# Función para separar artistas con múltiples delimitadores\n",
    "def split_artists(texto):\n",
    "    # Reemplazar \"Featuring\" por un delimitador temporal (e.g., \";\") y limpiar\n",
    "    texto = re.sub(r'\\s*Featuring\\s*', ',', texto, flags=re.IGNORECASE)\n",
    "    # Separar por \";\" y \"&\"\n",
    "    partes = re.split(r'[,&]', texto)\n",
    "    # Limpiar cada artista y devolver lista\n",
    "    return [artista.strip() for artista in partes if artista.strip()]\n",
    "\n",
    "# Procesar cada grupo de artistas\n",
    "for grupo in artistas_raw:\n",
    "    for artista in split_artists(grupo):\n",
    "        artistas.add(artista)\n",
    "\n",
    "print(f\"🎵 Total de artistas únicos: {len(artistas)}\")"
   ]
  },
  {
   "cell_type": "code",
   "execution_count": 5,
   "id": "c08040c2",
   "metadata": {},
   "outputs": [
    {
     "name": "stderr",
     "output_type": "stream",
     "text": [
      "Procesando artistas:   0%|          | 0/2110 [00:00<?, ?it/s]"
     ]
    },
    {
     "name": "stdout",
     "output_type": "stream",
     "text": [
      "Excepción para artist: Expecting value: line 1 column 1 (char 0). Intento 1/3\n",
      "Excepción para artist: Expecting value: line 1 column 1 (char 0). Intento 2/3\n",
      "Excepción para artist: Expecting value: line 1 column 1 (char 0). Intento 3/3\n"
     ]
    },
    {
     "name": "stderr",
     "output_type": "stream",
     "text": [
      "Procesando artistas:   0%|          | 1/2110 [00:15<8:59:41, 15.35s/it]"
     ]
    },
    {
     "name": "stdout",
     "output_type": "stream",
     "text": [
      "Excepción para Billie Eilish: Expecting value: line 1 column 1 (char 0). Intento 1/3\n",
      "Excepción para Billie Eilish: Expecting value: line 1 column 1 (char 0). Intento 2/3\n",
      "Excepción para Billie Eilish: Expecting value: line 1 column 1 (char 0). Intento 3/3\n"
     ]
    },
    {
     "name": "stderr",
     "output_type": "stream",
     "text": [
      "Procesando artistas:   0%|          | 2/2110 [00:19<5:08:02,  8.77s/it]"
     ]
    },
    {
     "name": "stdout",
     "output_type": "stream",
     "text": [
      "Excepción para Bon Iver: Expecting value: line 1 column 1 (char 0). Intento 1/3\n",
      "Excepción para Bon Iver: Expecting value: line 1 column 1 (char 0). Intento 2/3\n",
      "Excepción para Bon Iver: Expecting value: line 1 column 1 (char 0). Intento 3/3\n"
     ]
    },
    {
     "name": "stderr",
     "output_type": "stream",
     "text": [
      "Procesando artistas:   0%|          | 3/2110 [00:23<3:53:41,  6.65s/it]"
     ]
    },
    {
     "name": "stdout",
     "output_type": "stream",
     "text": [
      "Excepción para Ariana Grande: Expecting value: line 1 column 1 (char 0). Intento 1/3\n"
     ]
    },
    {
     "name": "stderr",
     "output_type": "stream",
     "text": [
      "Procesando artistas:   0%|          | 3/2110 [00:25<4:53:27,  8.36s/it]\n"
     ]
    },
    {
     "ename": "KeyboardInterrupt",
     "evalue": "",
     "output_type": "error",
     "traceback": [
      "\u001b[31m---------------------------------------------------------------------------\u001b[39m",
      "\u001b[31mKeyboardInterrupt\u001b[39m                         Traceback (most recent call last)",
      "\u001b[36mCell\u001b[39m\u001b[36m \u001b[39m\u001b[32mIn[5]\u001b[39m\u001b[32m, line 55\u001b[39m\n\u001b[32m     53\u001b[39m         \u001b[38;5;28;01mexcept\u001b[39;00m \u001b[38;5;167;01mException\u001b[39;00m \u001b[38;5;28;01mas\u001b[39;00m e:\n\u001b[32m     54\u001b[39m             \u001b[38;5;28mprint\u001b[39m(\u001b[33mf\u001b[39m\u001b[33m\"\u001b[39m\u001b[33mExcepción para \u001b[39m\u001b[38;5;132;01m{\u001b[39;00martist\u001b[38;5;132;01m}\u001b[39;00m\u001b[33m: \u001b[39m\u001b[38;5;132;01m{\u001b[39;00me\u001b[38;5;132;01m}\u001b[39;00m\u001b[33m. Intento \u001b[39m\u001b[38;5;132;01m{\u001b[39;00mintento\u001b[38;5;250m \u001b[39m+\u001b[38;5;250m \u001b[39m\u001b[32m1\u001b[39m\u001b[38;5;132;01m}\u001b[39;00m\u001b[33m/3\u001b[39m\u001b[33m\"\u001b[39m)\n\u001b[32m---> \u001b[39m\u001b[32m55\u001b[39m         time.sleep(\u001b[32m1\u001b[39m)\n\u001b[32m     57\u001b[39m \u001b[38;5;66;03m# Convertir a DataFrame y guardar\u001b[39;00m\n\u001b[32m     58\u001b[39m df_results = pd.DataFrame(results)\n",
      "\u001b[31mKeyboardInterrupt\u001b[39m: "
     ]
    }
   ],
   "source": [
    "import pandas as pd\n",
    "import requests\n",
    "import time\n",
    "from tqdm import tqdm\n",
    "\n",
    "# Cargar archivo original\n",
    "df = pd.read_csv(\"../data/artists.csv\", header=None, names=[\"artist_raw\"])\n",
    "\n",
    "# Limpieza básica\n",
    "def limpiar_nombre(artista):\n",
    "    if pd.isna(artista):\n",
    "        return None\n",
    "    artista = artista.replace('\"', '')\n",
    "    artista = artista.split(\" Featuring \")[0]\n",
    "    artista = artista.split(\" & \")[0]\n",
    "    artista = artista.split(\",\")[0]\n",
    "    return artista.strip()\n",
    "\n",
    "df[\"artist\"] = df[\"artist_raw\"].apply(limpiar_nombre)\n",
    "\n",
    "# Eliminar duplicados y valores vacíos\n",
    "unique_artists = df[\"artist\"].dropna().drop_duplicates().reset_index(drop=True)\n",
    "\n",
    "# API de TheAudioDB (requiere APIKEY)\n",
    "API_KEY = \"2\"  # Puedes usar '1' para acceso limitado sin registro\n",
    "BASE_URL = f\"https://www.theaudiodb.com/api/v1/json/{API_KEY}/search.php?s=\"\n",
    "\n",
    "# Lista para almacenar resultados\n",
    "results = []\n",
    "\n",
    "# Iterar sobre los artistas\n",
    "for artist in tqdm(unique_artists, desc=\"Procesando artistas\"):\n",
    "    url = BASE_URL + requests.utils.quote(artist)\n",
    "    for intento in range(3):\n",
    "        try:\n",
    "            response = requests.get(url, timeout=10)\n",
    "            data = response.json()\n",
    "            if data and data.get(\"artists\"):\n",
    "                artist_data = data[\"artists\"][0]\n",
    "                results.append({\n",
    "                    \"artist_name\": artist,\n",
    "                    \"idArtist\": artist_data.get(\"idArtist\"),\n",
    "                    \"strCountry\": artist_data.get(\"strCountry\"),\n",
    "                    \"intFormedYear\": artist_data.get(\"intFormedYear\"),\n",
    "                    \"intDiedYear\": artist_data.get(\"intDiedYear\"),\n",
    "                    \"strArtistType\": artist_data.get(\"strArtistType\"),\n",
    "                    \"strGender\": artist_data.get(\"strGender\"),\n",
    "                    \"strBiographyEN\": artist_data.get(\"strBiographyEN\")\n",
    "                })\n",
    "                break\n",
    "            else:\n",
    "                print(f\"⚠️ Respuesta vacía para {artist}. Intento {intento + 1}/3\")\n",
    "        except Exception as e:\n",
    "            print(f\"Excepción para {artist}: {e}. Intento {intento + 1}/3\")\n",
    "        time.sleep(1)\n",
    "\n",
    "# Convertir a DataFrame y guardar\n",
    "df_results = pd.DataFrame(results)\n",
    "df_results.to_csv(\"../data/api_data.csv\", index=False)\n",
    "print(\"✅ Extracción finalizada. Datos guardados en '../data/api_data.csv'\")\n"
   ]
  },
  {
   "cell_type": "code",
   "execution_count": null,
   "id": "d2a93dad",
   "metadata": {},
   "outputs": [],
   "source": [
    "import pandas as pd\n",
    "import requests\n",
    "from SPARQLWrapper import SPARQLWrapper, JSON\n",
    "from tqdm import tqdm\n",
    "import time\n",
    "\n",
    "# Limpieza básica del nombre del artista\n",
    "def limpiar_nombre(artista):\n",
    "    if pd.isna(artista):\n",
    "        return None\n",
    "    artista = artista.replace('\"', '')\n",
    "    artista = artista.split(\" Featuring \")[0]\n",
    "    artista = artista.split(\" & \")[0]\n",
    "    artista = artista.split(\",\")[0]\n",
    "    return artista.strip()\n",
    "\n",
    "# Función para obtener el MBID desde MusicBrainz\n",
    "def obtener_mbid(nombre):\n",
    "    url = f\"https://musicbrainz.org/ws/2/artist/?query=artist:{nombre}&fmt=json\"\n",
    "    try:\n",
    "        r = requests.get(url, headers={\"User-Agent\": \"ArtistETL/1.0 (example@email.com)\"})\n",
    "        data = r.json()\n",
    "        for artista in data.get(\"artists\", []):\n",
    "            if artista[\"name\"].lower() == nombre.lower():\n",
    "                return artista[\"id\"]\n",
    "    except Exception as e:\n",
    "        print(f\"Error MBID para {nombre}: {e}\")\n",
    "    return None\n",
    "\n",
    "# Función para consultar Wikidata con el MBID\n",
    "def consultar_wikidata(mbid):\n",
    "    sparql = SPARQLWrapper(\"https://query.wikidata.org/sparql\")\n",
    "    query = f\"\"\"\n",
    "    SELECT ?itemLabel ?countryLabel ?genderLabel ?typeLabel ?start ?end WHERE {{\n",
    "      ?item wdt:P434 \"{mbid}\".\n",
    "      OPTIONAL {{ ?item wdt:P27 ?country. }}\n",
    "      OPTIONAL {{ ?item wdt:P21 ?gender. }}\n",
    "      OPTIONAL {{ ?item wdt:P31 ?type. }}\n",
    "      OPTIONAL {{ ?item wdt:P2031 ?start. }}\n",
    "      OPTIONAL {{ ?item wdt:P2032 ?end. }}\n",
    "      SERVICE wikibase:label {{ bd:serviceParam wikibase:language \"[AUTO_LANGUAGE],en\". }}\n",
    "    }}\n",
    "    \"\"\"\n",
    "    sparql.setQuery(query)\n",
    "    sparql.setReturnFormat(JSON)\n",
    "    try:\n",
    "        results = sparql.query().convert()\n",
    "        bindings = results[\"results\"][\"bindings\"]\n",
    "        if bindings:\n",
    "            res = bindings[0]\n",
    "            return {\n",
    "                \"pais\": res.get(\"countryLabel\", {}).get(\"value\", None),\n",
    "                \"genero\": res.get(\"genderLabel\", {}).get(\"value\", None),\n",
    "                \"tipo\": res.get(\"typeLabel\", {}).get(\"value\", None),\n",
    "                \"activo_desde\": res.get(\"start\", {}).get(\"value\", None),\n",
    "                \"activo_hasta\": res.get(\"end\", {}).get(\"value\", None)\n",
    "            }\n",
    "    except Exception as e:\n",
    "        print(f\"Error Wikidata para {mbid}: {e}\")\n",
    "    return {}\n",
    "\n",
    "# Cargar artistas y limpiar nombres\n",
    "df = pd.read_csv(\"../data/artists.csv\", header=None, names=[\"artist_raw\"])\n",
    "df[\"artist\"] = df[\"artist_raw\"].apply(limpiar_nombre)\n",
    "unique_artists = df[\"artist\"].dropna().drop_duplicates().reset_index(drop=True)\n",
    "\n",
    "# Procesar artistas\n",
    "resultados = []\n",
    "for nombre in tqdm(unique_artists, desc=\"Procesando artistas\"):\n",
    "    mbid = obtener_mbid(nombre)\n",
    "    if mbid:\n",
    "        info = consultar_wikidata(mbid)\n",
    "        info[\"nombre\"] = nombre\n",
    "        info[\"mbid\"] = mbid\n",
    "        resultados.append(info)\n",
    "    time.sleep(1.1)  # Para evitar abusar del endpoint\n",
    "\n",
    "# Guardar resultados\n",
    "df_resultados = pd.DataFrame(resultados)\n",
    "df_resultados.to_csv(\"artistas_info.csv\", index=False)\n",
    "print(\"✅ Datos guardados en artistas_info.csv\")\n"
   ]
  },
  {
   "cell_type": "code",
   "execution_count": 6,
   "id": "67f279d7",
   "metadata": {},
   "outputs": [
    {
     "name": "stdout",
     "output_type": "stream",
     "text": [
      "🔍 Buscando MBIDs...\n"
     ]
    },
    {
     "name": "stderr",
     "output_type": "stream",
     "text": [
      "100%|██████████| 2110/2110 [01:52<00:00, 18.74it/s]\n"
     ]
    },
    {
     "name": "stdout",
     "output_type": "stream",
     "text": [
      "🌐 Consultando Wikidata en bloques...\n"
     ]
    },
    {
     "name": "stderr",
     "output_type": "stream",
     "text": [
      "Batches SPARQL:  75%|███████▌  | 3/4 [00:05<00:01,  1.86s/it]"
     ]
    },
    {
     "name": "stdout",
     "output_type": "stream",
     "text": [
      "❌ Error en SPARQL: HTTP Error 403: Forbidden\n"
     ]
    },
    {
     "name": "stderr",
     "output_type": "stream",
     "text": [
      "Batches SPARQL: 100%|██████████| 4/4 [00:07<00:00,  1.80s/it]"
     ]
    },
    {
     "name": "stdout",
     "output_type": "stream",
     "text": [
      "✅ Archivo 'wikidata_artists.csv' creado correctamente.\n"
     ]
    },
    {
     "name": "stderr",
     "output_type": "stream",
     "text": [
      "\n"
     ]
    }
   ],
   "source": [
    "import pandas as pd\n",
    "import requests\n",
    "from SPARQLWrapper import SPARQLWrapper, JSON\n",
    "from tqdm import tqdm\n",
    "from concurrent.futures import ThreadPoolExecutor, as_completed\n",
    "import time\n",
    "import math\n",
    "\n",
    "HEADERS = {\"User-Agent\": \"ArtistETL/1.0 (your_email@example.com)\"}\n",
    "SPARQL_ENDPOINT = \"https://query.wikidata.org/sparql\"\n",
    "\n",
    "# ------------------------------\n",
    "# Limpieza de nombre\n",
    "def limpiar_nombre(artista):\n",
    "    if pd.isna(artista): return None\n",
    "    artista = artista.replace('\"', '')\n",
    "    artista = artista.split(\" Featuring \")[0]\n",
    "    artista = artista.split(\" & \")[0]\n",
    "    artista = artista.split(\",\")[0]\n",
    "    return artista.strip()\n",
    "\n",
    "# ------------------------------\n",
    "# Obtener MBID desde MusicBrainz\n",
    "def obtener_mbid(nombre):\n",
    "    url = f\"https://musicbrainz.org/ws/2/artist/?query=artist:{nombre}&fmt=json\"\n",
    "    try:\n",
    "        r = requests.get(url, headers=HEADERS, timeout=10)\n",
    "        data = r.json()\n",
    "        for artista in data.get(\"artists\", []):\n",
    "            if artista[\"name\"].lower() == nombre.lower():\n",
    "                return (nombre, artista[\"id\"])\n",
    "    except:\n",
    "        return (nombre, None)\n",
    "    return (nombre, None)\n",
    "\n",
    "# ------------------------------\n",
    "# Crear bloques de MBIDs\n",
    "def chunk_list(lst, size):\n",
    "    for i in range(0, len(lst), size):\n",
    "        yield lst[i:i + size]\n",
    "\n",
    "# ------------------------------\n",
    "# Consultar Wikidata por lote\n",
    "def consultar_lote_wikidata(mbids):\n",
    "    filtro = \" \".join([f'\"{mbid}\"' for mbid in mbids])\n",
    "    query = f\"\"\"\n",
    "    SELECT ?mbid ?itemLabel ?countryLabel ?genderLabel ?typeLabel ?start ?end WHERE {{\n",
    "      VALUES ?mbid_str {{ {filtro} }}\n",
    "      ?item wdt:P434 ?mbid_str.\n",
    "      BIND(?mbid_str AS ?mbid)\n",
    "      OPTIONAL {{ ?item wdt:P27 ?country. }}\n",
    "      OPTIONAL {{ ?item wdt:P21 ?gender. }}\n",
    "      OPTIONAL {{ ?item wdt:P31 ?type. }}\n",
    "      OPTIONAL {{ ?item wdt:P2031 ?start. }}\n",
    "      OPTIONAL {{ ?item wdt:P2032 ?end. }}\n",
    "      SERVICE wikibase:label {{ bd:serviceParam wikibase:language \"[AUTO_LANGUAGE],en\". }}\n",
    "    }}\n",
    "    \"\"\"\n",
    "    sparql = SPARQLWrapper(SPARQL_ENDPOINT)\n",
    "    sparql.setQuery(query)\n",
    "    sparql.setReturnFormat(JSON)\n",
    "    try:\n",
    "        results = sparql.query().convert()\n",
    "        return results[\"results\"][\"bindings\"]\n",
    "    except Exception as e:\n",
    "        print(\"❌ Error en SPARQL:\", e)\n",
    "        return []\n",
    "\n",
    "# ------------------------------\n",
    "# Paso 1: Cargar artistas\n",
    "df = pd.read_csv(\"../data/artists.csv\", header=None, names=[\"artist_raw\"])\n",
    "df[\"artist\"] = df[\"artist_raw\"].apply(limpiar_nombre)\n",
    "unique_artists = df[\"artist\"].dropna().drop_duplicates().reset_index(drop=True)\n",
    "\n",
    "# Paso 2: Obtener MBIDs en paralelo\n",
    "print(\"🔍 Buscando MBIDs...\")\n",
    "mbid_map = {}\n",
    "with ThreadPoolExecutor(max_workers=10) as executor:\n",
    "    futures = [executor.submit(obtener_mbid, name) for name in unique_artists]\n",
    "    for f in tqdm(as_completed(futures), total=len(futures)):\n",
    "        name, mbid = f.result()\n",
    "        if mbid:\n",
    "            mbid_map[name] = mbid\n",
    "\n",
    "# Paso 3: Consultar Wikidata por bloques\n",
    "print(\"🌐 Consultando Wikidata en bloques...\")\n",
    "todos_resultados = []\n",
    "\n",
    "batch_size = 40  # Puedes ajustar a 50 o más si quieres\n",
    "bloques = list(chunk_list(list(mbid_map.values()), batch_size))\n",
    "\n",
    "for bloque in tqdm(bloques, desc=\"Batches SPARQL\"):\n",
    "    resultados = consultar_lote_wikidata(bloque)\n",
    "    for r in resultados:\n",
    "        todos_resultados.append({\n",
    "            \"mbid\": r.get(\"mbid\", {}).get(\"value\"),\n",
    "            \"nombre\": r.get(\"itemLabel\", {}).get(\"value\"),\n",
    "            \"pais\": r.get(\"countryLabel\", {}).get(\"value\"),\n",
    "            \"genero\": r.get(\"genderLabel\", {}).get(\"value\"),\n",
    "            \"tipo\": r.get(\"typeLabel\", {}).get(\"value\"),\n",
    "            \"activo_desde\": r.get(\"start\", {}).get(\"value\"),\n",
    "            \"activo_hasta\": r.get(\"end\", {}).get(\"value\"),\n",
    "        })\n",
    "    time.sleep(1.1)  # Respetamos límites de Wikidata (1s por consulta)\n",
    "\n",
    "# Paso 4: Guardar resultados\n",
    "pd.DataFrame(todos_resultados).to_csv(\"wikidata_artists.csv\", index=False)\n",
    "print(\"✅ Archivo 'wikidata_artists.csv' creado correctamente.\")\n"
   ]
  },
  {
   "cell_type": "code",
   "execution_count": 13,
   "id": "841f3506",
   "metadata": {},
   "outputs": [
    {
     "name": "stdout",
     "output_type": "stream",
     "text": [
      "🔄 Cargando y limpiando datos...\n",
      "✅ Total artistas únicos: 30172\n",
      "🚀 Consultando Wikidata...\n"
     ]
    },
    {
     "name": "stderr",
     "output_type": "stream",
     "text": [
      "🔎 Batches SPARQL:   6%|▌         | 35/604 [01:03<45:33,  4.80s/it]"
     ]
    },
    {
     "name": "stdout",
     "output_type": "stream",
     "text": [
      "❌ Error en SPARQL: 400 Client Error: Bad Request for url: https://query.wikidata.org/sparql?query=%0A++++SELECT+%3FartistLabel+%3Fbirth+%3Fdeath+%3FcountryLabel+%3FtypeLabel+%3FgenreLabel+WHERE+%7B%0A++++++VALUES+%3FartistLabel+%7B+%22Anthony+Rother%22%0A%22Anthony+Russo%22%0A%22Anthony+Santos%22%0A%22Anthony+Shakir%22%0A%22Anthony+Weeden%22%0A%22Anthony+Wong%22%0A%22Anthrax%22%0A%22Anthropological%22%0A%22Anti%22%0A%22Antibalas%22%0A%22Antichrist+Siege+Machine%22%0A%22Antidoping%22%0A%22Antifuchs%22%0A%22Antigama%22%0A%22Antillas%22%0A%22Antinomy%22%0A%22Anton+Ishutin%22%0A%22Anton+Mittermayr%22%0A%22Anton+Powers%22%0A%22Anton+Steck%22%0A%22Antonello+Leofreddi%22%0A%22Antonia+Bennett%22%0A%22Antonia+Fahberg%22%0A%22Antonino+Votto%22%0A%22Antonio+Agri%22%0A%22Antonio+Biribiesca%22%0A%22Antonio+Bribiesca%22%0A%22Antonio+Caldara%22%0A%22Antonio+Carlos%22%0A%22Antonio+Carmona%22%0A%22Antonio+Cartagena%22%0A%22Antonio+Cirilo%22%0A%22Antonio+Garcia+Isaac%22%0A%22Antonio+Jes%C3%BAs+Asi%C3%A1in+Sanz%22%0A%22Antonio+Jos%C3%A9%22%0A%22Antonio+Marcen%C3%B2%22%0A%22Antonio+Orozco%22%0A%22Antonio+Pappano%22%0A%22Antonio+Rayo+%22Rayito%22%0A%22Antonio+Sol%22%0A%22Antonio+Tarrag%C3%B3+Ros%22%0A%22Antonio+Vega%22%0A%22Antonio+Vivaldi%22%0A%22Antonio+y+Joel+Con+Labranza%22%0A%22Antonis+Kalogiannis%22%0A%22Antony%22%0A%22Antony+Genn%22%0A%22Anton%C3%ADn+Dvo%C5%99%C3%A1k%22%0A%22Antra+Mitra%22%0A%22Antti+L.j.+P%C3%A4%C3%A4kk%C3%B6nen%22+%7D%0A%0A++++++%3Fartist+rdfs%3Alabel+%3FartistLabel.%0A++++++FILTER%28LANG%28%3FartistLabel%29+%3D+%22en%22%29%0A%0A++++++OPTIONAL+%7B+%3Fartist+wdt%3AP27+%3Fcountry.+%7D%0A++++++OPTIONAL+%7B+%3Fartist+wdt%3AP31+%3Ftype.+%7D%0A++++++OPTIONAL+%7B+%3Fartist+wdt%3AP136+%3Fgenre.+%7D%0A++++++OPTIONAL+%7B+%3Fartist+wdt%3AP569+%3Fbirth.+%7D%0A++++++OPTIONAL+%7B+%3Fartist+wdt%3AP570+%3Fdeath.+%7D%0A%0A++++++SERVICE+wikibase%3Alabel+%7B+bd%3AserviceParam+wikibase%3Alanguage+%22en%22.+%7D%0A++++%7D%0A++++\n"
     ]
    },
    {
     "name": "stderr",
     "output_type": "stream",
     "text": [
      "🔎 Batches SPARQL:  11%|█▏        | 68/604 [01:52<13:34,  1.52s/it]"
     ]
    },
    {
     "name": "stdout",
     "output_type": "stream",
     "text": [
      "❌ Error en SPARQL: 400 Client Error: Bad Request for url: https://query.wikidata.org/sparql?query=%0A++++SELECT+%3FartistLabel+%3Fbirth+%3Fdeath+%3FcountryLabel+%3FtypeLabel+%3FgenreLabel+WHERE+%7B%0A++++++VALUES+%3FartistLabel+%7B+%22Blue+States%22%0A%22Blue+Swede%22%0A%22Blue+%C3%96yster+Cult%22%0A%22Blueboy%22%0A%22Blueridge+Mountain+Bluegrass+Band%22%0A%22Blues+Delight%22%0A%22Blues+Saraceno%22%0A%22BluntOne%22%0A%22Blunts%22%0A%22Blur%22%0A%22Blurstem%22%0A%22Blush%22%0A%22Bluszcz%22%0A%22Blutengel%22%0A%22Blvk+Sheep%22%0A%22Blxst%22%0A%22Bl%C3%A5+T%C3%A5get%22%0A%22Bl%C3%BCmchen%22%0A%22Bo+Bruce%22%0A%22Bo+Diddley%22%0A%22Bo+Kaspers+Orkester%22%0A%22Bo+Sundstr%C3%B6m%22%0A%22Boards+of+Canada%22%0A%22Boaz+Daniel%22%0A%22Boaz+van+de+Beatz%22%0A%22Bob%22%0A%22Bob+Dylan%22%0A%22Bob+Gunton%22%0A%22Bob+Luman%22%0A%22Bob+Marley%22%0A%22Bob+Moses%22%0A%22Bob+Mould%22%0A%22Bob+Saget%22%0A%22Bob+Seger%22%0A%22Bob+Sinclar%22%0A%22Bob+Smith%22%0A%22Bob+Stevens%22%0A%22Bob+Weir%22%0A%22Bobbi+White%22%0A%22Bobby+%22Blue%22+Bland%22%0A%22Bobby+6ix%22%0A%22Bobby+Brown%22%0A%22Bobby+Chen%22%0A%22Bobby+Cruz%22%0A%22Bobby+Darin%22%0A%22Bobby+Day%22%0A%22Bobby+Driscoll%22%0A%22Bobby+Goldsboro%22%0A%22Bobby+Hicks%22%0A%22Bobby+Osborne%22+%7D%0A%0A++++++%3Fartist+rdfs%3Alabel+%3FartistLabel.%0A++++++FILTER%28LANG%28%3FartistLabel%29+%3D+%22en%22%29%0A%0A++++++OPTIONAL+%7B+%3Fartist+wdt%3AP27+%3Fcountry.+%7D%0A++++++OPTIONAL+%7B+%3Fartist+wdt%3AP31+%3Ftype.+%7D%0A++++++OPTIONAL+%7B+%3Fartist+wdt%3AP136+%3Fgenre.+%7D%0A++++++OPTIONAL+%7B+%3Fartist+wdt%3AP569+%3Fbirth.+%7D%0A++++++OPTIONAL+%7B+%3Fartist+wdt%3AP570+%3Fdeath.+%7D%0A%0A++++++SERVICE+wikibase%3Alabel+%7B+bd%3AserviceParam+wikibase%3Alanguage+%22en%22.+%7D%0A++++%7D%0A++++\n"
     ]
    },
    {
     "name": "stderr",
     "output_type": "stream",
     "text": [
      "🔎 Batches SPARQL:  15%|█▍        | 88/604 [02:21<12:36,  1.47s/it]"
     ]
    },
    {
     "name": "stdout",
     "output_type": "stream",
     "text": [
      "❌ Error en SPARQL: 400 Client Error: Bad Request for url: https://query.wikidata.org/sparql?query=%0A++++SELECT+%3FartistLabel+%3Fbirth+%3Fdeath+%3FcountryLabel+%3FtypeLabel+%3FgenreLabel+WHERE+%7B%0A++++++VALUES+%3FartistLabel+%7B+%22Cassper+Nyovest%22%0A%22Cast+-+Cenerentola%22%0A%22Cast+-+Frozen%22%0A%22Cast+-+Olaf%27s+Frozen+Adventure%22%0A%22Cast+-+Olaf%27s+Frozen+Avontuur%22%0A%22Cast+-+Sofia+the+First%22%0A%22Cast+-+Vampirina%22%0A%22Cast+Of+%22The+Phantom+Of+The+Opera%22+Motion+Picture%22%0A%22Cast+of+Frozen+2%22%0A%22Cast+of+Frozen+Fever%22%0A%22Cast+of+Sleeping+Beauty%22%0A%22Castello+Branco%22%0A%22Caster%22%0A%22Casting+Crowns%22%0A%22Castion%22%0A%22Casuarina%22%0A%22Cat+Dealers%22%0A%22Cat+Knight%22%0A%22Cat+Power%22%0A%22Cat+Stevens%22%0A%22Catas%22%0A%22Catch+22%22%0A%22Catch+Side%22%0A%22Catching+Cairo%22%0A%22Catching+Flies%22%0A%22Cate+Downey%22%0A%22Catedral%22%0A%22Caterina+Barontini%22%0A%22Cathedral+Bells%22%0A%22Catherine+Dunn%22%0A%22Catherine+Feeny%22%0A%22Catherine+Larsen-Maguire%22%0A%22Catherine+Marie+Charlton%22%0A%22Catherine+Walker%22%0A%22Catherine+Zeta-Jones%22%0A%22Cathrine+Iversen%22%0A%22Cathrine+Lassen%22%0A%22Cathy+Boyd%22%0A%22Cathy+Burton%22%0A%22Catie+Turner%22%0A%22Catnapp%22%0A%22Catrin+Finch%22%0A%22Cats%22+1983+Broadway+Cast%22%0A%22Catscan%22%0A%22Cattle+Decapitation%22%0A%22Catuaba+Com+Amendoim%22%0A%22Catupecu+Machu%22%0A%22Catz+%27n+Dogz%22%0A%22Cauan%22%0A%22Cause%22+%7D%0A%0A++++++%3Fartist+rdfs%3Alabel+%3FartistLabel.%0A++++++FILTER%28LANG%28%3FartistLabel%29+%3D+%22en%22%29%0A%0A++++++OPTIONAL+%7B+%3Fartist+wdt%3AP27+%3Fcountry.+%7D%0A++++++OPTIONAL+%7B+%3Fartist+wdt%3AP31+%3Ftype.+%7D%0A++++++OPTIONAL+%7B+%3Fartist+wdt%3AP136+%3Fgenre.+%7D%0A++++++OPTIONAL+%7B+%3Fartist+wdt%3AP569+%3Fbirth.+%7D%0A++++++OPTIONAL+%7B+%3Fartist+wdt%3AP570+%3Fdeath.+%7D%0A%0A++++++SERVICE+wikibase%3Alabel+%7B+bd%3AserviceParam+wikibase%3Alanguage+%22en%22.+%7D%0A++++%7D%0A++++\n"
     ]
    },
    {
     "name": "stderr",
     "output_type": "stream",
     "text": [
      "🔎 Batches SPARQL:  16%|█▌        | 98/604 [02:36<12:20,  1.46s/it]"
     ]
    },
    {
     "name": "stdout",
     "output_type": "stream",
     "text": [
      "❌ Error en SPARQL: 400 Client Error: Bad Request for url: https://query.wikidata.org/sparql?query=%0A++++SELECT+%3FartistLabel+%3Fbirth+%3Fdeath+%3FcountryLabel+%3FtypeLabel+%3FgenreLabel+WHERE+%7B%0A++++++VALUES+%3FartistLabel+%7B+%22Christa+Ludwig%22%0A%22Christer+Sj%C3%B6gren%22%0A%22Christfried+Bickenbach%22%0A%22Christian%22%0A%22Christian+Anders%22%0A%22Christian+Badzura%22%0A%22Christian+Borle%22%0A%22Christian+Burns%22%0A%22Christian+Cambas%22%0A%22Christian+Carcamo%22%0A%22Christian+Ch%C3%A1vez%22%0A%22Christian+Craken%22%0A%22Christian+Death%22%0A%22Christian+Du+Plessis%22%0A%22Christian+Finnegan%22%0A%22Christian+French%22%0A%22Christian+J%22%0A%22Christian+Kjos%22%0A%22Christian+Kuria%22%0A%22Christian+Lais%22%0A%22Christian+Leave%22%0A%22Christian+L%C3%B6ffler%22%0A%22Christian+Nodal%22%0A%22Christian+Peterson-Bergling%22%0A%22Christian+Rivet%22%0A%22Christian+Smith%22%0A%22Christian+Thielemann%22%0A%22Christie+Trist%C3%A3o%22%0A%22Christina+Aguilera%22%0A%22Christina+Amphlett%22%0A%22Christina+Lindberg%22%0A%22Christina+Novelli%22%0A%22Christina+Perri%22%0A%22Christina+Pluhar%22%0A%22Christine+Brewer%22%0A%22Christine+D%27Clario%22%0A%22Christine+Ebersole%22%0A%22Christine+Fan%22%0A%22Christine+Leyser%22%0A%22Christoffer+Staib%22%0A%22Christoph+Eschenbach%22%0A%22Christoph+Israel%22%0A%22Christoph+Jilo%22%0A%22Christoph+Stiefel%22%0A%22Christoph+Willibald+Gluck%22%0A%22Christoph+Ziegler%22%0A%22Christoph+von+Dohn%C3%A1nyi%22%0A%22Christoph+von+Freydorf%22%0A%22Christophe%22%0A%22Christopher+%22Zondaflex%22+Tyler%22+%7D%0A%0A++++++%3Fartist+rdfs%3Alabel+%3FartistLabel.%0A++++++FILTER%28LANG%28%3FartistLabel%29+%3D+%22en%22%29%0A%0A++++++OPTIONAL+%7B+%3Fartist+wdt%3AP27+%3Fcountry.+%7D%0A++++++OPTIONAL+%7B+%3Fartist+wdt%3AP31+%3Ftype.+%7D%0A++++++OPTIONAL+%7B+%3Fartist+wdt%3AP136+%3Fgenre.+%7D%0A++++++OPTIONAL+%7B+%3Fartist+wdt%3AP569+%3Fbirth.+%7D%0A++++++OPTIONAL+%7B+%3Fartist+wdt%3AP570+%3Fdeath.+%7D%0A%0A++++++SERVICE+wikibase%3Alabel+%7B+bd%3AserviceParam+wikibase%3Alanguage+%22en%22.+%7D%0A++++%7D%0A++++\n"
     ]
    },
    {
     "name": "stderr",
     "output_type": "stream",
     "text": [
      "🔎 Batches SPARQL:  17%|█▋        | 101/604 [02:41<12:15,  1.46s/it]"
     ]
    },
    {
     "name": "stdout",
     "output_type": "stream",
     "text": [
      "❌ Error en SPARQL: 400 Client Error: Bad Request for url: https://query.wikidata.org/sparql?query=%0A++++SELECT+%3FartistLabel+%3Fbirth+%3Fdeath+%3FcountryLabel+%3FtypeLabel+%3FgenreLabel+WHERE+%7B%0A++++++VALUES+%3FartistLabel+%7B+%22Civiln%C3%AD+Obrana%22%0A%22Cixx%22%0A%22Clair+Dietrich%22%0A%22Claire+Greenaway%22%0A%22Claire+Kuo%22%0A%22Claire+Lynch%22%0A%22Claire+Moore%22%0A%22Claire+Ridgely%22%0A%22Claire+Rosinkranz%22%0A%22Claire-Marie+Le+Guay%22%0A%22Clairo%22%0A%22Clan+of+Xymox%22%0A%22Clancy+Brown%22%0A%22Clannad%22%0A%22Claptone%22%0A%22Clara+Cava%22%0A%22Clara+Johnson%22%0A%22Clara+La+San%22%0A%22Clara+Mae%22%0A%22Clara+Nunes%22%0A%22Clara+Sanabras%22%0A%22Clara+Stegall%22%0A%22Clara+Valverde%22%0A%22Clara+Yates%22%0A%22Clare+Maguire%22%0A%22Clarence+%22Frogman%22+Henry%22%0A%22Clarence+White%22%0A%22ClariS%22%0A%22Clarian%22%0A%22Claribel+Ram%C3%B3n%22%0A%22Clarice+Falc%C3%A3o%22%0A%22Clarice+Jensen%22%0A%22Clark%22%0A%22Clarx%22%0A%22Classic%22%0A%22Classic+FM+Radio+Orchestra%22%0A%22Claude+Barzotti%22%0A%22Claude+Debussy%22%0A%22Claude+Oliver+Rudolph%22%0A%22Claude+VonStroke%22%0A%22Claude+Young%22%0A%22Claude-Michel+Sch%C3%B6nberg%22%0A%22Claudia%22%0A%22Claudia+Br%C3%BCcken%22%0A%22Claudia+Jung%22%0A%22Claudia+Koh%22%0A%22Claudia+Leitte%22%0A%22Claudia+Manzo%22%0A%22Claudia+Valentina%22%0A%22Claudinho+Brasil%22+%7D%0A%0A++++++%3Fartist+rdfs%3Alabel+%3FartistLabel.%0A++++++FILTER%28LANG%28%3FartistLabel%29+%3D+%22en%22%29%0A%0A++++++OPTIONAL+%7B+%3Fartist+wdt%3AP27+%3Fcountry.+%7D%0A++++++OPTIONAL+%7B+%3Fartist+wdt%3AP31+%3Ftype.+%7D%0A++++++OPTIONAL+%7B+%3Fartist+wdt%3AP136+%3Fgenre.+%7D%0A++++++OPTIONAL+%7B+%3Fartist+wdt%3AP569+%3Fbirth.+%7D%0A++++++OPTIONAL+%7B+%3Fartist+wdt%3AP570+%3Fdeath.+%7D%0A%0A++++++SERVICE+wikibase%3Alabel+%7B+bd%3AserviceParam+wikibase%3Alanguage+%22en%22.+%7D%0A++++%7D%0A++++\n"
     ]
    },
    {
     "name": "stderr",
     "output_type": "stream",
     "text": [
      "🔎 Batches SPARQL:  17%|█▋        | 104/604 [02:45<12:18,  1.48s/it]"
     ]
    },
    {
     "name": "stdout",
     "output_type": "stream",
     "text": [
      "❌ Error en SPARQL: 400 Client Error: Bad Request for url: https://query.wikidata.org/sparql?query=%0A++++SELECT+%3FartistLabel+%3Fbirth+%3Fdeath+%3FcountryLabel+%3FtypeLabel+%3FgenreLabel+WHERE+%7B%0A++++++VALUES+%3FartistLabel+%7B+%22Coldcut%22%0A%22Colde%22%0A%22Coldplay%22%0A%22Coldworker%22%0A%22Cole+Sprouse%22%0A%22Cole+Swindell%22%0A%22Coleman+Trapp%22%0A%22Colette+Lush%22%0A%22Colic+Relief%22%0A%22Colin%22%0A%22Colin+Donnell%22%0A%22Colin+Mawby%22%0A%22Collabro%22%0A%22Collective+Soul%22%0A%22College%22%0A%22Collide%22%0A%22Collie+Buddz%22%0A%22Collin+Raye%22%0A%22Collins%22%0A%22Colo+de+Deus%22%0A%22Cologne+Chamber+Orchestra%22%0A%22Colombianas+Salsa+All+Star%22%0A%22Colombo%22%0A%22Colone%22%0A%22Colonel+Abrams%22%0A%22Colonel+Bagshot%22%0A%22Colonel+Reyel%22%0A%22Colorstone%22%0A%22Colour+Castle%22%0A%22Colours+in+Context%22%0A%22Columbine%22%0A%22Colyn%22%0A%22Coma%22%0A%22Comaduster%22%0A%22Combichrist%22%0A%22Comedian+Bob+Marley%22%0A%22Comisario+Pantera%22%0A%22Comma+Dee%22%0A%22Commix%22%0A%22Commodores%22%0A%22Common+Rider%22%0A%22Compa%22%0A%22Companhia+do+Calypso%22%0A%22Company%22%0A%22Company+-+Freaky+Friday%3A+A+New+Musical%22%0A%22Company+Ensemble%22%0A%22Company+of+SpongeBob+SquarePants%22%0A%22Company+of+The+Original+Broadway+Cast+Of+%22Bridges+Of+Madison+County%22%0A%22Compton%27s+Most+Wanted%22%0A%22Compulsive+Gamblers%22+%7D%0A%0A++++++%3Fartist+rdfs%3Alabel+%3FartistLabel.%0A++++++FILTER%28LANG%28%3FartistLabel%29+%3D+%22en%22%29%0A%0A++++++OPTIONAL+%7B+%3Fartist+wdt%3AP27+%3Fcountry.+%7D%0A++++++OPTIONAL+%7B+%3Fartist+wdt%3AP31+%3Ftype.+%7D%0A++++++OPTIONAL+%7B+%3Fartist+wdt%3AP136+%3Fgenre.+%7D%0A++++++OPTIONAL+%7B+%3Fartist+wdt%3AP569+%3Fbirth.+%7D%0A++++++OPTIONAL+%7B+%3Fartist+wdt%3AP570+%3Fdeath.+%7D%0A%0A++++++SERVICE+wikibase%3Alabel+%7B+bd%3AserviceParam+wikibase%3Alanguage+%22en%22.+%7D%0A++++%7D%0A++++\n"
     ]
    },
    {
     "name": "stderr",
     "output_type": "stream",
     "text": [
      "🔎 Batches SPARQL:  20%|█▉        | 120/604 [03:09<12:02,  1.49s/it]"
     ]
    },
    {
     "name": "stdout",
     "output_type": "stream",
     "text": [
      "❌ Error en SPARQL: 400 Client Error: Bad Request for url: https://query.wikidata.org/sparql?query=%0A++++SELECT+%3FartistLabel+%3Fbirth+%3Fdeath+%3FcountryLabel+%3FtypeLabel+%3FgenreLabel+WHERE+%7B%0A++++++VALUES+%3FartistLabel+%7B+%22Dahl%22%0A%22Daichi+Miura%22%0A%22Daigo+Hanada%22%0A%22Dailey%22%0A%22Dailucia%22%0A%22Dailyn+Curbelo%22%0A%22Daiquiri%22%0A%22Daisuke+Tanabe%22%0A%22Daisy+Duck%22%0A%22Daisy+Guttridge%22%0A%22Daisy+the+Great%22%0A%22DaisyBanaisy%22%0A%22Dajae%22%0A%22Dakota%22%0A%22Daks%22%0A%22Dale%22%0A%22Dale+Ann+Bradley%22%0A%22Dale+Hawkins%22%0A%22Dale+Howard%22%0A%22Daleema%22%0A%22Daler+Mehndi%22%0A%22Dalex%22%0A%22Dallas%22%0A%22Dallas+Austin%22%0A%22Dallas+Stars%22%0A%22Dallas+Wayne%22%0A%22DallasK%22%0A%22Dallass%22%0A%22Dallerium%22%0A%22Dallomo%22%0A%22Dalmata%22%0A%22Dalora%22%0A%22Dalsin%22%0A%22Dalto%22%0A%22Dalua%22%0A%22Dalva+De+Oliveira%22%0A%22Dalvan%22%0A%22Dam+Swindle%22%0A%22Damage%22%0A%22Damage+Musiq%22%0A%22Damaged+Goods+%28UK%29%22%0A%22Damageplan%22%0A%22Damares%22%0A%22Damassaclan%22%0A%22Dame%22%0A%22Dame+Joan+Sutherland%22%0A%22Damero.%22%0A%22Damian+%22Jr.+Gong%22+Marley%22%0A%22Damian+Bolotin%22%0A%22Damian+Marley%22+%7D%0A%0A++++++%3Fartist+rdfs%3Alabel+%3FartistLabel.%0A++++++FILTER%28LANG%28%3FartistLabel%29+%3D+%22en%22%29%0A%0A++++++OPTIONAL+%7B+%3Fartist+wdt%3AP27+%3Fcountry.+%7D%0A++++++OPTIONAL+%7B+%3Fartist+wdt%3AP31+%3Ftype.+%7D%0A++++++OPTIONAL+%7B+%3Fartist+wdt%3AP136+%3Fgenre.+%7D%0A++++++OPTIONAL+%7B+%3Fartist+wdt%3AP569+%3Fbirth.+%7D%0A++++++OPTIONAL+%7B+%3Fartist+wdt%3AP570+%3Fdeath.+%7D%0A%0A++++++SERVICE+wikibase%3Alabel+%7B+bd%3AserviceParam+wikibase%3Alanguage+%22en%22.+%7D%0A++++%7D%0A++++\n"
     ]
    },
    {
     "name": "stderr",
     "output_type": "stream",
     "text": [
      "🔎 Batches SPARQL:  21%|██▏       | 129/604 [03:24<12:31,  1.58s/it]\n"
     ]
    },
    {
     "ename": "KeyboardInterrupt",
     "evalue": "",
     "output_type": "error",
     "traceback": [
      "\u001b[31m---------------------------------------------------------------------------\u001b[39m",
      "\u001b[31mKeyboardInterrupt\u001b[39m                         Traceback (most recent call last)",
      "\u001b[36mCell\u001b[39m\u001b[36m \u001b[39m\u001b[32mIn[13]\u001b[39m\u001b[32m, line 91\u001b[39m\n\u001b[32m     82\u001b[39m         \u001b[38;5;28;01mfor\u001b[39;00m row \u001b[38;5;129;01min\u001b[39;00m data[\u001b[33m\"\u001b[39m\u001b[33mresults\u001b[39m\u001b[33m\"\u001b[39m][\u001b[33m\"\u001b[39m\u001b[33mbindings\u001b[39m\u001b[33m\"\u001b[39m]:\n\u001b[32m     83\u001b[39m             results.append({\n\u001b[32m     84\u001b[39m                 \u001b[33m\"\u001b[39m\u001b[33martist\u001b[39m\u001b[33m\"\u001b[39m: row.get(\u001b[33m\"\u001b[39m\u001b[33martistLabel\u001b[39m\u001b[33m\"\u001b[39m, {}).get(\u001b[33m\"\u001b[39m\u001b[33mvalue\u001b[39m\u001b[33m\"\u001b[39m, \u001b[33m\"\u001b[39m\u001b[33m\"\u001b[39m),\n\u001b[32m     85\u001b[39m                 \u001b[33m\"\u001b[39m\u001b[33mcountry\u001b[39m\u001b[33m\"\u001b[39m: row.get(\u001b[33m\"\u001b[39m\u001b[33mcountryLabel\u001b[39m\u001b[33m\"\u001b[39m, {}).get(\u001b[33m\"\u001b[39m\u001b[33mvalue\u001b[39m\u001b[33m\"\u001b[39m, \u001b[33m\"\u001b[39m\u001b[33m\"\u001b[39m),\n\u001b[32m   (...)\u001b[39m\u001b[32m     89\u001b[39m                 \u001b[33m\"\u001b[39m\u001b[33mdeath\u001b[39m\u001b[33m\"\u001b[39m: row.get(\u001b[33m\"\u001b[39m\u001b[33mdeath\u001b[39m\u001b[33m\"\u001b[39m, {}).get(\u001b[33m\"\u001b[39m\u001b[33mvalue\u001b[39m\u001b[33m\"\u001b[39m, \u001b[33m\"\u001b[39m\u001b[33m\"\u001b[39m)\n\u001b[32m     90\u001b[39m             })\n\u001b[32m---> \u001b[39m\u001b[32m91\u001b[39m     time.sleep(\u001b[32m1.2\u001b[39m)  \u001b[38;5;66;03m# respetar política de uso\u001b[39;00m\n\u001b[32m     93\u001b[39m \u001b[38;5;66;03m# =====================\u001b[39;00m\n\u001b[32m     94\u001b[39m \u001b[38;5;66;03m# 4. GUARDAR RESULTADO\u001b[39;00m\n\u001b[32m     95\u001b[39m \u001b[38;5;66;03m# =====================\u001b[39;00m\n\u001b[32m     96\u001b[39m df_result = pd.DataFrame(results)\n",
      "\u001b[31mKeyboardInterrupt\u001b[39m: "
     ]
    }
   ],
   "source": [
    "import pandas as pd\n",
    "import requests\n",
    "from tqdm import tqdm\n",
    "import time\n",
    "\n",
    "# =====================\n",
    "# 1. CARGAR Y LIMPIAR\n",
    "# =====================\n",
    "print(\"🔄 Cargando y limpiando datos...\")\n",
    "\n",
    "df = pd.read_csv(\"../data/artists.csv\", header=None, names=[\"raw\"])\n",
    "\n",
    "def separar_y_limpiar(nombre):\n",
    "    if pd.isna(nombre):\n",
    "        return []\n",
    "    separadores = [\";\", \",\", \"&\", \"Featuring\", \" feat.\", \"Feat.\", \" ft.\", \"/\", \" x \"]\n",
    "    for sep in separadores:\n",
    "        nombre = nombre.replace(sep, \"|\")\n",
    "    partes = nombre.split(\"|\")\n",
    "    artistas_limpios = [p.strip().strip('\"').strip(\"'\") for p in partes if p.strip()]\n",
    "    return artistas_limpios\n",
    "\n",
    "# Expandir y limpiar todos los artistas\n",
    "todos_los_artistas = []\n",
    "for nombre in df[\"raw\"]:\n",
    "    todos_los_artistas.extend(separar_y_limpiar(nombre))\n",
    "\n",
    "# Quitar duplicados\n",
    "artistas_unicos = sorted(set([a for a in todos_los_artistas if a]))\n",
    "\n",
    "print(f\"✅ Total artistas únicos: {len(artistas_unicos)}\")\n",
    "\n",
    "# =====================\n",
    "# 2. FUNCIONES SPARQL\n",
    "# =====================\n",
    "\n",
    "WIKIDATA_ENDPOINT = \"https://query.wikidata.org/sparql\"\n",
    "\n",
    "def construir_query_sparql(artistas):\n",
    "    values = \"\\n\".join([f'\"{nombre}\"' for nombre in artistas])\n",
    "    query = f\"\"\"\n",
    "    SELECT ?artistLabel ?birth ?death ?countryLabel ?typeLabel ?genreLabel WHERE {{\n",
    "      VALUES ?artistLabel {{ {values} }}\n",
    "      \n",
    "      ?artist rdfs:label ?artistLabel.\n",
    "      FILTER(LANG(?artistLabel) = \"en\")\n",
    "      \n",
    "      OPTIONAL {{ ?artist wdt:P27 ?country. }}\n",
    "      OPTIONAL {{ ?artist wdt:P31 ?type. }}\n",
    "      OPTIONAL {{ ?artist wdt:P136 ?genre. }}\n",
    "      OPTIONAL {{ ?artist wdt:P569 ?birth. }}\n",
    "      OPTIONAL {{ ?artist wdt:P570 ?death. }}\n",
    "\n",
    "      SERVICE wikibase:label {{ bd:serviceParam wikibase:language \"en\". }}\n",
    "    }}\n",
    "    \"\"\"\n",
    "    return query\n",
    "\n",
    "def obtener_datos_wikidata(artistas_batch):\n",
    "    query = construir_query_sparql(artistas_batch)\n",
    "    headers = {\"Accept\": \"application/sparql-results+json\"}\n",
    "    try:\n",
    "        response = requests.get(WIKIDATA_ENDPOINT, params={\"query\": query}, headers=headers)\n",
    "        response.raise_for_status()\n",
    "        return response.json()\n",
    "    except requests.exceptions.RequestException as e:\n",
    "        print(\"❌ Error en SPARQL:\", e)\n",
    "        return None\n",
    "\n",
    "# =====================\n",
    "# 3. PROCESAR BATCHES\n",
    "# =====================\n",
    "print(\"🚀 Consultando Wikidata...\")\n",
    "\n",
    "batch_size = 50\n",
    "results = []\n",
    "\n",
    "for i in tqdm(range(0, len(artistas_unicos), batch_size), desc=\"🔎 Batches SPARQL\"):\n",
    "    batch = artistas_unicos[i:i+batch_size]\n",
    "    data = obtener_datos_wikidata(batch)\n",
    "    if data:\n",
    "        for row in data[\"results\"][\"bindings\"]:\n",
    "            results.append({\n",
    "                \"artist\": row.get(\"artistLabel\", {}).get(\"value\", \"\"),\n",
    "                \"country\": row.get(\"countryLabel\", {}).get(\"value\", \"\"),\n",
    "                \"type\": row.get(\"typeLabel\", {}).get(\"value\", \"\"),\n",
    "                \"genre\": row.get(\"genreLabel\", {}).get(\"value\", \"\"),\n",
    "                \"birth\": row.get(\"birth\", {}).get(\"value\", \"\"),\n",
    "                \"death\": row.get(\"death\", {}).get(\"value\", \"\")\n",
    "            })\n",
    "    time.sleep(1.2)  # respetar política de uso\n",
    "\n",
    "# =====================\n",
    "# 4. GUARDAR RESULTADO\n",
    "# =====================\n",
    "df_result = pd.DataFrame(results)\n",
    "\n",
    "# Inferir si está activo o no\n",
    "df_result[\"is_active\"] = df_result[\"death\"].apply(lambda x: \"No\" if x else \"Yes\")\n",
    "\n",
    "df_result.to_csv(\"wikidata_artists.csv\", index=False)\n",
    "print(\"✅ Archivo 'wikidata_artists.csv' creado correctamente.\")\n"
   ]
  },
  {
   "cell_type": "code",
   "execution_count": 7,
   "id": "33e5e7f6",
   "metadata": {},
   "outputs": [
    {
     "name": "stdout",
     "output_type": "stream",
     "text": [
      "🔍 Consultando 2110 artistas en lotes de 10...\n",
      "\n"
     ]
    },
    {
     "name": "stderr",
     "output_type": "stream",
     "text": [
      "Batches SPARQL: 100%|██████████| 211/211 [10:59<00:00,  3.12s/it]"
     ]
    },
    {
     "name": "stdout",
     "output_type": "stream",
     "text": [
      "✅ Archivo 'wikidata_artists.csv' creado correctamente.\n"
     ]
    },
    {
     "name": "stderr",
     "output_type": "stream",
     "text": [
      "\n"
     ]
    }
   ],
   "source": [
    "import pandas as pd\n",
    "import time\n",
    "from tqdm import tqdm\n",
    "from SPARQLWrapper import SPARQLWrapper, JSON\n",
    "\n",
    "# Configuración inicial\n",
    "archivo_entrada = \"../data/artists.csv\"\n",
    "archivo_salida = \"wikidata_artists.csv\"\n",
    "tamaño_lote = 10\n",
    "espera_segundos = 2.5\n",
    "\n",
    "# Leer archivo de artistas y limpiar nombres\n",
    "df = pd.read_csv(archivo_entrada, header=None, names=[\"artist_raw\"])\n",
    "\n",
    "def limpiar_nombre(artista):\n",
    "    if pd.isna(artista):\n",
    "        return None\n",
    "    artista = artista.replace('\"', '')\n",
    "    artista = artista.split(\" Featuring \")[0]\n",
    "    artista = artista.split(\" & \")[0]\n",
    "    artista = artista.split(\",\")[0]\n",
    "    return artista.strip()\n",
    "\n",
    "df[\"artist\"] = df[\"artist_raw\"].apply(limpiar_nombre)\n",
    "unique_artists = df[\"artist\"].dropna().drop_duplicates().reset_index(drop=True)\n",
    "\n",
    "# Configurar SPARQL con User-Agent\n",
    "sparql = SPARQLWrapper(\"https://query.wikidata.org/sparql\", agent=\"WikidataBatchScript/1.0 (youremail@example.com)\")\n",
    "sparql.setReturnFormat(JSON)\n",
    "\n",
    "# Función para crear la consulta SPARQL por lote\n",
    "def crear_consulta_lote(nombres):\n",
    "    valores = \"\\n\".join(f'\"{nombre}\"@en' for nombre in nombres)\n",
    "    return f\"\"\"\n",
    "    SELECT ?artist ?artistLabel ?genreLabel ?countryLabel ?typeLabel ?active ?birthYear ?deathYear WHERE {{\n",
    "      VALUES ?artistLabel {{ {valores} }}\n",
    "      ?artist rdfs:label ?artistLabel .\n",
    "      OPTIONAL {{ ?artist wdt:P136 ?genre . }}\n",
    "      OPTIONAL {{ ?artist wdt:P27 ?country . }}\n",
    "      OPTIONAL {{ ?artist wdt:P31 ?type . }}\n",
    "      OPTIONAL {{ ?artist wdt:P2031 ?active . }}\n",
    "      OPTIONAL {{ ?artist wdt:P569 ?birthDate .\n",
    "                  BIND(YEAR(?birthDate) AS ?birthYear) }}\n",
    "      OPTIONAL {{ ?artist wdt:P570 ?deathDate .\n",
    "                  BIND(YEAR(?deathDate) AS ?deathYear) }}\n",
    "      SERVICE wikibase:label {{ bd:serviceParam wikibase:language \"en\". }}\n",
    "    }}\n",
    "    \"\"\"\n",
    "\n",
    "# Proceso por lotes\n",
    "resultados = []\n",
    "\n",
    "print(f\"🔍 Consultando {len(unique_artists)} artistas en lotes de {tamaño_lote}...\\n\")\n",
    "\n",
    "for i in tqdm(range(0, len(unique_artists), tamaño_lote), desc=\"Batches SPARQL\"):\n",
    "    batch = unique_artists[i:i + tamaño_lote]\n",
    "    consulta = crear_consulta_lote(batch.tolist())\n",
    "\n",
    "    try:\n",
    "        sparql.setQuery(consulta)\n",
    "        time.sleep(espera_segundos)  # Evitar bloqueo\n",
    "        respuesta = sparql.query().convert()\n",
    "\n",
    "        for item in respuesta[\"results\"][\"bindings\"]:\n",
    "            resultados.append({\n",
    "                \"artist\": item.get(\"artistLabel\", {}).get(\"value\", \"\"),\n",
    "                \"genre\": item.get(\"genreLabel\", {}).get(\"value\", \"\"),\n",
    "                \"country\": item.get(\"countryLabel\", {}).get(\"value\", \"\"),\n",
    "                \"type\": item.get(\"typeLabel\", {}).get(\"value\", \"\"),\n",
    "                \"active_since\": item.get(\"active\", {}).get(\"value\", \"\"),\n",
    "                \"birth_year\": item.get(\"birthYear\", {}).get(\"value\", \"\"),\n",
    "                \"death_year\": item.get(\"deathYear\", {}).get(\"value\", \"\")\n",
    "            })\n",
    "\n",
    "    except Exception as e:\n",
    "        print(f\"❌ Error en SPARQL: {e}\")\n",
    "\n",
    "# Guardar CSV\n",
    "df_resultado = pd.DataFrame(resultados)\n",
    "df_resultado.to_csv(archivo_salida, index=False)\n",
    "print(f\"✅ Archivo '{archivo_salida}' creado correctamente.\")\n"
   ]
  },
  {
   "cell_type": "code",
   "execution_count": 20,
   "id": "44d85ec2",
   "metadata": {},
   "outputs": [
    {
     "name": "stdout",
     "output_type": "stream",
     "text": [
      "🔄 Cargando y limpiando datos...\n",
      "✅ Total artistas únicos: 30171\n",
      "\n",
      "🔍 Análisis de duplicados:\n",
      "➡️ Total registros originales: 81343\n",
      "➡️ Duplicados exactos (filas completas): 49906\n",
      "➡️ Duplicados en la columna 'raw': 49906\n",
      "➡️ Después de quitar duplicados: 31437\n",
      "➡️ Artistas únicos luego de limpiar: 30171\n",
      "\n",
      "🚀 Consultando Wikidata...\n"
     ]
    },
    {
     "name": "stderr",
     "output_type": "stream",
     "text": [
      "🔎 Batches SPARQL:   6%|▌         | 89/1509 [01:36<26:41,  1.13s/it]"
     ]
    },
    {
     "name": "stdout",
     "output_type": "stream",
     "text": [
      "❌ Error en SPARQL: 400 Client Error: Bad Request for url: https://query.wikidata.org/sparql?query=%0A++++SELECT+%3FartistLabel+%3Fbirth+%3Fdeath+%3FcountryLabel+%3FtypeLabel+%3FgenreLabel+WHERE+%7B%0A++++++VALUES+%3FartistLabel+%7B+%22Antonio+Cartagena%22%0A%22Antonio+Cirilo%22%0A%22Antonio+Garcia+Isaac%22%0A%22Antonio+Jes%C3%BAs+Asi%C3%A1in+Sanz%22%0A%22Antonio+Jos%C3%A9%22%0A%22Antonio+Marcen%C3%B2%22%0A%22Antonio+Orozco%22%0A%22Antonio+Pappano%22%0A%22Antonio+Rayo+%22Rayito%22%0A%22Antonio+Sol%22%0A%22Antonio+Tarrag%C3%B3+Ros%22%0A%22Antonio+Vega%22%0A%22Antonio+Vivaldi%22%0A%22Antonio+y+Joel+Con+Labranza%22%0A%22Antonis+Kalogiannis%22%0A%22Antony%22%0A%22Antony+Genn%22%0A%22Anton%C3%ADn+Dvo%C5%99%C3%A1k%22%0A%22Antra+Mitra%22%0A%22Antti+L.j.+P%C3%A4%C3%A4kk%C3%B6nen%22+%7D%0A%0A++++++%3Fartist+rdfs%3Alabel+%3FartistLabel.%0A++++++FILTER%28LANG%28%3FartistLabel%29+%3D+%22en%22%29%0A%0A++++++OPTIONAL+%7B+%3Fartist+wdt%3AP27+%3Fcountry.+%7D%0A++++++OPTIONAL+%7B+%3Fartist+wdt%3AP31+%3Ftype.+%7D%0A++++++OPTIONAL+%7B+%3Fartist+wdt%3AP136+%3Fgenre.+%7D%0A++++++OPTIONAL+%7B+%3Fartist+wdt%3AP569+%3Fbirth.+%7D%0A++++++OPTIONAL+%7B+%3Fartist+wdt%3AP570+%3Fdeath.+%7D%0A%0A++++++SERVICE+wikibase%3Alabel+%7B+bd%3AserviceParam+wikibase%3Alanguage+%22en%22.+%7D%0A++++%7D%0A++++\n"
     ]
    },
    {
     "name": "stderr",
     "output_type": "stream",
     "text": [
      "🔎 Batches SPARQL:  11%|█▏        | 171/1509 [03:04<23:54,  1.07s/it]"
     ]
    },
    {
     "name": "stdout",
     "output_type": "stream",
     "text": [
      "❌ Error en SPARQL: 400 Client Error: Bad Request for url: https://query.wikidata.org/sparql?query=%0A++++SELECT+%3FartistLabel+%3Fbirth+%3Fdeath+%3FcountryLabel+%3FtypeLabel+%3FgenreLabel+WHERE+%7B%0A++++++VALUES+%3FartistLabel+%7B+%22Bo+Kaspers+Orkester%22%0A%22Bo+Sundstr%C3%B6m%22%0A%22Boards+of+Canada%22%0A%22Boaz+Daniel%22%0A%22Boaz+van+de+Beatz%22%0A%22Bob%22%0A%22Bob+Dylan%22%0A%22Bob+Gunton%22%0A%22Bob+Luman%22%0A%22Bob+Marley%22%0A%22Bob+Moses%22%0A%22Bob+Mould%22%0A%22Bob+Saget%22%0A%22Bob+Seger%22%0A%22Bob+Sinclar%22%0A%22Bob+Smith%22%0A%22Bob+Stevens%22%0A%22Bob+Weir%22%0A%22Bobbi+White%22%0A%22Bobby+%22Blue%22+Bland%22+%7D%0A%0A++++++%3Fartist+rdfs%3Alabel+%3FartistLabel.%0A++++++FILTER%28LANG%28%3FartistLabel%29+%3D+%22en%22%29%0A%0A++++++OPTIONAL+%7B+%3Fartist+wdt%3AP27+%3Fcountry.+%7D%0A++++++OPTIONAL+%7B+%3Fartist+wdt%3AP31+%3Ftype.+%7D%0A++++++OPTIONAL+%7B+%3Fartist+wdt%3AP136+%3Fgenre.+%7D%0A++++++OPTIONAL+%7B+%3Fartist+wdt%3AP569+%3Fbirth.+%7D%0A++++++OPTIONAL+%7B+%3Fartist+wdt%3AP570+%3Fdeath.+%7D%0A%0A++++++SERVICE+wikibase%3Alabel+%7B+bd%3AserviceParam+wikibase%3Alanguage+%22en%22.+%7D%0A++++%7D%0A++++\n"
     ]
    },
    {
     "name": "stderr",
     "output_type": "stream",
     "text": [
      "🔎 Batches SPARQL:  12%|█▏        | 177/1509 [03:11<23:59,  1.08s/it]\n"
     ]
    },
    {
     "ename": "KeyboardInterrupt",
     "evalue": "",
     "output_type": "error",
     "traceback": [
      "\u001b[31m---------------------------------------------------------------------------\u001b[39m",
      "\u001b[31mKeyboardInterrupt\u001b[39m                         Traceback (most recent call last)",
      "\u001b[36mCell\u001b[39m\u001b[36m \u001b[39m\u001b[32mIn[20]\u001b[39m\u001b[32m, line 90\u001b[39m\n\u001b[32m     88\u001b[39m \u001b[38;5;28;01mfor\u001b[39;00m i \u001b[38;5;129;01min\u001b[39;00m tqdm(\u001b[38;5;28mrange\u001b[39m(\u001b[32m0\u001b[39m, \u001b[38;5;28mlen\u001b[39m(artistas_unicos), batch_size), desc=\u001b[33m\"\u001b[39m\u001b[33m🔎 Batches SPARQL\u001b[39m\u001b[33m\"\u001b[39m):\n\u001b[32m     89\u001b[39m     batch = artistas_unicos[i:i+batch_size]\n\u001b[32m---> \u001b[39m\u001b[32m90\u001b[39m     data = \u001b[43mobtener_datos_wikidata\u001b[49m\u001b[43m(\u001b[49m\u001b[43mbatch\u001b[49m\u001b[43m)\u001b[49m\n\u001b[32m     91\u001b[39m     \u001b[38;5;28;01mif\u001b[39;00m data:\n\u001b[32m     92\u001b[39m         \u001b[38;5;28;01mfor\u001b[39;00m row \u001b[38;5;129;01min\u001b[39;00m data[\u001b[33m\"\u001b[39m\u001b[33mresults\u001b[39m\u001b[33m\"\u001b[39m][\u001b[33m\"\u001b[39m\u001b[33mbindings\u001b[39m\u001b[33m\"\u001b[39m]:\n",
      "\u001b[36mCell\u001b[39m\u001b[36m \u001b[39m\u001b[32mIn[20]\u001b[39m\u001b[32m, line 73\u001b[39m, in \u001b[36mobtener_datos_wikidata\u001b[39m\u001b[34m(artistas_batch)\u001b[39m\n\u001b[32m     71\u001b[39m headers = {\u001b[33m\"\u001b[39m\u001b[33mAccept\u001b[39m\u001b[33m\"\u001b[39m: \u001b[33m\"\u001b[39m\u001b[33mapplication/sparql-results+json\u001b[39m\u001b[33m\"\u001b[39m}\n\u001b[32m     72\u001b[39m \u001b[38;5;28;01mtry\u001b[39;00m:\n\u001b[32m---> \u001b[39m\u001b[32m73\u001b[39m     response = \u001b[43mrequests\u001b[49m\u001b[43m.\u001b[49m\u001b[43mget\u001b[49m\u001b[43m(\u001b[49m\u001b[43mWIKIDATA_ENDPOINT\u001b[49m\u001b[43m,\u001b[49m\u001b[43m \u001b[49m\u001b[43mparams\u001b[49m\u001b[43m=\u001b[49m\u001b[43m{\u001b[49m\u001b[33;43m\"\u001b[39;49m\u001b[33;43mquery\u001b[39;49m\u001b[33;43m\"\u001b[39;49m\u001b[43m:\u001b[49m\u001b[43m \u001b[49m\u001b[43mquery\u001b[49m\u001b[43m}\u001b[49m\u001b[43m,\u001b[49m\u001b[43m \u001b[49m\u001b[43mheaders\u001b[49m\u001b[43m=\u001b[49m\u001b[43mheaders\u001b[49m\u001b[43m)\u001b[49m\n\u001b[32m     74\u001b[39m     response.raise_for_status()\n\u001b[32m     75\u001b[39m     \u001b[38;5;28;01mreturn\u001b[39;00m response.json()\n",
      "\u001b[36mFile \u001b[39m\u001b[32mc:\\Users\\Michel Burgos\\OneDrive\\Documentos\\GitHub\\Workshop_2\\venv\\Lib\\site-packages\\requests\\api.py:73\u001b[39m, in \u001b[36mget\u001b[39m\u001b[34m(url, params, **kwargs)\u001b[39m\n\u001b[32m     62\u001b[39m \u001b[38;5;28;01mdef\u001b[39;00m\u001b[38;5;250m \u001b[39m\u001b[34mget\u001b[39m(url, params=\u001b[38;5;28;01mNone\u001b[39;00m, **kwargs):\n\u001b[32m     63\u001b[39m \u001b[38;5;250m    \u001b[39m\u001b[33mr\u001b[39m\u001b[33;03m\"\"\"Sends a GET request.\u001b[39;00m\n\u001b[32m     64\u001b[39m \n\u001b[32m     65\u001b[39m \u001b[33;03m    :param url: URL for the new :class:`Request` object.\u001b[39;00m\n\u001b[32m   (...)\u001b[39m\u001b[32m     70\u001b[39m \u001b[33;03m    :rtype: requests.Response\u001b[39;00m\n\u001b[32m     71\u001b[39m \u001b[33;03m    \"\"\"\u001b[39;00m\n\u001b[32m---> \u001b[39m\u001b[32m73\u001b[39m     \u001b[38;5;28;01mreturn\u001b[39;00m \u001b[43mrequest\u001b[49m\u001b[43m(\u001b[49m\u001b[33;43m\"\u001b[39;49m\u001b[33;43mget\u001b[39;49m\u001b[33;43m\"\u001b[39;49m\u001b[43m,\u001b[49m\u001b[43m \u001b[49m\u001b[43murl\u001b[49m\u001b[43m,\u001b[49m\u001b[43m \u001b[49m\u001b[43mparams\u001b[49m\u001b[43m=\u001b[49m\u001b[43mparams\u001b[49m\u001b[43m,\u001b[49m\u001b[43m \u001b[49m\u001b[43m*\u001b[49m\u001b[43m*\u001b[49m\u001b[43mkwargs\u001b[49m\u001b[43m)\u001b[49m\n",
      "\u001b[36mFile \u001b[39m\u001b[32mc:\\Users\\Michel Burgos\\OneDrive\\Documentos\\GitHub\\Workshop_2\\venv\\Lib\\site-packages\\requests\\api.py:59\u001b[39m, in \u001b[36mrequest\u001b[39m\u001b[34m(method, url, **kwargs)\u001b[39m\n\u001b[32m     55\u001b[39m \u001b[38;5;66;03m# By using the 'with' statement we are sure the session is closed, thus we\u001b[39;00m\n\u001b[32m     56\u001b[39m \u001b[38;5;66;03m# avoid leaving sockets open which can trigger a ResourceWarning in some\u001b[39;00m\n\u001b[32m     57\u001b[39m \u001b[38;5;66;03m# cases, and look like a memory leak in others.\u001b[39;00m\n\u001b[32m     58\u001b[39m \u001b[38;5;28;01mwith\u001b[39;00m sessions.Session() \u001b[38;5;28;01mas\u001b[39;00m session:\n\u001b[32m---> \u001b[39m\u001b[32m59\u001b[39m     \u001b[38;5;28;01mreturn\u001b[39;00m \u001b[43msession\u001b[49m\u001b[43m.\u001b[49m\u001b[43mrequest\u001b[49m\u001b[43m(\u001b[49m\u001b[43mmethod\u001b[49m\u001b[43m=\u001b[49m\u001b[43mmethod\u001b[49m\u001b[43m,\u001b[49m\u001b[43m \u001b[49m\u001b[43murl\u001b[49m\u001b[43m=\u001b[49m\u001b[43murl\u001b[49m\u001b[43m,\u001b[49m\u001b[43m \u001b[49m\u001b[43m*\u001b[49m\u001b[43m*\u001b[49m\u001b[43mkwargs\u001b[49m\u001b[43m)\u001b[49m\n",
      "\u001b[36mFile \u001b[39m\u001b[32mc:\\Users\\Michel Burgos\\OneDrive\\Documentos\\GitHub\\Workshop_2\\venv\\Lib\\site-packages\\requests\\sessions.py:589\u001b[39m, in \u001b[36mSession.request\u001b[39m\u001b[34m(self, method, url, params, data, headers, cookies, files, auth, timeout, allow_redirects, proxies, hooks, stream, verify, cert, json)\u001b[39m\n\u001b[32m    584\u001b[39m send_kwargs = {\n\u001b[32m    585\u001b[39m     \u001b[33m\"\u001b[39m\u001b[33mtimeout\u001b[39m\u001b[33m\"\u001b[39m: timeout,\n\u001b[32m    586\u001b[39m     \u001b[33m\"\u001b[39m\u001b[33mallow_redirects\u001b[39m\u001b[33m\"\u001b[39m: allow_redirects,\n\u001b[32m    587\u001b[39m }\n\u001b[32m    588\u001b[39m send_kwargs.update(settings)\n\u001b[32m--> \u001b[39m\u001b[32m589\u001b[39m resp = \u001b[38;5;28;43mself\u001b[39;49m\u001b[43m.\u001b[49m\u001b[43msend\u001b[49m\u001b[43m(\u001b[49m\u001b[43mprep\u001b[49m\u001b[43m,\u001b[49m\u001b[43m \u001b[49m\u001b[43m*\u001b[49m\u001b[43m*\u001b[49m\u001b[43msend_kwargs\u001b[49m\u001b[43m)\u001b[49m\n\u001b[32m    591\u001b[39m \u001b[38;5;28;01mreturn\u001b[39;00m resp\n",
      "\u001b[36mFile \u001b[39m\u001b[32mc:\\Users\\Michel Burgos\\OneDrive\\Documentos\\GitHub\\Workshop_2\\venv\\Lib\\site-packages\\requests\\sessions.py:703\u001b[39m, in \u001b[36mSession.send\u001b[39m\u001b[34m(self, request, **kwargs)\u001b[39m\n\u001b[32m    700\u001b[39m start = preferred_clock()\n\u001b[32m    702\u001b[39m \u001b[38;5;66;03m# Send the request\u001b[39;00m\n\u001b[32m--> \u001b[39m\u001b[32m703\u001b[39m r = \u001b[43madapter\u001b[49m\u001b[43m.\u001b[49m\u001b[43msend\u001b[49m\u001b[43m(\u001b[49m\u001b[43mrequest\u001b[49m\u001b[43m,\u001b[49m\u001b[43m \u001b[49m\u001b[43m*\u001b[49m\u001b[43m*\u001b[49m\u001b[43mkwargs\u001b[49m\u001b[43m)\u001b[49m\n\u001b[32m    705\u001b[39m \u001b[38;5;66;03m# Total elapsed time of the request (approximately)\u001b[39;00m\n\u001b[32m    706\u001b[39m elapsed = preferred_clock() - start\n",
      "\u001b[36mFile \u001b[39m\u001b[32mc:\\Users\\Michel Burgos\\OneDrive\\Documentos\\GitHub\\Workshop_2\\venv\\Lib\\site-packages\\requests\\adapters.py:667\u001b[39m, in \u001b[36mHTTPAdapter.send\u001b[39m\u001b[34m(self, request, stream, timeout, verify, cert, proxies)\u001b[39m\n\u001b[32m    664\u001b[39m     timeout = TimeoutSauce(connect=timeout, read=timeout)\n\u001b[32m    666\u001b[39m \u001b[38;5;28;01mtry\u001b[39;00m:\n\u001b[32m--> \u001b[39m\u001b[32m667\u001b[39m     resp = \u001b[43mconn\u001b[49m\u001b[43m.\u001b[49m\u001b[43murlopen\u001b[49m\u001b[43m(\u001b[49m\n\u001b[32m    668\u001b[39m \u001b[43m        \u001b[49m\u001b[43mmethod\u001b[49m\u001b[43m=\u001b[49m\u001b[43mrequest\u001b[49m\u001b[43m.\u001b[49m\u001b[43mmethod\u001b[49m\u001b[43m,\u001b[49m\n\u001b[32m    669\u001b[39m \u001b[43m        \u001b[49m\u001b[43murl\u001b[49m\u001b[43m=\u001b[49m\u001b[43murl\u001b[49m\u001b[43m,\u001b[49m\n\u001b[32m    670\u001b[39m \u001b[43m        \u001b[49m\u001b[43mbody\u001b[49m\u001b[43m=\u001b[49m\u001b[43mrequest\u001b[49m\u001b[43m.\u001b[49m\u001b[43mbody\u001b[49m\u001b[43m,\u001b[49m\n\u001b[32m    671\u001b[39m \u001b[43m        \u001b[49m\u001b[43mheaders\u001b[49m\u001b[43m=\u001b[49m\u001b[43mrequest\u001b[49m\u001b[43m.\u001b[49m\u001b[43mheaders\u001b[49m\u001b[43m,\u001b[49m\n\u001b[32m    672\u001b[39m \u001b[43m        \u001b[49m\u001b[43mredirect\u001b[49m\u001b[43m=\u001b[49m\u001b[38;5;28;43;01mFalse\u001b[39;49;00m\u001b[43m,\u001b[49m\n\u001b[32m    673\u001b[39m \u001b[43m        \u001b[49m\u001b[43massert_same_host\u001b[49m\u001b[43m=\u001b[49m\u001b[38;5;28;43;01mFalse\u001b[39;49;00m\u001b[43m,\u001b[49m\n\u001b[32m    674\u001b[39m \u001b[43m        \u001b[49m\u001b[43mpreload_content\u001b[49m\u001b[43m=\u001b[49m\u001b[38;5;28;43;01mFalse\u001b[39;49;00m\u001b[43m,\u001b[49m\n\u001b[32m    675\u001b[39m \u001b[43m        \u001b[49m\u001b[43mdecode_content\u001b[49m\u001b[43m=\u001b[49m\u001b[38;5;28;43;01mFalse\u001b[39;49;00m\u001b[43m,\u001b[49m\n\u001b[32m    676\u001b[39m \u001b[43m        \u001b[49m\u001b[43mretries\u001b[49m\u001b[43m=\u001b[49m\u001b[38;5;28;43mself\u001b[39;49m\u001b[43m.\u001b[49m\u001b[43mmax_retries\u001b[49m\u001b[43m,\u001b[49m\n\u001b[32m    677\u001b[39m \u001b[43m        \u001b[49m\u001b[43mtimeout\u001b[49m\u001b[43m=\u001b[49m\u001b[43mtimeout\u001b[49m\u001b[43m,\u001b[49m\n\u001b[32m    678\u001b[39m \u001b[43m        \u001b[49m\u001b[43mchunked\u001b[49m\u001b[43m=\u001b[49m\u001b[43mchunked\u001b[49m\u001b[43m,\u001b[49m\n\u001b[32m    679\u001b[39m \u001b[43m    \u001b[49m\u001b[43m)\u001b[49m\n\u001b[32m    681\u001b[39m \u001b[38;5;28;01mexcept\u001b[39;00m (ProtocolError, \u001b[38;5;167;01mOSError\u001b[39;00m) \u001b[38;5;28;01mas\u001b[39;00m err:\n\u001b[32m    682\u001b[39m     \u001b[38;5;28;01mraise\u001b[39;00m \u001b[38;5;167;01mConnectionError\u001b[39;00m(err, request=request)\n",
      "\u001b[36mFile \u001b[39m\u001b[32mc:\\Users\\Michel Burgos\\OneDrive\\Documentos\\GitHub\\Workshop_2\\venv\\Lib\\site-packages\\urllib3\\connectionpool.py:787\u001b[39m, in \u001b[36mHTTPConnectionPool.urlopen\u001b[39m\u001b[34m(self, method, url, body, headers, retries, redirect, assert_same_host, timeout, pool_timeout, release_conn, chunked, body_pos, preload_content, decode_content, **response_kw)\u001b[39m\n\u001b[32m    784\u001b[39m response_conn = conn \u001b[38;5;28;01mif\u001b[39;00m \u001b[38;5;129;01mnot\u001b[39;00m release_conn \u001b[38;5;28;01melse\u001b[39;00m \u001b[38;5;28;01mNone\u001b[39;00m\n\u001b[32m    786\u001b[39m \u001b[38;5;66;03m# Make the request on the HTTPConnection object\u001b[39;00m\n\u001b[32m--> \u001b[39m\u001b[32m787\u001b[39m response = \u001b[38;5;28;43mself\u001b[39;49m\u001b[43m.\u001b[49m\u001b[43m_make_request\u001b[49m\u001b[43m(\u001b[49m\n\u001b[32m    788\u001b[39m \u001b[43m    \u001b[49m\u001b[43mconn\u001b[49m\u001b[43m,\u001b[49m\n\u001b[32m    789\u001b[39m \u001b[43m    \u001b[49m\u001b[43mmethod\u001b[49m\u001b[43m,\u001b[49m\n\u001b[32m    790\u001b[39m \u001b[43m    \u001b[49m\u001b[43murl\u001b[49m\u001b[43m,\u001b[49m\n\u001b[32m    791\u001b[39m \u001b[43m    \u001b[49m\u001b[43mtimeout\u001b[49m\u001b[43m=\u001b[49m\u001b[43mtimeout_obj\u001b[49m\u001b[43m,\u001b[49m\n\u001b[32m    792\u001b[39m \u001b[43m    \u001b[49m\u001b[43mbody\u001b[49m\u001b[43m=\u001b[49m\u001b[43mbody\u001b[49m\u001b[43m,\u001b[49m\n\u001b[32m    793\u001b[39m \u001b[43m    \u001b[49m\u001b[43mheaders\u001b[49m\u001b[43m=\u001b[49m\u001b[43mheaders\u001b[49m\u001b[43m,\u001b[49m\n\u001b[32m    794\u001b[39m \u001b[43m    \u001b[49m\u001b[43mchunked\u001b[49m\u001b[43m=\u001b[49m\u001b[43mchunked\u001b[49m\u001b[43m,\u001b[49m\n\u001b[32m    795\u001b[39m \u001b[43m    \u001b[49m\u001b[43mretries\u001b[49m\u001b[43m=\u001b[49m\u001b[43mretries\u001b[49m\u001b[43m,\u001b[49m\n\u001b[32m    796\u001b[39m \u001b[43m    \u001b[49m\u001b[43mresponse_conn\u001b[49m\u001b[43m=\u001b[49m\u001b[43mresponse_conn\u001b[49m\u001b[43m,\u001b[49m\n\u001b[32m    797\u001b[39m \u001b[43m    \u001b[49m\u001b[43mpreload_content\u001b[49m\u001b[43m=\u001b[49m\u001b[43mpreload_content\u001b[49m\u001b[43m,\u001b[49m\n\u001b[32m    798\u001b[39m \u001b[43m    \u001b[49m\u001b[43mdecode_content\u001b[49m\u001b[43m=\u001b[49m\u001b[43mdecode_content\u001b[49m\u001b[43m,\u001b[49m\n\u001b[32m    799\u001b[39m \u001b[43m    \u001b[49m\u001b[43m*\u001b[49m\u001b[43m*\u001b[49m\u001b[43mresponse_kw\u001b[49m\u001b[43m,\u001b[49m\n\u001b[32m    800\u001b[39m \u001b[43m\u001b[49m\u001b[43m)\u001b[49m\n\u001b[32m    802\u001b[39m \u001b[38;5;66;03m# Everything went great!\u001b[39;00m\n\u001b[32m    803\u001b[39m clean_exit = \u001b[38;5;28;01mTrue\u001b[39;00m\n",
      "\u001b[36mFile \u001b[39m\u001b[32mc:\\Users\\Michel Burgos\\OneDrive\\Documentos\\GitHub\\Workshop_2\\venv\\Lib\\site-packages\\urllib3\\connectionpool.py:464\u001b[39m, in \u001b[36mHTTPConnectionPool._make_request\u001b[39m\u001b[34m(self, conn, method, url, body, headers, retries, timeout, chunked, response_conn, preload_content, decode_content, enforce_content_length)\u001b[39m\n\u001b[32m    461\u001b[39m \u001b[38;5;28;01mtry\u001b[39;00m:\n\u001b[32m    462\u001b[39m     \u001b[38;5;66;03m# Trigger any extra validation we need to do.\u001b[39;00m\n\u001b[32m    463\u001b[39m     \u001b[38;5;28;01mtry\u001b[39;00m:\n\u001b[32m--> \u001b[39m\u001b[32m464\u001b[39m         \u001b[38;5;28;43mself\u001b[39;49m\u001b[43m.\u001b[49m\u001b[43m_validate_conn\u001b[49m\u001b[43m(\u001b[49m\u001b[43mconn\u001b[49m\u001b[43m)\u001b[49m\n\u001b[32m    465\u001b[39m     \u001b[38;5;28;01mexcept\u001b[39;00m (SocketTimeout, BaseSSLError) \u001b[38;5;28;01mas\u001b[39;00m e:\n\u001b[32m    466\u001b[39m         \u001b[38;5;28mself\u001b[39m._raise_timeout(err=e, url=url, timeout_value=conn.timeout)\n",
      "\u001b[36mFile \u001b[39m\u001b[32mc:\\Users\\Michel Burgos\\OneDrive\\Documentos\\GitHub\\Workshop_2\\venv\\Lib\\site-packages\\urllib3\\connectionpool.py:1093\u001b[39m, in \u001b[36mHTTPSConnectionPool._validate_conn\u001b[39m\u001b[34m(self, conn)\u001b[39m\n\u001b[32m   1091\u001b[39m \u001b[38;5;66;03m# Force connect early to allow us to validate the connection.\u001b[39;00m\n\u001b[32m   1092\u001b[39m \u001b[38;5;28;01mif\u001b[39;00m conn.is_closed:\n\u001b[32m-> \u001b[39m\u001b[32m1093\u001b[39m     \u001b[43mconn\u001b[49m\u001b[43m.\u001b[49m\u001b[43mconnect\u001b[49m\u001b[43m(\u001b[49m\u001b[43m)\u001b[49m\n\u001b[32m   1095\u001b[39m \u001b[38;5;66;03m# TODO revise this, see https://github.com/urllib3/urllib3/issues/2791\u001b[39;00m\n\u001b[32m   1096\u001b[39m \u001b[38;5;28;01mif\u001b[39;00m \u001b[38;5;129;01mnot\u001b[39;00m conn.is_verified \u001b[38;5;129;01mand\u001b[39;00m \u001b[38;5;129;01mnot\u001b[39;00m conn.proxy_is_verified:\n",
      "\u001b[36mFile \u001b[39m\u001b[32mc:\\Users\\Michel Burgos\\OneDrive\\Documentos\\GitHub\\Workshop_2\\venv\\Lib\\site-packages\\urllib3\\connection.py:704\u001b[39m, in \u001b[36mHTTPSConnection.connect\u001b[39m\u001b[34m(self)\u001b[39m\n\u001b[32m    702\u001b[39m \u001b[38;5;28;01mtry\u001b[39;00m:\n\u001b[32m    703\u001b[39m     sock: socket.socket | ssl.SSLSocket\n\u001b[32m--> \u001b[39m\u001b[32m704\u001b[39m     \u001b[38;5;28mself\u001b[39m.sock = sock = \u001b[38;5;28;43mself\u001b[39;49m\u001b[43m.\u001b[49m\u001b[43m_new_conn\u001b[49m\u001b[43m(\u001b[49m\u001b[43m)\u001b[49m\n\u001b[32m    705\u001b[39m     server_hostname: \u001b[38;5;28mstr\u001b[39m = \u001b[38;5;28mself\u001b[39m.host\n\u001b[32m    706\u001b[39m     tls_in_tls = \u001b[38;5;28;01mFalse\u001b[39;00m\n",
      "\u001b[36mFile \u001b[39m\u001b[32mc:\\Users\\Michel Burgos\\OneDrive\\Documentos\\GitHub\\Workshop_2\\venv\\Lib\\site-packages\\urllib3\\connection.py:198\u001b[39m, in \u001b[36mHTTPConnection._new_conn\u001b[39m\u001b[34m(self)\u001b[39m\n\u001b[32m    193\u001b[39m \u001b[38;5;250m\u001b[39m\u001b[33;03m\"\"\"Establish a socket connection and set nodelay settings on it.\u001b[39;00m\n\u001b[32m    194\u001b[39m \n\u001b[32m    195\u001b[39m \u001b[33;03m:return: New socket connection.\u001b[39;00m\n\u001b[32m    196\u001b[39m \u001b[33;03m\"\"\"\u001b[39;00m\n\u001b[32m    197\u001b[39m \u001b[38;5;28;01mtry\u001b[39;00m:\n\u001b[32m--> \u001b[39m\u001b[32m198\u001b[39m     sock = \u001b[43mconnection\u001b[49m\u001b[43m.\u001b[49m\u001b[43mcreate_connection\u001b[49m\u001b[43m(\u001b[49m\n\u001b[32m    199\u001b[39m \u001b[43m        \u001b[49m\u001b[43m(\u001b[49m\u001b[38;5;28;43mself\u001b[39;49m\u001b[43m.\u001b[49m\u001b[43m_dns_host\u001b[49m\u001b[43m,\u001b[49m\u001b[43m \u001b[49m\u001b[38;5;28;43mself\u001b[39;49m\u001b[43m.\u001b[49m\u001b[43mport\u001b[49m\u001b[43m)\u001b[49m\u001b[43m,\u001b[49m\n\u001b[32m    200\u001b[39m \u001b[43m        \u001b[49m\u001b[38;5;28;43mself\u001b[39;49m\u001b[43m.\u001b[49m\u001b[43mtimeout\u001b[49m\u001b[43m,\u001b[49m\n\u001b[32m    201\u001b[39m \u001b[43m        \u001b[49m\u001b[43msource_address\u001b[49m\u001b[43m=\u001b[49m\u001b[38;5;28;43mself\u001b[39;49m\u001b[43m.\u001b[49m\u001b[43msource_address\u001b[49m\u001b[43m,\u001b[49m\n\u001b[32m    202\u001b[39m \u001b[43m        \u001b[49m\u001b[43msocket_options\u001b[49m\u001b[43m=\u001b[49m\u001b[38;5;28;43mself\u001b[39;49m\u001b[43m.\u001b[49m\u001b[43msocket_options\u001b[49m\u001b[43m,\u001b[49m\n\u001b[32m    203\u001b[39m \u001b[43m    \u001b[49m\u001b[43m)\u001b[49m\n\u001b[32m    204\u001b[39m \u001b[38;5;28;01mexcept\u001b[39;00m socket.gaierror \u001b[38;5;28;01mas\u001b[39;00m e:\n\u001b[32m    205\u001b[39m     \u001b[38;5;28;01mraise\u001b[39;00m NameResolutionError(\u001b[38;5;28mself\u001b[39m.host, \u001b[38;5;28mself\u001b[39m, e) \u001b[38;5;28;01mfrom\u001b[39;00m\u001b[38;5;250m \u001b[39m\u001b[34;01me\u001b[39;00m\n",
      "\u001b[36mFile \u001b[39m\u001b[32mc:\\Users\\Michel Burgos\\OneDrive\\Documentos\\GitHub\\Workshop_2\\venv\\Lib\\site-packages\\urllib3\\util\\connection.py:73\u001b[39m, in \u001b[36mcreate_connection\u001b[39m\u001b[34m(address, timeout, source_address, socket_options)\u001b[39m\n\u001b[32m     71\u001b[39m \u001b[38;5;28;01mif\u001b[39;00m source_address:\n\u001b[32m     72\u001b[39m     sock.bind(source_address)\n\u001b[32m---> \u001b[39m\u001b[32m73\u001b[39m sock.connect(sa)\n\u001b[32m     74\u001b[39m \u001b[38;5;66;03m# Break explicitly a reference cycle\u001b[39;00m\n\u001b[32m     75\u001b[39m err = \u001b[38;5;28;01mNone\u001b[39;00m\n",
      "\u001b[31mKeyboardInterrupt\u001b[39m: "
     ]
    }
   ],
   "source": [
    "import pandas as pd\n",
    "import requests\n",
    "from tqdm import tqdm\n",
    "import time\n",
    "\n",
    "# =====================\n",
    "# 1. CARGAR Y LIMPIAR\n",
    "# =====================\n",
    "print(\"🔄 Cargando y limpiando datos...\")\n",
    "\n",
    "# Cargar sin cabecera, nombrar la columna como 'raw'\n",
    "df = pd.read_csv(\"../data/artists.csv\", header=None, names=[\"raw\"])\n",
    "\n",
    "# Separar y limpiar artistas\n",
    "def separar_y_limpiar(nombre):\n",
    "    if pd.isna(nombre):\n",
    "        return []\n",
    "    separadores = [\";\", \",\", \"&\", \"Featuring\", \" feat.\", \"Feat.\", \" ft.\", \"/\", \" x \"]\n",
    "    for sep in separadores:\n",
    "        nombre = nombre.replace(sep, \"|\")\n",
    "    partes = nombre.split(\"|\")\n",
    "    artistas_limpios = [p.strip().strip('\"').strip(\"'\") for p in partes if p.strip()]\n",
    "    return artistas_limpios\n",
    "\n",
    "# Expandir y limpiar todos los artistas\n",
    "todos_los_artistas = []\n",
    "for nombre in df[\"raw\"]:\n",
    "    todos_los_artistas.extend(separar_y_limpiar(nombre))\n",
    "\n",
    "# Quitar duplicados\n",
    "artistas_unicos = sorted(set([a for a in todos_los_artistas if a]))\n",
    "\n",
    "print(f\"✅ Total artistas únicos: {len(artistas_unicos)}\")\n",
    "\n",
    "# === ANÁLISIS DE DUPLICADOS ===\n",
    "print(\"\\n🔍 Análisis de duplicados:\")\n",
    "print(\"➡️ Total registros originales:\", len(df))\n",
    "print(\"➡️ Duplicados exactos (filas completas):\", df.duplicated().sum())\n",
    "print(\"➡️ Duplicados en la columna 'raw':\", df[\"raw\"].duplicated().sum())\n",
    "print(\"➡️ Después de quitar duplicados:\", df[\"raw\"].drop_duplicates().shape[0])\n",
    "print(\"➡️ Artistas únicos luego de limpiar:\", len(artistas_unicos))\n",
    "\n",
    "# =====================\n",
    "# 2. FUNCIONES SPARQL\n",
    "# =====================\n",
    "\n",
    "WIKIDATA_ENDPOINT = \"https://query.wikidata.org/sparql\"\n",
    "\n",
    "def construir_query_sparql(artistas):\n",
    "    values = \"\\n\".join([f'\"{nombre}\"' for nombre in artistas])\n",
    "    query = f\"\"\"\n",
    "    SELECT ?artistLabel ?birth ?death ?countryLabel ?typeLabel ?genreLabel WHERE {{\n",
    "      VALUES ?artistLabel {{ {values} }}\n",
    "      \n",
    "      ?artist rdfs:label ?artistLabel.\n",
    "      FILTER(LANG(?artistLabel) = \"en\")\n",
    "      \n",
    "      OPTIONAL {{ ?artist wdt:P27 ?country. }}\n",
    "      OPTIONAL {{ ?artist wdt:P31 ?type. }}\n",
    "      OPTIONAL {{ ?artist wdt:P136 ?genre. }}\n",
    "      OPTIONAL {{ ?artist wdt:P569 ?birth. }}\n",
    "      OPTIONAL {{ ?artist wdt:P570 ?death. }}\n",
    "\n",
    "      SERVICE wikibase:label {{ bd:serviceParam wikibase:language \"en\". }}\n",
    "    }}\n",
    "    \"\"\"\n",
    "    return query\n",
    "\n",
    "def obtener_datos_wikidata(artistas_batch):\n",
    "    query = construir_query_sparql(artistas_batch)\n",
    "    headers = {\"Accept\": \"application/sparql-results+json\"}\n",
    "    try:\n",
    "        response = requests.get(WIKIDATA_ENDPOINT, params={\"query\": query}, headers=headers)\n",
    "        response.raise_for_status()\n",
    "        return response.json()\n",
    "    except requests.exceptions.RequestException as e:\n",
    "        print(\"❌ Error en SPARQL:\", e)\n",
    "        return None\n",
    "\n",
    "# =====================\n",
    "# 3. PROCESAR BATCHES\n",
    "# =====================\n",
    "print(\"\\n🚀 Consultando Wikidata...\")\n",
    "\n",
    "batch_size = 20\n",
    "results = []\n",
    "\n",
    "for i in tqdm(range(0, len(artistas_unicos), batch_size), desc=\"🔎 Batches SPARQL\"):\n",
    "    batch = artistas_unicos[i:i+batch_size]\n",
    "    data = obtener_datos_wikidata(batch)\n",
    "    if data:\n",
    "        for row in data[\"results\"][\"bindings\"]:\n",
    "            results.append({\n",
    "                \"artist\": row.get(\"artistLabel\", {}).get(\"value\", \"\"),\n",
    "                \"country\": row.get(\"countryLabel\", {}).get(\"value\", \"\"),\n",
    "                \"type\": row.get(\"typeLabel\", {}).get(\"value\", \"\"),\n",
    "                \"genre\": row.get(\"genreLabel\", {}).get(\"value\", \"\"),\n",
    "                \"birth\": row.get(\"birth\", {}).get(\"value\", \"\"),\n",
    "                \"death\": row.get(\"death\", {}).get(\"value\", \"\")\n",
    "            })\n",
    "    time.sleep(0.8)  # respetar política de uso\n",
    "\n",
    "# =====================\n",
    "# 4. GUARDAR RESULTADO\n",
    "# =====================\n",
    "df_result = pd.DataFrame(results)\n",
    "\n",
    "# Inferir si está activo o no\n",
    "df_result[\"is_active\"] = df_result[\"death\"].apply(lambda x: \"No\" if x else \"Yes\")\n",
    "\n",
    "df_result.to_csv(\"wikidata_artists.csv\", index=False)\n",
    "print(\"✅ Archivo 'wikidata_artists.csv' creado correctamente.\")\n"
   ]
  },
  {
   "cell_type": "code",
   "execution_count": 26,
   "id": "6cd1fb7f",
   "metadata": {},
   "outputs": [
    {
     "name": "stdout",
     "output_type": "stream",
     "text": [
      "🔄 Cargando y limpiando datos...\n",
      "✅ Total artistas únicos: 30149\n",
      "🚀 Consultando Wikidata...\n"
     ]
    },
    {
     "name": "stderr",
     "output_type": "stream",
     "text": [
      "🔎 Batches SPARQL: 30160it [16:21, 30.73it/s]                           \n"
     ]
    },
    {
     "name": "stdout",
     "output_type": "stream",
     "text": [
      "✅ Archivo 'wikidata_artists.csv' creado correctamente.\n"
     ]
    }
   ],
   "source": [
    "import pandas as pd\n",
    "import requests\n",
    "from tqdm import tqdm\n",
    "import time\n",
    "import re\n",
    "\n",
    "# =======================\n",
    "# 1. CARGAR Y LIMPIAR CSV\n",
    "# =======================\n",
    "print(\"🔄 Cargando y limpiando datos...\")\n",
    "\n",
    "df = pd.read_csv(\"../data/artists.csv\", header=None, names=[\"raw\"])\n",
    "\n",
    "def separar_y_limpiar(nombre):\n",
    "    if pd.isna(nombre):\n",
    "        return []\n",
    "    separadores = [\";\", \",\", \"&\", \"Featuring\", \" feat.\", \"Feat.\", \" ft.\", \"/\", \" x \"]\n",
    "    for sep in separadores:\n",
    "        nombre = nombre.replace(sep, \"|\")\n",
    "    partes = nombre.split(\"|\")\n",
    "    return [re.sub(r'[^\\w\\s\\-]', '', p.strip().strip('\"').strip(\"'\")) for p in partes if p.strip()]\n",
    "\n",
    "todos_los_artistas = []\n",
    "for nombre in df[\"raw\"]:\n",
    "    todos_los_artistas.extend(separar_y_limpiar(nombre))\n",
    "\n",
    "artistas_unicos = sorted(set([a for a in todos_los_artistas if a]))\n",
    "print(f\"✅ Total artistas únicos: {len(artistas_unicos)}\")\n",
    "\n",
    "# =======================\n",
    "# 2. FUNCIONES SPARQL\n",
    "# =======================\n",
    "WIKIDATA_ENDPOINT = \"https://query.wikidata.org/sparql\"\n",
    "\n",
    "def construir_query_sparql(artistas):\n",
    "    values = \"\\n\".join([f'\"{nombre}\"@en' for nombre in artistas])\n",
    "    query = f\"\"\"\n",
    "    SELECT ?artistLabel ?birth ?death ?countryLabel ?typeLabel ?genreLabel ?awardLabel ?labelLabel WHERE {{\n",
    "      VALUES ?artistLabel {{ {values} }}\n",
    "      ?artist rdfs:label ?artistLabel.\n",
    "      FILTER(LANG(?artistLabel) = \"en\")\n",
    "      OPTIONAL {{ ?artist wdt:P27 ?country. }}\n",
    "      OPTIONAL {{ ?artist wdt:P31 ?type. }}\n",
    "      OPTIONAL {{ ?artist wdt:P136 ?genre. }}\n",
    "      OPTIONAL {{ ?artist wdt:P166 ?award. }}\n",
    "      OPTIONAL {{ ?artist wdt:P264 ?label. }}\n",
    "      OPTIONAL {{ ?artist wdt:P569 ?birth. }}\n",
    "      OPTIONAL {{ ?artist wdt:P570 ?death. }}\n",
    "      SERVICE wikibase:label {{ bd:serviceParam wikibase:language \"en\". }}\n",
    "    }}\n",
    "    \"\"\"\n",
    "    return query\n",
    "\n",
    "def obtener_datos_wikidata(artistas_batch):\n",
    "    query = construir_query_sparql(artistas_batch)\n",
    "    headers = {\"Accept\": \"application/sparql-results+json\"}\n",
    "    try:\n",
    "        response = requests.post(WIKIDATA_ENDPOINT, data={\"query\": query}, headers=headers)\n",
    "        response.raise_for_status()\n",
    "        return response.json()\n",
    "    except requests.exceptions.RequestException as e:\n",
    "        print(\"❌ Error en SPARQL:\", e)\n",
    "        return None\n",
    "\n",
    "# =======================\n",
    "# 3. CONSULTA ROBUSTA\n",
    "# =======================\n",
    "print(\"🚀 Consultando Wikidata...\")\n",
    "\n",
    "MAX_QUERY_SIZE = 60000\n",
    "results = []\n",
    "i = 0\n",
    "\n",
    "with tqdm(total=len(artistas_unicos), desc=\"🔎 Batches SPARQL\") as pbar:\n",
    "    while i < len(artistas_unicos):\n",
    "        batch_size = 80\n",
    "        batch_success = False\n",
    "\n",
    "        while batch_size > 0 and not batch_success:\n",
    "            batch = artistas_unicos[i:i+batch_size]\n",
    "            query = construir_query_sparql(batch)\n",
    "            if len(query.encode(\"utf-8\")) > MAX_QUERY_SIZE:\n",
    "                batch_size -= 5\n",
    "                continue\n",
    "\n",
    "            data = obtener_datos_wikidata(batch)\n",
    "            if data:\n",
    "                for row in data[\"results\"][\"bindings\"]:\n",
    "                    results.append({\n",
    "                        \"artist\": row.get(\"artistLabel\", {}).get(\"value\", \"\"),\n",
    "                        \"country\": row.get(\"countryLabel\", {}).get(\"value\", \"\"),\n",
    "                        \"type\": row.get(\"typeLabel\", {}).get(\"value\", \"\"),\n",
    "                        \"genre\": row.get(\"genreLabel\", {}).get(\"value\", \"\"),\n",
    "                        \"award\": row.get(\"awardLabel\", {}).get(\"value\", \"\"),\n",
    "                        \"label\": row.get(\"labelLabel\", {}).get(\"value\", \"\"),\n",
    "                        \"birth\": row.get(\"birth\", {}).get(\"value\", \"\"),\n",
    "                        \"death\": row.get(\"death\", {}).get(\"value\", \"\")\n",
    "                    })\n",
    "                batch_success = True\n",
    "                i += batch_size\n",
    "                pbar.update(batch_size)\n",
    "                time.sleep(1.1)\n",
    "            else:\n",
    "                batch_size = batch_size // 2\n",
    "\n",
    "        if not batch_success:\n",
    "            print(f\"⚠️  Saltando artista en índice {i}: {artistas_unicos[i]}\")\n",
    "            i += 1\n",
    "            pbar.update(1)\n",
    "\n",
    "# =======================\n",
    "# 4. GUARDAR RESULTADOS\n",
    "# =======================\n",
    "df_result = pd.DataFrame(results)\n",
    "\n",
    "# Normalizar columnas esperadas\n",
    "for col in [\"artist\", \"country\", \"type\", \"genre\", \"award\", \"label\", \"birth\", \"death\"]:\n",
    "    if col not in df_result.columns:\n",
    "        df_result[col] = \"\"\n",
    "\n",
    "\n",
    "\n",
    "df_result.to_csv(\"wikidata_artists.csv\", index=False)\n",
    "print(\"✅ Archivo 'wikidata_artists.csv' creado correctamente.\")\n",
    "\n"
   ]
  },
  {
   "cell_type": "code",
   "execution_count": null,
   "id": "a1e443a3",
   "metadata": {},
   "outputs": [
    {
     "name": "stdout",
     "output_type": "stream",
     "text": [
      "🔄 Cargando y limpiando datos...\n",
      "✅ Total artistas únicos: 30149\n",
      "🚀 Consultando Wikidata...\n"
     ]
    },
    {
     "name": "stderr",
     "output_type": "stream",
     "text": [
      "🔎 Batches SPARQL:  86%|████████▌ | 25920/30149 [12:53<01:57, 35.89it/s]"
     ]
    },
    {
     "name": "stdout",
     "output_type": "stream",
     "text": [
      "❌ Error en SPARQL: 503 Server Error: Backend fetch failed for url: https://query.wikidata.org/sparql\n"
     ]
    },
    {
     "name": "stderr",
     "output_type": "stream",
     "text": [
      "🔎 Batches SPARQL:  89%|████████▊ | 26730/30149 [13:22<01:51, 30.73it/s]"
     ]
    },
    {
     "name": "stdout",
     "output_type": "stream",
     "text": [
      "❌ Error en SPARQL: 503 Server Error: Backend fetch failed for url: https://query.wikidata.org/sparql\n"
     ]
    },
    {
     "name": "stderr",
     "output_type": "stream",
     "text": [
      "🔎 Batches SPARQL: 30180it [15:11, 33.12it/s]                           \n"
     ]
    },
    {
     "name": "stdout",
     "output_type": "stream",
     "text": [
      "✅ Archivo 'wikidata_artists.csv' creado correctamente.\n"
     ]
    }
   ],
   "source": [
    "import pandas as pd\n",
    "import requests\n",
    "from tqdm import tqdm\n",
    "import time\n",
    "import re\n",
    "\n",
    "# =======================\n",
    "# 1. CARGAR Y LIMPIAR CSV\n",
    "# =======================\n",
    "print(\"🔄 Cargando y limpiando datos...\")\n",
    "\n",
    "df = pd.read_csv(\"../data/artists.csv\", header=None, names=[\"raw\"])\n",
    "\n",
    "def separar_y_limpiar(nombre):\n",
    "    if pd.isna(nombre):\n",
    "        return []\n",
    "    separadores = [\";\", \",\", \"&\", \"Featuring\", \" feat.\", \"Feat.\", \" ft.\", \"/\", \" x \"]\n",
    "    for sep in separadores:\n",
    "        nombre = nombre.replace(sep, \"|\")\n",
    "    partes = nombre.split(\"|\")\n",
    "    return [re.sub(r'[^\\w\\s\\-]', '', p.strip().strip('\"').strip(\"'\")) for p in partes if p.strip()]\n",
    "\n",
    "todos_los_artistas = []\n",
    "for nombre in df[\"raw\"]:\n",
    "    todos_los_artistas.extend(separar_y_limpiar(nombre))\n",
    "\n",
    "artistas_unicos = sorted(set([a for a in todos_los_artistas if a]))\n",
    "print(f\"✅ Total artistas únicos: {len(artistas_unicos)}\")\n",
    "\n",
    "# =======================\n",
    "# 2. FUNCIONES SPARQL\n",
    "# =======================\n",
    "WIKIDATA_ENDPOINT = \"https://query.wikidata.org/sparql\"\n",
    "\n",
    "def construir_query_sparql(artistas):\n",
    "    values = \"\\n\".join([f'\"{nombre}\"@en' for nombre in artistas])\n",
    "    query = f\"\"\"\n",
    "    SELECT ?artistLabel ?birth ?death ?countryLabel ?typeLabel ?genreLabel ?awardLabel WHERE {{\n",
    "      VALUES ?artistLabel {{ {values} }}\n",
    "      ?artist rdfs:label ?artistLabel.\n",
    "      FILTER(LANG(?artistLabel) = \"en\")\n",
    "      OPTIONAL {{ ?artist wdt:P27 ?country. }}\n",
    "      OPTIONAL {{ ?artist wdt:P31 ?type. }}\n",
    "      OPTIONAL {{ ?artist wdt:P136 ?genre. }}\n",
    "      OPTIONAL {{ ?artist wdt:P166 ?award. }}\n",
    "      OPTIONAL {{ ?artist wdt:P569 ?birth. }}\n",
    "      OPTIONAL {{ ?artist wdt:P570 ?death. }}\n",
    "      SERVICE wikibase:label {{ bd:serviceParam wikibase:language \"en\". }}\n",
    "    }}\n",
    "    \"\"\"\n",
    "    return query\n",
    "\n",
    "def obtener_datos_wikidata(artistas_batch):\n",
    "    query = construir_query_sparql(artistas_batch)\n",
    "    headers = {\"Accept\": \"application/sparql-results+json\"}\n",
    "    try:\n",
    "        response = requests.post(WIKIDATA_ENDPOINT, data={\"query\": query}, headers=headers, timeout=20)\n",
    "        response.raise_for_status()\n",
    "        return response.json()\n",
    "    except requests.exceptions.RequestException as e:\n",
    "        print(\"❌ Error en SPARQL:\", e)\n",
    "        return None\n",
    "\n",
    "# =======================\n",
    "# 3. CONSULTA ROBUSTA\n",
    "# =======================\n",
    "print(\"🚀 Consultando Wikidata...\")\n",
    "\n",
    "MAX_QUERY_SIZE = 60000\n",
    "results = []\n",
    "i = 0\n",
    "\n",
    "with tqdm(total=len(artistas_unicos), desc=\"🔎 Batches SPARQL\") as pbar:\n",
    "    while i < len(artistas_unicos):\n",
    "        batch_size = 60\n",
    "        batch_success = False\n",
    "\n",
    "        while batch_size > 0 and not batch_success:\n",
    "            batch = artistas_unicos[i:i+batch_size]\n",
    "            query = construir_query_sparql(batch)\n",
    "            if len(query.encode(\"utf-8\")) > MAX_QUERY_SIZE:\n",
    "                batch_size -= 5\n",
    "                continue\n",
    "\n",
    "            data = obtener_datos_wikidata(batch)\n",
    "            if data:\n",
    "                for row in data[\"results\"][\"bindings\"]:\n",
    "                    results.append({\n",
    "                        \"artist\": row.get(\"artistLabel\", {}).get(\"value\", \"\"),\n",
    "                        \"country\": row.get(\"countryLabel\", {}).get(\"value\", \"\"),\n",
    "                        \"type\": row.get(\"typeLabel\", {}).get(\"value\", \"\"),\n",
    "                        \"genre\": row.get(\"genreLabel\", {}).get(\"value\", \"\"),\n",
    "                        \"award\": row.get(\"awardLabel\", {}).get(\"value\", \"\"),\n",
    "                        \"birth\": row.get(\"birth\", {}).get(\"value\", \"\"),\n",
    "                        \"death\": row.get(\"death\", {}).get(\"value\", \"\")\n",
    "                    })\n",
    "                batch_success = True\n",
    "                i += batch_size\n",
    "                pbar.update(batch_size)\n",
    "                time.sleep(1.1)\n",
    "            else:\n",
    "                batch_size = batch_size // 2\n",
    "\n",
    "        if not batch_success:\n",
    "            print(f\"⚠️  Saltando artista en índice {i}: {artistas_unicos[i]}\")\n",
    "            i += 1\n",
    "            pbar.update(1)\n",
    "\n",
    "# =======================\n",
    "# 4. GUARDAR RESULTADOS\n",
    "# =======================\n",
    "df_result = pd.DataFrame(results)\n",
    "\n",
    "# Ordenar columnas de forma explícita\n",
    "columnas_ordenadas = [\"artist\", \"country\", \"type\", \"genre\", \"award\", \"birth\", \"death\"]\n",
    "df_result = df_result[columnas_ordenadas]\n",
    "\n",
    "# Guardar CSV\n",
    "df_result.to_csv(\"wikidata_artists.csv\", index=False)\n",
    "print(\"✅ Archivo 'wikidata_artists.csv' creado correctamente con columnas ordenadas.\")\n",
    "\n",
    "\n"
   ]
  },
  {
   "cell_type": "code",
   "execution_count": null,
   "id": "7653289f",
   "metadata": {},
   "outputs": [
    {
     "name": "stdout",
     "output_type": "stream",
     "text": [
      "🔄 Cargando y limpiando datos...\n",
      "✅ Total artistas únicos: 30149\n",
      "🚀 Consultando Wikidata...\n"
     ]
    },
    {
     "name": "stderr",
     "output_type": "stream",
     "text": [
      "🔎 Batches SPARQL: 30180it [14:12, 35.40it/s]                           "
     ]
    },
    {
     "name": "stdout",
     "output_type": "stream",
     "text": [
      "✅ Archivo 'wikidata_artists.csv' creado correctamente.\n"
     ]
    },
    {
     "name": "stderr",
     "output_type": "stream",
     "text": [
      "\n"
     ]
    }
   ],
   "source": [
    "import pandas as pd\n",
    "import requests\n",
    "from tqdm import tqdm\n",
    "import time\n",
    "import re\n",
    "\n",
    "# =======================\n",
    "# 1. CARGAR Y LIMPIAR CSV\n",
    "# =======================\n",
    "print(\"🔄 Cargando y limpiando datos...\")\n",
    "\n",
    "df = pd.read_csv(\"../data/artists.csv\", header=None, names=[\"raw\"])\n",
    "\n",
    "def separar_y_limpiar(nombre):\n",
    "    if pd.isna(nombre):\n",
    "        return []\n",
    "    separadores = [\";\", \",\", \"&\", \"Featuring\", \" feat.\", \"Feat.\", \" ft.\", \"/\", \" x \"]\n",
    "    for sep in separadores:\n",
    "        nombre = nombre.replace(sep, \"|\")\n",
    "    partes = nombre.split(\"|\")\n",
    "    return [re.sub(r'[^\\w\\s\\-]', '', p.strip().strip('\"').strip(\"'\")) for p in partes if p.strip()]\n",
    "\n",
    "todos_los_artistas = []\n",
    "for nombre in df[\"raw\"]:\n",
    "    todos_los_artistas.extend(separar_y_limpiar(nombre))\n",
    "\n",
    "artistas_unicos = sorted(set([a for a in todos_los_artistas if a]))\n",
    "print(f\"✅ Total artistas únicos: {len(artistas_unicos)}\")\n",
    "\n",
    "# =======================\n",
    "# 2. FUNCIONES SPARQL\n",
    "# =======================\n",
    "WIKIDATA_ENDPOINT = \"https://query.wikidata.org/sparql\"\n",
    "\n",
    "def construir_query_sparql(artistas):\n",
    "    values = \"\\n\".join([f'\"{nombre}\"@en' for nombre in artistas])\n",
    "    query = f\"\"\"\n",
    "    SELECT ?artistLabel ?birth ?death ?countryLabel ?typeLabel ?genreLabel WHERE {{\n",
    "      VALUES ?name {{ {values} }}\n",
    "      ?artist rdfs:label ?name.\n",
    "      FILTER(LANG(?name) = \"en\")\n",
    "      \n",
    "      # Filtrar por instancias válidas (solo humanos o grupos musicales)\n",
    "      ?artist wdt:P31 ?type.\n",
    "      FILTER(?type IN (wd:Q5, wd:Q215380, wd:Q2088357))\n",
    "      \n",
    "      OPTIONAL {{ ?artist wdt:P27 ?country. }}\n",
    "      OPTIONAL {{ ?artist wdt:P136 ?genre. }}\n",
    "      OPTIONAL {{ ?artist wdt:P569 ?birth. }}\n",
    "      OPTIONAL {{ ?artist wdt:P570 ?death. }}\n",
    "      SERVICE wikibase:label {{ bd:serviceParam wikibase:language \"en\". }}\n",
    "    }}\n",
    "    \"\"\"\n",
    "    return query\n",
    "\n",
    "\n",
    "def obtener_datos_wikidata(artistas_batch):\n",
    "    query = construir_query_sparql(artistas_batch)\n",
    "    headers = {\"Accept\": \"application/sparql-results+json\"}\n",
    "    try:\n",
    "        response = requests.post(WIKIDATA_ENDPOINT, data={\"query\": query}, headers=headers)\n",
    "        response.raise_for_status()\n",
    "        return response.json()\n",
    "    except requests.exceptions.RequestException as e:\n",
    "        print(\"❌ Error en SPARQL:\", e)\n",
    "        return None\n",
    "\n",
    "# =======================\n",
    "# 3. CONSULTA ROBUSTA\n",
    "# =======================\n",
    "print(\"🚀 Consultando Wikidata...\")\n",
    "\n",
    "MAX_QUERY_SIZE = 60000\n",
    "results = []\n",
    "i = 0\n",
    "\n",
    "with tqdm(total=len(artistas_unicos), desc=\"🔎 Batches SPARQL\") as pbar:\n",
    "    while i < len(artistas_unicos):\n",
    "        batch_size = 60\n",
    "        batch_success = False\n",
    "\n",
    "        while batch_size > 0 and not batch_success:\n",
    "            batch = artistas_unicos[i:i+batch_size]\n",
    "            query = construir_query_sparql(batch)\n",
    "            if len(query.encode(\"utf-8\")) > MAX_QUERY_SIZE:\n",
    "                batch_size -= 5\n",
    "                continue\n",
    "\n",
    "            data = obtener_datos_wikidata(batch)\n",
    "            if data:\n",
    "                for row in data[\"results\"][\"bindings\"]:\n",
    "                    results.append({\n",
    "                        \"artist\": row.get(\"artistLabel\", {}).get(\"value\", \"\"),\n",
    "                        \"country\": row.get(\"countryLabel\", {}).get(\"value\", \"\"),\n",
    "                        \"type\": row.get(\"typeLabel\", {}).get(\"value\", \"\"),\n",
    "                        \"genre\": row.get(\"genreLabel\", {}).get(\"value\", \"\"),\n",
    "                        \"award\": row.get(\"awardLabel\", {}).get(\"value\", \"\"),\n",
    "                        \"birth\": row.get(\"birth\", {}).get(\"value\", \"\"),\n",
    "                        \"death\": row.get(\"death\", {}).get(\"value\", \"\")\n",
    "                    })\n",
    "                batch_success = True\n",
    "                i += batch_size\n",
    "                pbar.update(batch_size)\n",
    "                time.sleep(1.1)\n",
    "            else:\n",
    "                batch_size = batch_size // 2\n",
    "\n",
    "        if not batch_success:\n",
    "            print(f\"⚠️  Saltando artista en índice {i}: {artistas_unicos[i]}\")\n",
    "            i += 1\n",
    "            pbar.update(1)\n",
    "\n",
    "# =======================\n",
    "# 4. GUARDAR RESULTADOS\n",
    "# =======================\n",
    "df_result = pd.DataFrame(results)\n",
    "\n",
    "# Reordenar columnas correctamente\n",
    "df_result = df_result[[\"artist\", \"country\", \"type\", \"genre\", \"award\", \"birth\", \"death\"]]\n",
    "df_result.to_csv(\"../data/wikidata_artists.csv\", index=False)\n",
    "print(\"✅ Archivo 'wikidata_artists.csv' creado correctamente.\")\n"
   ]
  },
  {
   "cell_type": "code",
   "execution_count": 1,
   "id": "3520d7fc",
   "metadata": {},
   "outputs": [
    {
     "name": "stdout",
     "output_type": "stream",
     "text": [
      "🔄 Cargando y limpiando datos...\n",
      "✅ Total artistas únicos: 30149\n",
      "🚀 Consultando Wikidata...\n"
     ]
    },
    {
     "name": "stderr",
     "output_type": "stream",
     "text": [
      "🔎 Batches SPARQL:  34%|███▍      | 10260/30149 [04:40<08:13, 40.34it/s]"
     ]
    },
    {
     "name": "stdout",
     "output_type": "stream",
     "text": [
      "❌ Error en SPARQL: HTTPSConnectionPool(host='query.wikidata.org', port=443): Max retries exceeded with url: /sparql (Caused by ConnectTimeoutError(<urllib3.connection.HTTPSConnection object at 0x000001DF407D53D0>, 'Connection to query.wikidata.org timed out. (connect timeout=None)'))\n"
     ]
    },
    {
     "name": "stderr",
     "output_type": "stream",
     "text": [
      "🔎 Batches SPARQL:  54%|█████▍    | 16230/30149 [07:13<06:11, 37.43it/s]\n"
     ]
    },
    {
     "ename": "KeyboardInterrupt",
     "evalue": "",
     "output_type": "error",
     "traceback": [
      "\u001b[31m---------------------------------------------------------------------------\u001b[39m",
      "\u001b[31mKeyboardInterrupt\u001b[39m                         Traceback (most recent call last)",
      "\u001b[36mCell\u001b[39m\u001b[36m \u001b[39m\u001b[32mIn[1]\u001b[39m\u001b[32m, line 105\u001b[39m\n\u001b[32m    103\u001b[39m     i += batch_size\n\u001b[32m    104\u001b[39m     pbar.update(batch_size)\n\u001b[32m--> \u001b[39m\u001b[32m105\u001b[39m     \u001b[43mtime\u001b[49m\u001b[43m.\u001b[49m\u001b[43msleep\u001b[49m\u001b[43m(\u001b[49m\u001b[32;43m1.1\u001b[39;49m\u001b[43m)\u001b[49m\n\u001b[32m    106\u001b[39m \u001b[38;5;28;01melse\u001b[39;00m:\n\u001b[32m    107\u001b[39m     batch_size = batch_size // \u001b[32m2\u001b[39m\n",
      "\u001b[31mKeyboardInterrupt\u001b[39m: "
     ]
    }
   ],
   "source": [
    "import pandas as pd\n",
    "import requests\n",
    "from tqdm import tqdm\n",
    "import time\n",
    "import re\n",
    "\n",
    "# =======================\n",
    "# 1. CARGAR Y LIMPIAR CSV\n",
    "# =======================\n",
    "print(\"🔄 Cargando y limpiando datos...\")\n",
    "\n",
    "df = pd.read_csv(\"../data/artists.csv\", header=None, names=[\"raw\"])\n",
    "\n",
    "def separar_y_limpiar(nombre):\n",
    "    if pd.isna(nombre):\n",
    "        return []\n",
    "    separadores = [\";\", \",\", \"&\", \"Featuring\", \" feat.\", \"Feat.\", \" ft.\", \"/\", \" x \"]\n",
    "    for sep in separadores:\n",
    "        nombre = nombre.replace(sep, \"|\")\n",
    "    partes = nombre.split(\"|\")\n",
    "    return [re.sub(r'[^\\w\\s\\-]', '', p.strip().strip('\"').strip(\"'\")) for p in partes if p.strip()]\n",
    "\n",
    "todos_los_artistas = []\n",
    "for nombre in df[\"raw\"]:\n",
    "    todos_los_artistas.extend(separar_y_limpiar(nombre))\n",
    "\n",
    "artistas_unicos = sorted(set([a for a in todos_los_artistas if a]))\n",
    "print(f\"✅ Total artistas únicos: {len(artistas_unicos)}\")\n",
    "\n",
    "# =======================\n",
    "# 2. CONSULTA SPARQL FILTRADA\n",
    "# =======================\n",
    "WIKIDATA_ENDPOINT = \"https://query.wikidata.org/sparql\"\n",
    "TIPOS_VALIDOS = [\"human\", \"musical group\", \"vocal group\", \"music ensemble\", \"band\"]\n",
    "\n",
    "def construir_query_sparql(artistas):\n",
    "    values = \"\\n\".join([f'\"{nombre}\"@en' for nombre in artistas])\n",
    "    tipos_validos = '\", \"'.join(TIPOS_VALIDOS)\n",
    "    query = f\"\"\"\n",
    "    SELECT ?artistLabel ?birth ?death ?countryLabel ?typeLabel ?genreLabel ?awardLabel ?genderLabel WHERE {{\n",
    "      VALUES ?name {{ {values} }}\n",
    "      ?artist rdfs:label ?name.\n",
    "      FILTER(LANG(?name) = \"en\")\n",
    "      OPTIONAL {{ ?artist wdt:P27 ?country. }}\n",
    "      OPTIONAL {{ ?artist wdt:P31 ?type. }}\n",
    "      OPTIONAL {{ ?artist wdt:P136 ?genre. }}\n",
    "      OPTIONAL {{ ?artist wdt:P166 ?award. }}\n",
    "      OPTIONAL {{ ?artist wdt:P569 ?birth. }}\n",
    "      OPTIONAL {{ ?artist wdt:P570 ?death. }}\n",
    "      OPTIONAL {{ ?artist wdt:P21 ?gender. }}\n",
    "      SERVICE wikibase:label {{ bd:serviceParam wikibase:language \"en\". }}\n",
    "      FILTER(?typeLabel IN (\"{tipos_validos}\"))\n",
    "    }}\n",
    "    \"\"\"\n",
    "    return query\n",
    "\n",
    "def obtener_datos_wikidata(artistas_batch):\n",
    "    query = construir_query_sparql(artistas_batch)\n",
    "    headers = {\"Accept\": \"application/sparql-results+json\"}\n",
    "    try:\n",
    "        response = requests.post(WIKIDATA_ENDPOINT, data={\"query\": query}, headers=headers)\n",
    "        response.raise_for_status()\n",
    "        return response.json()\n",
    "    except requests.exceptions.RequestException as e:\n",
    "        print(\"❌ Error en SPARQL:\", e)\n",
    "        return None\n",
    "\n",
    "# =======================\n",
    "# 3. CONSULTA ROBUSTA\n",
    "# =======================\n",
    "print(\"🚀 Consultando Wikidata...\")\n",
    "\n",
    "MAX_QUERY_SIZE = 60000\n",
    "results = []\n",
    "i = 0\n",
    "\n",
    "with tqdm(total=len(artistas_unicos), desc=\"🔎 Batches SPARQL\") as pbar:\n",
    "    while i < len(artistas_unicos):\n",
    "        batch_size = 60\n",
    "        batch_success = False\n",
    "\n",
    "        while batch_size > 0 and not batch_success:\n",
    "            batch = artistas_unicos[i:i+batch_size]\n",
    "            query = construir_query_sparql(batch)\n",
    "            if len(query.encode(\"utf-8\")) > MAX_QUERY_SIZE:\n",
    "                batch_size -= 5\n",
    "                continue\n",
    "\n",
    "            data = obtener_datos_wikidata(batch)\n",
    "            if data:\n",
    "                for row in data[\"results\"][\"bindings\"]:\n",
    "                    results.append({\n",
    "                        \"artist\": row.get(\"artistLabel\", {}).get(\"value\", \"\"),\n",
    "                        \"country\": row.get(\"countryLabel\", {}).get(\"value\", \"\"),\n",
    "                        \"type\": row.get(\"typeLabel\", {}).get(\"value\", \"\"),\n",
    "                        \"genre\": row.get(\"genreLabel\", {}).get(\"value\", \"\"),\n",
    "                        \"award\": row.get(\"awardLabel\", {}).get(\"value\", \"\"),\n",
    "                        \"birth\": row.get(\"birth\", {}).get(\"value\", \"\"),\n",
    "                        \"death\": row.get(\"death\", {}).get(\"value\", \"\"),\n",
    "                        \"gender\": row.get(\"genderLabel\", {}).get(\"value\", \"\")  # Nuevo campo\n",
    "                    })\n",
    "                batch_success = True\n",
    "                i += batch_size\n",
    "                pbar.update(batch_size)\n",
    "                time.sleep(1.1)\n",
    "            else:\n",
    "                batch_size = batch_size // 2\n",
    "\n",
    "        if not batch_success:\n",
    "            print(f\"⚠️  Saltando artista en índice {i}: {artistas_unicos[i]}\")\n",
    "            i += 1\n",
    "            pbar.update(1)\n",
    "\n",
    "# =======================\n",
    "# 4. GUARDAR RESULTADOS\n",
    "# =======================\n",
    "columnas_ordenadas = [\"artist\", \"country\", \"type\", \"genre\", \"award\", \"birth\", \"death\", \"gender\"]\n",
    "df_result = pd.DataFrame(results, columns=columnas_ordenadas)\n",
    "df_result.to_csv(\"../data/wikidata_artists.csv\", index=False)\n",
    "print(\"✅ Archivo 'wikidata_artists.csv' creado correctamente.\")"
   ]
  },
  {
   "cell_type": "code",
   "execution_count": 4,
   "id": "fbcaabdc",
   "metadata": {},
   "outputs": [
    {
     "name": "stdout",
     "output_type": "stream",
     "text": [
      "🔄 Cargando y limpiando datos...\n",
      "✅ Total artistas únicos: 30149\n",
      "🚀 Consultando Wikidata...\n"
     ]
    },
    {
     "name": "stderr",
     "output_type": "stream",
     "text": [
      "🔎 Batches SPARQL: 30180it [26:21, 19.08it/s]                           \n"
     ]
    },
    {
     "name": "stdout",
     "output_type": "stream",
     "text": [
      "✅ Archivo 'wikidata_artists.csv' creado correctamente.\n"
     ]
    }
   ],
   "source": [
    "import pandas as pd\n",
    "import requests\n",
    "from tqdm import tqdm\n",
    "import time\n",
    "import re\n",
    "\n",
    "# =======================\n",
    "# 1. CARGAR Y LIMPIAR CSV\n",
    "# =======================\n",
    "print(\"🔄 Cargando y limpiando datos...\")\n",
    "\n",
    "df = pd.read_csv(\"../data/artists.csv\", header=None, names=[\"raw\"])\n",
    "\n",
    "def separar_y_limpiar(nombre):\n",
    "    if pd.isna(nombre):\n",
    "        return []\n",
    "    separadores = [\";\", \",\", \"&\", \"Featuring\", \" feat.\", \"Feat.\", \" ft.\", \"/\", \" x \"]\n",
    "    for sep in separadores:\n",
    "        nombre = nombre.replace(sep, \"|\")\n",
    "    partes = nombre.split(\"|\")\n",
    "    return [re.sub(r'[^\\w\\s\\-]', '', p.strip().strip('\"').strip(\"'\")) for p in partes if p.strip()]\n",
    "\n",
    "todos_los_artistas = []\n",
    "for nombre in df[\"raw\"]:\n",
    "    todos_los_artistas.extend(separar_y_limpiar(nombre))\n",
    "\n",
    "artistas_unicos = sorted(set([a for a in todos_los_artistas if a]))\n",
    "print(f\"✅ Total artistas únicos: {len(artistas_unicos)}\")\n",
    "\n",
    "# =======================\n",
    "# 2. CONSULTA SPARQL CON TODOS LOS CAMPOS\n",
    "# =======================\n",
    "WIKIDATA_ENDPOINT = \"https://query.wikidata.org/sparql\"\n",
    "\n",
    "def construir_query_sparql(artistas):\n",
    "    values = \"\\n\".join([f'\"{nombre}\"@en' for nombre in artistas])\n",
    "    query = f\"\"\"\n",
    "    SELECT ?artistLabel ?birth ?death ?countryLabel ?typeLabel ?genreLabel ?awardLabel WHERE {{\n",
    "      VALUES ?name {{ {values} }}\n",
    "      ?artist rdfs:label ?name.\n",
    "      ?artist wdt:P166 ?award.\n",
    "      ?award rdfs:label ?awardLabel.\n",
    "      OPTIONAL {{ ?artist wdt:P27 ?country. }}\n",
    "      OPTIONAL {{ ?artist wdt:P31 ?type. }}\n",
    "      OPTIONAL {{ ?artist wdt:P136 ?genre. }}\n",
    "      OPTIONAL {{ ?artist wdt:P569 ?birth. }}\n",
    "      OPTIONAL {{ ?artist wdt:P570 ?death. }}\n",
    "      OPTIONAL {{ ?artist wdt:P21 ?gender. }}      \n",
    "      SERVICE wikibase:label {{ bd:serviceParam wikibase:language \"[AUTO_LANGUAGE],en\". }}\n",
    "    }}\n",
    "    \"\"\"\n",
    "    return query\n",
    "\n",
    "def obtener_datos_wikidata(artistas_batch):\n",
    "    query = construir_query_sparql(artistas_batch)\n",
    "    headers = {\"Accept\": \"application/sparql-results+json\"}\n",
    "    try:\n",
    "        response = requests.post(WIKIDATA_ENDPOINT, data={\"query\": query}, headers=headers)\n",
    "        response.raise_for_status()\n",
    "        return response.json()\n",
    "    except requests.exceptions.RequestException as e:\n",
    "        print(\"❌ Error en SPARQL:\", e)\n",
    "        return None\n",
    "\n",
    "# =======================\n",
    "# 3. CONSULTA ROBUSTA\n",
    "# =======================\n",
    "print(\"🚀 Consultando Wikidata...\")\n",
    "\n",
    "MAX_QUERY_SIZE = 60000\n",
    "results = []\n",
    "i = 0\n",
    "\n",
    "with tqdm(total=len(artistas_unicos), desc=\"🔎 Batches SPARQL\") as pbar:\n",
    "    while i < len(artistas_unicos):\n",
    "        batch_size = 60\n",
    "        batch_success = False\n",
    "\n",
    "        while batch_size > 0 and not batch_success:\n",
    "            batch = artistas_unicos[i:i+batch_size]\n",
    "            query = construir_query_sparql(batch)\n",
    "            if len(query.encode(\"utf-8\")) > MAX_QUERY_SIZE:\n",
    "                batch_size -= 5\n",
    "                continue\n",
    "\n",
    "            data = obtener_datos_wikidata(batch)\n",
    "            if data:\n",
    "                for row in data[\"results\"][\"bindings\"]:\n",
    "                    results.append({\n",
    "                        \"artist\": row.get(\"artistLabel\", {}).get(\"value\", \"\"),\n",
    "                        \"birth\": row.get(\"birth\", {}).get(\"value\", \"\"),\n",
    "                        \"death\": row.get(\"death\", {}).get(\"value\", \"\"),\n",
    "                        \"country\": row.get(\"countryLabel\", {}).get(\"value\", \"\"),\n",
    "                        \"type\": row.get(\"typeLabel\", {}).get(\"value\", \"\"),\n",
    "                        \"genre\": row.get(\"genreLabel\", {}).get(\"value\", \"\"),\n",
    "                        \"award\": row.get(\"awardLabel\", {}).get(\"value\", \"No awards\"),\n",
    "                        \"gender\": row.get(\"genderLabel\", {}).get(\"value\", \"\")  # Nuevo campo  # Si no hay premios, asignamos \"No awards\"\n",
    "                    })\n",
    "                batch_success = True\n",
    "                i += batch_size\n",
    "                pbar.update(batch_size)\n",
    "                time.sleep(1.1)\n",
    "            else:\n",
    "                batch_size = batch_size // 2\n",
    "\n",
    "        if not batch_success:\n",
    "            print(f\"⚠️  Saltando artista en índice {i}: {artistas_unicos[i]}\")\n",
    "            i += 1\n",
    "            pbar.update(1)\n",
    "\n",
    "# =======================\n",
    "# 4. GUARDAR RESULTADOS\n",
    "# =======================\n",
    "columnas_ordenadas = [\"artist\", \"country\", \"type\", \"genre\", \"award\", \"birth\", \"death\", \"gender\"]\n",
    "df_result = pd.DataFrame(results, columns=columnas_ordenadas)\n",
    "df_result.to_csv(\"../data/wikidata_artists.csv\", index=False)\n",
    "print(\"✅ Archivo 'wikidata_artists.csv' creado correctamente.\")\n"
   ]
  },
  {
   "cell_type": "code",
   "execution_count": 5,
   "id": "bdafbdd9",
   "metadata": {},
   "outputs": [
    {
     "name": "stdout",
     "output_type": "stream",
     "text": [
      "🔄 Cargando y limpiando datos...\n",
      "✅ Total artistas únicos: 30149\n",
      "🚀 Consultando Wikidata...\n"
     ]
    },
    {
     "name": "stderr",
     "output_type": "stream",
     "text": [
      "🔎 Batches SPARQL: 30180it [29:06, 17.28it/s]                            \n"
     ]
    },
    {
     "name": "stdout",
     "output_type": "stream",
     "text": [
      "✅ Archivo 'wikidata_artists.csv' creado correctamente.\n"
     ]
    }
   ],
   "source": [
    "import pandas as pd\n",
    "import requests\n",
    "from tqdm import tqdm\n",
    "import time\n",
    "import re\n",
    "\n",
    "# =======================\n",
    "# 1. CARGAR Y LIMPIAR CSV\n",
    "# =======================\n",
    "print(\"🔄 Cargando y limpiando datos...\")\n",
    "\n",
    "df = pd.read_csv(\"../data/artists.csv\", header=None, names=[\"raw\"])\n",
    "\n",
    "def separar_y_limpiar(nombre):\n",
    "    if pd.isna(nombre):\n",
    "        return []\n",
    "    separadores = [\";\", \",\", \"&\", \"Featuring\", \" feat.\", \"Feat.\", \" ft.\", \"/\", \" x \"]\n",
    "    for sep in separadores:\n",
    "        nombre = nombre.replace(sep, \"|\")\n",
    "    partes = nombre.split(\"|\")\n",
    "    return [re.sub(r'[^\\w\\s\\-]', '', p.strip().strip('\"').strip(\"'\")) for p in partes if p.strip()]\n",
    "\n",
    "todos_los_artistas = []\n",
    "for nombre in df[\"raw\"]:\n",
    "    todos_los_artistas.extend(separar_y_limpiar(nombre))\n",
    "\n",
    "artistas_unicos = sorted(set([a for a in todos_los_artistas if a]))\n",
    "print(f\"✅ Total artistas únicos: {len(artistas_unicos)}\")\n",
    "\n",
    "# =======================\n",
    "# 2. CONSULTA SPARQL CON TODOS LOS CAMPOS\n",
    "# =======================\n",
    "WIKIDATA_ENDPOINT = \"https://query.wikidata.org/sparql\"\n",
    "\n",
    "def construir_query_sparql(artistas):\n",
    "    values = \"\\n\".join([f'\"{nombre}\"@en' for nombre in artistas])\n",
    "    query = f\"\"\"\n",
    "    SELECT ?artistLabel ?birth ?death ?countryLabel ?typeLabel ?genreLabel ?awardLabel ?genderLabel WHERE {{\n",
    "      VALUES ?name {{ {values} }}\n",
    "      ?artist rdfs:label ?name.\n",
    "      ?artist wdt:P166 ?award.\n",
    "      ?award rdfs:label ?awardLabel.\n",
    "      OPTIONAL {{ ?artist wdt:P27 ?country. }}\n",
    "      OPTIONAL {{ ?artist wdt:P31 ?type. }}\n",
    "      OPTIONAL {{ ?artist wdt:P136 ?genre. }}\n",
    "      OPTIONAL {{ ?artist wdt:P569 ?birth. }}\n",
    "      OPTIONAL {{ ?artist wdt:P570 ?death. }}\n",
    "      OPTIONAL {{ ?artist wdt:P21 ?gender. }}  # Género con P21\n",
    "      SERVICE wikibase:label {{ bd:serviceParam wikibase:language \"[AUTO_LANGUAGE],en\". }}\n",
    "    }}\n",
    "    \"\"\"\n",
    "    return query\n",
    "\n",
    "def obtener_datos_wikidata(artistas_batch):\n",
    "    query = construir_query_sparql(artistas_batch)\n",
    "    headers = {\"Accept\": \"application/sparql-results+json\"}\n",
    "    try:\n",
    "        response = requests.post(WIKIDATA_ENDPOINT, data={\"query\": query}, headers=headers)\n",
    "        response.raise_for_status()\n",
    "        return response.json()\n",
    "    except requests.exceptions.RequestException as e:\n",
    "        print(\"❌ Error en SPARQL:\", e)\n",
    "        return None\n",
    "\n",
    "# =======================\n",
    "# 3. CONSULTA ROBUSTA\n",
    "# =======================\n",
    "print(\"🚀 Consultando Wikidata...\")\n",
    "\n",
    "MAX_QUERY_SIZE = 60000\n",
    "results = []\n",
    "i = 0\n",
    "\n",
    "with tqdm(total=len(artistas_unicos), desc=\"🔎 Batches SPARQL\") as pbar:\n",
    "    while i < len(artistas_unicos):\n",
    "        batch_size = 60\n",
    "        batch_success = False\n",
    "\n",
    "        while batch_size > 0 and not batch_success:\n",
    "            batch = artistas_unicos[i:i+batch_size]\n",
    "            query = construir_query_sparql(batch)\n",
    "            if len(query.encode(\"utf-8\")) > MAX_QUERY_SIZE:\n",
    "                batch_size -= 5\n",
    "                continue\n",
    "\n",
    "            data = obtener_datos_wikidata(batch)\n",
    "            if data:\n",
    "                for row in data[\"results\"][\"bindings\"]:\n",
    "                    results.append({\n",
    "                        \"artist\": row.get(\"artistLabel\", {}).get(\"value\", \"\"),\n",
    "                        \"birth\": row.get(\"birth\", {}).get(\"value\", \"\"),\n",
    "                        \"death\": row.get(\"death\", {}).get(\"value\", \"\"),\n",
    "                        \"country\": row.get(\"countryLabel\", {}).get(\"value\", \"\"),\n",
    "                        \"type\": row.get(\"typeLabel\", {}).get(\"value\", \"\"),\n",
    "                        \"genre\": row.get(\"genreLabel\", {}).get(\"value\", \"\"),\n",
    "                        \"award\": row.get(\"awardLabel\", {}).get(\"value\", \"No awards\"),\n",
    "                        \"gender\": row.get(\"genderLabel\", {}).get(\"value\", \"Unknown\")  # Valor por defecto si no hay género\n",
    "                    })\n",
    "                batch_success = True\n",
    "                i += batch_size\n",
    "                pbar.update(batch_size)\n",
    "                time.sleep(1.1)\n",
    "            else:\n",
    "                batch_size = batch_size // 2\n",
    "\n",
    "        if not batch_success:\n",
    "            print(f\"⚠️  Saltando artista en índice {i}: {artistas_unicos[i]}\")\n",
    "            i += 1\n",
    "            pbar.update(1)\n",
    "\n",
    "# =======================\n",
    "# 4. GUARDAR RESULTADOS\n",
    "# =======================\n",
    "columnas_ordenadas = [\"artist\", \"country\", \"type\", \"genre\", \"award\", \"birth\", \"death\", \"gender\"]\n",
    "df_result = pd.DataFrame(results, columns=columnas_ordenadas)\n",
    "df_result.to_csv(\"../data/wikidata_artists.csv\", index=False)\n",
    "print(\"✅ Archivo 'wikidata_artists.csv' creado correctamente.\")\n"
   ]
  },
  {
   "cell_type": "code",
   "execution_count": null,
   "id": "58200e31",
   "metadata": {},
   "outputs": [
    {
     "name": "stderr",
     "output_type": "stream",
     "text": [
      "Procesando artistas:   0%|          | 0/2110 [00:00<?, ?it/s]"
     ]
    },
    {
     "name": "stdout",
     "output_type": "stream",
     "text": [
      "⚠️ Respuesta vacía para artist. Intento 1/3\n",
      "⚠️ Respuesta vacía para artist. Intento 2/3\n",
      "⚠️ Respuesta vacía para artist. Intento 3/3\n"
     ]
    },
    {
     "name": "stderr",
     "output_type": "stream",
     "text": [
      "Procesando artistas:   0%|          | 1/2110 [00:12<7:15:08, 12.38s/it]"
     ]
    },
    {
     "name": "stdout",
     "output_type": "stream",
     "text": [
      "⚠️ Respuesta vacía para Billie Eilish. Intento 1/3\n",
      "⚠️ Respuesta vacía para Billie Eilish. Intento 2/3\n"
     ]
    },
    {
     "name": "stderr",
     "output_type": "stream",
     "text": [
      "Procesando artistas:   0%|          | 2/2110 [00:13<3:22:34,  5.77s/it]"
     ]
    },
    {
     "name": "stdout",
     "output_type": "stream",
     "text": [
      "⚠️ Respuesta vacía para Billie Eilish. Intento 3/3\n",
      "⚠️ Respuesta vacía para Bon Iver. Intento 1/3\n",
      "⚠️ Respuesta vacía para Bon Iver. Intento 2/3\n",
      "⚠️ Respuesta vacía para Bon Iver. Intento 3/3\n"
     ]
    },
    {
     "name": "stderr",
     "output_type": "stream",
     "text": [
      "Procesando artistas:   0%|          | 3/2110 [00:14<2:11:25,  3.74s/it]"
     ]
    },
    {
     "name": "stdout",
     "output_type": "stream",
     "text": [
      "⚠️ Respuesta vacía para Ariana Grande. Intento 1/3\n",
      "⚠️ Respuesta vacía para Ariana Grande. Intento 2/3\n"
     ]
    },
    {
     "name": "stderr",
     "output_type": "stream",
     "text": [
      "Procesando artistas:   0%|          | 4/2110 [00:15<1:34:51,  2.70s/it]"
     ]
    },
    {
     "name": "stdout",
     "output_type": "stream",
     "text": [
      "⚠️ Respuesta vacía para Ariana Grande. Intento 3/3\n",
      "⚠️ Respuesta vacía para H.E.R.. Intento 1/3\n",
      "⚠️ Respuesta vacía para H.E.R.. Intento 2/3\n"
     ]
    },
    {
     "name": "stderr",
     "output_type": "stream",
     "text": [
      "Procesando artistas:   0%|          | 5/2110 [00:17<1:17:06,  2.20s/it]"
     ]
    },
    {
     "name": "stdout",
     "output_type": "stream",
     "text": [
      "⚠️ Respuesta vacía para H.E.R.. Intento 3/3\n",
      "⚠️ Respuesta vacía para Khalid. Intento 1/3\n",
      "⚠️ Respuesta vacía para Khalid. Intento 2/3\n"
     ]
    },
    {
     "name": "stderr",
     "output_type": "stream",
     "text": [
      "Procesando artistas:   0%|          | 6/2110 [00:18<1:04:41,  1.84s/it]"
     ]
    },
    {
     "name": "stdout",
     "output_type": "stream",
     "text": [
      "⚠️ Respuesta vacía para Khalid. Intento 3/3\n",
      "⚠️ Respuesta vacía para Lil Nas X. Intento 1/3\n",
      "⚠️ Respuesta vacía para Lil Nas X. Intento 2/3\n"
     ]
    },
    {
     "name": "stderr",
     "output_type": "stream",
     "text": [
      "Procesando artistas:   0%|          | 7/2110 [00:19<57:54,  1.65s/it]  "
     ]
    },
    {
     "name": "stdout",
     "output_type": "stream",
     "text": [
      "⚠️ Respuesta vacía para Lil Nas X. Intento 3/3\n",
      "⚠️ Respuesta vacía para Lizzo. Intento 1/3\n",
      "⚠️ Respuesta vacía para Lizzo. Intento 2/3\n"
     ]
    },
    {
     "name": "stderr",
     "output_type": "stream",
     "text": [
      "Procesando artistas:   0%|          | 8/2110 [00:20<53:16,  1.52s/it]"
     ]
    },
    {
     "name": "stdout",
     "output_type": "stream",
     "text": [
      "⚠️ Respuesta vacía para Lizzo. Intento 3/3\n",
      "⚠️ Respuesta vacía para Post Malone. Intento 1/3\n",
      "⚠️ Respuesta vacía para Post Malone. Intento 2/3\n"
     ]
    },
    {
     "name": "stderr",
     "output_type": "stream",
     "text": [
      "Procesando artistas:   0%|          | 9/2110 [00:22<49:04,  1.40s/it]"
     ]
    },
    {
     "name": "stdout",
     "output_type": "stream",
     "text": [
      "⚠️ Respuesta vacía para Post Malone. Intento 3/3\n",
      "⚠️ Respuesta vacía para Lana Del Rey. Intento 1/3\n",
      "⚠️ Respuesta vacía para Lana Del Rey. Intento 2/3\n"
     ]
    },
    {
     "name": "stderr",
     "output_type": "stream",
     "text": [
      "Procesando artistas:   0%|          | 10/2110 [00:23<46:45,  1.34s/it]"
     ]
    },
    {
     "name": "stdout",
     "output_type": "stream",
     "text": [
      "⚠️ Respuesta vacía para Lana Del Rey. Intento 3/3\n",
      "⚠️ Respuesta vacía para Vampire Weekend. Intento 1/3\n",
      "⚠️ Respuesta vacía para Vampire Weekend. Intento 2/3\n"
     ]
    },
    {
     "name": "stderr",
     "output_type": "stream",
     "text": [
      "Procesando artistas:   1%|          | 11/2110 [00:24<45:18,  1.30s/it]"
     ]
    },
    {
     "name": "stdout",
     "output_type": "stream",
     "text": [
      "⚠️ Respuesta vacía para Vampire Weekend. Intento 3/3\n",
      "⚠️ Respuesta vacía para Lady Gaga. Intento 1/3\n",
      "⚠️ Respuesta vacía para Lady Gaga. Intento 2/3\n"
     ]
    },
    {
     "name": "stderr",
     "output_type": "stream",
     "text": [
      "Procesando artistas:   1%|          | 12/2110 [00:25<44:16,  1.27s/it]"
     ]
    },
    {
     "name": "stdout",
     "output_type": "stream",
     "text": [
      "⚠️ Respuesta vacía para Lady Gaga. Intento 3/3\n",
      "⚠️ Respuesta vacía para Tanya Tucker. Intento 1/3\n",
      "⚠️ Respuesta vacía para Tanya Tucker. Intento 2/3\n"
     ]
    },
    {
     "name": "stderr",
     "output_type": "stream",
     "text": [
      "Procesando artistas:   1%|          | 13/2110 [00:26<44:04,  1.26s/it]"
     ]
    },
    {
     "name": "stdout",
     "output_type": "stream",
     "text": [
      "⚠️ Respuesta vacía para Tanya Tucker. Intento 3/3\n",
      "⚠️ Respuesta vacía para Taylor Swift. Intento 1/3\n",
      "⚠️ Respuesta vacía para Taylor Swift. Intento 2/3\n"
     ]
    },
    {
     "name": "stderr",
     "output_type": "stream",
     "text": [
      "Procesando artistas:   1%|          | 14/2110 [00:28<43:24,  1.24s/it]"
     ]
    },
    {
     "name": "stdout",
     "output_type": "stream",
     "text": [
      "⚠️ Respuesta vacía para Taylor Swift. Intento 3/3\n",
      "⚠️ Respuesta vacía para Lewis Capaldi. Intento 1/3\n",
      "⚠️ Respuesta vacía para Lewis Capaldi. Intento 2/3\n",
      "⚠️ Respuesta vacía para Lewis Capaldi. Intento 3/3\n"
     ]
    },
    {
     "name": "stderr",
     "output_type": "stream",
     "text": [
      "Procesando artistas:   1%|          | 15/2110 [00:29<42:06,  1.21s/it]"
     ]
    },
    {
     "name": "stdout",
     "output_type": "stream",
     "text": [
      "⚠️ Respuesta vacía para Black Pumas. Intento 1/3\n",
      "⚠️ Respuesta vacía para Black Pumas. Intento 2/3\n"
     ]
    },
    {
     "name": "stderr",
     "output_type": "stream",
     "text": [
      "Procesando artistas:   1%|          | 16/2110 [00:30<43:13,  1.24s/it]"
     ]
    },
    {
     "name": "stdout",
     "output_type": "stream",
     "text": [
      "⚠️ Respuesta vacía para Black Pumas. Intento 3/3\n",
      "⚠️ Respuesta vacía para Maggie Rogers. Intento 1/3\n",
      "⚠️ Respuesta vacía para Maggie Rogers. Intento 2/3\n",
      "⚠️ Respuesta vacía para Maggie Rogers. Intento 3/3\n"
     ]
    },
    {
     "name": "stderr",
     "output_type": "stream",
     "text": [
      "Procesando artistas:   1%|          | 17/2110 [00:31<43:01,  1.23s/it]"
     ]
    },
    {
     "name": "stdout",
     "output_type": "stream",
     "text": [
      "⚠️ Respuesta vacía para ROSALÍA. Intento 1/3\n",
      "⚠️ Respuesta vacía para ROSALÍA. Intento 2/3\n"
     ]
    },
    {
     "name": "stderr",
     "output_type": "stream",
     "text": [
      "Procesando artistas:   1%|          | 18/2110 [00:32<42:58,  1.23s/it]"
     ]
    },
    {
     "name": "stdout",
     "output_type": "stream",
     "text": [
      "⚠️ Respuesta vacía para ROSALÍA. Intento 3/3\n",
      "⚠️ Respuesta vacía para Tank And The Bangas. Intento 1/3\n",
      "⚠️ Respuesta vacía para Tank And The Bangas. Intento 2/3\n"
     ]
    },
    {
     "name": "stderr",
     "output_type": "stream",
     "text": [
      "Procesando artistas:   1%|          | 19/2110 [00:34<42:04,  1.21s/it]"
     ]
    },
    {
     "name": "stdout",
     "output_type": "stream",
     "text": [
      "⚠️ Respuesta vacía para Tank And The Bangas. Intento 3/3\n",
      "⚠️ Respuesta vacía para Yola. Intento 1/3\n",
      "⚠️ Respuesta vacía para Yola. Intento 2/3\n"
     ]
    },
    {
     "name": "stderr",
     "output_type": "stream",
     "text": [
      "Procesando artistas:   1%|          | 20/2110 [00:35<42:39,  1.22s/it]"
     ]
    },
    {
     "name": "stdout",
     "output_type": "stream",
     "text": [
      "⚠️ Respuesta vacía para Yola. Intento 3/3\n",
      "⚠️ Respuesta vacía para Beyoncé. Intento 1/3\n",
      "⚠️ Respuesta vacía para Beyoncé. Intento 2/3\n"
     ]
    },
    {
     "name": "stderr",
     "output_type": "stream",
     "text": [
      "Procesando artistas:   1%|          | 21/2110 [00:36<42:28,  1.22s/it]"
     ]
    },
    {
     "name": "stdout",
     "output_type": "stream",
     "text": [
      "⚠️ Respuesta vacía para Beyoncé. Intento 3/3\n",
      "⚠️ Respuesta vacía para Jonas Brothers. Intento 1/3\n",
      "⚠️ Respuesta vacía para Jonas Brothers. Intento 2/3\n"
     ]
    },
    {
     "name": "stderr",
     "output_type": "stream",
     "text": [
      "Procesando artistas:   1%|          | 22/2110 [00:37<43:26,  1.25s/it]"
     ]
    },
    {
     "name": "stdout",
     "output_type": "stream",
     "text": [
      "⚠️ Respuesta vacía para Jonas Brothers. Intento 3/3\n",
      "⚠️ Respuesta vacía para Shawn Mendes. Intento 1/3\n",
      "⚠️ Respuesta vacía para Shawn Mendes. Intento 2/3\n",
      "⚠️ Respuesta vacía para Shawn Mendes. Intento 3/3\n"
     ]
    },
    {
     "name": "stderr",
     "output_type": "stream",
     "text": [
      "Procesando artistas:   1%|          | 23/2110 [00:39<42:03,  1.21s/it]"
     ]
    },
    {
     "name": "stdout",
     "output_type": "stream",
     "text": [
      "⚠️ Respuesta vacía para Elvis Costello. Intento 1/3\n",
      "⚠️ Respuesta vacía para Elvis Costello. Intento 2/3\n",
      "⚠️ Respuesta vacía para Elvis Costello. Intento 3/3\n"
     ]
    },
    {
     "name": "stderr",
     "output_type": "stream",
     "text": [
      "Procesando artistas:   1%|          | 24/2110 [00:40<40:55,  1.18s/it]"
     ]
    },
    {
     "name": "stdout",
     "output_type": "stream",
     "text": [
      "⚠️ Respuesta vacía para Andrea Bocelli. Intento 1/3\n",
      "⚠️ Respuesta vacía para Andrea Bocelli. Intento 2/3\n",
      "⚠️ Respuesta vacía para Andrea Bocelli. Intento 3/3\n"
     ]
    },
    {
     "name": "stderr",
     "output_type": "stream",
     "text": [
      "Procesando artistas:   1%|          | 25/2110 [00:41<40:12,  1.16s/it]"
     ]
    },
    {
     "name": "stdout",
     "output_type": "stream",
     "text": [
      "⚠️ Respuesta vacía para Michael Bublé. Intento 1/3\n",
      "⚠️ Respuesta vacía para Michael Bublé. Intento 2/3\n"
     ]
    },
    {
     "name": "stderr",
     "output_type": "stream",
     "text": [
      "Procesando artistas:   1%|          | 26/2110 [00:42<39:36,  1.14s/it]"
     ]
    },
    {
     "name": "stdout",
     "output_type": "stream",
     "text": [
      "⚠️ Respuesta vacía para Michael Bublé. Intento 3/3\n",
      "⚠️ Respuesta vacía para John Legend. Intento 1/3\n",
      "⚠️ Respuesta vacía para John Legend. Intento 2/3\n"
     ]
    },
    {
     "name": "stderr",
     "output_type": "stream",
     "text": [
      "Procesando artistas:   1%|▏         | 27/2110 [00:43<40:04,  1.15s/it]"
     ]
    },
    {
     "name": "stdout",
     "output_type": "stream",
     "text": [
      "⚠️ Respuesta vacía para John Legend. Intento 3/3\n",
      "⚠️ Respuesta vacía para Barbra Streisand. Intento 1/3\n",
      "⚠️ Respuesta vacía para Barbra Streisand. Intento 2/3\n",
      "⚠️ Respuesta vacía para Barbra Streisand. Intento 3/3\n"
     ]
    },
    {
     "name": "stderr",
     "output_type": "stream",
     "text": [
      "Procesando artistas:   1%|▏         | 28/2110 [00:44<40:43,  1.17s/it]"
     ]
    },
    {
     "name": "stdout",
     "output_type": "stream",
     "text": [
      "⚠️ Respuesta vacía para Ed Sheeran. Intento 1/3\n",
      "⚠️ Respuesta vacía para Ed Sheeran. Intento 2/3\n"
     ]
    },
    {
     "name": "stderr",
     "output_type": "stream",
     "text": [
      "Procesando artistas:   1%|▏         | 29/2110 [00:46<41:59,  1.21s/it]"
     ]
    },
    {
     "name": "stdout",
     "output_type": "stream",
     "text": [
      "⚠️ Respuesta vacía para Ed Sheeran. Intento 3/3\n",
      "⚠️ Respuesta vacía para The Chemical Brothers. Intento 1/3\n",
      "⚠️ Respuesta vacía para The Chemical Brothers. Intento 2/3\n"
     ]
    },
    {
     "name": "stderr",
     "output_type": "stream",
     "text": [
      "Procesando artistas:   1%|▏         | 30/2110 [00:47<41:46,  1.21s/it]"
     ]
    },
    {
     "name": "stdout",
     "output_type": "stream",
     "text": [
      "⚠️ Respuesta vacía para The Chemical Brothers. Intento 3/3\n",
      "⚠️ Respuesta vacía para Bonobo. Intento 1/3\n",
      "⚠️ Respuesta vacía para Bonobo. Intento 2/3\n",
      "⚠️ Respuesta vacía para Bonobo. Intento 3/3\n"
     ]
    },
    {
     "name": "stderr",
     "output_type": "stream",
     "text": [
      "Procesando artistas:   1%|▏         | 31/2110 [00:48<42:04,  1.21s/it]"
     ]
    },
    {
     "name": "stdout",
     "output_type": "stream",
     "text": [
      "⚠️ Respuesta vacía para Meduza. Intento 1/3\n",
      "⚠️ Respuesta vacía para Meduza. Intento 2/3\n"
     ]
    },
    {
     "name": "stderr",
     "output_type": "stream",
     "text": [
      "Procesando artistas:   2%|▏         | 32/2110 [00:49<40:51,  1.18s/it]"
     ]
    },
    {
     "name": "stdout",
     "output_type": "stream",
     "text": [
      "⚠️ Respuesta vacía para Meduza. Intento 3/3\n",
      "⚠️ Respuesta vacía para RÜFÜS DU SOL. Intento 1/3\n",
      "⚠️ Respuesta vacía para RÜFÜS DU SOL. Intento 2/3\n",
      "⚠️ Respuesta vacía para RÜFÜS DU SOL. Intento 3/3\n"
     ]
    },
    {
     "name": "stderr",
     "output_type": "stream",
     "text": [
      "Procesando artistas:   2%|▏         | 33/2110 [00:50<41:06,  1.19s/it]"
     ]
    },
    {
     "name": "stdout",
     "output_type": "stream",
     "text": [
      "⚠️ Respuesta vacía para Skrillex. Intento 1/3\n",
      "⚠️ Respuesta vacía para Skrillex. Intento 2/3\n"
     ]
    },
    {
     "name": "stderr",
     "output_type": "stream",
     "text": [
      "Procesando artistas:   2%|▏         | 34/2110 [00:51<40:06,  1.16s/it]"
     ]
    },
    {
     "name": "stdout",
     "output_type": "stream",
     "text": [
      "⚠️ Respuesta vacía para Skrillex. Intento 3/3\n",
      "⚠️ Respuesta vacía para Apparat. Intento 1/3\n",
      "⚠️ Respuesta vacía para Apparat. Intento 2/3\n",
      "⚠️ Respuesta vacía para Apparat. Intento 3/3\n"
     ]
    },
    {
     "name": "stderr",
     "output_type": "stream",
     "text": [
      "Procesando artistas:   2%|▏         | 35/2110 [00:52<39:30,  1.14s/it]"
     ]
    },
    {
     "name": "stdout",
     "output_type": "stream",
     "text": [
      "⚠️ Respuesta vacía para Flume. Intento 1/3\n",
      "⚠️ Respuesta vacía para Flume. Intento 2/3\n"
     ]
    },
    {
     "name": "stderr",
     "output_type": "stream",
     "text": [
      "Procesando artistas:   2%|▏         | 36/2110 [00:54<40:13,  1.16s/it]"
     ]
    },
    {
     "name": "stdout",
     "output_type": "stream",
     "text": [
      "⚠️ Respuesta vacía para Flume. Intento 3/3\n",
      "⚠️ Respuesta vacía para Tycho. Intento 1/3\n",
      "⚠️ Respuesta vacía para Tycho. Intento 2/3\n"
     ]
    },
    {
     "name": "stderr",
     "output_type": "stream",
     "text": [
      "Procesando artistas:   2%|▏         | 37/2110 [00:55<39:37,  1.15s/it]"
     ]
    },
    {
     "name": "stdout",
     "output_type": "stream",
     "text": [
      "⚠️ Respuesta vacía para Tycho. Intento 3/3\n",
      "⚠️ Respuesta vacía para Rodrigo y Gabriela. Intento 1/3\n",
      "⚠️ Respuesta vacía para Rodrigo y Gabriela. Intento 2/3\n",
      "⚠️ Respuesta vacía para Rodrigo y Gabriela. Intento 3/3\n"
     ]
    },
    {
     "name": "stderr",
     "output_type": "stream",
     "text": [
      "Procesando artistas:   2%|▏         | 38/2110 [00:56<40:39,  1.18s/it]"
     ]
    },
    {
     "name": "stdout",
     "output_type": "stream",
     "text": [
      "⚠️ Respuesta vacía para Christian Scott aTunde Adjuah. Intento 1/3\n",
      "⚠️ Respuesta vacía para Christian Scott aTunde Adjuah. Intento 2/3\n",
      "⚠️ Respuesta vacía para Christian Scott aTunde Adjuah. Intento 3/3\n"
     ]
    },
    {
     "name": "stderr",
     "output_type": "stream",
     "text": [
      "Procesando artistas:   2%|▏         | 39/2110 [00:59<53:46,  1.56s/it]"
     ]
    },
    {
     "name": "stdout",
     "output_type": "stream",
     "text": [
      "⚠️ Respuesta vacía para Theo Croker. Intento 1/3\n",
      "⚠️ Respuesta vacía para Theo Croker. Intento 2/3\n"
     ]
    },
    {
     "name": "stderr",
     "output_type": "stream",
     "text": [
      "Procesando artistas:   2%|▏         | 40/2110 [01:00<53:20,  1.55s/it]"
     ]
    },
    {
     "name": "stdout",
     "output_type": "stream",
     "text": [
      "⚠️ Respuesta vacía para Theo Croker. Intento 3/3\n",
      "⚠️ Respuesta vacía para Mark Guiliana. Intento 1/3\n",
      "⚠️ Respuesta vacía para Mark Guiliana. Intento 2/3\n"
     ]
    },
    {
     "name": "stderr",
     "output_type": "stream",
     "text": [
      "Procesando artistas:   2%|▏         | 41/2110 [01:01<49:37,  1.44s/it]"
     ]
    },
    {
     "name": "stdout",
     "output_type": "stream",
     "text": [
      "⚠️ Respuesta vacía para Mark Guiliana. Intento 3/3\n",
      "⚠️ Respuesta vacía para Lettuce. Intento 1/3\n",
      "⚠️ Respuesta vacía para Lettuce. Intento 2/3\n"
     ]
    },
    {
     "name": "stderr",
     "output_type": "stream",
     "text": [
      "Procesando artistas:   2%|▏         | 42/2110 [01:02<47:29,  1.38s/it]"
     ]
    },
    {
     "name": "stdout",
     "output_type": "stream",
     "text": [
      "⚠️ Respuesta vacía para Lettuce. Intento 3/3\n",
      "⚠️ Respuesta vacía para Gary Clark Jr.. Intento 1/3\n",
      "⚠️ Respuesta vacía para Gary Clark Jr.. Intento 2/3\n"
     ]
    },
    {
     "name": "stderr",
     "output_type": "stream",
     "text": [
      "Procesando artistas:   2%|▏         | 43/2110 [01:04<45:17,  1.31s/it]"
     ]
    },
    {
     "name": "stdout",
     "output_type": "stream",
     "text": [
      "⚠️ Respuesta vacía para Gary Clark Jr.. Intento 3/3\n",
      "⚠️ Respuesta vacía para Bones UK. Intento 1/3\n",
      "⚠️ Respuesta vacía para Bones UK. Intento 2/3\n",
      "⚠️ Respuesta vacía para Bones UK. Intento 3/3\n"
     ]
    },
    {
     "name": "stderr",
     "output_type": "stream",
     "text": [
      "Procesando artistas:   2%|▏         | 44/2110 [01:05<44:48,  1.30s/it]"
     ]
    },
    {
     "name": "stdout",
     "output_type": "stream",
     "text": [
      "⚠️ Respuesta vacía para Brittany Howard. Intento 1/3\n",
      "⚠️ Respuesta vacía para Brittany Howard. Intento 2/3\n"
     ]
    },
    {
     "name": "stderr",
     "output_type": "stream",
     "text": [
      "Procesando artistas:   2%|▏         | 45/2110 [01:06<43:08,  1.25s/it]"
     ]
    },
    {
     "name": "stdout",
     "output_type": "stream",
     "text": [
      "⚠️ Respuesta vacía para Brittany Howard. Intento 3/3\n",
      "⚠️ Respuesta vacía para Karen O. Intento 1/3\n",
      "⚠️ Respuesta vacía para Karen O. Intento 2/3\n",
      "⚠️ Respuesta vacía para Karen O. Intento 3/3\n"
     ]
    },
    {
     "name": "stderr",
     "output_type": "stream",
     "text": [
      "Procesando artistas:   2%|▏         | 46/2110 [01:07<41:49,  1.22s/it]"
     ]
    },
    {
     "name": "stdout",
     "output_type": "stream",
     "text": [
      "⚠️ Respuesta vacía para Rival Sons. Intento 1/3\n",
      "⚠️ Respuesta vacía para Rival Sons. Intento 2/3\n",
      "⚠️ Respuesta vacía para Rival Sons. Intento 3/3\n"
     ]
    },
    {
     "name": "stderr",
     "output_type": "stream",
     "text": [
      "Procesando artistas:   2%|▏         | 47/2110 [01:08<41:02,  1.19s/it]"
     ]
    },
    {
     "name": "stdout",
     "output_type": "stream",
     "text": [
      "⚠️ Respuesta vacía para Tool. Intento 1/3\n",
      "⚠️ Respuesta vacía para Tool. Intento 2/3\n",
      "⚠️ Respuesta vacía para Tool. Intento 3/3\n"
     ]
    },
    {
     "name": "stderr",
     "output_type": "stream",
     "text": [
      "Procesando artistas:   2%|▏         | 48/2110 [01:09<40:31,  1.18s/it]"
     ]
    },
    {
     "name": "stdout",
     "output_type": "stream",
     "text": [
      "⚠️ Respuesta vacía para Candlemass. Intento 1/3\n",
      "⚠️ Respuesta vacía para Candlemass. Intento 2/3\n",
      "⚠️ Respuesta vacía para Candlemass. Intento 3/3\n"
     ]
    },
    {
     "name": "stderr",
     "output_type": "stream",
     "text": [
      "Procesando artistas:   2%|▏         | 49/2110 [01:11<39:46,  1.16s/it]"
     ]
    },
    {
     "name": "stdout",
     "output_type": "stream",
     "text": [
      "⚠️ Respuesta vacía para Death Angel. Intento 1/3\n",
      "⚠️ Respuesta vacía para Death Angel. Intento 2/3\n",
      "⚠️ Respuesta vacía para Death Angel. Intento 3/3\n"
     ]
    },
    {
     "name": "stderr",
     "output_type": "stream",
     "text": [
      "Procesando artistas:   2%|▏         | 50/2110 [01:12<39:53,  1.16s/it]"
     ]
    },
    {
     "name": "stdout",
     "output_type": "stream",
     "text": [
      "⚠️ Respuesta vacía para I Prevail. Intento 1/3\n",
      "⚠️ Respuesta vacía para I Prevail. Intento 2/3\n"
     ]
    },
    {
     "name": "stderr",
     "output_type": "stream",
     "text": [
      "Procesando artistas:   2%|▏         | 51/2110 [01:13<39:27,  1.15s/it]"
     ]
    },
    {
     "name": "stdout",
     "output_type": "stream",
     "text": [
      "⚠️ Respuesta vacía para I Prevail. Intento 3/3\n",
      "⚠️ Respuesta vacía para Killswitch Engage. Intento 1/3\n",
      "⚠️ Respuesta vacía para Killswitch Engage. Intento 2/3\n"
     ]
    },
    {
     "name": "stderr",
     "output_type": "stream",
     "text": [
      "Procesando artistas:   2%|▏         | 52/2110 [01:14<40:12,  1.17s/it]"
     ]
    },
    {
     "name": "stdout",
     "output_type": "stream",
     "text": [
      "⚠️ Respuesta vacía para Killswitch Engage. Intento 3/3\n",
      "⚠️ Respuesta vacía para The 1975. Intento 1/3\n",
      "⚠️ Respuesta vacía para The 1975. Intento 2/3\n",
      "⚠️ Respuesta vacía para The 1975. Intento 3/3\n"
     ]
    },
    {
     "name": "stderr",
     "output_type": "stream",
     "text": [
      "Procesando artistas:   3%|▎         | 53/2110 [01:15<39:31,  1.15s/it]"
     ]
    },
    {
     "name": "stdout",
     "output_type": "stream",
     "text": [
      "⚠️ Respuesta vacía para Cage The Elephant. Intento 1/3\n",
      "⚠️ Respuesta vacía para Cage The Elephant. Intento 2/3\n"
     ]
    },
    {
     "name": "stderr",
     "output_type": "stream",
     "text": [
      "Procesando artistas:   3%|▎         | 54/2110 [01:16<38:57,  1.14s/it]"
     ]
    },
    {
     "name": "stdout",
     "output_type": "stream",
     "text": [
      "⚠️ Respuesta vacía para Cage The Elephant. Intento 3/3\n",
      "⚠️ Respuesta vacía para Bring Me The Horizon. Intento 1/3\n",
      "⚠️ Respuesta vacía para Bring Me The Horizon. Intento 2/3\n",
      "⚠️ Respuesta vacía para Bring Me The Horizon. Intento 3/3\n"
     ]
    },
    {
     "name": "stderr",
     "output_type": "stream",
     "text": [
      "Procesando artistas:   3%|▎         | 55/2110 [01:17<38:27,  1.12s/it]"
     ]
    },
    {
     "name": "stdout",
     "output_type": "stream",
     "text": [
      "⚠️ Respuesta vacía para The Cranberries. Intento 1/3\n",
      "⚠️ Respuesta vacía para The Cranberries. Intento 2/3\n",
      "⚠️ Respuesta vacía para The Cranberries. Intento 3/3\n"
     ]
    },
    {
     "name": "stderr",
     "output_type": "stream",
     "text": [
      "Procesando artistas:   3%|▎         | 56/2110 [01:19<40:39,  1.19s/it]"
     ]
    },
    {
     "name": "stdout",
     "output_type": "stream",
     "text": [
      "⚠️ Respuesta vacía para Big Thief. Intento 1/3\n",
      "⚠️ Respuesta vacía para Big Thief. Intento 2/3\n",
      "⚠️ Respuesta vacía para Big Thief. Intento 3/3\n"
     ]
    },
    {
     "name": "stderr",
     "output_type": "stream",
     "text": [
      "Procesando artistas:   3%|▎         | 57/2110 [01:20<40:36,  1.19s/it]"
     ]
    },
    {
     "name": "stdout",
     "output_type": "stream",
     "text": [
      "⚠️ Respuesta vacía para James Blake. Intento 1/3\n",
      "⚠️ Respuesta vacía para James Blake. Intento 2/3\n"
     ]
    },
    {
     "name": "stderr",
     "output_type": "stream",
     "text": [
      "Procesando artistas:   3%|▎         | 58/2110 [01:21<39:55,  1.17s/it]"
     ]
    },
    {
     "name": "stdout",
     "output_type": "stream",
     "text": [
      "⚠️ Respuesta vacía para James Blake. Intento 3/3\n",
      "⚠️ Respuesta vacía para Thom Yorke. Intento 1/3\n",
      "⚠️ Respuesta vacía para Thom Yorke. Intento 2/3\n"
     ]
    },
    {
     "name": "stderr",
     "output_type": "stream",
     "text": [
      "Procesando artistas:   3%|▎         | 59/2110 [01:22<39:32,  1.16s/it]"
     ]
    },
    {
     "name": "stdout",
     "output_type": "stream",
     "text": [
      "⚠️ Respuesta vacía para Thom Yorke. Intento 3/3\n",
      "⚠️ Respuesta vacía para Anderson .Paak. Intento 1/3\n",
      "⚠️ Respuesta vacía para Anderson .Paak. Intento 2/3\n"
     ]
    },
    {
     "name": "stderr",
     "output_type": "stream",
     "text": [
      "Procesando artistas:   3%|▎         | 60/2110 [01:23<38:50,  1.14s/it]"
     ]
    },
    {
     "name": "stdout",
     "output_type": "stream",
     "text": [
      "⚠️ Respuesta vacía para Anderson .Paak. Intento 3/3\n",
      "⚠️ Respuesta vacía para Daniel Caesar. Intento 1/3\n",
      "⚠️ Respuesta vacía para Daniel Caesar. Intento 2/3\n"
     ]
    },
    {
     "name": "stderr",
     "output_type": "stream",
     "text": [
      "Procesando artistas:   3%|▎         | 61/2110 [01:25<48:53,  1.43s/it]"
     ]
    },
    {
     "name": "stdout",
     "output_type": "stream",
     "text": [
      "⚠️ Respuesta vacía para Daniel Caesar. Intento 3/3\n",
      "⚠️ Respuesta vacía para Lucky Daye. Intento 1/3\n",
      "⚠️ Respuesta vacía para Lucky Daye. Intento 2/3\n"
     ]
    },
    {
     "name": "stderr",
     "output_type": "stream",
     "text": [
      "Procesando artistas:   3%|▎         | 62/2110 [01:26<45:30,  1.33s/it]"
     ]
    },
    {
     "name": "stdout",
     "output_type": "stream",
     "text": [
      "⚠️ Respuesta vacía para Lucky Daye. Intento 3/3\n",
      "⚠️ Respuesta vacía para BJ The Chicago Kid. Intento 1/3\n",
      "⚠️ Respuesta vacía para BJ The Chicago Kid. Intento 2/3\n",
      "⚠️ Respuesta vacía para BJ The Chicago Kid. Intento 3/3\n"
     ]
    },
    {
     "name": "stderr",
     "output_type": "stream",
     "text": [
      "Procesando artistas:   3%|▎         | 63/2110 [01:28<43:27,  1.27s/it]"
     ]
    },
    {
     "name": "stdout",
     "output_type": "stream",
     "text": [
      "⚠️ Respuesta vacía para India.Arie. Intento 1/3\n",
      "⚠️ Respuesta vacía para India.Arie. Intento 2/3\n"
     ]
    },
    {
     "name": "stderr",
     "output_type": "stream",
     "text": [
      "Procesando artistas:   3%|▎         | 64/2110 [01:29<41:57,  1.23s/it]"
     ]
    },
    {
     "name": "stdout",
     "output_type": "stream",
     "text": [
      "⚠️ Respuesta vacía para India.Arie. Intento 3/3\n",
      "⚠️ Respuesta vacía para PJ Morton. Intento 1/3\n",
      "⚠️ Respuesta vacía para PJ Morton. Intento 2/3\n",
      "⚠️ Respuesta vacía para PJ Morton. Intento 3/3\n"
     ]
    },
    {
     "name": "stderr",
     "output_type": "stream",
     "text": [
      "Procesando artistas:   3%|▎         | 65/2110 [01:30<41:12,  1.21s/it]"
     ]
    },
    {
     "name": "stdout",
     "output_type": "stream",
     "text": [
      "⚠️ Respuesta vacía para Emily King. Intento 1/3\n",
      "⚠️ Respuesta vacía para Emily King. Intento 2/3\n"
     ]
    },
    {
     "name": "stderr",
     "output_type": "stream",
     "text": [
      "Procesando artistas:   3%|▎         | 66/2110 [01:31<40:15,  1.18s/it]"
     ]
    },
    {
     "name": "stdout",
     "output_type": "stream",
     "text": [
      "⚠️ Respuesta vacía para Emily King. Intento 3/3\n",
      "⚠️ Respuesta vacía para Chris Brown. Intento 1/3\n",
      "⚠️ Respuesta vacía para Chris Brown. Intento 2/3\n"
     ]
    },
    {
     "name": "stderr",
     "output_type": "stream",
     "text": [
      "Procesando artistas:   3%|▎         | 67/2110 [01:32<39:23,  1.16s/it]"
     ]
    },
    {
     "name": "stdout",
     "output_type": "stream",
     "text": [
      "⚠️ Respuesta vacía para Chris Brown. Intento 3/3\n",
      "⚠️ Respuesta vacía para Steve Lacy. Intento 1/3\n",
      "⚠️ Respuesta vacía para Steve Lacy. Intento 2/3\n",
      "⚠️ Respuesta vacía para Steve Lacy. Intento 3/3\n"
     ]
    },
    {
     "name": "stderr",
     "output_type": "stream",
     "text": [
      "Procesando artistas:   3%|▎         | 68/2110 [01:33<39:02,  1.15s/it]"
     ]
    },
    {
     "name": "stdout",
     "output_type": "stream",
     "text": [
      "⚠️ Respuesta vacía para Georgia Anne Muldrow. Intento 1/3\n",
      "⚠️ Respuesta vacía para Georgia Anne Muldrow. Intento 2/3\n"
     ]
    },
    {
     "name": "stderr",
     "output_type": "stream",
     "text": [
      "Procesando artistas:   3%|▎         | 69/2110 [01:34<39:27,  1.16s/it]"
     ]
    },
    {
     "name": "stdout",
     "output_type": "stream",
     "text": [
      "⚠️ Respuesta vacía para Georgia Anne Muldrow. Intento 3/3\n",
      "⚠️ Respuesta vacía para NAO. Intento 1/3\n",
      "⚠️ Respuesta vacía para NAO. Intento 2/3\n",
      "⚠️ Respuesta vacía para NAO. Intento 3/3\n"
     ]
    },
    {
     "name": "stderr",
     "output_type": "stream",
     "text": [
      "Procesando artistas:   3%|▎         | 70/2110 [01:35<38:31,  1.13s/it]"
     ]
    },
    {
     "name": "stdout",
     "output_type": "stream",
     "text": [
      "⚠️ Respuesta vacía para Jessie Reyez. Intento 1/3\n",
      "⚠️ Respuesta vacía para Jessie Reyez. Intento 2/3\n",
      "⚠️ Respuesta vacía para Jessie Reyez. Intento 3/3\n"
     ]
    },
    {
     "name": "stderr",
     "output_type": "stream",
     "text": [
      "Procesando artistas:   3%|▎         | 71/2110 [01:37<38:20,  1.13s/it]"
     ]
    },
    {
     "name": "stdout",
     "output_type": "stream",
     "text": [
      "⚠️ Respuesta vacía para Ella Mai. Intento 1/3\n",
      "⚠️ Respuesta vacía para Ella Mai. Intento 2/3\n"
     ]
    },
    {
     "name": "stderr",
     "output_type": "stream",
     "text": [
      "Procesando artistas:   3%|▎         | 72/2110 [01:38<38:35,  1.14s/it]"
     ]
    },
    {
     "name": "stdout",
     "output_type": "stream",
     "text": [
      "⚠️ Respuesta vacía para Ella Mai. Intento 3/3\n",
      "⚠️ Respuesta vacía para Nipsey Hussle. Intento 1/3\n",
      "⚠️ Respuesta vacía para Nipsey Hussle. Intento 2/3\n",
      "⚠️ Respuesta vacía para Nipsey Hussle. Intento 3/3\n"
     ]
    },
    {
     "name": "stderr",
     "output_type": "stream",
     "text": [
      "Procesando artistas:   3%|▎         | 73/2110 [01:39<38:29,  1.13s/it]"
     ]
    },
    {
     "name": "stdout",
     "output_type": "stream",
     "text": [
      "⚠️ Respuesta vacía para J. Cole. Intento 1/3\n",
      "⚠️ Respuesta vacía para J. Cole. Intento 2/3\n",
      "⚠️ Respuesta vacía para J. Cole. Intento 3/3\n"
     ]
    },
    {
     "name": "stderr",
     "output_type": "stream",
     "text": [
      "Procesando artistas:   4%|▎         | 74/2110 [01:40<38:11,  1.13s/it]"
     ]
    },
    {
     "name": "stdout",
     "output_type": "stream",
     "text": [
      "⚠️ Respuesta vacía para DaBaby. Intento 1/3\n",
      "⚠️ Respuesta vacía para DaBaby. Intento 2/3\n",
      "⚠️ Respuesta vacía para DaBaby. Intento 3/3\n"
     ]
    },
    {
     "name": "stderr",
     "output_type": "stream",
     "text": [
      "Procesando artistas:   4%|▎         | 75/2110 [01:41<40:35,  1.20s/it]"
     ]
    },
    {
     "name": "stdout",
     "output_type": "stream",
     "text": [
      "⚠️ Respuesta vacía para Dreamville. Intento 1/3\n",
      "⚠️ Respuesta vacía para Dreamville. Intento 2/3\n",
      "⚠️ Respuesta vacía para Dreamville. Intento 3/3\n"
     ]
    },
    {
     "name": "stderr",
     "output_type": "stream",
     "text": [
      "Procesando artistas:   4%|▎         | 76/2110 [01:43<40:25,  1.19s/it]"
     ]
    },
    {
     "name": "stdout",
     "output_type": "stream",
     "text": [
      "⚠️ Respuesta vacía para Offset. Intento 1/3\n",
      "⚠️ Respuesta vacía para Offset. Intento 2/3\n",
      "⚠️ Respuesta vacía para Offset. Intento 3/3\n"
     ]
    },
    {
     "name": "stderr",
     "output_type": "stream",
     "text": [
      "Procesando artistas:   4%|▎         | 77/2110 [01:44<39:55,  1.18s/it]"
     ]
    },
    {
     "name": "stdout",
     "output_type": "stream",
     "text": [
      "⚠️ Respuesta vacía para DJ Khaled. Intento 1/3\n",
      "⚠️ Respuesta vacía para DJ Khaled. Intento 2/3\n",
      "⚠️ Respuesta vacía para DJ Khaled. Intento 3/3\n"
     ]
    },
    {
     "name": "stderr",
     "output_type": "stream",
     "text": [
      "Procesando artistas:   4%|▎         | 78/2110 [01:45<39:30,  1.17s/it]"
     ]
    },
    {
     "name": "stdout",
     "output_type": "stream",
     "text": [
      "⚠️ Respuesta vacía para Lil Baby. Intento 1/3\n",
      "⚠️ Respuesta vacía para Lil Baby. Intento 2/3\n"
     ]
    },
    {
     "name": "stderr",
     "output_type": "stream",
     "text": [
      "Procesando artistas:   4%|▎         | 79/2110 [01:46<39:24,  1.16s/it]"
     ]
    },
    {
     "name": "stdout",
     "output_type": "stream",
     "text": [
      "⚠️ Respuesta vacía para Lil Baby. Intento 3/3\n",
      "⚠️ Respuesta vacía para Mustard. Intento 1/3\n",
      "⚠️ Respuesta vacía para Mustard. Intento 2/3\n"
     ]
    },
    {
     "name": "stderr",
     "output_type": "stream",
     "text": [
      "Procesando artistas:   4%|▍         | 80/2110 [01:47<38:52,  1.15s/it]"
     ]
    },
    {
     "name": "stdout",
     "output_type": "stream",
     "text": [
      "⚠️ Respuesta vacía para Mustard. Intento 3/3\n",
      "⚠️ Respuesta vacía para Young Thug. Intento 1/3\n",
      "⚠️ Respuesta vacía para Young Thug. Intento 2/3\n"
     ]
    },
    {
     "name": "stderr",
     "output_type": "stream",
     "text": [
      "Procesando artistas:   4%|▍         | 81/2110 [01:48<39:40,  1.17s/it]"
     ]
    },
    {
     "name": "stdout",
     "output_type": "stream",
     "text": [
      "⚠️ Respuesta vacía para Young Thug. Intento 3/3\n",
      "⚠️ Respuesta vacía para 21 Savage. Intento 1/3\n",
      "⚠️ Respuesta vacía para 21 Savage. Intento 2/3\n",
      "⚠️ Respuesta vacía para 21 Savage. Intento 3/3\n"
     ]
    },
    {
     "name": "stderr",
     "output_type": "stream",
     "text": [
      "Procesando artistas:   4%|▍         | 82/2110 [01:49<39:04,  1.16s/it]"
     ]
    },
    {
     "name": "stdout",
     "output_type": "stream",
     "text": [
      "⚠️ Respuesta vacía para YBN Cordae. Intento 1/3\n",
      "⚠️ Respuesta vacía para YBN Cordae. Intento 2/3\n"
     ]
    },
    {
     "name": "stderr",
     "output_type": "stream",
     "text": [
      "Procesando artistas:   4%|▍         | 83/2110 [01:51<38:40,  1.14s/it]"
     ]
    },
    {
     "name": "stdout",
     "output_type": "stream",
     "text": [
      "⚠️ Respuesta vacía para YBN Cordae. Intento 3/3\n",
      "⚠️ Respuesta vacía para Rick Ross. Intento 1/3\n",
      "⚠️ Respuesta vacía para Rick Ross. Intento 2/3\n"
     ]
    },
    {
     "name": "stderr",
     "output_type": "stream",
     "text": [
      "Procesando artistas:   4%|▍         | 84/2110 [01:52<38:43,  1.15s/it]"
     ]
    },
    {
     "name": "stdout",
     "output_type": "stream",
     "text": [
      "⚠️ Respuesta vacía para Rick Ross. Intento 3/3\n",
      "⚠️ Respuesta vacía para Tyler. Intento 1/3\n",
      "⚠️ Respuesta vacía para Tyler. Intento 2/3\n",
      "⚠️ Respuesta vacía para Tyler. Intento 3/3\n"
     ]
    },
    {
     "name": "stderr",
     "output_type": "stream",
     "text": [
      "Procesando artistas:   4%|▍         | 85/2110 [01:53<39:34,  1.17s/it]"
     ]
    },
    {
     "name": "stdout",
     "output_type": "stream",
     "text": [
      "⚠️ Respuesta vacía para Meek Mill. Intento 1/3\n",
      "⚠️ Respuesta vacía para Meek Mill. Intento 2/3\n"
     ]
    },
    {
     "name": "stderr",
     "output_type": "stream",
     "text": [
      "Procesando artistas:   4%|▍         | 86/2110 [01:54<39:02,  1.16s/it]"
     ]
    },
    {
     "name": "stdout",
     "output_type": "stream",
     "text": [
      "⚠️ Respuesta vacía para Meek Mill. Intento 3/3\n",
      "⚠️ Respuesta vacía para Willie Nelson. Intento 1/3\n",
      "⚠️ Respuesta vacía para Willie Nelson. Intento 2/3\n",
      "⚠️ Respuesta vacía para Willie Nelson. Intento 3/3\n"
     ]
    },
    {
     "name": "stderr",
     "output_type": "stream",
     "text": [
      "Procesando artistas:   4%|▍         | 87/2110 [01:55<38:40,  1.15s/it]"
     ]
    },
    {
     "name": "stdout",
     "output_type": "stream",
     "text": [
      "⚠️ Respuesta vacía para Tyler Childers. Intento 1/3\n",
      "⚠️ Respuesta vacía para Tyler Childers. Intento 2/3\n"
     ]
    },
    {
     "name": "stderr",
     "output_type": "stream",
     "text": [
      "Procesando artistas:   4%|▍         | 88/2110 [01:56<38:33,  1.14s/it]"
     ]
    },
    {
     "name": "stdout",
     "output_type": "stream",
     "text": [
      "⚠️ Respuesta vacía para Tyler Childers. Intento 3/3\n",
      "⚠️ Respuesta vacía para Ashley McBryde. Intento 1/3\n",
      "⚠️ Respuesta vacía para Ashley McBryde. Intento 2/3\n"
     ]
    },
    {
     "name": "stderr",
     "output_type": "stream",
     "text": [
      "Procesando artistas:   4%|▍         | 89/2110 [01:57<37:56,  1.13s/it]"
     ]
    },
    {
     "name": "stdout",
     "output_type": "stream",
     "text": [
      "⚠️ Respuesta vacía para Ashley McBryde. Intento 3/3\n",
      "⚠️ Respuesta vacía para Blake Shelton. Intento 1/3\n",
      "⚠️ Respuesta vacía para Blake Shelton. Intento 2/3\n"
     ]
    },
    {
     "name": "stderr",
     "output_type": "stream",
     "text": [
      "Procesando artistas:   4%|▍         | 90/2110 [01:59<37:39,  1.12s/it]"
     ]
    },
    {
     "name": "stdout",
     "output_type": "stream",
     "text": [
      "⚠️ Respuesta vacía para Blake Shelton. Intento 3/3\n",
      "⚠️ Respuesta vacía para Dan + Shay. Intento 1/3\n",
      "⚠️ Respuesta vacía para Dan + Shay. Intento 2/3\n"
     ]
    },
    {
     "name": "stderr",
     "output_type": "stream",
     "text": [
      "Procesando artistas:   4%|▍         | 91/2110 [02:00<37:58,  1.13s/it]"
     ]
    },
    {
     "name": "stdout",
     "output_type": "stream",
     "text": [
      "⚠️ Respuesta vacía para Dan + Shay. Intento 3/3\n",
      "⚠️ Respuesta vacía para Brooks. Intento 1/3\n",
      "⚠️ Respuesta vacía para Brooks. Intento 2/3\n",
      "⚠️ Respuesta vacía para Brooks. Intento 3/3\n"
     ]
    },
    {
     "name": "stderr",
     "output_type": "stream",
     "text": [
      "Procesando artistas:   4%|▍         | 92/2110 [02:01<37:42,  1.12s/it]"
     ]
    },
    {
     "name": "stdout",
     "output_type": "stream",
     "text": [
      "⚠️ Respuesta vacía para Brothers Osborne. Intento 1/3\n",
      "⚠️ Respuesta vacía para Brothers Osborne. Intento 2/3\n"
     ]
    },
    {
     "name": "stderr",
     "output_type": "stream",
     "text": [
      "Procesando artistas:   4%|▍         | 93/2110 [02:02<37:07,  1.10s/it]"
     ]
    },
    {
     "name": "stdout",
     "output_type": "stream",
     "text": [
      "⚠️ Respuesta vacía para Brothers Osborne. Intento 3/3\n",
      "⚠️ Respuesta vacía para Little Big Town. Intento 1/3\n",
      "⚠️ Respuesta vacía para Little Big Town. Intento 2/3\n"
     ]
    },
    {
     "name": "stderr",
     "output_type": "stream",
     "text": [
      "Procesando artistas:   4%|▍         | 94/2110 [02:03<36:59,  1.10s/it]"
     ]
    },
    {
     "name": "stdout",
     "output_type": "stream",
     "text": [
      "⚠️ Respuesta vacía para Little Big Town. Intento 3/3\n",
      "⚠️ Respuesta vacía para Maren Morris. Intento 1/3\n",
      "⚠️ Respuesta vacía para Maren Morris. Intento 2/3\n"
     ]
    },
    {
     "name": "stderr",
     "output_type": "stream",
     "text": [
      "Procesando artistas:   5%|▍         | 95/2110 [02:04<37:01,  1.10s/it]"
     ]
    },
    {
     "name": "stdout",
     "output_type": "stream",
     "text": [
      "⚠️ Respuesta vacía para Maren Morris. Intento 3/3\n",
      "⚠️ Respuesta vacía para Miranda Lambert. Intento 1/3\n",
      "⚠️ Respuesta vacía para Miranda Lambert. Intento 2/3\n"
     ]
    },
    {
     "name": "stderr",
     "output_type": "stream",
     "text": [
      "Procesando artistas:   5%|▍         | 96/2110 [02:05<37:07,  1.11s/it]"
     ]
    },
    {
     "name": "stdout",
     "output_type": "stream",
     "text": [
      "⚠️ Respuesta vacía para Miranda Lambert. Intento 3/3\n",
      "⚠️ Respuesta vacía para Eric Church. Intento 1/3\n",
      "⚠️ Respuesta vacía para Eric Church. Intento 2/3\n",
      "⚠️ Respuesta vacía para Eric Church. Intento 3/3\n"
     ]
    },
    {
     "name": "stderr",
     "output_type": "stream",
     "text": [
      "Procesando artistas:   5%|▍         | 97/2110 [02:06<37:23,  1.11s/it]"
     ]
    },
    {
     "name": "stdout",
     "output_type": "stream",
     "text": [
      "⚠️ Respuesta vacía para Reba McEntire. Intento 1/3\n",
      "⚠️ Respuesta vacía para Reba McEntire. Intento 2/3\n"
     ]
    },
    {
     "name": "stderr",
     "output_type": "stream",
     "text": [
      "Procesando artistas:   5%|▍         | 98/2110 [02:07<38:08,  1.14s/it]"
     ]
    },
    {
     "name": "stdout",
     "output_type": "stream",
     "text": [
      "⚠️ Respuesta vacía para Reba McEntire. Intento 3/3\n",
      "⚠️ Respuesta vacía para Pistol Annies. Intento 1/3\n",
      "⚠️ Respuesta vacía para Pistol Annies. Intento 2/3\n"
     ]
    },
    {
     "name": "stderr",
     "output_type": "stream",
     "text": [
      "Procesando artistas:   5%|▍         | 99/2110 [02:09<38:29,  1.15s/it]"
     ]
    },
    {
     "name": "stdout",
     "output_type": "stream",
     "text": [
      "⚠️ Respuesta vacía para Pistol Annies. Intento 3/3\n",
      "⚠️ Respuesta vacía para Thomas Rhett. Intento 1/3\n",
      "⚠️ Respuesta vacía para Thomas Rhett. Intento 2/3\n"
     ]
    },
    {
     "name": "stderr",
     "output_type": "stream",
     "text": [
      "Procesando artistas:   5%|▍         | 100/2110 [02:10<37:41,  1.13s/it]"
     ]
    },
    {
     "name": "stdout",
     "output_type": "stream",
     "text": [
      "⚠️ Respuesta vacía para Thomas Rhett. Intento 3/3\n",
      "⚠️ Respuesta vacía para Peter Kater. Intento 1/3\n",
      "⚠️ Respuesta vacía para Peter Kater. Intento 2/3\n"
     ]
    },
    {
     "name": "stderr",
     "output_type": "stream",
     "text": [
      "Procesando artistas:   5%|▍         | 101/2110 [02:11<37:25,  1.12s/it]"
     ]
    },
    {
     "name": "stdout",
     "output_type": "stream",
     "text": [
      "⚠️ Respuesta vacía para Peter Kater. Intento 3/3\n",
      "⚠️ Respuesta vacía para David Arkenstone. Intento 1/3\n",
      "⚠️ Respuesta vacía para David Arkenstone. Intento 2/3\n",
      "⚠️ Respuesta vacía para David Arkenstone. Intento 3/3\n"
     ]
    },
    {
     "name": "stderr",
     "output_type": "stream",
     "text": [
      "Procesando artistas:   5%|▍         | 102/2110 [02:12<37:26,  1.12s/it]"
     ]
    },
    {
     "name": "stdout",
     "output_type": "stream",
     "text": [
      "⚠️ Respuesta vacía para David Darling. Intento 1/3\n",
      "⚠️ Respuesta vacía para David Darling. Intento 2/3\n",
      "⚠️ Respuesta vacía para David Darling. Intento 3/3\n"
     ]
    },
    {
     "name": "stderr",
     "output_type": "stream",
     "text": [
      "Procesando artistas:   5%|▍         | 103/2110 [02:13<37:45,  1.13s/it]"
     ]
    },
    {
     "name": "stdout",
     "output_type": "stream",
     "text": [
      "⚠️ Respuesta vacía para Sebastian Plano. Intento 1/3\n",
      "⚠️ Respuesta vacía para Sebastian Plano. Intento 2/3\n"
     ]
    },
    {
     "name": "stderr",
     "output_type": "stream",
     "text": [
      "Procesando artistas:   5%|▍         | 104/2110 [02:14<37:08,  1.11s/it]"
     ]
    },
    {
     "name": "stdout",
     "output_type": "stream",
     "text": [
      "⚠️ Respuesta vacía para Sebastian Plano. Intento 3/3\n",
      "⚠️ Respuesta vacía para Deva Premal. Intento 1/3\n",
      "⚠️ Respuesta vacía para Deva Premal. Intento 2/3\n",
      "⚠️ Respuesta vacía para Deva Premal. Intento 3/3\n"
     ]
    },
    {
     "name": "stderr",
     "output_type": "stream",
     "text": [
      "Procesando artistas:   5%|▍         | 105/2110 [02:15<37:14,  1.11s/it]"
     ]
    },
    {
     "name": "stdout",
     "output_type": "stream",
     "text": [
      "⚠️ Respuesta vacía para Randy Brecker. Intento 1/3\n",
      "⚠️ Respuesta vacía para Randy Brecker. Intento 2/3\n"
     ]
    },
    {
     "name": "stderr",
     "output_type": "stream",
     "text": [
      "Procesando artistas:   5%|▌         | 106/2110 [02:16<38:18,  1.15s/it]"
     ]
    },
    {
     "name": "stdout",
     "output_type": "stream",
     "text": [
      "⚠️ Respuesta vacía para Randy Brecker. Intento 3/3\n",
      "⚠️ Respuesta vacía para Melissa Aldana. Intento 1/3\n",
      "⚠️ Respuesta vacía para Melissa Aldana. Intento 2/3\n"
     ]
    },
    {
     "name": "stderr",
     "output_type": "stream",
     "text": [
      "Procesando artistas:   5%|▌         | 107/2110 [02:18<37:51,  1.13s/it]"
     ]
    },
    {
     "name": "stdout",
     "output_type": "stream",
     "text": [
      "⚠️ Respuesta vacía para Melissa Aldana. Intento 3/3\n",
      "⚠️ Respuesta vacía para Julian Lage. Intento 1/3\n",
      "⚠️ Respuesta vacía para Julian Lage. Intento 2/3\n",
      "⚠️ Respuesta vacía para Julian Lage. Intento 3/3\n"
     ]
    },
    {
     "name": "stderr",
     "output_type": "stream",
     "text": [
      "Procesando artistas:   5%|▌         | 108/2110 [02:19<37:50,  1.13s/it]"
     ]
    },
    {
     "name": "stdout",
     "output_type": "stream",
     "text": [
      "⚠️ Respuesta vacía para Branford Marsalis. Intento 1/3\n",
      "⚠️ Respuesta vacía para Branford Marsalis. Intento 2/3\n"
     ]
    },
    {
     "name": "stderr",
     "output_type": "stream",
     "text": [
      "Procesando artistas:   5%|▌         | 109/2110 [02:20<37:41,  1.13s/it]"
     ]
    },
    {
     "name": "stdout",
     "output_type": "stream",
     "text": [
      "⚠️ Respuesta vacía para Branford Marsalis. Intento 3/3\n",
      "⚠️ Respuesta vacía para Christian McBride. Intento 1/3\n",
      "⚠️ Respuesta vacía para Christian McBride. Intento 2/3\n"
     ]
    },
    {
     "name": "stderr",
     "output_type": "stream",
     "text": [
      "Procesando artistas:   5%|▌         | 110/2110 [02:21<38:10,  1.15s/it]"
     ]
    },
    {
     "name": "stdout",
     "output_type": "stream",
     "text": [
      "⚠️ Respuesta vacía para Christian McBride. Intento 3/3\n",
      "⚠️ Respuesta vacía para Esperanza Spalding. Intento 1/3\n",
      "⚠️ Respuesta vacía para Esperanza Spalding. Intento 2/3\n"
     ]
    },
    {
     "name": "stderr",
     "output_type": "stream",
     "text": [
      "Procesando artistas:   5%|▌         | 111/2110 [02:22<37:58,  1.14s/it]"
     ]
    },
    {
     "name": "stdout",
     "output_type": "stream",
     "text": [
      "⚠️ Respuesta vacía para Esperanza Spalding. Intento 3/3\n",
      "⚠️ Respuesta vacía para Sara Gazarek. Intento 1/3\n",
      "⚠️ Respuesta vacía para Sara Gazarek. Intento 2/3\n"
     ]
    },
    {
     "name": "stderr",
     "output_type": "stream",
     "text": [
      "Procesando artistas:   5%|▌         | 112/2110 [02:23<37:24,  1.12s/it]"
     ]
    },
    {
     "name": "stdout",
     "output_type": "stream",
     "text": [
      "⚠️ Respuesta vacía para Sara Gazarek. Intento 3/3\n",
      "⚠️ Respuesta vacía para Jazzmeia Horn. Intento 1/3\n",
      "⚠️ Respuesta vacía para Jazzmeia Horn. Intento 2/3\n",
      "⚠️ Respuesta vacía para Jazzmeia Horn. Intento 3/3\n"
     ]
    },
    {
     "name": "stderr",
     "output_type": "stream",
     "text": [
      "Procesando artistas:   5%|▌         | 113/2110 [02:24<37:59,  1.14s/it]"
     ]
    },
    {
     "name": "stdout",
     "output_type": "stream",
     "text": [
      "⚠️ Respuesta vacía para Catherine Russell. Intento 1/3\n",
      "⚠️ Respuesta vacía para Catherine Russell. Intento 2/3\n"
     ]
    },
    {
     "name": "stderr",
     "output_type": "stream",
     "text": [
      "Procesando artistas:   5%|▌         | 114/2110 [02:26<38:48,  1.17s/it]"
     ]
    },
    {
     "name": "stdout",
     "output_type": "stream",
     "text": [
      "⚠️ Respuesta vacía para Catherine Russell. Intento 3/3\n",
      "⚠️ Respuesta vacía para Tierney Sutton Band. Intento 1/3\n",
      "⚠️ Respuesta vacía para Tierney Sutton Band. Intento 2/3\n"
     ]
    },
    {
     "name": "stderr",
     "output_type": "stream",
     "text": [
      "Procesando artistas:   5%|▌         | 115/2110 [02:27<38:01,  1.14s/it]"
     ]
    },
    {
     "name": "stdout",
     "output_type": "stream",
     "text": [
      "⚠️ Respuesta vacía para Tierney Sutton Band. Intento 3/3\n",
      "⚠️ Respuesta vacía para Brad Mehldau. Intento 1/3\n",
      "⚠️ Respuesta vacía para Brad Mehldau. Intento 2/3\n"
     ]
    },
    {
     "name": "stderr",
     "output_type": "stream",
     "text": [
      "Procesando artistas:   5%|▌         | 116/2110 [02:28<37:58,  1.14s/it]"
     ]
    },
    {
     "name": "stdout",
     "output_type": "stream",
     "text": [
      "⚠️ Respuesta vacía para Brad Mehldau. Intento 3/3\n",
      "⚠️ Respuesta vacía para Joey DeFrancesco. Intento 1/3\n",
      "⚠️ Respuesta vacía para Joey DeFrancesco. Intento 2/3\n",
      "⚠️ Respuesta vacía para Joey DeFrancesco. Intento 3/3\n"
     ]
    },
    {
     "name": "stderr",
     "output_type": "stream",
     "text": [
      "Procesando artistas:   6%|▌         | 117/2110 [02:29<37:36,  1.13s/it]"
     ]
    },
    {
     "name": "stdout",
     "output_type": "stream",
     "text": [
      "⚠️ Respuesta vacía para Branford Marsalis Quartet. Intento 1/3\n",
      "⚠️ Respuesta vacía para Branford Marsalis Quartet. Intento 2/3\n",
      "⚠️ Respuesta vacía para Branford Marsalis Quartet. Intento 3/3\n"
     ]
    },
    {
     "name": "stderr",
     "output_type": "stream",
     "text": [
      "Procesando artistas:   6%|▌         | 118/2110 [02:38<1:55:28,  3.48s/it]"
     ]
    },
    {
     "name": "stdout",
     "output_type": "stream",
     "text": [
      "⚠️ Respuesta vacía para Christian McBride’s New Jawn. Intento 1/3\n",
      "⚠️ Respuesta vacía para Christian McBride’s New Jawn. Intento 2/3\n",
      "⚠️ Respuesta vacía para Christian McBride’s New Jawn. Intento 3/3\n"
     ]
    },
    {
     "name": "stderr",
     "output_type": "stream",
     "text": [
      "Procesando artistas:   6%|▌         | 119/2110 [02:39<1:32:07,  2.78s/it]"
     ]
    },
    {
     "name": "stdout",
     "output_type": "stream",
     "text": [
      "⚠️ Respuesta vacía para Joshua Redman Quartet. Intento 1/3\n",
      "⚠️ Respuesta vacía para Joshua Redman Quartet. Intento 2/3\n",
      "⚠️ Respuesta vacía para Joshua Redman Quartet. Intento 3/3\n"
     ]
    },
    {
     "name": "stderr",
     "output_type": "stream",
     "text": [
      "Procesando artistas:   6%|▌         | 120/2110 [02:40<1:16:36,  2.31s/it]"
     ]
    },
    {
     "name": "stdout",
     "output_type": "stream",
     "text": [
      "⚠️ Respuesta vacía para Brian Lynch Big Band. Intento 1/3\n",
      "⚠️ Respuesta vacía para Brian Lynch Big Band. Intento 2/3\n",
      "⚠️ Respuesta vacía para Brian Lynch Big Band. Intento 3/3\n"
     ]
    },
    {
     "name": "stderr",
     "output_type": "stream",
     "text": [
      "Procesando artistas:   6%|▌         | 121/2110 [02:42<1:05:31,  1.98s/it]"
     ]
    },
    {
     "name": "stdout",
     "output_type": "stream",
     "text": [
      "⚠️ Respuesta vacía para Anat Cohen Tentet. Intento 1/3\n",
      "⚠️ Respuesta vacía para Anat Cohen Tentet. Intento 2/3\n"
     ]
    },
    {
     "name": "stderr",
     "output_type": "stream",
     "text": [
      "Procesando artistas:   6%|▌         | 122/2110 [02:43<56:49,  1.72s/it]  "
     ]
    },
    {
     "name": "stdout",
     "output_type": "stream",
     "text": [
      "⚠️ Respuesta vacía para Anat Cohen Tentet. Intento 3/3\n",
      "⚠️ Respuesta vacía para Miho Hazama. Intento 1/3\n",
      "⚠️ Respuesta vacía para Miho Hazama. Intento 2/3\n",
      "⚠️ Respuesta vacía para Miho Hazama. Intento 3/3\n"
     ]
    },
    {
     "name": "stderr",
     "output_type": "stream",
     "text": [
      "Procesando artistas:   6%|▌         | 123/2110 [02:44<51:54,  1.57s/it]"
     ]
    },
    {
     "name": "stdout",
     "output_type": "stream",
     "text": [
      "⚠️ Respuesta vacía para Mike Holober. Intento 1/3\n",
      "⚠️ Respuesta vacía para Mike Holober. Intento 2/3\n"
     ]
    },
    {
     "name": "stderr",
     "output_type": "stream",
     "text": [
      "Procesando artistas:   6%|▌         | 124/2110 [02:45<48:29,  1.47s/it]"
     ]
    },
    {
     "name": "stdout",
     "output_type": "stream",
     "text": [
      "⚠️ Respuesta vacía para Mike Holober. Intento 3/3\n",
      "⚠️ Respuesta vacía para Terraza Big Band. Intento 1/3\n",
      "⚠️ Respuesta vacía para Terraza Big Band. Intento 2/3\n"
     ]
    },
    {
     "name": "stderr",
     "output_type": "stream",
     "text": [
      "Procesando artistas:   6%|▌         | 125/2110 [02:46<47:01,  1.42s/it]"
     ]
    },
    {
     "name": "stdout",
     "output_type": "stream",
     "text": [
      "⚠️ Respuesta vacía para Terraza Big Band. Intento 3/3\n",
      "⚠️ Respuesta vacía para Chick Corea. Intento 1/3\n",
      "⚠️ Respuesta vacía para Chick Corea. Intento 2/3\n"
     ]
    },
    {
     "name": "stderr",
     "output_type": "stream",
     "text": [
      "Procesando artistas:   6%|▌         | 126/2110 [02:48<45:54,  1.39s/it]"
     ]
    },
    {
     "name": "stdout",
     "output_type": "stream",
     "text": [
      "⚠️ Respuesta vacía para Chick Corea. Intento 3/3\n",
      "⚠️ Respuesta vacía para Thalma de Freitas With Vitor Gonçalves. Intento 1/3\n",
      "⚠️ Respuesta vacía para Thalma de Freitas With Vitor Gonçalves. Intento 2/3\n",
      "⚠️ Respuesta vacía para Thalma de Freitas With Vitor Gonçalves. Intento 3/3\n"
     ]
    },
    {
     "name": "stderr",
     "output_type": "stream",
     "text": [
      "Procesando artistas:   6%|▌         | 127/2110 [02:49<44:28,  1.35s/it]"
     ]
    },
    {
     "name": "stdout",
     "output_type": "stream",
     "text": [
      "⚠️ Respuesta vacía para Jazz At Lincoln Center Orchestra With Wynton Marsalis. Intento 1/3\n",
      "⚠️ Respuesta vacía para Jazz At Lincoln Center Orchestra With Wynton Marsalis. Intento 2/3\n",
      "⚠️ Respuesta vacía para Jazz At Lincoln Center Orchestra With Wynton Marsalis. Intento 3/3\n"
     ]
    },
    {
     "name": "stderr",
     "output_type": "stream",
     "text": [
      "Procesando artistas:   6%|▌         | 128/2110 [02:50<44:09,  1.34s/it]"
     ]
    },
    {
     "name": "stdout",
     "output_type": "stream",
     "text": [
      "⚠️ Respuesta vacía para David Sánchez. Intento 1/3\n",
      "⚠️ Respuesta vacía para David Sánchez. Intento 2/3\n",
      "⚠️ Respuesta vacía para David Sánchez. Intento 3/3\n"
     ]
    },
    {
     "name": "stderr",
     "output_type": "stream",
     "text": [
      "Procesando artistas:   6%|▌         | 129/2110 [02:52<43:48,  1.33s/it]"
     ]
    },
    {
     "name": "stdout",
     "output_type": "stream",
     "text": [
      "⚠️ Respuesta vacía para Miguel Zenón. Intento 1/3\n",
      "⚠️ Respuesta vacía para Miguel Zenón. Intento 2/3\n"
     ]
    },
    {
     "name": "stderr",
     "output_type": "stream",
     "text": [
      "Procesando artistas:   6%|▌         | 130/2110 [02:53<42:59,  1.30s/it]"
     ]
    },
    {
     "name": "stdout",
     "output_type": "stream",
     "text": [
      "⚠️ Respuesta vacía para Miguel Zenón. Intento 3/3\n",
      "⚠️ Respuesta vacía para Kirk Franklin; Kirk Franklin. Intento 1/3\n",
      "⚠️ Respuesta vacía para Kirk Franklin; Kirk Franklin. Intento 2/3\n"
     ]
    },
    {
     "name": "stderr",
     "output_type": "stream",
     "text": [
      "Procesando artistas:   6%|▌         | 131/2110 [02:54<41:55,  1.27s/it]"
     ]
    },
    {
     "name": "stdout",
     "output_type": "stream",
     "text": [
      "⚠️ Respuesta vacía para Kirk Franklin; Kirk Franklin. Intento 3/3\n",
      "⚠️ Respuesta vacía para Gloria Gaynor. Intento 1/3\n",
      "⚠️ Respuesta vacía para Gloria Gaynor. Intento 2/3\n",
      "⚠️ Respuesta vacía para Gloria Gaynor. Intento 3/3\n"
     ]
    },
    {
     "name": "stderr",
     "output_type": "stream",
     "text": [
      "Procesando artistas:   6%|▋         | 132/2110 [02:55<42:49,  1.30s/it]"
     ]
    },
    {
     "name": "stdout",
     "output_type": "stream",
     "text": [
      "⚠️ Respuesta vacía para Travis Greene. Intento 1/3\n",
      "⚠️ Respuesta vacía para Travis Greene. Intento 2/3\n",
      "⚠️ Respuesta vacía para Travis Greene. Intento 3/3\n"
     ]
    },
    {
     "name": "stderr",
     "output_type": "stream",
     "text": [
      "Procesando artistas:   6%|▋         | 133/2110 [02:57<43:25,  1.32s/it]"
     ]
    },
    {
     "name": "stdout",
     "output_type": "stream",
     "text": [
      "⚠️ Respuesta vacía para Koryn Hawthorne. Intento 1/3\n",
      "⚠️ Respuesta vacía para Koryn Hawthorne. Intento 2/3\n",
      "⚠️ Respuesta vacía para Koryn Hawthorne. Intento 3/3\n"
     ]
    },
    {
     "name": "stderr",
     "output_type": "stream",
     "text": [
      "Procesando artistas:   6%|▋         | 134/2110 [02:58<43:06,  1.31s/it]"
     ]
    },
    {
     "name": "stdout",
     "output_type": "stream",
     "text": [
      "⚠️ Respuesta vacía para Tasha Cobbs Leonard; Tony Brown. Intento 1/3\n",
      "⚠️ Respuesta vacía para Tasha Cobbs Leonard; Tony Brown. Intento 2/3\n"
     ]
    },
    {
     "name": "stderr",
     "output_type": "stream",
     "text": [
      "Procesando artistas:   6%|▋         | 135/2110 [02:59<42:55,  1.30s/it]"
     ]
    },
    {
     "name": "stdout",
     "output_type": "stream",
     "text": [
      "⚠️ Respuesta vacía para Tasha Cobbs Leonard; Tony Brown. Intento 3/3\n",
      "⚠️ Respuesta vacía para for KING. Intento 1/3\n",
      "⚠️ Respuesta vacía para for KING. Intento 2/3\n",
      "⚠️ Respuesta vacía para for KING. Intento 3/3\n"
     ]
    },
    {
     "name": "stderr",
     "output_type": "stream",
     "text": [
      "Procesando artistas:   6%|▋         | 136/2110 [03:01<41:51,  1.27s/it]"
     ]
    },
    {
     "name": "stdout",
     "output_type": "stream",
     "text": [
      "⚠️ Respuesta vacía para Casting Crowns; Mark Hall. Intento 1/3\n",
      "⚠️ Respuesta vacía para Casting Crowns; Mark Hall. Intento 2/3\n"
     ]
    },
    {
     "name": "stderr",
     "output_type": "stream",
     "text": [
      "Procesando artistas:   6%|▋         | 137/2110 [03:02<42:09,  1.28s/it]"
     ]
    },
    {
     "name": "stdout",
     "output_type": "stream",
     "text": [
      "⚠️ Respuesta vacía para Casting Crowns; Mark Hall. Intento 3/3\n",
      "⚠️ Respuesta vacía para Danny Gokey; Danny Gokey. Intento 1/3\n",
      "⚠️ Respuesta vacía para Danny Gokey; Danny Gokey. Intento 2/3\n",
      "⚠️ Respuesta vacía para Danny Gokey; Danny Gokey. Intento 3/3\n"
     ]
    },
    {
     "name": "stderr",
     "output_type": "stream",
     "text": [
      "Procesando artistas:   7%|▋         | 138/2110 [03:03<42:02,  1.28s/it]"
     ]
    },
    {
     "name": "stdout",
     "output_type": "stream",
     "text": [
      "⚠️ Respuesta vacía para Tauren Wells. Intento 1/3\n",
      "⚠️ Respuesta vacía para Tauren Wells. Intento 2/3\n",
      "⚠️ Respuesta vacía para Tauren Wells. Intento 3/3\n"
     ]
    },
    {
     "name": "stderr",
     "output_type": "stream",
     "text": [
      "Procesando artistas:   7%|▋         | 139/2110 [03:04<41:45,  1.27s/it]"
     ]
    },
    {
     "name": "stdout",
     "output_type": "stream",
     "text": [
      "⚠️ Respuesta vacía para Zach Williams; Ethan Hulse. Intento 1/3\n",
      "⚠️ Respuesta vacía para Zach Williams; Ethan Hulse. Intento 2/3\n"
     ]
    },
    {
     "name": "stderr",
     "output_type": "stream",
     "text": [
      "Procesando artistas:   7%|▋         | 140/2110 [03:06<42:17,  1.29s/it]"
     ]
    },
    {
     "name": "stdout",
     "output_type": "stream",
     "text": [
      "⚠️ Respuesta vacía para Zach Williams; Ethan Hulse. Intento 3/3\n",
      "⚠️ Respuesta vacía para Kirk Franklin. Intento 1/3\n",
      "⚠️ Respuesta vacía para Kirk Franklin. Intento 2/3\n",
      "⚠️ Respuesta vacía para Kirk Franklin. Intento 3/3\n"
     ]
    },
    {
     "name": "stderr",
     "output_type": "stream",
     "text": [
      "Procesando artistas:   7%|▋         | 141/2110 [03:07<41:56,  1.28s/it]"
     ]
    },
    {
     "name": "stdout",
     "output_type": "stream",
     "text": [
      "⚠️ Respuesta vacía para Donald Lawrence Presents The Tri -City Singers. Intento 1/3\n",
      "⚠️ Respuesta vacía para Donald Lawrence Presents The Tri -City Singers. Intento 2/3\n",
      "⚠️ Respuesta vacía para Donald Lawrence Presents The Tri -City Singers. Intento 3/3\n"
     ]
    },
    {
     "name": "stderr",
     "output_type": "stream",
     "text": [
      "Procesando artistas:   7%|▋         | 142/2110 [03:08<42:57,  1.31s/it]"
     ]
    },
    {
     "name": "stdout",
     "output_type": "stream",
     "text": [
      "⚠️ Respuesta vacía para Gene Moore. Intento 1/3\n",
      "⚠️ Respuesta vacía para Gene Moore. Intento 2/3\n"
     ]
    },
    {
     "name": "stderr",
     "output_type": "stream",
     "text": [
      "Procesando artistas:   7%|▋         | 143/2110 [03:10<43:54,  1.34s/it]"
     ]
    },
    {
     "name": "stdout",
     "output_type": "stream",
     "text": [
      "⚠️ Respuesta vacía para Gene Moore. Intento 3/3\n",
      "⚠️ Respuesta vacía para William Murphy. Intento 1/3\n",
      "⚠️ Respuesta vacía para William Murphy. Intento 2/3\n",
      "⚠️ Respuesta vacía para William Murphy. Intento 3/3\n"
     ]
    },
    {
     "name": "stderr",
     "output_type": "stream",
     "text": [
      "Procesando artistas:   7%|▋         | 144/2110 [03:11<42:42,  1.30s/it]"
     ]
    },
    {
     "name": "stdout",
     "output_type": "stream",
     "text": [
      "⚠️ Respuesta vacía para CeCe Winans. Intento 1/3\n",
      "⚠️ Respuesta vacía para CeCe Winans. Intento 2/3\n"
     ]
    },
    {
     "name": "stderr",
     "output_type": "stream",
     "text": [
      "Procesando artistas:   7%|▋         | 145/2110 [03:12<42:07,  1.29s/it]"
     ]
    },
    {
     "name": "stdout",
     "output_type": "stream",
     "text": [
      "⚠️ Respuesta vacía para CeCe Winans. Intento 3/3\n",
      "⚠️ Respuesta vacía para Crowder. Intento 1/3\n",
      "⚠️ Respuesta vacía para Crowder. Intento 2/3\n"
     ]
    },
    {
     "name": "stderr",
     "output_type": "stream",
     "text": [
      "Procesando artistas:   7%|▋         | 146/2110 [03:13<42:11,  1.29s/it]"
     ]
    },
    {
     "name": "stdout",
     "output_type": "stream",
     "text": [
      "⚠️ Respuesta vacía para Crowder. Intento 3/3\n",
      "⚠️ Respuesta vacía para Danny Gokey. Intento 1/3\n",
      "⚠️ Respuesta vacía para Danny Gokey. Intento 2/3\n"
     ]
    },
    {
     "name": "stderr",
     "output_type": "stream",
     "text": [
      "Procesando artistas:   7%|▋         | 147/2110 [03:15<43:33,  1.33s/it]"
     ]
    },
    {
     "name": "stdout",
     "output_type": "stream",
     "text": [
      "⚠️ Respuesta vacía para Danny Gokey. Intento 3/3\n",
      "⚠️ Respuesta vacía para TobyMac. Intento 1/3\n",
      "⚠️ Respuesta vacía para TobyMac. Intento 2/3\n"
     ]
    },
    {
     "name": "stderr",
     "output_type": "stream",
     "text": [
      "Procesando artistas:   7%|▋         | 148/2110 [03:16<42:29,  1.30s/it]"
     ]
    },
    {
     "name": "stdout",
     "output_type": "stream",
     "text": [
      "⚠️ Respuesta vacía para TobyMac. Intento 3/3\n",
      "⚠️ Respuesta vacía para Chris Tomlin. Intento 1/3\n",
      "⚠️ Respuesta vacía para Chris Tomlin. Intento 2/3\n"
     ]
    },
    {
     "name": "stderr",
     "output_type": "stream",
     "text": [
      "Procesando artistas:   7%|▋         | 149/2110 [03:17<42:28,  1.30s/it]"
     ]
    },
    {
     "name": "stdout",
     "output_type": "stream",
     "text": [
      "⚠️ Respuesta vacía para Chris Tomlin. Intento 3/3\n",
      "⚠️ Respuesta vacía para Steven Curtis Chapman. Intento 1/3\n",
      "⚠️ Respuesta vacía para Steven Curtis Chapman. Intento 2/3\n"
     ]
    },
    {
     "name": "stderr",
     "output_type": "stream",
     "text": [
      "Procesando artistas:   7%|▋         | 150/2110 [03:19<42:29,  1.30s/it]"
     ]
    },
    {
     "name": "stdout",
     "output_type": "stream",
     "text": [
      "⚠️ Respuesta vacía para Steven Curtis Chapman. Intento 3/3\n",
      "⚠️ Respuesta vacía para Joseph Habedank. Intento 1/3\n",
      "⚠️ Respuesta vacía para Joseph Habedank. Intento 2/3\n",
      "⚠️ Respuesta vacía para Joseph Habedank. Intento 3/3\n"
     ]
    },
    {
     "name": "stderr",
     "output_type": "stream",
     "text": [
      "Procesando artistas:   7%|▋         | 151/2110 [03:20<42:19,  1.30s/it]"
     ]
    },
    {
     "name": "stdout",
     "output_type": "stream",
     "text": [
      "⚠️ Respuesta vacía para Tim Menzies. Intento 1/3\n",
      "⚠️ Respuesta vacía para Tim Menzies. Intento 2/3\n"
     ]
    },
    {
     "name": "stderr",
     "output_type": "stream",
     "text": [
      "Procesando artistas:   7%|▋         | 152/2110 [03:21<42:38,  1.31s/it]"
     ]
    },
    {
     "name": "stdout",
     "output_type": "stream",
     "text": [
      "⚠️ Respuesta vacía para Tim Menzies. Intento 3/3\n",
      "⚠️ Respuesta vacía para Various Artists. Intento 1/3\n",
      "⚠️ Respuesta vacía para Various Artists. Intento 2/3\n"
     ]
    },
    {
     "name": "stderr",
     "output_type": "stream",
     "text": [
      "Procesando artistas:   7%|▋         | 153/2110 [03:23<42:28,  1.30s/it]"
     ]
    },
    {
     "name": "stdout",
     "output_type": "stream",
     "text": [
      "⚠️ Respuesta vacía para Various Artists. Intento 3/3\n",
      "⚠️ Respuesta vacía para Alejandro Sanz. Intento 1/3\n",
      "⚠️ Respuesta vacía para Alejandro Sanz. Intento 2/3\n"
     ]
    },
    {
     "name": "stderr",
     "output_type": "stream",
     "text": [
      "Procesando artistas:   7%|▋         | 154/2110 [03:24<42:54,  1.32s/it]"
     ]
    },
    {
     "name": "stdout",
     "output_type": "stream",
     "text": [
      "⚠️ Respuesta vacía para Alejandro Sanz. Intento 3/3\n",
      "⚠️ Respuesta vacía para Luis Fonsi. Intento 1/3\n",
      "⚠️ Respuesta vacía para Luis Fonsi. Intento 2/3\n",
      "⚠️ Respuesta vacía para Luis Fonsi. Intento 3/3\n"
     ]
    },
    {
     "name": "stderr",
     "output_type": "stream",
     "text": [
      "Procesando artistas:   7%|▋         | 155/2110 [03:25<43:30,  1.34s/it]"
     ]
    },
    {
     "name": "stdout",
     "output_type": "stream",
     "text": [
      "⚠️ Respuesta vacía para Maluma. Intento 1/3\n",
      "⚠️ Respuesta vacía para Maluma. Intento 2/3\n"
     ]
    },
    {
     "name": "stderr",
     "output_type": "stream",
     "text": [
      "Procesando artistas:   7%|▋         | 156/2110 [03:27<42:40,  1.31s/it]"
     ]
    },
    {
     "name": "stdout",
     "output_type": "stream",
     "text": [
      "⚠️ Respuesta vacía para Maluma. Intento 3/3\n",
      "⚠️ Respuesta vacía para Ricardo Montaner. Intento 1/3\n",
      "⚠️ Respuesta vacía para Ricardo Montaner. Intento 2/3\n"
     ]
    },
    {
     "name": "stderr",
     "output_type": "stream",
     "text": [
      "Procesando artistas:   7%|▋         | 157/2110 [03:28<42:32,  1.31s/it]"
     ]
    },
    {
     "name": "stdout",
     "output_type": "stream",
     "text": [
      "⚠️ Respuesta vacía para Ricardo Montaner. Intento 3/3\n",
      "⚠️ Respuesta vacía para Sebastian Yatra. Intento 1/3\n",
      "⚠️ Respuesta vacía para Sebastian Yatra. Intento 2/3\n"
     ]
    },
    {
     "name": "stderr",
     "output_type": "stream",
     "text": [
      "Procesando artistas:   7%|▋         | 158/2110 [03:30<45:43,  1.41s/it]"
     ]
    },
    {
     "name": "stdout",
     "output_type": "stream",
     "text": [
      "⚠️ Respuesta vacía para Sebastian Yatra. Intento 3/3\n",
      "⚠️ Respuesta vacía para Bad Bunny. Intento 1/3\n",
      "⚠️ Respuesta vacía para Bad Bunny. Intento 2/3\n"
     ]
    },
    {
     "name": "stderr",
     "output_type": "stream",
     "text": [
      "Procesando artistas:   8%|▊         | 159/2110 [03:31<46:06,  1.42s/it]"
     ]
    },
    {
     "name": "stdout",
     "output_type": "stream",
     "text": [
      "⚠️ Respuesta vacía para Bad Bunny. Intento 3/3\n",
      "⚠️ Respuesta vacía para J Balvin. Intento 1/3\n",
      "⚠️ Respuesta vacía para J Balvin. Intento 2/3\n"
     ]
    },
    {
     "name": "stderr",
     "output_type": "stream",
     "text": [
      "Procesando artistas:   8%|▊         | 160/2110 [03:32<45:06,  1.39s/it]"
     ]
    },
    {
     "name": "stdout",
     "output_type": "stream",
     "text": [
      "⚠️ Respuesta vacía para J Balvin. Intento 3/3\n",
      "⚠️ Respuesta vacía para Flor De Toloache. Intento 1/3\n",
      "⚠️ Respuesta vacía para Flor De Toloache. Intento 2/3\n"
     ]
    },
    {
     "name": "stderr",
     "output_type": "stream",
     "text": [
      "Procesando artistas:   8%|▊         | 161/2110 [03:34<43:50,  1.35s/it]"
     ]
    },
    {
     "name": "stdout",
     "output_type": "stream",
     "text": [
      "⚠️ Respuesta vacía para Flor De Toloache. Intento 3/3\n",
      "⚠️ Respuesta vacía para iLe. Intento 1/3\n",
      "⚠️ Respuesta vacía para iLe. Intento 2/3\n",
      "⚠️ Respuesta vacía para iLe. Intento 3/3\n"
     ]
    },
    {
     "name": "stderr",
     "output_type": "stream",
     "text": [
      "Procesando artistas:   8%|▊         | 162/2110 [03:35<42:22,  1.31s/it]"
     ]
    },
    {
     "name": "stdout",
     "output_type": "stream",
     "text": [
      "⚠️ Respuesta vacía para Mariachi Los Camperos. Intento 1/3\n",
      "⚠️ Respuesta vacía para Mariachi Los Camperos. Intento 2/3\n",
      "⚠️ Respuesta vacía para Mariachi Los Camperos. Intento 3/3\n"
     ]
    },
    {
     "name": "stderr",
     "output_type": "stream",
     "text": [
      "Procesando artistas:   8%|▊         | 163/2110 [03:36<42:24,  1.31s/it]"
     ]
    },
    {
     "name": "stdout",
     "output_type": "stream",
     "text": [
      "⚠️ Respuesta vacía para Joss Favela. Intento 1/3\n",
      "⚠️ Respuesta vacía para Joss Favela. Intento 2/3\n",
      "⚠️ Respuesta vacía para Joss Favela. Intento 3/3\n"
     ]
    },
    {
     "name": "stderr",
     "output_type": "stream",
     "text": [
      "Procesando artistas:   8%|▊         | 164/2110 [03:37<41:58,  1.29s/it]"
     ]
    },
    {
     "name": "stdout",
     "output_type": "stream",
     "text": [
      "⚠️ Respuesta vacía para Intocable. Intento 1/3\n",
      "⚠️ Respuesta vacía para Intocable. Intento 2/3\n",
      "⚠️ Respuesta vacía para Intocable. Intento 3/3\n"
     ]
    },
    {
     "name": "stderr",
     "output_type": "stream",
     "text": [
      "Procesando artistas:   8%|▊         | 165/2110 [03:39<42:22,  1.31s/it]"
     ]
    },
    {
     "name": "stdout",
     "output_type": "stream",
     "text": [
      "⚠️ Respuesta vacía para La Energia Norteña. Intento 1/3\n",
      "⚠️ Respuesta vacía para La Energia Norteña. Intento 2/3\n"
     ]
    },
    {
     "name": "stderr",
     "output_type": "stream",
     "text": [
      "Procesando artistas:   8%|▊         | 166/2110 [03:40<42:02,  1.30s/it]"
     ]
    },
    {
     "name": "stdout",
     "output_type": "stream",
     "text": [
      "⚠️ Respuesta vacía para La Energia Norteña. Intento 3/3\n",
      "⚠️ Respuesta vacía para Mariachi Divas De Cindy Shea. Intento 1/3\n",
      "⚠️ Respuesta vacía para Mariachi Divas De Cindy Shea. Intento 2/3\n",
      "⚠️ Respuesta vacía para Mariachi Divas De Cindy Shea. Intento 3/3\n"
     ]
    },
    {
     "name": "stderr",
     "output_type": "stream",
     "text": [
      "Procesando artistas:   8%|▊         | 167/2110 [03:41<41:15,  1.27s/it]"
     ]
    },
    {
     "name": "stdout",
     "output_type": "stream",
     "text": [
      "⚠️ Respuesta vacía para Marc Anthony. Intento 1/3\n",
      "⚠️ Respuesta vacía para Marc Anthony. Intento 2/3\n"
     ]
    },
    {
     "name": "stderr",
     "output_type": "stream",
     "text": [
      "Procesando artistas:   8%|▊         | 168/2110 [03:42<40:26,  1.25s/it]"
     ]
    },
    {
     "name": "stdout",
     "output_type": "stream",
     "text": [
      "⚠️ Respuesta vacía para Marc Anthony. Intento 3/3\n",
      "⚠️ Respuesta vacía para Aymée Nuviola. Intento 1/3\n",
      "⚠️ Respuesta vacía para Aymée Nuviola. Intento 2/3\n"
     ]
    },
    {
     "name": "stderr",
     "output_type": "stream",
     "text": [
      "Procesando artistas:   8%|▊         | 169/2110 [03:44<40:59,  1.27s/it]"
     ]
    },
    {
     "name": "stdout",
     "output_type": "stream",
     "text": [
      "⚠️ Respuesta vacía para Aymée Nuviola. Intento 3/3\n",
      "⚠️ Respuesta vacía para Luis Enrique + C4 Trio. Intento 1/3\n",
      "⚠️ Respuesta vacía para Luis Enrique + C4 Trio. Intento 2/3\n",
      "⚠️ Respuesta vacía para Luis Enrique + C4 Trio. Intento 3/3\n"
     ]
    },
    {
     "name": "stderr",
     "output_type": "stream",
     "text": [
      "Procesando artistas:   8%|▊         | 170/2110 [03:45<41:21,  1.28s/it]"
     ]
    },
    {
     "name": "stdout",
     "output_type": "stream",
     "text": [
      "⚠️ Respuesta vacía para Vicente García. Intento 1/3\n",
      "⚠️ Respuesta vacía para Vicente García. Intento 2/3\n"
     ]
    },
    {
     "name": "stderr",
     "output_type": "stream",
     "text": [
      "Procesando artistas:   8%|▊         | 171/2110 [03:46<41:22,  1.28s/it]"
     ]
    },
    {
     "name": "stdout",
     "output_type": "stream",
     "text": [
      "⚠️ Respuesta vacía para Vicente García. Intento 3/3\n",
      "⚠️ Respuesta vacía para Juan Luis Guerra 4.40. Intento 1/3\n",
      "⚠️ Respuesta vacía para Juan Luis Guerra 4.40. Intento 2/3\n"
     ]
    },
    {
     "name": "stderr",
     "output_type": "stream",
     "text": [
      "Procesando artistas:   8%|▊         | 172/2110 [03:48<41:07,  1.27s/it]"
     ]
    },
    {
     "name": "stdout",
     "output_type": "stream",
     "text": [
      "⚠️ Respuesta vacía para Juan Luis Guerra 4.40. Intento 3/3\n",
      "⚠️ Respuesta vacía para Sara Bareilles. Intento 1/3\n",
      "⚠️ Respuesta vacía para Sara Bareilles. Intento 2/3\n"
     ]
    },
    {
     "name": "stderr",
     "output_type": "stream",
     "text": [
      "Procesando artistas:   8%|▊         | 173/2110 [03:49<39:50,  1.23s/it]"
     ]
    },
    {
     "name": "stdout",
     "output_type": "stream",
     "text": [
      "⚠️ Respuesta vacía para Sara Bareilles. Intento 3/3\n",
      "⚠️ Respuesta vacía para Calexico And Iron. Intento 1/3\n",
      "⚠️ Respuesta vacía para Calexico And Iron. Intento 2/3\n",
      "⚠️ Respuesta vacía para Calexico And Iron. Intento 3/3\n"
     ]
    },
    {
     "name": "stderr",
     "output_type": "stream",
     "text": [
      "Procesando artistas:   8%|▊         | 174/2110 [03:50<38:22,  1.19s/it]"
     ]
    },
    {
     "name": "stdout",
     "output_type": "stream",
     "text": [
      "⚠️ Respuesta vacía para Rhiannon Giddens with Francesco Turrisi. Intento 1/3\n",
      "⚠️ Respuesta vacía para Rhiannon Giddens with Francesco Turrisi. Intento 2/3\n",
      "⚠️ Respuesta vacía para Rhiannon Giddens with Francesco Turrisi. Intento 3/3\n"
     ]
    },
    {
     "name": "stderr",
     "output_type": "stream",
     "text": [
      "Procesando artistas:   8%|▊         | 175/2110 [03:51<37:48,  1.17s/it]"
     ]
    },
    {
     "name": "stdout",
     "output_type": "stream",
     "text": [
      "⚠️ Respuesta vacía para I'm With Her. Intento 1/3\n",
      "⚠️ Respuesta vacía para I'm With Her. Intento 2/3\n",
      "⚠️ Respuesta vacía para I'm With Her. Intento 3/3\n"
     ]
    },
    {
     "name": "stderr",
     "output_type": "stream",
     "text": [
      "Procesando artistas:   8%|▊         | 176/2110 [03:52<37:05,  1.15s/it]"
     ]
    },
    {
     "name": "stdout",
     "output_type": "stream",
     "text": [
      "⚠️ Respuesta vacía para Our Native Daughters. Intento 1/3\n",
      "⚠️ Respuesta vacía para Our Native Daughters. Intento 2/3\n",
      "⚠️ Respuesta vacía para Our Native Daughters. Intento 3/3\n"
     ]
    },
    {
     "name": "stderr",
     "output_type": "stream",
     "text": [
      "Procesando artistas:   8%|▊         | 177/2110 [03:53<37:23,  1.16s/it]"
     ]
    },
    {
     "name": "stdout",
     "output_type": "stream",
     "text": [
      "⚠️ Respuesta vacía para Rosanne Cash. Intento 1/3\n",
      "⚠️ Respuesta vacía para Rosanne Cash. Intento 2/3\n",
      "⚠️ Respuesta vacía para Rosanne Cash. Intento 3/3\n"
     ]
    },
    {
     "name": "stderr",
     "output_type": "stream",
     "text": [
      "Procesando artistas:   8%|▊         | 178/2110 [03:54<36:52,  1.15s/it]"
     ]
    },
    {
     "name": "stdout",
     "output_type": "stream",
     "text": [
      "⚠️ Respuesta vacía para Vince Gill. Intento 1/3\n",
      "⚠️ Respuesta vacía para Vince Gill. Intento 2/3\n",
      "⚠️ Respuesta vacía para Vince Gill. Intento 3/3\n"
     ]
    },
    {
     "name": "stderr",
     "output_type": "stream",
     "text": [
      "Procesando artistas:   8%|▊         | 179/2110 [03:55<36:19,  1.13s/it]"
     ]
    },
    {
     "name": "stdout",
     "output_type": "stream",
     "text": [
      "⚠️ Respuesta vacía para Keb' Mo'. Intento 1/3\n",
      "⚠️ Respuesta vacía para Keb' Mo'. Intento 2/3\n"
     ]
    },
    {
     "name": "stderr",
     "output_type": "stream",
     "text": [
      "Procesando artistas:   9%|▊         | 180/2110 [03:57<36:14,  1.13s/it]"
     ]
    },
    {
     "name": "stdout",
     "output_type": "stream",
     "text": [
      "⚠️ Respuesta vacía para Keb' Mo'. Intento 3/3\n",
      "⚠️ Respuesta vacía para Madison Cunningham. Intento 1/3\n",
      "⚠️ Respuesta vacía para Madison Cunningham. Intento 2/3\n"
     ]
    },
    {
     "name": "stderr",
     "output_type": "stream",
     "text": [
      "Procesando artistas:   9%|▊         | 181/2110 [03:58<36:12,  1.13s/it]"
     ]
    },
    {
     "name": "stdout",
     "output_type": "stream",
     "text": [
      "⚠️ Respuesta vacía para Madison Cunningham. Intento 3/3\n",
      "⚠️ Respuesta vacía para J.S. Ondara. Intento 1/3\n",
      "⚠️ Respuesta vacía para J.S. Ondara. Intento 2/3\n",
      "⚠️ Respuesta vacía para J.S. Ondara. Intento 3/3\n"
     ]
    },
    {
     "name": "stderr",
     "output_type": "stream",
     "text": [
      "Procesando artistas:   9%|▊         | 182/2110 [03:59<36:49,  1.15s/it]"
     ]
    },
    {
     "name": "stdout",
     "output_type": "stream",
     "text": [
      "⚠️ Respuesta vacía para Michael Cleveland. Intento 1/3\n",
      "⚠️ Respuesta vacía para Michael Cleveland. Intento 2/3\n"
     ]
    },
    {
     "name": "stderr",
     "output_type": "stream",
     "text": [
      "Procesando artistas:   9%|▊         | 183/2110 [04:00<36:25,  1.13s/it]"
     ]
    },
    {
     "name": "stdout",
     "output_type": "stream",
     "text": [
      "⚠️ Respuesta vacía para Michael Cleveland. Intento 3/3\n",
      "⚠️ Respuesta vacía para Doyle Lawson. Intento 1/3\n",
      "⚠️ Respuesta vacía para Doyle Lawson. Intento 2/3\n"
     ]
    },
    {
     "name": "stderr",
     "output_type": "stream",
     "text": [
      "Procesando artistas:   9%|▊         | 184/2110 [04:01<36:08,  1.13s/it]"
     ]
    },
    {
     "name": "stdout",
     "output_type": "stream",
     "text": [
      "⚠️ Respuesta vacía para Doyle Lawson. Intento 3/3\n",
      "⚠️ Respuesta vacía para The Po’ Ramblin’ Boys. Intento 1/3\n",
      "⚠️ Respuesta vacía para The Po’ Ramblin’ Boys. Intento 2/3\n",
      "⚠️ Respuesta vacía para The Po’ Ramblin’ Boys. Intento 3/3\n"
     ]
    },
    {
     "name": "stderr",
     "output_type": "stream",
     "text": [
      "Procesando artistas:   9%|▉         | 185/2110 [04:02<36:04,  1.12s/it]"
     ]
    },
    {
     "name": "stdout",
     "output_type": "stream",
     "text": [
      "⚠️ Respuesta vacía para Missy Raines. Intento 1/3\n",
      "⚠️ Respuesta vacía para Missy Raines. Intento 2/3\n",
      "⚠️ Respuesta vacía para Missy Raines. Intento 3/3\n"
     ]
    },
    {
     "name": "stderr",
     "output_type": "stream",
     "text": [
      "Procesando artistas:   9%|▉         | 186/2110 [04:03<35:59,  1.12s/it]"
     ]
    },
    {
     "name": "stdout",
     "output_type": "stream",
     "text": [
      "⚠️ Respuesta vacía para Frank Solivan. Intento 1/3\n",
      "⚠️ Respuesta vacía para Frank Solivan. Intento 2/3\n",
      "⚠️ Respuesta vacía para Frank Solivan. Intento 3/3\n"
     ]
    },
    {
     "name": "stderr",
     "output_type": "stream",
     "text": [
      "Procesando artistas:   9%|▉         | 187/2110 [04:04<35:49,  1.12s/it]"
     ]
    },
    {
     "name": "stdout",
     "output_type": "stream",
     "text": [
      "⚠️ Respuesta vacía para Delbert McClinton. Intento 1/3\n",
      "⚠️ Respuesta vacía para Delbert McClinton. Intento 2/3\n"
     ]
    },
    {
     "name": "stderr",
     "output_type": "stream",
     "text": [
      "Procesando artistas:   9%|▉         | 188/2110 [04:05<35:37,  1.11s/it]"
     ]
    },
    {
     "name": "stdout",
     "output_type": "stream",
     "text": [
      "⚠️ Respuesta vacía para Delbert McClinton. Intento 3/3\n",
      "⚠️ Respuesta vacía para Christone Kingfish Ingram. Intento 1/3\n",
      "⚠️ Respuesta vacía para Christone Kingfish Ingram. Intento 2/3\n"
     ]
    },
    {
     "name": "stderr",
     "output_type": "stream",
     "text": [
      "Procesando artistas:   9%|▉         | 189/2110 [04:07<35:35,  1.11s/it]"
     ]
    },
    {
     "name": "stdout",
     "output_type": "stream",
     "text": [
      "⚠️ Respuesta vacía para Christone Kingfish Ingram. Intento 3/3\n",
      "⚠️ Respuesta vacía para Bobby Rush. Intento 1/3\n",
      "⚠️ Respuesta vacía para Bobby Rush. Intento 2/3\n"
     ]
    },
    {
     "name": "stderr",
     "output_type": "stream",
     "text": [
      "Procesando artistas:   9%|▉         | 190/2110 [04:08<36:14,  1.13s/it]"
     ]
    },
    {
     "name": "stdout",
     "output_type": "stream",
     "text": [
      "⚠️ Respuesta vacía para Bobby Rush. Intento 3/3\n",
      "⚠️ Respuesta vacía para Jimmie Vaughan. Intento 1/3\n",
      "⚠️ Respuesta vacía para Jimmie Vaughan. Intento 2/3\n"
     ]
    },
    {
     "name": "stderr",
     "output_type": "stream",
     "text": [
      "Procesando artistas:   9%|▉         | 191/2110 [04:09<36:14,  1.13s/it]"
     ]
    },
    {
     "name": "stdout",
     "output_type": "stream",
     "text": [
      "⚠️ Respuesta vacía para Jimmie Vaughan. Intento 3/3\n",
      "⚠️ Respuesta vacía para Jontavious Willis. Intento 1/3\n",
      "⚠️ Respuesta vacía para Jontavious Willis. Intento 2/3\n",
      "⚠️ Respuesta vacía para Jontavious Willis. Intento 3/3\n"
     ]
    },
    {
     "name": "stderr",
     "output_type": "stream",
     "text": [
      "Procesando artistas:   9%|▉         | 192/2110 [04:10<36:13,  1.13s/it]"
     ]
    },
    {
     "name": "stdout",
     "output_type": "stream",
     "text": [
      "⚠️ Respuesta vacía para Larkin Poe. Intento 1/3\n",
      "⚠️ Respuesta vacía para Larkin Poe. Intento 2/3\n",
      "⚠️ Respuesta vacía para Larkin Poe. Intento 3/3\n"
     ]
    },
    {
     "name": "stderr",
     "output_type": "stream",
     "text": [
      "Procesando artistas:   9%|▉         | 193/2110 [04:11<36:07,  1.13s/it]"
     ]
    },
    {
     "name": "stdout",
     "output_type": "stream",
     "text": [
      "⚠️ Respuesta vacía para Robert Randolph. Intento 1/3\n",
      "⚠️ Respuesta vacía para Robert Randolph. Intento 2/3\n",
      "⚠️ Respuesta vacía para Robert Randolph. Intento 3/3\n"
     ]
    },
    {
     "name": "stderr",
     "output_type": "stream",
     "text": [
      "Procesando artistas:   9%|▉         | 194/2110 [04:12<35:47,  1.12s/it]"
     ]
    },
    {
     "name": "stdout",
     "output_type": "stream",
     "text": [
      "⚠️ Respuesta vacía para Sugaray Rayford. Intento 1/3\n",
      "⚠️ Respuesta vacía para Sugaray Rayford. Intento 2/3\n"
     ]
    },
    {
     "name": "stderr",
     "output_type": "stream",
     "text": [
      "Procesando artistas:   9%|▉         | 195/2110 [04:13<35:36,  1.12s/it]"
     ]
    },
    {
     "name": "stdout",
     "output_type": "stream",
     "text": [
      "⚠️ Respuesta vacía para Sugaray Rayford. Intento 3/3\n",
      "⚠️ Respuesta vacía para Southern Avenue. Intento 1/3\n",
      "⚠️ Respuesta vacía para Southern Avenue. Intento 2/3\n"
     ]
    },
    {
     "name": "stderr",
     "output_type": "stream",
     "text": [
      "Procesando artistas:   9%|▉         | 196/2110 [04:15<36:00,  1.13s/it]"
     ]
    },
    {
     "name": "stdout",
     "output_type": "stream",
     "text": [
      "⚠️ Respuesta vacía para Southern Avenue. Intento 3/3\n",
      "⚠️ Respuesta vacía para Patty Griffin. Intento 1/3\n",
      "⚠️ Respuesta vacía para Patty Griffin. Intento 2/3\n"
     ]
    },
    {
     "name": "stderr",
     "output_type": "stream",
     "text": [
      "Procesando artistas:   9%|▉         | 197/2110 [04:16<36:13,  1.14s/it]"
     ]
    },
    {
     "name": "stdout",
     "output_type": "stream",
     "text": [
      "⚠️ Respuesta vacía para Patty Griffin. Intento 3/3\n",
      "⚠️ Respuesta vacía para Andrew Bird. Intento 1/3\n",
      "⚠️ Respuesta vacía para Andrew Bird. Intento 2/3\n"
     ]
    },
    {
     "name": "stderr",
     "output_type": "stream",
     "text": [
      "Procesando artistas:   9%|▉         | 198/2110 [04:17<35:59,  1.13s/it]"
     ]
    },
    {
     "name": "stdout",
     "output_type": "stream",
     "text": [
      "⚠️ Respuesta vacía para Andrew Bird. Intento 3/3\n",
      "⚠️ Respuesta vacía para Che Apalache. Intento 1/3\n",
      "⚠️ Respuesta vacía para Che Apalache. Intento 2/3\n"
     ]
    },
    {
     "name": "stderr",
     "output_type": "stream",
     "text": [
      "Procesando artistas:   9%|▉         | 199/2110 [04:18<35:56,  1.13s/it]"
     ]
    },
    {
     "name": "stdout",
     "output_type": "stream",
     "text": [
      "⚠️ Respuesta vacía para Che Apalache. Intento 3/3\n",
      "⚠️ Respuesta vacía para Gregory Alan Isakov. Intento 1/3\n",
      "⚠️ Respuesta vacía para Gregory Alan Isakov. Intento 2/3\n"
     ]
    },
    {
     "name": "stderr",
     "output_type": "stream",
     "text": [
      "Procesando artistas:   9%|▉         | 200/2110 [04:19<36:16,  1.14s/it]"
     ]
    },
    {
     "name": "stdout",
     "output_type": "stream",
     "text": [
      "⚠️ Respuesta vacía para Gregory Alan Isakov. Intento 3/3\n",
      "⚠️ Respuesta vacía para Joy Williams. Intento 1/3\n",
      "⚠️ Respuesta vacía para Joy Williams. Intento 2/3\n"
     ]
    },
    {
     "name": "stderr",
     "output_type": "stream",
     "text": [
      "Procesando artistas:  10%|▉         | 201/2110 [04:20<36:22,  1.14s/it]"
     ]
    },
    {
     "name": "stdout",
     "output_type": "stream",
     "text": [
      "⚠️ Respuesta vacía para Joy Williams. Intento 3/3\n",
      "⚠️ Respuesta vacía para Ranky Tanky. Intento 1/3\n",
      "⚠️ Respuesta vacía para Ranky Tanky. Intento 2/3\n"
     ]
    },
    {
     "name": "stderr",
     "output_type": "stream",
     "text": [
      "Procesando artistas:  10%|▉         | 202/2110 [04:21<36:35,  1.15s/it]"
     ]
    },
    {
     "name": "stdout",
     "output_type": "stream",
     "text": [
      "⚠️ Respuesta vacía para Ranky Tanky. Intento 3/3\n",
      "⚠️ Respuesta vacía para Amy Hānaiali’i. Intento 1/3\n",
      "⚠️ Respuesta vacía para Amy Hānaiali’i. Intento 2/3\n"
     ]
    },
    {
     "name": "stderr",
     "output_type": "stream",
     "text": [
      "Procesando artistas:  10%|▉         | 203/2110 [04:23<36:12,  1.14s/it]"
     ]
    },
    {
     "name": "stdout",
     "output_type": "stream",
     "text": [
      "⚠️ Respuesta vacía para Amy Hānaiali’i. Intento 3/3\n",
      "⚠️ Respuesta vacía para Northern Cree. Intento 1/3\n",
      "⚠️ Respuesta vacía para Northern Cree. Intento 2/3\n"
     ]
    },
    {
     "name": "stderr",
     "output_type": "stream",
     "text": [
      "Procesando artistas:  10%|▉         | 204/2110 [04:24<35:42,  1.12s/it]"
     ]
    },
    {
     "name": "stdout",
     "output_type": "stream",
     "text": [
      "⚠️ Respuesta vacía para Northern Cree. Intento 3/3\n",
      "⚠️ Respuesta vacía para Rebirth Brass Band. Intento 1/3\n",
      "⚠️ Respuesta vacía para Rebirth Brass Band. Intento 2/3\n"
     ]
    },
    {
     "name": "stderr",
     "output_type": "stream",
     "text": [
      "Procesando artistas:  10%|▉         | 205/2110 [04:25<36:06,  1.14s/it]"
     ]
    },
    {
     "name": "stdout",
     "output_type": "stream",
     "text": [
      "⚠️ Respuesta vacía para Rebirth Brass Band. Intento 3/3\n",
      "⚠️ Respuesta vacía para Koffee. Intento 1/3\n",
      "⚠️ Respuesta vacía para Koffee. Intento 2/3\n"
     ]
    },
    {
     "name": "stderr",
     "output_type": "stream",
     "text": [
      "Procesando artistas:  10%|▉         | 206/2110 [04:26<36:02,  1.14s/it]"
     ]
    },
    {
     "name": "stdout",
     "output_type": "stream",
     "text": [
      "⚠️ Respuesta vacía para Koffee. Intento 3/3\n",
      "⚠️ Respuesta vacía para Julian Marley. Intento 1/3\n",
      "⚠️ Respuesta vacía para Julian Marley. Intento 2/3\n",
      "⚠️ Respuesta vacía para Julian Marley. Intento 3/3\n"
     ]
    },
    {
     "name": "stderr",
     "output_type": "stream",
     "text": [
      "Procesando artistas:  10%|▉         | 207/2110 [04:27<35:59,  1.13s/it]"
     ]
    },
    {
     "name": "stdout",
     "output_type": "stream",
     "text": [
      "⚠️ Respuesta vacía para Sly. Intento 1/3\n",
      "⚠️ Respuesta vacía para Sly. Intento 2/3\n"
     ]
    },
    {
     "name": "stderr",
     "output_type": "stream",
     "text": [
      "Procesando artistas:  10%|▉         | 208/2110 [04:28<36:29,  1.15s/it]"
     ]
    },
    {
     "name": "stdout",
     "output_type": "stream",
     "text": [
      "⚠️ Respuesta vacía para Sly. Intento 3/3\n",
      "⚠️ Respuesta vacía para Steel Pulse. Intento 1/3\n",
      "⚠️ Respuesta vacía para Steel Pulse. Intento 2/3\n"
     ]
    },
    {
     "name": "stderr",
     "output_type": "stream",
     "text": [
      "Procesando artistas:  10%|▉         | 209/2110 [04:29<35:51,  1.13s/it]"
     ]
    },
    {
     "name": "stdout",
     "output_type": "stream",
     "text": [
      "⚠️ Respuesta vacía para Steel Pulse. Intento 3/3\n",
      "⚠️ Respuesta vacía para Third World. Intento 1/3\n",
      "⚠️ Respuesta vacía para Third World. Intento 2/3\n"
     ]
    },
    {
     "name": "stderr",
     "output_type": "stream",
     "text": [
      "Procesando artistas:  10%|▉         | 210/2110 [04:30<35:27,  1.12s/it]"
     ]
    },
    {
     "name": "stdout",
     "output_type": "stream",
     "text": [
      "⚠️ Respuesta vacía para Third World. Intento 3/3\n",
      "⚠️ Respuesta vacía para Angelique Kidjo. Intento 1/3\n",
      "⚠️ Respuesta vacía para Angelique Kidjo. Intento 2/3\n"
     ]
    },
    {
     "name": "stderr",
     "output_type": "stream",
     "text": [
      "Procesando artistas:  10%|█         | 211/2110 [04:32<35:46,  1.13s/it]"
     ]
    },
    {
     "name": "stdout",
     "output_type": "stream",
     "text": [
      "⚠️ Respuesta vacía para Angelique Kidjo. Intento 3/3\n",
      "⚠️ Respuesta vacía para Altin Gün. Intento 1/3\n",
      "⚠️ Respuesta vacía para Altin Gün. Intento 2/3\n"
     ]
    },
    {
     "name": "stderr",
     "output_type": "stream",
     "text": [
      "Procesando artistas:  10%|█         | 212/2110 [04:33<35:36,  1.13s/it]"
     ]
    },
    {
     "name": "stdout",
     "output_type": "stream",
     "text": [
      "⚠️ Respuesta vacía para Altin Gün. Intento 3/3\n",
      "⚠️ Respuesta vacía para Bokanté. Intento 1/3\n",
      "⚠️ Respuesta vacía para Bokanté. Intento 2/3\n"
     ]
    },
    {
     "name": "stderr",
     "output_type": "stream",
     "text": [
      "Procesando artistas:  10%|█         | 213/2110 [04:34<35:37,  1.13s/it]"
     ]
    },
    {
     "name": "stdout",
     "output_type": "stream",
     "text": [
      "⚠️ Respuesta vacía para Bokanté. Intento 3/3\n",
      "⚠️ Respuesta vacía para Burna Boy. Intento 1/3\n",
      "⚠️ Respuesta vacía para Burna Boy. Intento 2/3\n",
      "⚠️ Respuesta vacía para Burna Boy. Intento 3/3\n"
     ]
    },
    {
     "name": "stderr",
     "output_type": "stream",
     "text": [
      "Procesando artistas:  10%|█         | 214/2110 [04:35<35:45,  1.13s/it]"
     ]
    },
    {
     "name": "stdout",
     "output_type": "stream",
     "text": [
      "⚠️ Respuesta vacía para Nathalie Joachim With Spektral Quartet. Intento 1/3\n",
      "⚠️ Respuesta vacía para Nathalie Joachim With Spektral Quartet. Intento 2/3\n",
      "⚠️ Respuesta vacía para Nathalie Joachim With Spektral Quartet. Intento 3/3\n"
     ]
    },
    {
     "name": "stderr",
     "output_type": "stream",
     "text": [
      "Procesando artistas:  10%|█         | 215/2110 [04:36<35:58,  1.14s/it]"
     ]
    },
    {
     "name": "stdout",
     "output_type": "stream",
     "text": [
      "⚠️ Respuesta vacía para Jon Samson. Intento 1/3\n",
      "⚠️ Respuesta vacía para Jon Samson. Intento 2/3\n"
     ]
    },
    {
     "name": "stderr",
     "output_type": "stream",
     "text": [
      "Procesando artistas:  10%|█         | 216/2110 [04:37<36:52,  1.17s/it]"
     ]
    },
    {
     "name": "stdout",
     "output_type": "stream",
     "text": [
      "⚠️ Respuesta vacía para Jon Samson. Intento 3/3\n",
      "⚠️ Respuesta vacía para Caspar Babypants. Intento 1/3\n",
      "⚠️ Respuesta vacía para Caspar Babypants. Intento 2/3\n"
     ]
    },
    {
     "name": "stderr",
     "output_type": "stream",
     "text": [
      "Procesando artistas:  10%|█         | 217/2110 [04:38<36:34,  1.16s/it]"
     ]
    },
    {
     "name": "stdout",
     "output_type": "stream",
     "text": [
      "⚠️ Respuesta vacía para Caspar Babypants. Intento 3/3\n",
      "⚠️ Respuesta vacía para Daniel Tashian. Intento 1/3\n",
      "⚠️ Respuesta vacía para Daniel Tashian. Intento 2/3\n"
     ]
    },
    {
     "name": "stderr",
     "output_type": "stream",
     "text": [
      "Procesando artistas:  10%|█         | 218/2110 [04:40<36:08,  1.15s/it]"
     ]
    },
    {
     "name": "stdout",
     "output_type": "stream",
     "text": [
      "⚠️ Respuesta vacía para Daniel Tashian. Intento 3/3\n",
      "⚠️ Respuesta vacía para Alphabet Rockers. Intento 1/3\n",
      "⚠️ Respuesta vacía para Alphabet Rockers. Intento 2/3\n"
     ]
    },
    {
     "name": "stderr",
     "output_type": "stream",
     "text": [
      "Procesando artistas:  10%|█         | 219/2110 [04:41<36:13,  1.15s/it]"
     ]
    },
    {
     "name": "stdout",
     "output_type": "stream",
     "text": [
      "⚠️ Respuesta vacía para Alphabet Rockers. Intento 3/3\n",
      "⚠️ Respuesta vacía para The Okee Dokee Brothers. Intento 1/3\n",
      "⚠️ Respuesta vacía para The Okee Dokee Brothers. Intento 2/3\n"
     ]
    },
    {
     "name": "stderr",
     "output_type": "stream",
     "text": [
      "Procesando artistas:  10%|█         | 220/2110 [04:42<36:05,  1.15s/it]"
     ]
    },
    {
     "name": "stdout",
     "output_type": "stream",
     "text": [
      "⚠️ Respuesta vacía para The Okee Dokee Brothers. Intento 3/3\n",
      "⚠️ Respuesta vacía para Michelle Obama. Intento 1/3\n",
      "⚠️ Respuesta vacía para Michelle Obama. Intento 2/3\n"
     ]
    },
    {
     "name": "stderr",
     "output_type": "stream",
     "text": [
      "Procesando artistas:  10%|█         | 221/2110 [04:43<35:51,  1.14s/it]"
     ]
    },
    {
     "name": "stdout",
     "output_type": "stream",
     "text": [
      "⚠️ Respuesta vacía para Michelle Obama. Intento 3/3\n",
      "⚠️ Respuesta vacía para Eric Alexandrakis. Intento 1/3\n",
      "⚠️ Respuesta vacía para Eric Alexandrakis. Intento 2/3\n"
     ]
    },
    {
     "name": "stderr",
     "output_type": "stream",
     "text": [
      "Procesando artistas:  11%|█         | 222/2110 [04:44<35:50,  1.14s/it]"
     ]
    },
    {
     "name": "stdout",
     "output_type": "stream",
     "text": [
      "⚠️ Respuesta vacía para Eric Alexandrakis. Intento 3/3\n",
      "⚠️ Respuesta vacía para John Waters. Intento 1/3\n",
      "⚠️ Respuesta vacía para John Waters. Intento 2/3\n"
     ]
    },
    {
     "name": "stderr",
     "output_type": "stream",
     "text": [
      "Procesando artistas:  11%|█         | 223/2110 [04:45<36:22,  1.16s/it]"
     ]
    },
    {
     "name": "stdout",
     "output_type": "stream",
     "text": [
      "⚠️ Respuesta vacía para John Waters. Intento 3/3\n",
      "⚠️ Respuesta vacía para Sekou Andrews (& The String Theory). Intento 1/3\n",
      "⚠️ Respuesta vacía para Sekou Andrews (& The String Theory). Intento 2/3\n"
     ]
    },
    {
     "name": "stderr",
     "output_type": "stream",
     "text": [
      "Procesando artistas:  11%|█         | 224/2110 [04:46<35:53,  1.14s/it]"
     ]
    },
    {
     "name": "stdout",
     "output_type": "stream",
     "text": [
      "⚠️ Respuesta vacía para Sekou Andrews (& The String Theory). Intento 3/3\n",
      "⚠️ Respuesta vacía para Dave Chappelle. Intento 1/3\n",
      "⚠️ Respuesta vacía para Dave Chappelle. Intento 2/3\n"
     ]
    },
    {
     "name": "stderr",
     "output_type": "stream",
     "text": [
      "Procesando artistas:  11%|█         | 225/2110 [04:48<35:41,  1.14s/it]"
     ]
    },
    {
     "name": "stdout",
     "output_type": "stream",
     "text": [
      "⚠️ Respuesta vacía para Dave Chappelle. Intento 3/3\n",
      "⚠️ Respuesta vacía para Jim Gaffigan. Intento 1/3\n",
      "⚠️ Respuesta vacía para Jim Gaffigan. Intento 2/3\n",
      "⚠️ Respuesta vacía para Jim Gaffigan. Intento 3/3\n"
     ]
    },
    {
     "name": "stderr",
     "output_type": "stream",
     "text": [
      "Procesando artistas:  11%|█         | 226/2110 [04:49<35:14,  1.12s/it]"
     ]
    },
    {
     "name": "stdout",
     "output_type": "stream",
     "text": [
      "⚠️ Respuesta vacía para Ellen DeGeneres. Intento 1/3\n",
      "⚠️ Respuesta vacía para Ellen DeGeneres. Intento 2/3\n"
     ]
    },
    {
     "name": "stderr",
     "output_type": "stream",
     "text": [
      "Procesando artistas:  11%|█         | 227/2110 [04:50<35:02,  1.12s/it]"
     ]
    },
    {
     "name": "stdout",
     "output_type": "stream",
     "text": [
      "⚠️ Respuesta vacía para Ellen DeGeneres. Intento 3/3\n",
      "⚠️ Respuesta vacía para Aziz Ansari. Intento 1/3\n",
      "⚠️ Respuesta vacía para Aziz Ansari. Intento 2/3\n"
     ]
    },
    {
     "name": "stderr",
     "output_type": "stream",
     "text": [
      "Procesando artistas:  11%|█         | 228/2110 [04:51<35:03,  1.12s/it]"
     ]
    },
    {
     "name": "stdout",
     "output_type": "stream",
     "text": [
      "⚠️ Respuesta vacía para Aziz Ansari. Intento 3/3\n",
      "⚠️ Respuesta vacía para Trevor Noah. Intento 1/3\n",
      "⚠️ Respuesta vacía para Trevor Noah. Intento 2/3\n",
      "⚠️ Respuesta vacía para Trevor Noah. Intento 3/3\n"
     ]
    },
    {
     "name": "stderr",
     "output_type": "stream",
     "text": [
      "Procesando artistas:  11%|█         | 229/2110 [04:52<34:47,  1.11s/it]"
     ]
    },
    {
     "name": "stdout",
     "output_type": "stream",
     "text": [
      "⚠️ Respuesta vacía para Original Broadway Cast. Intento 1/3\n",
      "⚠️ Respuesta vacía para Original Broadway Cast. Intento 2/3\n"
     ]
    },
    {
     "name": "stderr",
     "output_type": "stream",
     "text": [
      "Procesando artistas:  11%|█         | 230/2110 [04:53<34:46,  1.11s/it]"
     ]
    },
    {
     "name": "stdout",
     "output_type": "stream",
     "text": [
      "⚠️ Respuesta vacía para Original Broadway Cast. Intento 3/3\n",
      "⚠️ Respuesta vacía para Imogen Heap. Intento 1/3\n",
      "⚠️ Respuesta vacía para Imogen Heap. Intento 2/3\n",
      "⚠️ Respuesta vacía para Imogen Heap. Intento 3/3\n"
     ]
    },
    {
     "name": "stderr",
     "output_type": "stream",
     "text": [
      "Procesando artistas:  11%|█         | 231/2110 [04:54<34:46,  1.11s/it]"
     ]
    },
    {
     "name": "stdout",
     "output_type": "stream",
     "text": [
      "⚠️ Respuesta vacía para 2019 Broadway Cast. Intento 1/3\n",
      "⚠️ Respuesta vacía para 2019 Broadway Cast. Intento 2/3\n"
     ]
    },
    {
     "name": "stderr",
     "output_type": "stream",
     "text": [
      "Procesando artistas:  11%|█         | 232/2110 [04:55<34:47,  1.11s/it]"
     ]
    },
    {
     "name": "stdout",
     "output_type": "stream",
     "text": [
      "⚠️ Respuesta vacía para 2019 Broadway Cast. Intento 3/3\n",
      "⚠️ Respuesta vacía para Taron Egerton. Intento 1/3\n",
      "⚠️ Respuesta vacía para Taron Egerton. Intento 2/3\n"
     ]
    },
    {
     "name": "stderr",
     "output_type": "stream",
     "text": [
      "Procesando artistas:  11%|█         | 233/2110 [04:56<35:05,  1.12s/it]"
     ]
    },
    {
     "name": "stdout",
     "output_type": "stream",
     "text": [
      "⚠️ Respuesta vacía para Taron Egerton. Intento 3/3\n",
      "⚠️ Respuesta vacía para Hildur Guðnadóttir. Intento 1/3\n",
      "⚠️ Respuesta vacía para Hildur Guðnadóttir. Intento 2/3\n",
      "⚠️ Respuesta vacía para Hildur Guðnadóttir. Intento 3/3\n"
     ]
    },
    {
     "name": "stderr",
     "output_type": "stream",
     "text": [
      "Procesando artistas:  11%|█         | 234/2110 [04:58<35:14,  1.13s/it]"
     ]
    },
    {
     "name": "stdout",
     "output_type": "stream",
     "text": [
      "⚠️ Respuesta vacía para Alan Silvestri. Intento 1/3\n",
      "⚠️ Respuesta vacía para Alan Silvestri. Intento 2/3\n"
     ]
    },
    {
     "name": "stderr",
     "output_type": "stream",
     "text": [
      "Procesando artistas:  11%|█         | 235/2110 [04:59<35:00,  1.12s/it]"
     ]
    },
    {
     "name": "stdout",
     "output_type": "stream",
     "text": [
      "⚠️ Respuesta vacía para Alan Silvestri. Intento 3/3\n",
      "⚠️ Respuesta vacía para Ramin Djawadi. Intento 1/3\n",
      "⚠️ Respuesta vacía para Ramin Djawadi. Intento 2/3\n"
     ]
    },
    {
     "name": "stderr",
     "output_type": "stream",
     "text": [
      "Procesando artistas:  11%|█         | 236/2110 [05:00<35:07,  1.12s/it]"
     ]
    },
    {
     "name": "stdout",
     "output_type": "stream",
     "text": [
      "⚠️ Respuesta vacía para Ramin Djawadi. Intento 3/3\n",
      "⚠️ Respuesta vacía para Hans Zimmer. Intento 1/3\n",
      "⚠️ Respuesta vacía para Hans Zimmer. Intento 2/3\n"
     ]
    },
    {
     "name": "stderr",
     "output_type": "stream",
     "text": [
      "Procesando artistas:  11%|█         | 237/2110 [05:01<35:04,  1.12s/it]"
     ]
    },
    {
     "name": "stdout",
     "output_type": "stream",
     "text": [
      "⚠️ Respuesta vacía para Hans Zimmer. Intento 3/3\n",
      "⚠️ Respuesta vacía para Marc Shaiman. Intento 1/3\n",
      "⚠️ Respuesta vacía para Marc Shaiman. Intento 2/3\n",
      "⚠️ Respuesta vacía para Marc Shaiman. Intento 3/3\n"
     ]
    },
    {
     "name": "stderr",
     "output_type": "stream",
     "text": [
      "Procesando artistas:  11%|█▏        | 238/2110 [05:02<35:05,  1.12s/it]"
     ]
    },
    {
     "name": "stdout",
     "output_type": "stream",
     "text": [
      "⚠️ Respuesta vacía para Chris Stapleton. Intento 1/3\n",
      "⚠️ Respuesta vacía para Chris Stapleton. Intento 2/3\n"
     ]
    },
    {
     "name": "stderr",
     "output_type": "stream",
     "text": [
      "Procesando artistas:  11%|█▏        | 239/2110 [05:03<35:39,  1.14s/it]"
     ]
    },
    {
     "name": "stdout",
     "output_type": "stream",
     "text": [
      "⚠️ Respuesta vacía para Chris Stapleton. Intento 3/3\n",
      "⚠️ Respuesta vacía para Dolly Parton. Intento 1/3\n",
      "⚠️ Respuesta vacía para Dolly Parton. Intento 2/3\n"
     ]
    },
    {
     "name": "stderr",
     "output_type": "stream",
     "text": [
      "Procesando artistas:  11%|█▏        | 240/2110 [05:04<35:16,  1.13s/it]"
     ]
    },
    {
     "name": "stdout",
     "output_type": "stream",
     "text": [
      "⚠️ Respuesta vacía para Dolly Parton. Intento 3/3\n",
      "⚠️ Respuesta vacía para John Williams. Intento 1/3\n",
      "⚠️ Respuesta vacía para John Williams. Intento 2/3\n",
      "⚠️ Respuesta vacía para John Williams. Intento 3/3\n"
     ]
    },
    {
     "name": "stderr",
     "output_type": "stream",
     "text": [
      "Procesando artistas:  11%|█▏        | 241/2110 [05:06<35:29,  1.14s/it]"
     ]
    },
    {
     "name": "stdout",
     "output_type": "stream",
     "text": [
      "⚠️ Respuesta vacía para Fred Hersch. Intento 1/3\n",
      "⚠️ Respuesta vacía para Fred Hersch. Intento 2/3\n"
     ]
    },
    {
     "name": "stderr",
     "output_type": "stream",
     "text": [
      "Procesando artistas:  11%|█▏        | 242/2110 [05:07<35:18,  1.13s/it]"
     ]
    },
    {
     "name": "stdout",
     "output_type": "stream",
     "text": [
      "⚠️ Respuesta vacía para Fred Hersch. Intento 3/3\n",
      "⚠️ Respuesta vacía para Vince Mendoza. Intento 1/3\n",
      "⚠️ Respuesta vacía para Vince Mendoza. Intento 2/3\n",
      "⚠️ Respuesta vacía para Vince Mendoza. Intento 3/3\n"
     ]
    },
    {
     "name": "stderr",
     "output_type": "stream",
     "text": [
      "Procesando artistas:  12%|█▏        | 243/2110 [05:08<35:28,  1.14s/it]"
     ]
    },
    {
     "name": "stdout",
     "output_type": "stream",
     "text": [
      "⚠️ Respuesta vacía para Jacob Collier. Intento 1/3\n",
      "⚠️ Respuesta vacía para Jacob Collier. Intento 2/3\n",
      "⚠️ Respuesta vacía para Jacob Collier. Intento 3/3\n"
     ]
    },
    {
     "name": "stderr",
     "output_type": "stream",
     "text": [
      "Procesando artistas:  12%|█▏        | 244/2110 [05:09<36:14,  1.17s/it]"
     ]
    },
    {
     "name": "stdout",
     "output_type": "stream",
     "text": [
      "⚠️ Respuesta vacía para Kris Bowers. Intento 1/3\n",
      "⚠️ Respuesta vacía para Kris Bowers. Intento 2/3\n"
     ]
    },
    {
     "name": "stderr",
     "output_type": "stream",
     "text": [
      "Procesando artistas:  12%|█▏        | 245/2110 [05:10<35:34,  1.14s/it]"
     ]
    },
    {
     "name": "stdout",
     "output_type": "stream",
     "text": [
      "⚠️ Respuesta vacía para Kris Bowers. Intento 3/3\n",
      "⚠️ Respuesta vacía para Anne-Sophie Mutter. Intento 1/3\n",
      "⚠️ Respuesta vacía para Anne-Sophie Mutter. Intento 2/3\n"
     ]
    },
    {
     "name": "stderr",
     "output_type": "stream",
     "text": [
      "Procesando artistas:  12%|█▏        | 246/2110 [05:11<36:23,  1.17s/it]"
     ]
    },
    {
     "name": "stdout",
     "output_type": "stream",
     "text": [
      "⚠️ Respuesta vacía para Anne-Sophie Mutter. Intento 3/3\n",
      "⚠️ Respuesta vacía para Emilio Solla Tango Jazz Orchestra. Intento 1/3\n",
      "⚠️ Respuesta vacía para Emilio Solla Tango Jazz Orchestra. Intento 2/3\n"
     ]
    },
    {
     "name": "stderr",
     "output_type": "stream",
     "text": [
      "Procesando artistas:  12%|█▏        | 247/2110 [05:12<35:45,  1.15s/it]"
     ]
    },
    {
     "name": "stdout",
     "output_type": "stream",
     "text": [
      "⚠️ Respuesta vacía para Emilio Solla Tango Jazz Orchestra. Intento 3/3\n",
      "⚠️ Respuesta vacía para Cyrille Aimée. Intento 1/3\n",
      "⚠️ Respuesta vacía para Cyrille Aimée. Intento 2/3\n"
     ]
    },
    {
     "name": "stderr",
     "output_type": "stream",
     "text": [
      "Procesando artistas:  12%|█▏        | 248/2110 [05:14<35:43,  1.15s/it]"
     ]
    },
    {
     "name": "stdout",
     "output_type": "stream",
     "text": [
      "⚠️ Respuesta vacía para Cyrille Aimée. Intento 3/3\n",
      "⚠️ Respuesta vacía para Trisha Yearwood. Intento 1/3\n",
      "⚠️ Respuesta vacía para Trisha Yearwood. Intento 2/3\n"
     ]
    },
    {
     "name": "stderr",
     "output_type": "stream",
     "text": [
      "Procesando artistas:  12%|█▏        | 249/2110 [05:15<35:13,  1.14s/it]"
     ]
    },
    {
     "name": "stdout",
     "output_type": "stream",
     "text": [
      "⚠️ Respuesta vacía para Trisha Yearwood. Intento 3/3\n",
      "⚠️ Respuesta vacía para Chris Cornell. Intento 1/3\n",
      "⚠️ Respuesta vacía para Chris Cornell. Intento 2/3\n",
      "⚠️ Respuesta vacía para Chris Cornell. Intento 3/3\n"
     ]
    },
    {
     "name": "stderr",
     "output_type": "stream",
     "text": [
      "Procesando artistas:  12%|█▏        | 250/2110 [05:16<35:10,  1.13s/it]"
     ]
    },
    {
     "name": "stdout",
     "output_type": "stream",
     "text": [
      "⚠️ Respuesta vacía para Voces Del Bullerengue. Intento 1/3\n",
      "⚠️ Respuesta vacía para Voces Del Bullerengue. Intento 2/3\n"
     ]
    },
    {
     "name": "stderr",
     "output_type": "stream",
     "text": [
      "Procesando artistas:  12%|█▏        | 251/2110 [05:17<35:11,  1.14s/it]"
     ]
    },
    {
     "name": "stdout",
     "output_type": "stream",
     "text": [
      "⚠️ Respuesta vacía para Voces Del Bullerengue. Intento 3/3\n",
      "⚠️ Respuesta vacía para The Muddy Basin Ramblers. Intento 1/3\n",
      "⚠️ Respuesta vacía para The Muddy Basin Ramblers. Intento 2/3\n",
      "⚠️ Respuesta vacía para The Muddy Basin Ramblers. Intento 3/3\n"
     ]
    },
    {
     "name": "stderr",
     "output_type": "stream",
     "text": [
      "Procesando artistas:  12%|█▏        | 252/2110 [05:18<35:56,  1.16s/it]"
     ]
    },
    {
     "name": "stdout",
     "output_type": "stream",
     "text": [
      "⚠️ Respuesta vacía para Intellexual. Intento 1/3\n",
      "⚠️ Respuesta vacía para Intellexual. Intento 2/3\n"
     ]
    },
    {
     "name": "stderr",
     "output_type": "stream",
     "text": [
      "Procesando artistas:  12%|█▏        | 253/2110 [05:19<36:14,  1.17s/it]"
     ]
    },
    {
     "name": "stdout",
     "output_type": "stream",
     "text": [
      "⚠️ Respuesta vacía para Intellexual. Intento 3/3\n",
      "⚠️ Respuesta vacía para David Gray. Intento 1/3\n",
      "⚠️ Respuesta vacía para David Gray. Intento 2/3\n",
      "⚠️ Respuesta vacía para David Gray. Intento 3/3\n"
     ]
    },
    {
     "name": "stderr",
     "output_type": "stream",
     "text": [
      "Procesando artistas:  12%|█▏        | 254/2110 [05:21<35:44,  1.16s/it]"
     ]
    },
    {
     "name": "stdout",
     "output_type": "stream",
     "text": [
      "⚠️ Respuesta vacía para John Coltrane. Intento 1/3\n",
      "⚠️ Respuesta vacía para John Coltrane. Intento 2/3\n"
     ]
    },
    {
     "name": "stderr",
     "output_type": "stream",
     "text": [
      "Procesando artistas:  12%|█▏        | 255/2110 [05:22<36:41,  1.19s/it]"
     ]
    },
    {
     "name": "stdout",
     "output_type": "stream",
     "text": [
      "⚠️ Respuesta vacía para John Coltrane. Intento 3/3\n",
      "⚠️ Respuesta vacía para Wilhelm Furtwängler. Intento 1/3\n",
      "⚠️ Respuesta vacía para Wilhelm Furtwängler. Intento 2/3\n",
      "⚠️ Respuesta vacía para Wilhelm Furtwängler. Intento 3/3\n"
     ]
    },
    {
     "name": "stderr",
     "output_type": "stream",
     "text": [
      "Procesando artistas:  12%|█▏        | 256/2110 [05:23<36:14,  1.17s/it]"
     ]
    },
    {
     "name": "stdout",
     "output_type": "stream",
     "text": [
      "⚠️ Respuesta vacía para Terry Allen And The Panhandle Mystery Band. Intento 1/3\n",
      "⚠️ Respuesta vacía para Terry Allen And The Panhandle Mystery Band. Intento 2/3\n",
      "⚠️ Respuesta vacía para Terry Allen And The Panhandle Mystery Band. Intento 3/3\n"
     ]
    },
    {
     "name": "stderr",
     "output_type": "stream",
     "text": [
      "Procesando artistas:  12%|█▏        | 257/2110 [05:24<35:44,  1.16s/it]"
     ]
    },
    {
     "name": "stdout",
     "output_type": "stream",
     "text": [
      "⚠️ Respuesta vacía para Pete Seeger. Intento 1/3\n",
      "⚠️ Respuesta vacía para Pete Seeger. Intento 2/3\n",
      "⚠️ Respuesta vacía para Pete Seeger. Intento 3/3\n"
     ]
    },
    {
     "name": "stderr",
     "output_type": "stream",
     "text": [
      "Procesando artistas:  12%|█▏        | 258/2110 [05:25<36:22,  1.18s/it]"
     ]
    },
    {
     "name": "stdout",
     "output_type": "stream",
     "text": [
      "⚠️ Respuesta vacía para Bobbie Gentry. Intento 1/3\n",
      "⚠️ Respuesta vacía para Bobbie Gentry. Intento 2/3\n",
      "⚠️ Respuesta vacía para Bobbie Gentry. Intento 3/3\n"
     ]
    },
    {
     "name": "stderr",
     "output_type": "stream",
     "text": [
      "Procesando artistas:  12%|█▏        | 259/2110 [05:26<35:39,  1.16s/it]"
     ]
    },
    {
     "name": "stdout",
     "output_type": "stream",
     "text": [
      "⚠️ Respuesta vacía para Vladimir Horowitz. Intento 1/3\n",
      "⚠️ Respuesta vacía para Vladimir Horowitz. Intento 2/3\n",
      "⚠️ Respuesta vacía para Vladimir Horowitz. Intento 3/3\n"
     ]
    },
    {
     "name": "stderr",
     "output_type": "stream",
     "text": [
      "Procesando artistas:  12%|█▏        | 260/2110 [05:28<35:42,  1.16s/it]"
     ]
    },
    {
     "name": "stdout",
     "output_type": "stream",
     "text": [
      "⚠️ Respuesta vacía para Thomas Dybdahl. Intento 1/3\n",
      "⚠️ Respuesta vacía para Thomas Dybdahl. Intento 2/3\n",
      "⚠️ Respuesta vacía para Thomas Dybdahl. Intento 3/3\n"
     ]
    },
    {
     "name": "stderr",
     "output_type": "stream",
     "text": [
      "Procesando artistas:  12%|█▏        | 261/2110 [05:29<35:33,  1.15s/it]"
     ]
    },
    {
     "name": "stdout",
     "output_type": "stream",
     "text": [
      "⚠️ Respuesta vacía para The Teskey Brothers. Intento 1/3\n",
      "⚠️ Respuesta vacía para The Teskey Brothers. Intento 2/3\n"
     ]
    },
    {
     "name": "stderr",
     "output_type": "stream",
     "text": [
      "Procesando artistas:  12%|█▏        | 262/2110 [05:30<34:57,  1.13s/it]"
     ]
    },
    {
     "name": "stdout",
     "output_type": "stream",
     "text": [
      "⚠️ Respuesta vacía para The Teskey Brothers. Intento 3/3\n",
      "⚠️ Respuesta vacía para A. Intento 1/3\n",
      "⚠️ Respuesta vacía para A. Intento 2/3\n"
     ]
    },
    {
     "name": "stderr",
     "output_type": "stream",
     "text": [
      "Procesando artistas:  12%|█▏        | 263/2110 [05:31<34:34,  1.12s/it]"
     ]
    },
    {
     "name": "stdout",
     "output_type": "stream",
     "text": [
      "⚠️ Respuesta vacía para A. Intento 3/3\n",
      "⚠️ Respuesta vacía para T. Intento 1/3\n",
      "⚠️ Respuesta vacía para T. Intento 2/3\n",
      "⚠️ Respuesta vacía para T. Intento 3/3\n"
     ]
    },
    {
     "name": "stderr",
     "output_type": "stream",
     "text": [
      "Procesando artistas:  13%|█▎        | 264/2110 [05:32<34:19,  1.12s/it]"
     ]
    },
    {
     "name": "stdout",
     "output_type": "stream",
     "text": [
      "⚠️ Respuesta vacía para Madonna. Intento 1/3\n",
      "⚠️ Respuesta vacía para Madonna. Intento 2/3\n"
     ]
    },
    {
     "name": "stderr",
     "output_type": "stream",
     "text": [
      "Procesando artistas:  13%|█▎        | 265/2110 [05:33<33:56,  1.10s/it]"
     ]
    },
    {
     "name": "stdout",
     "output_type": "stream",
     "text": [
      "⚠️ Respuesta vacía para Madonna. Intento 3/3\n",
      "⚠️ Respuesta vacía para Miley Cyrus. Intento 1/3\n",
      "⚠️ Respuesta vacía para Miley Cyrus. Intento 2/3\n",
      "⚠️ Respuesta vacía para Miley Cyrus. Intento 3/3\n"
     ]
    },
    {
     "name": "stderr",
     "output_type": "stream",
     "text": [
      "Procesando artistas:  13%|█▎        | 266/2110 [05:34<33:53,  1.10s/it]"
     ]
    },
    {
     "name": "stdout",
     "output_type": "stream",
     "text": [
      "⚠️ Respuesta vacía para Jorja Smith. Intento 1/3\n",
      "⚠️ Respuesta vacía para Jorja Smith. Intento 2/3\n"
     ]
    },
    {
     "name": "stderr",
     "output_type": "stream",
     "text": [
      "Procesando artistas:  13%|█▎        | 267/2110 [05:35<33:48,  1.10s/it]"
     ]
    },
    {
     "name": "stdout",
     "output_type": "stream",
     "text": [
      "⚠️ Respuesta vacía para Jorja Smith. Intento 3/3\n",
      "⚠️ Respuesta vacía para Mild Minds. Intento 1/3\n",
      "⚠️ Respuesta vacía para Mild Minds. Intento 2/3\n"
     ]
    },
    {
     "name": "stderr",
     "output_type": "stream",
     "text": [
      "Procesando artistas:  13%|█▎        | 268/2110 [05:36<33:50,  1.10s/it]"
     ]
    },
    {
     "name": "stdout",
     "output_type": "stream",
     "text": [
      "⚠️ Respuesta vacía para Mild Minds. Intento 3/3\n",
      "⚠️ Respuesta vacía para Marie Davidson. Intento 1/3\n",
      "⚠️ Respuesta vacía para Marie Davidson. Intento 2/3\n"
     ]
    },
    {
     "name": "stderr",
     "output_type": "stream",
     "text": [
      "Procesando artistas:  13%|█▎        | 269/2110 [05:37<33:37,  1.10s/it]"
     ]
    },
    {
     "name": "stdout",
     "output_type": "stream",
     "text": [
      "⚠️ Respuesta vacía para Marie Davidson. Intento 3/3\n",
      "⚠️ Respuesta vacía para Anita Brevik. Intento 1/3\n",
      "⚠️ Respuesta vacía para Anita Brevik. Intento 2/3\n"
     ]
    },
    {
     "name": "stderr",
     "output_type": "stream",
     "text": [
      "Procesando artistas:  13%|█▎        | 270/2110 [05:39<34:39,  1.13s/it]"
     ]
    },
    {
     "name": "stdout",
     "output_type": "stream",
     "text": [
      "⚠️ Respuesta vacía para Anita Brevik. Intento 3/3\n",
      "⚠️ Respuesta vacía para YACHT. Intento 1/3\n",
      "⚠️ Respuesta vacía para YACHT. Intento 2/3\n"
     ]
    },
    {
     "name": "stderr",
     "output_type": "stream",
     "text": [
      "Procesando artistas:  13%|█▎        | 271/2110 [05:40<35:14,  1.15s/it]"
     ]
    },
    {
     "name": "stdout",
     "output_type": "stream",
     "text": [
      "⚠️ Respuesta vacía para YACHT. Intento 3/3\n",
      "⚠️ Respuesta vacía para Ken-David Masur. Intento 1/3\n",
      "⚠️ Respuesta vacía para Ken-David Masur. Intento 2/3\n"
     ]
    },
    {
     "name": "stderr",
     "output_type": "stream",
     "text": [
      "Procesando artistas:  13%|█▎        | 272/2110 [05:41<35:17,  1.15s/it]"
     ]
    },
    {
     "name": "stdout",
     "output_type": "stream",
     "text": [
      "⚠️ Respuesta vacía para Ken-David Masur. Intento 3/3\n",
      "⚠️ Respuesta vacía para Jan Kraybill. Intento 1/3\n",
      "⚠️ Respuesta vacía para Jan Kraybill. Intento 2/3\n"
     ]
    },
    {
     "name": "stderr",
     "output_type": "stream",
     "text": [
      "Procesando artistas:  13%|█▎        | 273/2110 [05:42<35:42,  1.17s/it]"
     ]
    },
    {
     "name": "stdout",
     "output_type": "stream",
     "text": [
      "⚠️ Respuesta vacía para Jan Kraybill. Intento 3/3\n",
      "⚠️ Respuesta vacía para A Bad Think. Intento 1/3\n",
      "⚠️ Respuesta vacía para A Bad Think. Intento 2/3\n"
     ]
    },
    {
     "name": "stderr",
     "output_type": "stream",
     "text": [
      "Procesando artistas:  13%|█▎        | 274/2110 [05:43<35:34,  1.16s/it]"
     ]
    },
    {
     "name": "stdout",
     "output_type": "stream",
     "text": [
      "⚠️ Respuesta vacía para A Bad Think. Intento 3/3\n",
      "⚠️ Respuesta vacía para Kronos Quartet. Intento 1/3\n",
      "⚠️ Respuesta vacía para Kronos Quartet. Intento 2/3\n",
      "⚠️ Respuesta vacía para Kronos Quartet. Intento 3/3\n"
     ]
    },
    {
     "name": "stderr",
     "output_type": "stream",
     "text": [
      "Procesando artistas:  13%|█▎        | 275/2110 [05:44<35:07,  1.15s/it]"
     ]
    },
    {
     "name": "stdout",
     "output_type": "stream",
     "text": [
      "⚠️ Respuesta vacía para International Contemporary Ensemble. Intento 1/3\n",
      "⚠️ Respuesta vacía para International Contemporary Ensemble. Intento 2/3\n",
      "⚠️ Respuesta vacía para International Contemporary Ensemble. Intento 3/3\n"
     ]
    },
    {
     "name": "stderr",
     "output_type": "stream",
     "text": [
      "Procesando artistas:  13%|█▎        | 276/2110 [05:46<34:31,  1.13s/it]"
     ]
    },
    {
     "name": "stdout",
     "output_type": "stream",
     "text": [
      "⚠️ Respuesta vacía para Manfred Honeck. Intento 1/3\n",
      "⚠️ Respuesta vacía para Manfred Honeck. Intento 2/3\n"
     ]
    },
    {
     "name": "stderr",
     "output_type": "stream",
     "text": [
      "Procesando artistas:  13%|█▎        | 277/2110 [05:47<34:15,  1.12s/it]"
     ]
    },
    {
     "name": "stdout",
     "output_type": "stream",
     "text": [
      "⚠️ Respuesta vacía para Manfred Honeck. Intento 3/3\n",
      "⚠️ Respuesta vacía para Hermitage Piano Trio. Intento 1/3\n",
      "⚠️ Respuesta vacía para Hermitage Piano Trio. Intento 2/3\n",
      "⚠️ Respuesta vacía para Hermitage Piano Trio. Intento 3/3\n"
     ]
    },
    {
     "name": "stderr",
     "output_type": "stream",
     "text": [
      "Procesando artistas:  13%|█▎        | 278/2110 [05:48<35:20,  1.16s/it]"
     ]
    },
    {
     "name": "stdout",
     "output_type": "stream",
     "text": [
      "⚠️ Respuesta vacía para Jaap Van Zweden. Intento 1/3\n",
      "⚠️ Respuesta vacía para Jaap Van Zweden. Intento 2/3\n"
     ]
    },
    {
     "name": "stderr",
     "output_type": "stream",
     "text": [
      "Procesando artistas:  13%|█▎        | 279/2110 [05:49<35:57,  1.18s/it]"
     ]
    },
    {
     "name": "stdout",
     "output_type": "stream",
     "text": [
      "⚠️ Respuesta vacía para Jaap Van Zweden. Intento 3/3\n",
      "⚠️ Respuesta vacía para Mei-Ann Chen. Intento 1/3\n",
      "⚠️ Respuesta vacía para Mei-Ann Chen. Intento 2/3\n",
      "⚠️ Respuesta vacía para Mei-Ann Chen. Intento 3/3\n"
     ]
    },
    {
     "name": "stderr",
     "output_type": "stream",
     "text": [
      "Procesando artistas:  13%|█▎        | 280/2110 [05:50<35:21,  1.16s/it]"
     ]
    },
    {
     "name": "stdout",
     "output_type": "stream",
     "text": [
      "⚠️ Respuesta vacía para Anthony McGill. Intento 1/3\n",
      "⚠️ Respuesta vacía para Anthony McGill. Intento 2/3\n"
     ]
    },
    {
     "name": "stderr",
     "output_type": "stream",
     "text": [
      "Procesando artistas:  13%|█▎        | 281/2110 [05:51<34:57,  1.15s/it]"
     ]
    },
    {
     "name": "stdout",
     "output_type": "stream",
     "text": [
      "⚠️ Respuesta vacía para Anthony McGill. Intento 3/3\n",
      "⚠️ Respuesta vacía para Håkon Daniel Nystedt. Intento 1/3\n",
      "⚠️ Respuesta vacía para Håkon Daniel Nystedt. Intento 2/3\n",
      "⚠️ Respuesta vacía para Håkon Daniel Nystedt. Intento 3/3\n"
     ]
    },
    {
     "name": "stderr",
     "output_type": "stream",
     "text": [
      "Procesando artistas:  13%|█▎        | 282/2110 [05:52<34:30,  1.13s/it]"
     ]
    },
    {
     "name": "stdout",
     "output_type": "stream",
     "text": [
      "⚠️ Respuesta vacía para Los Angeles Philharmonic. Intento 1/3\n",
      "⚠️ Respuesta vacía para Los Angeles Philharmonic. Intento 2/3\n"
     ]
    },
    {
     "name": "stderr",
     "output_type": "stream",
     "text": [
      "Procesando artistas:  13%|█▎        | 283/2110 [05:54<34:19,  1.13s/it]"
     ]
    },
    {
     "name": "stdout",
     "output_type": "stream",
     "text": [
      "⚠️ Respuesta vacía para Los Angeles Philharmonic. Intento 3/3\n",
      "⚠️ Respuesta vacía para Pittsburgh Symphony Orchestra. Intento 1/3\n",
      "⚠️ Respuesta vacía para Pittsburgh Symphony Orchestra. Intento 2/3\n"
     ]
    },
    {
     "name": "stderr",
     "output_type": "stream",
     "text": [
      "Procesando artistas:  13%|█▎        | 284/2110 [05:55<34:15,  1.13s/it]"
     ]
    },
    {
     "name": "stdout",
     "output_type": "stream",
     "text": [
      "⚠️ Respuesta vacía para Pittsburgh Symphony Orchestra. Intento 3/3\n",
      "⚠️ Respuesta vacía para Detroit Symphony Orchestra. Intento 1/3\n",
      "⚠️ Respuesta vacía para Detroit Symphony Orchestra. Intento 2/3\n"
     ]
    },
    {
     "name": "stderr",
     "output_type": "stream",
     "text": [
      "Procesando artistas:  14%|█▎        | 285/2110 [05:56<34:19,  1.13s/it]"
     ]
    },
    {
     "name": "stdout",
     "output_type": "stream",
     "text": [
      "⚠️ Respuesta vacía para Detroit Symphony Orchestra. Intento 3/3\n",
      "⚠️ Respuesta vacía para Cincinnati Symphony Orchestra. Intento 1/3\n",
      "⚠️ Respuesta vacía para Cincinnati Symphony Orchestra. Intento 2/3\n"
     ]
    },
    {
     "name": "stderr",
     "output_type": "stream",
     "text": [
      "Procesando artistas:  14%|█▎        | 286/2110 [05:57<34:04,  1.12s/it]"
     ]
    },
    {
     "name": "stdout",
     "output_type": "stream",
     "text": [
      "⚠️ Respuesta vacía para Cincinnati Symphony Orchestra. Intento 3/3\n",
      "⚠️ Respuesta vacía para City Of Birmingham Symphony Orchestra. Intento 1/3\n",
      "⚠️ Respuesta vacía para City Of Birmingham Symphony Orchestra. Intento 2/3\n"
     ]
    },
    {
     "name": "stderr",
     "output_type": "stream",
     "text": [
      "Procesando artistas:  14%|█▎        | 287/2110 [05:58<34:09,  1.12s/it]"
     ]
    },
    {
     "name": "stdout",
     "output_type": "stream",
     "text": [
      "⚠️ Respuesta vacía para City Of Birmingham Symphony Orchestra. Intento 3/3\n",
      "⚠️ Respuesta vacía para Boston Modern Orchestra Project; Boston Children's Chorus. Intento 1/3\n",
      "⚠️ Respuesta vacía para Boston Modern Orchestra Project; Boston Children's Chorus. Intento 2/3\n",
      "⚠️ Respuesta vacía para Boston Modern Orchestra Project; Boston Children's Chorus. Intento 3/3\n"
     ]
    },
    {
     "name": "stderr",
     "output_type": "stream",
     "text": [
      "Procesando artistas:  14%|█▎        | 288/2110 [05:59<34:28,  1.14s/it]"
     ]
    },
    {
     "name": "stdout",
     "output_type": "stream",
     "text": [
      "⚠️ Respuesta vacía para Orchestra Of The Royal Opera House. Intento 1/3\n",
      "⚠️ Respuesta vacía para Orchestra Of The Royal Opera House. Intento 2/3\n"
     ]
    },
    {
     "name": "stderr",
     "output_type": "stream",
     "text": [
      "Procesando artistas:  14%|█▎        | 289/2110 [06:00<34:27,  1.14s/it]"
     ]
    },
    {
     "name": "stdout",
     "output_type": "stream",
     "text": [
      "⚠️ Respuesta vacía para Orchestra Of The Royal Opera House. Intento 3/3\n",
      "⚠️ Respuesta vacía para Netherlands Philharmonic Orchestra; Chorus Of Dutch National Opera. Intento 1/3\n",
      "⚠️ Respuesta vacía para Netherlands Philharmonic Orchestra; Chorus Of Dutch National Opera. Intento 2/3\n",
      "⚠️ Respuesta vacía para Netherlands Philharmonic Orchestra; Chorus Of Dutch National Opera. Intento 3/3\n"
     ]
    },
    {
     "name": "stderr",
     "output_type": "stream",
     "text": [
      "Procesando artistas:  14%|█▎        | 290/2110 [06:01<34:12,  1.13s/it]"
     ]
    },
    {
     "name": "stdout",
     "output_type": "stream",
     "text": [
      "⚠️ Respuesta vacía para Boston Early Music Festival Chamber Ensemble; Boston Early Music Festival Vocal Ensemble. Intento 1/3\n",
      "⚠️ Respuesta vacía para Boston Early Music Festival Chamber Ensemble; Boston Early Music Festival Vocal Ensemble. Intento 2/3\n"
     ]
    },
    {
     "name": "stderr",
     "output_type": "stream",
     "text": [
      "Procesando artistas:  14%|█▍        | 291/2110 [06:03<34:31,  1.14s/it]"
     ]
    },
    {
     "name": "stdout",
     "output_type": "stream",
     "text": [
      "⚠️ Respuesta vacía para Boston Early Music Festival Chamber Ensemble; Boston Early Music Festival Vocal Ensemble. Intento 3/3\n",
      "⚠️ Respuesta vacía para Festspielorchester Bayreuth; Festspielchor Bayreuth. Intento 1/3\n",
      "⚠️ Respuesta vacía para Festspielorchester Bayreuth; Festspielchor Bayreuth. Intento 2/3\n",
      "⚠️ Respuesta vacía para Festspielorchester Bayreuth; Festspielchor Bayreuth. Intento 3/3\n"
     ]
    },
    {
     "name": "stderr",
     "output_type": "stream",
     "text": [
      "Procesando artistas:  14%|█▍        | 292/2110 [06:04<34:27,  1.14s/it]"
     ]
    },
    {
     "name": "stdout",
     "output_type": "stream",
     "text": [
      "⚠️ Respuesta vacía para Ken Cowan; Houston Chamber Choir. Intento 1/3\n",
      "⚠️ Respuesta vacía para Ken Cowan; Houston Chamber Choir. Intento 2/3\n",
      "⚠️ Respuesta vacía para Ken Cowan; Houston Chamber Choir. Intento 3/3\n"
     ]
    },
    {
     "name": "stderr",
     "output_type": "stream",
     "text": [
      "Procesando artistas:  14%|█▍        | 293/2110 [06:05<34:10,  1.13s/it]"
     ]
    },
    {
     "name": "stdout",
     "output_type": "stream",
     "text": [
      "⚠️ Respuesta vacía para The Crossing. Intento 1/3\n",
      "⚠️ Respuesta vacía para The Crossing. Intento 2/3\n",
      "⚠️ Respuesta vacía para The Crossing. Intento 3/3\n"
     ]
    },
    {
     "name": "stderr",
     "output_type": "stream",
     "text": [
      "Procesando artistas:  14%|█▍        | 294/2110 [06:06<34:15,  1.13s/it]"
     ]
    },
    {
     "name": "stdout",
     "output_type": "stream",
     "text": [
      "⚠️ Respuesta vacía para Conspirare. Intento 1/3\n",
      "⚠️ Respuesta vacía para Conspirare. Intento 2/3\n",
      "⚠️ Respuesta vacía para Conspirare. Intento 3/3\n"
     ]
    },
    {
     "name": "stderr",
     "output_type": "stream",
     "text": [
      "Procesando artistas:  14%|█▍        | 295/2110 [06:07<34:01,  1.12s/it]"
     ]
    },
    {
     "name": "stdout",
     "output_type": "stream",
     "text": [
      "⚠️ Respuesta vacía para Evan Bravos. Intento 1/3\n",
      "⚠️ Respuesta vacía para Evan Bravos. Intento 2/3\n",
      "⚠️ Respuesta vacía para Evan Bravos. Intento 3/3\n"
     ]
    },
    {
     "name": "stderr",
     "output_type": "stream",
     "text": [
      "Procesando artistas:  14%|█▍        | 296/2110 [06:08<34:14,  1.13s/it]"
     ]
    },
    {
     "name": "stdout",
     "output_type": "stream",
     "text": [
      "⚠️ Respuesta vacía para Attacca Quartet. Intento 1/3\n",
      "⚠️ Respuesta vacía para Attacca Quartet. Intento 2/3\n",
      "⚠️ Respuesta vacía para Attacca Quartet. Intento 3/3\n"
     ]
    },
    {
     "name": "stderr",
     "output_type": "stream",
     "text": [
      "Procesando artistas:  14%|█▍        | 297/2110 [06:09<34:19,  1.14s/it]"
     ]
    },
    {
     "name": "stdout",
     "output_type": "stream",
     "text": [
      "⚠️ Respuesta vacía para Christopher Rountree. Intento 1/3\n",
      "⚠️ Respuesta vacía para Christopher Rountree. Intento 2/3\n"
     ]
    },
    {
     "name": "stderr",
     "output_type": "stream",
     "text": [
      "Procesando artistas:  14%|█▍        | 298/2110 [06:11<34:11,  1.13s/it]"
     ]
    },
    {
     "name": "stdout",
     "output_type": "stream",
     "text": [
      "⚠️ Respuesta vacía para Christopher Rountree. Intento 3/3\n",
      "⚠️ Respuesta vacía para PUBLIQuartet. Intento 1/3\n",
      "⚠️ Respuesta vacía para PUBLIQuartet. Intento 2/3\n"
     ]
    },
    {
     "name": "stderr",
     "output_type": "stream",
     "text": [
      "Procesando artistas:  14%|█▍        | 299/2110 [06:12<33:47,  1.12s/it]"
     ]
    },
    {
     "name": "stdout",
     "output_type": "stream",
     "text": [
      "⚠️ Respuesta vacía para PUBLIQuartet. Intento 3/3\n",
      "⚠️ Respuesta vacía para Third Coast Percussion. Intento 1/3\n",
      "⚠️ Respuesta vacía para Third Coast Percussion. Intento 2/3\n"
     ]
    },
    {
     "name": "stderr",
     "output_type": "stream",
     "text": [
      "Procesando artistas:  14%|█▍        | 300/2110 [06:13<33:24,  1.11s/it]"
     ]
    },
    {
     "name": "stdout",
     "output_type": "stream",
     "text": [
      "⚠️ Respuesta vacía para Third Coast Percussion. Intento 3/3\n",
      "⚠️ Respuesta vacía para Philadelphia Orchestra. Intento 1/3\n",
      "⚠️ Respuesta vacía para Philadelphia Orchestra. Intento 2/3\n"
     ]
    },
    {
     "name": "stderr",
     "output_type": "stream",
     "text": [
      "Procesando artistas:  14%|█▍        | 301/2110 [06:14<33:26,  1.11s/it]"
     ]
    },
    {
     "name": "stdout",
     "output_type": "stream",
     "text": [
      "⚠️ Respuesta vacía para Philadelphia Orchestra. Intento 3/3\n",
      "⚠️ Respuesta vacía para Yuja Wang. Intento 1/3\n",
      "⚠️ Respuesta vacía para Yuja Wang. Intento 2/3\n"
     ]
    },
    {
     "name": "stderr",
     "output_type": "stream",
     "text": [
      "Procesando artistas:  14%|█▍        | 302/2110 [06:15<33:44,  1.12s/it]"
     ]
    },
    {
     "name": "stdout",
     "output_type": "stream",
     "text": [
      "⚠️ Respuesta vacía para Yuja Wang. Intento 3/3\n",
      "⚠️ Respuesta vacía para The Rochester Philharmonic Orchestra. Intento 1/3\n",
      "⚠️ Respuesta vacía para The Rochester Philharmonic Orchestra. Intento 2/3\n",
      "⚠️ Respuesta vacía para The Rochester Philharmonic Orchestra. Intento 3/3\n"
     ]
    },
    {
     "name": "stderr",
     "output_type": "stream",
     "text": [
      "Procesando artistas:  14%|█▍        | 303/2110 [06:16<33:35,  1.12s/it]"
     ]
    },
    {
     "name": "stdout",
     "output_type": "stream",
     "text": [
      "⚠️ Respuesta vacía para Albany Symphony. Intento 1/3\n",
      "⚠️ Respuesta vacía para Albany Symphony. Intento 2/3\n",
      "⚠️ Respuesta vacía para Albany Symphony. Intento 3/3\n"
     ]
    },
    {
     "name": "stderr",
     "output_type": "stream",
     "text": [
      "Procesando artistas:  14%|█▍        | 304/2110 [06:17<33:18,  1.11s/it]"
     ]
    },
    {
     "name": "stdout",
     "output_type": "stream",
     "text": [
      "⚠️ Respuesta vacía para Steve Barnett. Intento 1/3\n",
      "⚠️ Respuesta vacía para Steve Barnett. Intento 2/3\n",
      "⚠️ Respuesta vacía para Steve Barnett. Intento 3/3\n"
     ]
    },
    {
     "name": "stderr",
     "output_type": "stream",
     "text": [
      "Procesando artistas:  14%|█▍        | 305/2110 [06:18<34:06,  1.13s/it]"
     ]
    },
    {
     "name": "stdout",
     "output_type": "stream",
     "text": [
      "⚠️ Respuesta vacía para Donald Berman. Intento 1/3\n",
      "⚠️ Respuesta vacía para Donald Berman. Intento 2/3\n",
      "⚠️ Respuesta vacía para Donald Berman. Intento 3/3\n"
     ]
    },
    {
     "name": "stderr",
     "output_type": "stream",
     "text": [
      "Procesando artistas:  15%|█▍        | 306/2110 [06:19<33:52,  1.13s/it]"
     ]
    },
    {
     "name": "stdout",
     "output_type": "stream",
     "text": [
      "⚠️ Respuesta vacía para Jesús Rodil. Intento 1/3\n",
      "⚠️ Respuesta vacía para Jesús Rodil. Intento 2/3\n",
      "⚠️ Respuesta vacía para Jesús Rodil. Intento 3/3\n"
     ]
    },
    {
     "name": "stderr",
     "output_type": "stream",
     "text": [
      "Procesando artistas:  15%|█▍        | 307/2110 [06:21<33:58,  1.13s/it]"
     ]
    },
    {
     "name": "stdout",
     "output_type": "stream",
     "text": [
      "⚠️ Respuesta vacía para Matthias Goerne; Leif Ove Andsnes. Intento 1/3\n",
      "⚠️ Respuesta vacía para Matthias Goerne; Leif Ove Andsnes. Intento 2/3\n"
     ]
    },
    {
     "name": "stderr",
     "output_type": "stream",
     "text": [
      "Procesando artistas:  15%|█▍        | 308/2110 [06:22<34:11,  1.14s/it]"
     ]
    },
    {
     "name": "stdout",
     "output_type": "stream",
     "text": [
      "⚠️ Respuesta vacía para Matthias Goerne; Leif Ove Andsnes. Intento 3/3\n",
      "⚠️ Respuesta vacía para Kaunas City Symphony Orchestra. Intento 1/3\n",
      "⚠️ Respuesta vacía para Kaunas City Symphony Orchestra. Intento 2/3\n",
      "⚠️ Respuesta vacía para Kaunas City Symphony Orchestra. Intento 3/3\n"
     ]
    },
    {
     "name": "stderr",
     "output_type": "stream",
     "text": [
      "Procesando artistas:  15%|█▍        | 309/2110 [06:23<33:54,  1.13s/it]"
     ]
    },
    {
     "name": "stdout",
     "output_type": "stream",
     "text": [
      "⚠️ Respuesta vacía para Nadia Shpachenko; Marina A. Ledin. Intento 1/3\n",
      "⚠️ Respuesta vacía para Nadia Shpachenko; Marina A. Ledin. Intento 2/3\n"
     ]
    },
    {
     "name": "stderr",
     "output_type": "stream",
     "text": [
      "Procesando artistas:  15%|█▍        | 310/2110 [06:24<34:55,  1.16s/it]"
     ]
    },
    {
     "name": "stdout",
     "output_type": "stream",
     "text": [
      "⚠️ Respuesta vacía para Nadia Shpachenko; Marina A. Ledin. Intento 3/3\n",
      "⚠️ Respuesta vacía para John Morris Russell. Intento 1/3\n",
      "⚠️ Respuesta vacía para John Morris Russell. Intento 2/3\n"
     ]
    },
    {
     "name": "stderr",
     "output_type": "stream",
     "text": [
      "Procesando artistas:  15%|█▍        | 311/2110 [06:25<35:36,  1.19s/it]"
     ]
    },
    {
     "name": "stdout",
     "output_type": "stream",
     "text": [
      "⚠️ Respuesta vacía para John Morris Russell. Intento 3/3\n",
      "⚠️ Respuesta vacía para Giancarlo Guerrero. Intento 1/3\n",
      "⚠️ Respuesta vacía para Giancarlo Guerrero. Intento 2/3\n"
     ]
    },
    {
     "name": "stderr",
     "output_type": "stream",
     "text": [
      "Procesando artistas:  15%|█▍        | 312/2110 [06:26<34:30,  1.15s/it]"
     ]
    },
    {
     "name": "stdout",
     "output_type": "stream",
     "text": [
      "⚠️ Respuesta vacía para Giancarlo Guerrero. Intento 3/3\n",
      "⚠️ Respuesta vacía para Paul Appleby. Intento 1/3\n",
      "⚠️ Respuesta vacía para Paul Appleby. Intento 2/3\n"
     ]
    },
    {
     "name": "stderr",
     "output_type": "stream",
     "text": [
      "Procesando artistas:  15%|█▍        | 313/2110 [06:28<34:37,  1.16s/it]"
     ]
    },
    {
     "name": "stdout",
     "output_type": "stream",
     "text": [
      "⚠️ Respuesta vacía para Paul Appleby. Intento 3/3\n",
      "⚠️ Respuesta vacía para Hannu Lintu. Intento 1/3\n",
      "⚠️ Respuesta vacía para Hannu Lintu. Intento 2/3\n"
     ]
    },
    {
     "name": "stderr",
     "output_type": "stream",
     "text": [
      "Procesando artistas:  15%|█▍        | 314/2110 [06:29<34:05,  1.14s/it]"
     ]
    },
    {
     "name": "stdout",
     "output_type": "stream",
     "text": [
      "⚠️ Respuesta vacía para Hannu Lintu. Intento 3/3\n",
      "⚠️ Respuesta vacía para Yolanda Kondonassis. Intento 1/3\n",
      "⚠️ Respuesta vacía para Yolanda Kondonassis. Intento 2/3\n"
     ]
    },
    {
     "name": "stderr",
     "output_type": "stream",
     "text": [
      "Procesando artistas:  15%|█▍        | 315/2110 [06:30<33:33,  1.12s/it]"
     ]
    },
    {
     "name": "stdout",
     "output_type": "stream",
     "text": [
      "⚠️ Respuesta vacía para Yolanda Kondonassis. Intento 3/3\n",
      "⚠️ Respuesta vacía para Derek Bermel. Intento 1/3\n",
      "⚠️ Respuesta vacía para Derek Bermel. Intento 2/3\n",
      "⚠️ Respuesta vacía para Derek Bermel. Intento 3/3\n"
     ]
    },
    {
     "name": "stderr",
     "output_type": "stream",
     "text": [
      "Procesando artistas:  15%|█▍        | 316/2110 [06:31<33:43,  1.13s/it]"
     ]
    },
    {
     "name": "stdout",
     "output_type": "stream",
     "text": [
      "⚠️ Respuesta vacía para Nicola Benedetti. Intento 1/3\n",
      "⚠️ Respuesta vacía para Nicola Benedetti. Intento 2/3\n"
     ]
    },
    {
     "name": "stderr",
     "output_type": "stream",
     "text": [
      "Procesando artistas:  15%|█▌        | 317/2110 [06:32<33:22,  1.12s/it]"
     ]
    },
    {
     "name": "stdout",
     "output_type": "stream",
     "text": [
      "⚠️ Respuesta vacía para Nicola Benedetti. Intento 3/3\n",
      "⚠️ Respuesta vacía para Gustavo Dudamel. Intento 1/3\n",
      "⚠️ Respuesta vacía para Gustavo Dudamel. Intento 2/3\n"
     ]
    },
    {
     "name": "stderr",
     "output_type": "stream",
     "text": [
      "Procesando artistas:  15%|█▌        | 318/2110 [06:33<34:00,  1.14s/it]"
     ]
    },
    {
     "name": "stdout",
     "output_type": "stream",
     "text": [
      "⚠️ Respuesta vacía para Gustavo Dudamel. Intento 3/3\n",
      "⚠️ Respuesta vacía para FKA twigs. Intento 1/3\n",
      "⚠️ Respuesta vacía para FKA twigs. Intento 2/3\n",
      "⚠️ Respuesta vacía para FKA twigs. Intento 3/3\n"
     ]
    },
    {
     "name": "stderr",
     "output_type": "stream",
     "text": [
      "Procesando artistas:  15%|█▌        | 319/2110 [06:34<33:38,  1.13s/it]"
     ]
    },
    {
     "name": "stdout",
     "output_type": "stream",
     "text": [
      "⚠️ Respuesta vacía para Tove Lo. Intento 1/3\n",
      "⚠️ Respuesta vacía para Tove Lo. Intento 2/3\n",
      "⚠️ Respuesta vacía para Tove Lo. Intento 3/3\n"
     ]
    },
    {
     "name": "stderr",
     "output_type": "stream",
     "text": [
      "Procesando artistas:  15%|█▌        | 320/2110 [06:35<33:36,  1.13s/it]"
     ]
    },
    {
     "name": "stdout",
     "output_type": "stream",
     "text": [
      "⚠️ Respuesta vacía para David Crosby. Intento 1/3\n",
      "⚠️ Respuesta vacía para David Crosby. Intento 2/3\n",
      "⚠️ Respuesta vacía para David Crosby. Intento 3/3\n"
     ]
    },
    {
     "name": "stderr",
     "output_type": "stream",
     "text": [
      "Procesando artistas:  15%|█▌        | 321/2110 [06:36<33:11,  1.11s/it]"
     ]
    },
    {
     "name": "stdout",
     "output_type": "stream",
     "text": [
      "⚠️ Respuesta vacía para (Miles Davis). Intento 1/3\n",
      "⚠️ Respuesta vacía para (Miles Davis). Intento 2/3\n"
     ]
    },
    {
     "name": "stderr",
     "output_type": "stream",
     "text": [
      "Procesando artistas:  15%|█▌        | 322/2110 [06:38<33:21,  1.12s/it]"
     ]
    },
    {
     "name": "stdout",
     "output_type": "stream",
     "text": [
      "⚠️ Respuesta vacía para (Miles Davis). Intento 3/3\n",
      "⚠️ Respuesta vacía para Childish Gambino. Intento 1/3\n",
      "⚠️ Respuesta vacía para Childish Gambino. Intento 2/3\n",
      "⚠️ Respuesta vacía para Childish Gambino. Intento 3/3\n"
     ]
    },
    {
     "name": "stderr",
     "output_type": "stream",
     "text": [
      "Procesando artistas:  15%|█▌        | 323/2110 [06:39<33:22,  1.12s/it]"
     ]
    },
    {
     "name": "stdout",
     "output_type": "stream",
     "text": [
      "⚠️ Respuesta vacía para Kacey Musgraves. Intento 1/3\n",
      "⚠️ Respuesta vacía para Kacey Musgraves. Intento 2/3\n",
      "⚠️ Respuesta vacía para Kacey Musgraves. Intento 3/3\n"
     ]
    },
    {
     "name": "stderr",
     "output_type": "stream",
     "text": [
      "Procesando artistas:  15%|█▌        | 324/2110 [06:40<33:03,  1.11s/it]"
     ]
    },
    {
     "name": "stdout",
     "output_type": "stream",
     "text": [
      "⚠️ Respuesta vacía para Dua Lipa. Intento 1/3\n",
      "⚠️ Respuesta vacía para Dua Lipa. Intento 2/3\n"
     ]
    },
    {
     "name": "stderr",
     "output_type": "stream",
     "text": [
      "Procesando artistas:  15%|█▌        | 325/2110 [06:41<33:10,  1.12s/it]"
     ]
    },
    {
     "name": "stdout",
     "output_type": "stream",
     "text": [
      "⚠️ Respuesta vacía para Dua Lipa. Intento 3/3\n",
      "⚠️ Respuesta vacía para Silk City. Intento 1/3\n",
      "⚠️ Respuesta vacía para Silk City. Intento 2/3\n",
      "⚠️ Respuesta vacía para Silk City. Intento 3/3\n"
     ]
    },
    {
     "name": "stderr",
     "output_type": "stream",
     "text": [
      "Procesando artistas:  15%|█▌        | 326/2110 [06:42<33:01,  1.11s/it]"
     ]
    },
    {
     "name": "stdout",
     "output_type": "stream",
     "text": [
      "⚠️ Respuesta vacía para Justice. Intento 1/3\n",
      "⚠️ Respuesta vacía para Justice. Intento 2/3\n",
      "⚠️ Respuesta vacía para Justice. Intento 3/3\n"
     ]
    },
    {
     "name": "stderr",
     "output_type": "stream",
     "text": [
      "Procesando artistas:  15%|█▌        | 327/2110 [06:43<33:03,  1.11s/it]"
     ]
    },
    {
     "name": "stdout",
     "output_type": "stream",
     "text": [
      "⚠️ Respuesta vacía para Steve Gadd Band. Intento 1/3\n",
      "⚠️ Respuesta vacía para Steve Gadd Band. Intento 2/3\n"
     ]
    },
    {
     "name": "stderr",
     "output_type": "stream",
     "text": [
      "Procesando artistas:  16%|█▌        | 328/2110 [06:44<33:31,  1.13s/it]"
     ]
    },
    {
     "name": "stdout",
     "output_type": "stream",
     "text": [
      "⚠️ Respuesta vacía para Steve Gadd Band. Intento 3/3\n",
      "⚠️ Respuesta vacía para High On Fire. Intento 1/3\n",
      "⚠️ Respuesta vacía para High On Fire. Intento 2/3\n",
      "⚠️ Respuesta vacía para High On Fire. Intento 3/3\n"
     ]
    },
    {
     "name": "stderr",
     "output_type": "stream",
     "text": [
      "Procesando artistas:  16%|█▌        | 329/2110 [06:45<33:04,  1.11s/it]"
     ]
    },
    {
     "name": "stdout",
     "output_type": "stream",
     "text": [
      "⚠️ Respuesta vacía para St. Vincent. Intento 1/3\n",
      "⚠️ Respuesta vacía para St. Vincent. Intento 2/3\n",
      "⚠️ Respuesta vacía para St. Vincent. Intento 3/3\n"
     ]
    },
    {
     "name": "stderr",
     "output_type": "stream",
     "text": [
      "Procesando artistas:  16%|█▌        | 330/2110 [06:47<33:11,  1.12s/it]"
     ]
    },
    {
     "name": "stdout",
     "output_type": "stream",
     "text": [
      "⚠️ Respuesta vacía para Greta Van Fleet. Intento 1/3\n",
      "⚠️ Respuesta vacía para Greta Van Fleet. Intento 2/3\n",
      "⚠️ Respuesta vacía para Greta Van Fleet. Intento 3/3\n"
     ]
    },
    {
     "name": "stderr",
     "output_type": "stream",
     "text": [
      "Procesando artistas:  16%|█▌        | 331/2110 [06:48<35:29,  1.20s/it]"
     ]
    },
    {
     "name": "stdout",
     "output_type": "stream",
     "text": [
      "⚠️ Respuesta vacía para Beck. Intento 1/3\n",
      "⚠️ Respuesta vacía para Beck. Intento 2/3\n",
      "⚠️ Respuesta vacía para Beck. Intento 3/3\n"
     ]
    },
    {
     "name": "stderr",
     "output_type": "stream",
     "text": [
      "Procesando artistas:  16%|█▌        | 332/2110 [06:49<34:44,  1.17s/it]"
     ]
    },
    {
     "name": "stdout",
     "output_type": "stream",
     "text": [
      "⚠️ Respuesta vacía para Leon Bridges. Intento 1/3\n",
      "⚠️ Respuesta vacía para Leon Bridges. Intento 2/3\n"
     ]
    },
    {
     "name": "stderr",
     "output_type": "stream",
     "text": [
      "Procesando artistas:  16%|█▌        | 333/2110 [06:50<33:50,  1.14s/it]"
     ]
    },
    {
     "name": "stdout",
     "output_type": "stream",
     "text": [
      "⚠️ Respuesta vacía para Leon Bridges. Intento 3/3\n",
      "⚠️ Respuesta vacía para The Carters. Intento 1/3\n",
      "⚠️ Respuesta vacía para The Carters. Intento 2/3\n",
      "⚠️ Respuesta vacía para The Carters. Intento 3/3\n"
     ]
    },
    {
     "name": "stderr",
     "output_type": "stream",
     "text": [
      "Procesando artistas:  16%|█▌        | 334/2110 [06:51<33:40,  1.14s/it]"
     ]
    },
    {
     "name": "stdout",
     "output_type": "stream",
     "text": [
      "⚠️ Respuesta vacía para Kendrick Lamar. Intento 1/3\n",
      "⚠️ Respuesta vacía para Kendrick Lamar. Intento 2/3\n"
     ]
    },
    {
     "name": "stderr",
     "output_type": "stream",
     "text": [
      "Procesando artistas:  16%|█▌        | 335/2110 [06:52<33:09,  1.12s/it]"
     ]
    },
    {
     "name": "stdout",
     "output_type": "stream",
     "text": [
      "⚠️ Respuesta vacía para Kendrick Lamar. Intento 3/3\n",
      "⚠️ Respuesta vacía para Drake. Intento 1/3\n",
      "⚠️ Respuesta vacía para Drake. Intento 2/3\n"
     ]
    },
    {
     "name": "stderr",
     "output_type": "stream",
     "text": [
      "Procesando artistas:  16%|█▌        | 336/2110 [06:53<33:08,  1.12s/it]"
     ]
    },
    {
     "name": "stdout",
     "output_type": "stream",
     "text": [
      "⚠️ Respuesta vacía para Drake. Intento 3/3\n",
      "⚠️ Respuesta vacía para Cardi B. Intento 1/3\n",
      "⚠️ Respuesta vacía para Cardi B. Intento 2/3\n"
     ]
    },
    {
     "name": "stderr",
     "output_type": "stream",
     "text": [
      "Procesando artistas:  16%|█▌        | 337/2110 [06:55<33:11,  1.12s/it]"
     ]
    },
    {
     "name": "stdout",
     "output_type": "stream",
     "text": [
      "⚠️ Respuesta vacía para Cardi B. Intento 3/3\n",
      "⚠️ Respuesta vacía para Opium Moon. Intento 1/3\n",
      "⚠️ Respuesta vacía para Opium Moon. Intento 2/3\n"
     ]
    },
    {
     "name": "stderr",
     "output_type": "stream",
     "text": [
      "Procesando artistas:  16%|█▌        | 338/2110 [06:56<33:05,  1.12s/it]"
     ]
    },
    {
     "name": "stdout",
     "output_type": "stream",
     "text": [
      "⚠️ Respuesta vacía para Opium Moon. Intento 3/3\n",
      "⚠️ Respuesta vacía para John Daversa. Intento 1/3\n",
      "⚠️ Respuesta vacía para John Daversa. Intento 2/3\n"
     ]
    },
    {
     "name": "stderr",
     "output_type": "stream",
     "text": [
      "Procesando artistas:  16%|█▌        | 339/2110 [06:57<33:22,  1.13s/it]"
     ]
    },
    {
     "name": "stdout",
     "output_type": "stream",
     "text": [
      "⚠️ Respuesta vacía para John Daversa. Intento 3/3\n",
      "⚠️ Respuesta vacía para Cécile McLorin Salvant. Intento 1/3\n",
      "⚠️ Respuesta vacía para Cécile McLorin Salvant. Intento 2/3\n"
     ]
    },
    {
     "name": "stderr",
     "output_type": "stream",
     "text": [
      "Procesando artistas:  16%|█▌        | 340/2110 [06:58<33:10,  1.12s/it]"
     ]
    },
    {
     "name": "stdout",
     "output_type": "stream",
     "text": [
      "⚠️ Respuesta vacía para Cécile McLorin Salvant. Intento 3/3\n",
      "⚠️ Respuesta vacía para The Wayne Shorter Quartet. Intento 1/3\n",
      "⚠️ Respuesta vacía para The Wayne Shorter Quartet. Intento 2/3\n",
      "⚠️ Respuesta vacía para The Wayne Shorter Quartet. Intento 3/3\n"
     ]
    },
    {
     "name": "stderr",
     "output_type": "stream",
     "text": [
      "Procesando artistas:  16%|█▌        | 341/2110 [06:59<33:17,  1.13s/it]"
     ]
    },
    {
     "name": "stdout",
     "output_type": "stream",
     "text": [
      "⚠️ Respuesta vacía para John Daversa Big Band. Intento 1/3\n",
      "⚠️ Respuesta vacía para John Daversa Big Band. Intento 2/3\n",
      "⚠️ Respuesta vacía para John Daversa Big Band. Intento 3/3\n"
     ]
    },
    {
     "name": "stderr",
     "output_type": "stream",
     "text": [
      "Procesando artistas:  16%|█▌        | 342/2110 [07:00<33:42,  1.14s/it]"
     ]
    },
    {
     "name": "stdout",
     "output_type": "stream",
     "text": [
      "⚠️ Respuesta vacía para Dafnis Prieto Big Band. Intento 1/3\n",
      "⚠️ Respuesta vacía para Dafnis Prieto Big Band. Intento 2/3\n",
      "⚠️ Respuesta vacía para Dafnis Prieto Big Band. Intento 3/3\n"
     ]
    },
    {
     "name": "stderr",
     "output_type": "stream",
     "text": [
      "Procesando artistas:  16%|█▋        | 343/2110 [07:01<33:24,  1.13s/it]"
     ]
    },
    {
     "name": "stdout",
     "output_type": "stream",
     "text": [
      "⚠️ Respuesta vacía para Tori Kelly. Intento 1/3\n",
      "⚠️ Respuesta vacía para Tori Kelly. Intento 2/3\n",
      "⚠️ Respuesta vacía para Tori Kelly. Intento 3/3\n"
     ]
    },
    {
     "name": "stderr",
     "output_type": "stream",
     "text": [
      "Procesando artistas:  16%|█▋        | 344/2110 [07:03<33:45,  1.15s/it]"
     ]
    },
    {
     "name": "stdout",
     "output_type": "stream",
     "text": [
      "⚠️ Respuesta vacía para Lauren Daigle; Lauren Daigle. Intento 1/3\n",
      "⚠️ Respuesta vacía para Lauren Daigle; Lauren Daigle. Intento 2/3\n",
      "⚠️ Respuesta vacía para Lauren Daigle; Lauren Daigle. Intento 3/3\n"
     ]
    },
    {
     "name": "stderr",
     "output_type": "stream",
     "text": [
      "Procesando artistas:  16%|█▋        | 345/2110 [07:04<33:26,  1.14s/it]"
     ]
    },
    {
     "name": "stdout",
     "output_type": "stream",
     "text": [
      "⚠️ Respuesta vacía para Lauren Daigle. Intento 1/3\n",
      "⚠️ Respuesta vacía para Lauren Daigle. Intento 2/3\n"
     ]
    },
    {
     "name": "stderr",
     "output_type": "stream",
     "text": [
      "Procesando artistas:  16%|█▋        | 346/2110 [07:05<33:43,  1.15s/it]"
     ]
    },
    {
     "name": "stdout",
     "output_type": "stream",
     "text": [
      "⚠️ Respuesta vacía para Lauren Daigle. Intento 3/3\n",
      "⚠️ Respuesta vacía para Jason Crabb. Intento 1/3\n",
      "⚠️ Respuesta vacía para Jason Crabb. Intento 2/3\n",
      "⚠️ Respuesta vacía para Jason Crabb. Intento 3/3\n"
     ]
    },
    {
     "name": "stderr",
     "output_type": "stream",
     "text": [
      "Procesando artistas:  16%|█▋        | 347/2110 [07:06<33:16,  1.13s/it]"
     ]
    },
    {
     "name": "stdout",
     "output_type": "stream",
     "text": [
      "⚠️ Respuesta vacía para Claudia Brant. Intento 1/3\n",
      "⚠️ Respuesta vacía para Claudia Brant. Intento 2/3\n"
     ]
    },
    {
     "name": "stderr",
     "output_type": "stream",
     "text": [
      "Procesando artistas:  16%|█▋        | 348/2110 [07:07<33:26,  1.14s/it]"
     ]
    },
    {
     "name": "stdout",
     "output_type": "stream",
     "text": [
      "⚠️ Respuesta vacía para Claudia Brant. Intento 3/3\n",
      "⚠️ Respuesta vacía para Zoé. Intento 1/3\n",
      "⚠️ Respuesta vacía para Zoé. Intento 2/3\n",
      "⚠️ Respuesta vacía para Zoé. Intento 3/3\n"
     ]
    },
    {
     "name": "stderr",
     "output_type": "stream",
     "text": [
      "Procesando artistas:  17%|█▋        | 349/2110 [07:08<33:33,  1.14s/it]"
     ]
    },
    {
     "name": "stdout",
     "output_type": "stream",
     "text": [
      "⚠️ Respuesta vacía para Luis Miguel. Intento 1/3\n",
      "⚠️ Respuesta vacía para Luis Miguel. Intento 2/3\n"
     ]
    },
    {
     "name": "stderr",
     "output_type": "stream",
     "text": [
      "Procesando artistas:  17%|█▋        | 350/2110 [07:09<33:11,  1.13s/it]"
     ]
    },
    {
     "name": "stdout",
     "output_type": "stream",
     "text": [
      "⚠️ Respuesta vacía para Luis Miguel. Intento 3/3\n",
      "⚠️ Respuesta vacía para Spanish Harlem Orchestra. Intento 1/3\n",
      "⚠️ Respuesta vacía para Spanish Harlem Orchestra. Intento 2/3\n",
      "⚠️ Respuesta vacía para Spanish Harlem Orchestra. Intento 3/3\n"
     ]
    },
    {
     "name": "stderr",
     "output_type": "stream",
     "text": [
      "Procesando artistas:  17%|█▋        | 351/2110 [07:10<33:06,  1.13s/it]"
     ]
    },
    {
     "name": "stdout",
     "output_type": "stream",
     "text": [
      "⚠️ Respuesta vacía para Brandi Carlile. Intento 1/3\n",
      "⚠️ Respuesta vacía para Brandi Carlile. Intento 2/3\n",
      "⚠️ Respuesta vacía para Brandi Carlile. Intento 3/3\n"
     ]
    },
    {
     "name": "stderr",
     "output_type": "stream",
     "text": [
      "Procesando artistas:  17%|█▋        | 352/2110 [07:12<33:03,  1.13s/it]"
     ]
    },
    {
     "name": "stdout",
     "output_type": "stream",
     "text": [
      "⚠️ Respuesta vacía para The Travelin' McCourys. Intento 1/3\n",
      "⚠️ Respuesta vacía para The Travelin' McCourys. Intento 2/3\n"
     ]
    },
    {
     "name": "stderr",
     "output_type": "stream",
     "text": [
      "Procesando artistas:  17%|█▋        | 353/2110 [07:13<33:30,  1.14s/it]"
     ]
    },
    {
     "name": "stdout",
     "output_type": "stream",
     "text": [
      "⚠️ Respuesta vacía para The Travelin' McCourys. Intento 3/3\n",
      "⚠️ Respuesta vacía para Buddy Guy. Intento 1/3\n",
      "⚠️ Respuesta vacía para Buddy Guy. Intento 2/3\n",
      "⚠️ Respuesta vacía para Buddy Guy. Intento 3/3\n"
     ]
    },
    {
     "name": "stderr",
     "output_type": "stream",
     "text": [
      "Procesando artistas:  17%|█▋        | 354/2110 [07:14<33:14,  1.14s/it]"
     ]
    },
    {
     "name": "stdout",
     "output_type": "stream",
     "text": [
      "⚠️ Respuesta vacía para Fantastic Negrito. Intento 1/3\n",
      "⚠️ Respuesta vacía para Fantastic Negrito. Intento 2/3\n"
     ]
    },
    {
     "name": "stderr",
     "output_type": "stream",
     "text": [
      "Procesando artistas:  17%|█▋        | 355/2110 [07:15<33:15,  1.14s/it]"
     ]
    },
    {
     "name": "stdout",
     "output_type": "stream",
     "text": [
      "⚠️ Respuesta vacía para Fantastic Negrito. Intento 3/3\n",
      "⚠️ Respuesta vacía para Punch Brothers. Intento 1/3\n",
      "⚠️ Respuesta vacía para Punch Brothers. Intento 2/3\n"
     ]
    },
    {
     "name": "stderr",
     "output_type": "stream",
     "text": [
      "Procesando artistas:  17%|█▋        | 356/2110 [07:16<33:13,  1.14s/it]"
     ]
    },
    {
     "name": "stdout",
     "output_type": "stream",
     "text": [
      "⚠️ Respuesta vacía para Punch Brothers. Intento 3/3\n",
      "⚠️ Respuesta vacía para Kalani Pe'a. Intento 1/3\n",
      "⚠️ Respuesta vacía para Kalani Pe'a. Intento 2/3\n"
     ]
    },
    {
     "name": "stderr",
     "output_type": "stream",
     "text": [
      "Procesando artistas:  17%|█▋        | 357/2110 [07:17<32:51,  1.12s/it]"
     ]
    },
    {
     "name": "stdout",
     "output_type": "stream",
     "text": [
      "⚠️ Respuesta vacía para Kalani Pe'a. Intento 3/3\n",
      "⚠️ Respuesta vacía para Sting. Intento 1/3\n",
      "⚠️ Respuesta vacía para Sting. Intento 2/3\n"
     ]
    },
    {
     "name": "stderr",
     "output_type": "stream",
     "text": [
      "Procesando artistas:  17%|█▋        | 358/2110 [07:18<33:02,  1.13s/it]"
     ]
    },
    {
     "name": "stdout",
     "output_type": "stream",
     "text": [
      "⚠️ Respuesta vacía para Sting. Intento 3/3\n",
      "⚠️ Respuesta vacía para Soweto Gospel Choir. Intento 1/3\n",
      "⚠️ Respuesta vacía para Soweto Gospel Choir. Intento 2/3\n",
      "⚠️ Respuesta vacía para Soweto Gospel Choir. Intento 3/3\n"
     ]
    },
    {
     "name": "stderr",
     "output_type": "stream",
     "text": [
      "Procesando artistas:  17%|█▋        | 359/2110 [07:20<33:02,  1.13s/it]"
     ]
    },
    {
     "name": "stdout",
     "output_type": "stream",
     "text": [
      "⚠️ Respuesta vacía para Lucy Kalantari. Intento 1/3\n",
      "⚠️ Respuesta vacía para Lucy Kalantari. Intento 2/3\n"
     ]
    },
    {
     "name": "stderr",
     "output_type": "stream",
     "text": [
      "Procesando artistas:  17%|█▋        | 360/2110 [07:21<32:43,  1.12s/it]"
     ]
    },
    {
     "name": "stdout",
     "output_type": "stream",
     "text": [
      "⚠️ Respuesta vacía para Lucy Kalantari. Intento 3/3\n",
      "⚠️ Respuesta vacía para Jimmy Carter. Intento 1/3\n",
      "⚠️ Respuesta vacía para Jimmy Carter. Intento 2/3\n",
      "⚠️ Respuesta vacía para Jimmy Carter. Intento 3/3\n"
     ]
    },
    {
     "name": "stderr",
     "output_type": "stream",
     "text": [
      "Procesando artistas:  17%|█▋        | 361/2110 [07:22<32:58,  1.13s/it]"
     ]
    },
    {
     "name": "stdout",
     "output_type": "stream",
     "text": [
      "⚠️ Respuesta vacía para Etai Benson. Intento 1/3\n",
      "⚠️ Respuesta vacía para Etai Benson. Intento 2/3\n",
      "⚠️ Respuesta vacía para Etai Benson. Intento 3/3\n"
     ]
    },
    {
     "name": "stderr",
     "output_type": "stream",
     "text": [
      "Procesando artistas:  17%|█▋        | 362/2110 [07:23<32:36,  1.12s/it]"
     ]
    },
    {
     "name": "stdout",
     "output_type": "stream",
     "text": [
      "⚠️ Respuesta vacía para Hugh Jackman (& Various Artists). Intento 1/3\n",
      "⚠️ Respuesta vacía para Hugh Jackman (& Various Artists). Intento 2/3\n"
     ]
    },
    {
     "name": "stderr",
     "output_type": "stream",
     "text": [
      "Procesando artistas:  17%|█▋        | 363/2110 [07:24<32:31,  1.12s/it]"
     ]
    },
    {
     "name": "stdout",
     "output_type": "stream",
     "text": [
      "⚠️ Respuesta vacía para Hugh Jackman (& Various Artists). Intento 3/3\n",
      "⚠️ Respuesta vacía para Ludwig Göransson. Intento 1/3\n",
      "⚠️ Respuesta vacía para Ludwig Göransson. Intento 2/3\n"
     ]
    },
    {
     "name": "stderr",
     "output_type": "stream",
     "text": [
      "Procesando artistas:  17%|█▋        | 364/2110 [07:25<32:12,  1.11s/it]"
     ]
    },
    {
     "name": "stdout",
     "output_type": "stream",
     "text": [
      "⚠️ Respuesta vacía para Ludwig Göransson. Intento 3/3\n",
      "⚠️ Respuesta vacía para Terence Blanchard. Intento 1/3\n",
      "⚠️ Respuesta vacía para Terence Blanchard. Intento 2/3\n",
      "⚠️ Respuesta vacía para Terence Blanchard. Intento 3/3\n"
     ]
    },
    {
     "name": "stderr",
     "output_type": "stream",
     "text": [
      "Procesando artistas:  17%|█▋        | 365/2110 [07:26<32:07,  1.10s/it]"
     ]
    },
    {
     "name": "stdout",
     "output_type": "stream",
     "text": [
      "⚠️ Respuesta vacía para Randy Waldman. Intento 1/3\n",
      "⚠️ Respuesta vacía para Randy Waldman. Intento 2/3\n",
      "⚠️ Respuesta vacía para Randy Waldman. Intento 3/3\n"
     ]
    },
    {
     "name": "stderr",
     "output_type": "stream",
     "text": [
      "Procesando artistas:  17%|█▋        | 366/2110 [07:27<32:03,  1.10s/it]"
     ]
    },
    {
     "name": "stdout",
     "output_type": "stream",
     "text": [
      "⚠️ Respuesta vacía para Weird Al Yankovic. Intento 1/3\n",
      "⚠️ Respuesta vacía para Weird Al Yankovic. Intento 2/3\n",
      "⚠️ Respuesta vacía para Weird Al Yankovic. Intento 3/3\n"
     ]
    },
    {
     "name": "stderr",
     "output_type": "stream",
     "text": [
      "Procesando artistas:  17%|█▋        | 367/2110 [07:29<32:59,  1.14s/it]"
     ]
    },
    {
     "name": "stdout",
     "output_type": "stream",
     "text": [
      "⚠️ Respuesta vacía para Pharrell Williams. Intento 1/3\n",
      "⚠️ Respuesta vacía para Pharrell Williams. Intento 2/3\n"
     ]
    },
    {
     "name": "stderr",
     "output_type": "stream",
     "text": [
      "Procesando artistas:  17%|█▋        | 368/2110 [07:30<32:42,  1.13s/it]"
     ]
    },
    {
     "name": "stdout",
     "output_type": "stream",
     "text": [
      "⚠️ Respuesta vacía para Pharrell Williams. Intento 3/3\n",
      "⚠️ Respuesta vacía para Haim. Intento 1/3\n",
      "⚠️ Respuesta vacía para Haim. Intento 2/3\n"
     ]
    },
    {
     "name": "stderr",
     "output_type": "stream",
     "text": [
      "Procesando artistas:  17%|█▋        | 369/2110 [07:31<32:48,  1.13s/it]"
     ]
    },
    {
     "name": "stdout",
     "output_type": "stream",
     "text": [
      "⚠️ Respuesta vacía para Haim. Intento 3/3\n",
      "⚠️ Respuesta vacía para The Alan Parsons Project. Intento 1/3\n",
      "⚠️ Respuesta vacía para The Alan Parsons Project. Intento 2/3\n"
     ]
    },
    {
     "name": "stderr",
     "output_type": "stream",
     "text": [
      "Procesando artistas:  18%|█▊        | 370/2110 [07:32<32:21,  1.12s/it]"
     ]
    },
    {
     "name": "stdout",
     "output_type": "stream",
     "text": [
      "⚠️ Respuesta vacía para The Alan Parsons Project. Intento 3/3\n",
      "⚠️ Respuesta vacía para Andris Nelsons. Intento 1/3\n",
      "⚠️ Respuesta vacía para Andris Nelsons. Intento 2/3\n"
     ]
    },
    {
     "name": "stderr",
     "output_type": "stream",
     "text": [
      "Procesando artistas:  18%|█▊        | 371/2110 [07:33<32:04,  1.11s/it]"
     ]
    },
    {
     "name": "stdout",
     "output_type": "stream",
     "text": [
      "⚠️ Respuesta vacía para Andris Nelsons. Intento 3/3\n",
      "⚠️ Respuesta vacía para Blanton Alspaugh. Intento 1/3\n",
      "⚠️ Respuesta vacía para Blanton Alspaugh. Intento 2/3\n",
      "⚠️ Respuesta vacía para Blanton Alspaugh. Intento 3/3\n"
     ]
    },
    {
     "name": "stderr",
     "output_type": "stream",
     "text": [
      "Procesando artistas:  18%|█▊        | 372/2110 [07:34<31:51,  1.10s/it]"
     ]
    },
    {
     "name": "stdout",
     "output_type": "stream",
     "text": [
      "⚠️ Respuesta vacía para Michael Christie. Intento 1/3\n",
      "⚠️ Respuesta vacía para Michael Christie. Intento 2/3\n"
     ]
    },
    {
     "name": "stderr",
     "output_type": "stream",
     "text": [
      "Procesando artistas:  18%|█▊        | 373/2110 [07:35<31:44,  1.10s/it]"
     ]
    },
    {
     "name": "stdout",
     "output_type": "stream",
     "text": [
      "⚠️ Respuesta vacía para Michael Christie. Intento 3/3\n",
      "⚠️ Respuesta vacía para Donald Nally. Intento 1/3\n",
      "⚠️ Respuesta vacía para Donald Nally. Intento 2/3\n"
     ]
    },
    {
     "name": "stderr",
     "output_type": "stream",
     "text": [
      "Procesando artistas:  18%|█▊        | 374/2110 [07:36<31:42,  1.10s/it]"
     ]
    },
    {
     "name": "stdout",
     "output_type": "stream",
     "text": [
      "⚠️ Respuesta vacía para Donald Nally. Intento 3/3\n",
      "⚠️ Respuesta vacía para Laurie Anderson. Intento 1/3\n",
      "⚠️ Respuesta vacía para Laurie Anderson. Intento 2/3\n"
     ]
    },
    {
     "name": "stderr",
     "output_type": "stream",
     "text": [
      "Procesando artistas:  18%|█▊        | 375/2110 [07:37<32:12,  1.11s/it]"
     ]
    },
    {
     "name": "stdout",
     "output_type": "stream",
     "text": [
      "⚠️ Respuesta vacía para Laurie Anderson. Intento 3/3\n",
      "⚠️ Respuesta vacía para Seattle Symphony. Intento 1/3\n",
      "⚠️ Respuesta vacía para Seattle Symphony. Intento 2/3\n"
     ]
    },
    {
     "name": "stderr",
     "output_type": "stream",
     "text": [
      "Procesando artistas:  18%|█▊        | 376/2110 [07:38<32:17,  1.12s/it]"
     ]
    },
    {
     "name": "stdout",
     "output_type": "stream",
     "text": [
      "⚠️ Respuesta vacía para Seattle Symphony. Intento 3/3\n",
      "⚠️ Respuesta vacía para Karim Sulayman; Jeannette Sorrell. Intento 1/3\n",
      "⚠️ Respuesta vacía para Karim Sulayman; Jeannette Sorrell. Intento 2/3\n"
     ]
    },
    {
     "name": "stderr",
     "output_type": "stream",
     "text": [
      "Procesando artistas:  18%|█▊        | 376/2110 [07:40<35:21,  1.22s/it]"
     ]
    },
    {
     "name": "stdout",
     "output_type": "stream",
     "text": [
      "⚠️ Respuesta vacía para Karim Sulayman; Jeannette Sorrell. Intento 3/3\n"
     ]
    },
    {
     "name": "stderr",
     "output_type": "stream",
     "text": [
      "\n"
     ]
    },
    {
     "ename": "KeyboardInterrupt",
     "evalue": "",
     "output_type": "error",
     "traceback": [
      "\u001b[31m---------------------------------------------------------------------------\u001b[39m",
      "\u001b[31mKeyboardInterrupt\u001b[39m                         Traceback (most recent call last)",
      "\u001b[36mCell\u001b[39m\u001b[36m \u001b[39m\u001b[32mIn[4]\u001b[39m\u001b[32m, line 80\u001b[39m\n\u001b[32m     78\u001b[39m     \u001b[38;5;28;01mif\u001b[39;00m result:\n\u001b[32m     79\u001b[39m         results.append(result)\n\u001b[32m---> \u001b[39m\u001b[32m80\u001b[39m     time.sleep(\u001b[32m0.2\u001b[39m)  \u001b[38;5;66;03m# Pausa para evitar bloqueo\u001b[39;00m\n\u001b[32m     82\u001b[39m \u001b[38;5;66;03m# Guardar resultados\u001b[39;00m\n\u001b[32m     83\u001b[39m df_results = pd.DataFrame(results)\n",
      "\u001b[31mKeyboardInterrupt\u001b[39m: "
     ]
    }
   ],
   "source": [
    "# Workshop_2/source/extract/extract_api.py\n",
    "\n",
    "import pandas as pd\n",
    "import requests\n",
    "import time\n",
    "import csv\n",
    "from tqdm import tqdm\n",
    "\n",
    "import pandas as pd\n",
    "\n",
    "# Cargar archivo original\n",
    "df = pd.read_csv(\"../data/artists.csv\", header=None, names=[\"artist_raw\"])\n",
    "\n",
    "# Limpieza básica\n",
    "def limpiar_nombre(artista):\n",
    "    if pd.isna(artista):\n",
    "        return None\n",
    "    artista = artista.replace('\"', '')\n",
    "    artista = artista.split(\" Featuring \")[0]\n",
    "    artista = artista.split(\" & \")[0]\n",
    "    artista = artista.split(\",\")[0]\n",
    "    return artista.strip()\n",
    "\n",
    "df[\"artist\"] = df[\"artist_raw\"].apply(limpiar_nombre)\n",
    "\n",
    "# Eliminar duplicados y valores vacíos\n",
    "unique_artists = df[\"artist\"].dropna().drop_duplicates().reset_index(drop=True)\n",
    "\n",
    "# Lista para almacenar los resultados\n",
    "results = []\n",
    "\n",
    "\n",
    "import pandas as pd\n",
    "import requests\n",
    "import time\n",
    "from tqdm import tqdm\n",
    "\n",
    "API_KEY = '1'  # Puedes reemplazar con tu propia API Key si tienes una\n",
    "INPUT_FILE = 'Workshop_2/data/artists.csv'\n",
    "OUTPUT_FILE = 'Workshop_2/data/api_data.csv'\n",
    "\n",
    "def get_artist_info(artist_name, retries=3, delay=1):\n",
    "    url = f'https://www.theaudiodb.com/api/v1/json/{API_KEY}/search.php?s={artist_name}'\n",
    "    for attempt in range(retries):\n",
    "        try:\n",
    "            response = requests.get(url, timeout=10)\n",
    "            if response.status_code == 200:\n",
    "                data = response.json()\n",
    "                if data['artists'] is not None:\n",
    "                    return data['artists'][0]  # Tomamos solo el primero si hay varios\n",
    "                else:\n",
    "                    print(f\"⚠️ No se encontró información para {artist_name}\")\n",
    "                    return None\n",
    "            else:\n",
    "                print(f\"⚠️ Error {response.status_code} para {artist_name}\")\n",
    "        except Exception as e:\n",
    "            print(f\"⚠️ Excepción para {artist_name}: {e}. Intento {attempt + 1}/{retries}\")\n",
    "            time.sleep(delay)\n",
    "    return None\n",
    "\n",
    "def extract_all_artists():\n",
    "    df = pd.read_csv(INPUT_FILE)\n",
    "    artists = df['artists'].dropna().unique()\n",
    "\n",
    "    records = []\n",
    "    for artist in tqdm(artists, desc=\"Procesando artistas\"):\n",
    "        artist_info = get_artist_info(artist)\n",
    "        if artist_info:\n",
    "            records.append({\n",
    "                'artist_name': artist,\n",
    "                'idArtist': artist_info.get('idArtist'),\n",
    "                'strCountry': artist_info.get('strCountry'),\n",
    "                'intBornYear': artist_info.get('intBornYear'),\n",
    "                'intDiedYear': artist_info.get('intDiedYear'),\n",
    "                'strGender': artist_info.get('strGender'),\n",
    "                'strGenre': artist_info.get('strGenre'),\n",
    "                'strStyle': artist_info.get('strStyle'),\n",
    "                'strWebsite': artist_info.get('strWebsite'),\n",
    "                'strBiographyEN': artist_info.get('strBiographyEN'),\n",
    "            })\n",
    "\n",
    "    result_df = pd.DataFrame(records)\n",
    "    result_df.to_csv(OUTPUT_FILE, index=False)\n",
    "    print(f\"✅ Extracción finalizada. Datos guardados en {OUTPUT_FILE}\")\n",
    "\n",
    "if __name__ == \"__main__\":\n",
    "    extract_all_artists()\n",
    "\n",
    "\n"
   ]
  },
  {
   "cell_type": "code",
   "execution_count": null,
   "id": "95d3a956",
   "metadata": {},
   "outputs": [
    {
     "name": "stdout",
     "output_type": "stream",
     "text": [
      "✅ Datos de MusicBrainz guardados en api_data.csv.\n"
     ]
    }
   ],
   "source": [
    "\n",
    "# Consultar MusicBrainz para cada artista\n",
    "headers = {'User-Agent': 'ETLWorkshop/1.0 (tucorreo@dominio.com)'}\n",
    "datos_artistas = []\n",
    "\n",
    "for artist in list(artistas):  # puedes ajustar el número para pruebas\n",
    "    query = artist.replace(\" \", \"+\")\n",
    "    url = f\"https://musicbrainz.org/ws/2/artist/?query=artist:{query}&fmt=json&limit=1\"\n",
    "    \n",
    "    response = requests.get(url, headers=headers)\n",
    "    if response.status_code == 200:\n",
    "        data = response.json()\n",
    "        if data['artists']:\n",
    "            a = data['artists'][0]\n",
    "            datos_artistas.append({\n",
    "                'artist_name': artist,\n",
    "                'artist_id': a.get('id'),\n",
    "                'country': a.get('country'),\n",
    "                'begin_date': a.get('life-span', {}).get('begin'),\n",
    "                'end_date': a.get('life-span', {}).get('end'),\n",
    "                'type': a.get('type'),\n",
    "                'gender': a.get('gender'),\n",
    "                'disambiguation': a.get('disambiguation'),\n",
    "            })\n",
    "    else:\n",
    "        print(f\"❌ Error con {artist}: {response.status_code}\")\n",
    "    \n",
    "    time.sleep(1)\n",
    "\n",
    "# Guardar como CSV\n",
    "df_api = pd.DataFrame(datos_artistas)\n",
    "df_api.to_csv(\"../data/musicbrainz_artists.csv\", index=False)\n",
    "\n",
    "print(\"✅ Datos de MusicBrainz guardados en api_data.csv.\")\n"
   ]
  },
  {
   "cell_type": "code",
   "execution_count": 3,
   "id": "8ecbd5b2",
   "metadata": {},
   "outputs": [
    {
     "data": {
      "text/html": [
       "<div>\n",
       "<style scoped>\n",
       "    .dataframe tbody tr th:only-of-type {\n",
       "        vertical-align: middle;\n",
       "    }\n",
       "\n",
       "    .dataframe tbody tr th {\n",
       "        vertical-align: top;\n",
       "    }\n",
       "\n",
       "    .dataframe thead th {\n",
       "        text-align: right;\n",
       "    }\n",
       "</style>\n",
       "<table border=\"1\" class=\"dataframe\">\n",
       "  <thead>\n",
       "    <tr style=\"text-align: right;\">\n",
       "      <th></th>\n",
       "      <th>artist_name</th>\n",
       "      <th>artist_id</th>\n",
       "      <th>country</th>\n",
       "      <th>begin_date</th>\n",
       "      <th>end_date</th>\n",
       "      <th>type</th>\n",
       "      <th>gender</th>\n",
       "      <th>disambiguation</th>\n",
       "    </tr>\n",
       "  </thead>\n",
       "  <tbody>\n",
       "    <tr>\n",
       "      <th>0</th>\n",
       "      <td>Rhonda Vincent And The Rage</td>\n",
       "      <td>b6310fcc-30ea-41a9-9cda-1931f569d76f</td>\n",
       "      <td>US</td>\n",
       "      <td>NaN</td>\n",
       "      <td>NaN</td>\n",
       "      <td>Group</td>\n",
       "      <td>NaN</td>\n",
       "      <td>NaN</td>\n",
       "    </tr>\n",
       "    <tr>\n",
       "      <th>1</th>\n",
       "      <td>Yolanda Kondonassis</td>\n",
       "      <td>73e9c3b8-ef39-48e5-8b08-f746dcf0c765</td>\n",
       "      <td>US</td>\n",
       "      <td>1963</td>\n",
       "      <td>NaN</td>\n",
       "      <td>Person</td>\n",
       "      <td>female</td>\n",
       "      <td>harpist</td>\n",
       "    </tr>\n",
       "    <tr>\n",
       "      <th>2</th>\n",
       "      <td>John Hartford</td>\n",
       "      <td>3178cc4c-cd9f-4842-96fb-28bf9cfec591</td>\n",
       "      <td>US</td>\n",
       "      <td>1937-12-30</td>\n",
       "      <td>2001-06-04</td>\n",
       "      <td>Person</td>\n",
       "      <td>male</td>\n",
       "      <td>NaN</td>\n",
       "    </tr>\n",
       "    <tr>\n",
       "      <th>3</th>\n",
       "      <td>Sheryl Crow</td>\n",
       "      <td>80ccfede-c258-4575-a7ad-c982e9932e0f</td>\n",
       "      <td>US</td>\n",
       "      <td>1962-02-11</td>\n",
       "      <td>NaN</td>\n",
       "      <td>Person</td>\n",
       "      <td>female</td>\n",
       "      <td>American singer-songwriter and musician</td>\n",
       "    </tr>\n",
       "    <tr>\n",
       "      <th>4</th>\n",
       "      <td>Neal Hefti</td>\n",
       "      <td>75770f14-cbe0-4b06-8825-14797098ff2a</td>\n",
       "      <td>US</td>\n",
       "      <td>1922-10-29</td>\n",
       "      <td>2008-10-11</td>\n",
       "      <td>Person</td>\n",
       "      <td>male</td>\n",
       "      <td>NaN</td>\n",
       "    </tr>\n",
       "  </tbody>\n",
       "</table>\n",
       "</div>"
      ],
      "text/plain": [
       "                   artist_name                             artist_id country  \\\n",
       "0  Rhonda Vincent And The Rage  b6310fcc-30ea-41a9-9cda-1931f569d76f      US   \n",
       "1          Yolanda Kondonassis  73e9c3b8-ef39-48e5-8b08-f746dcf0c765      US   \n",
       "2                John Hartford  3178cc4c-cd9f-4842-96fb-28bf9cfec591      US   \n",
       "3                  Sheryl Crow  80ccfede-c258-4575-a7ad-c982e9932e0f      US   \n",
       "4                   Neal Hefti  75770f14-cbe0-4b06-8825-14797098ff2a      US   \n",
       "\n",
       "   begin_date    end_date    type  gender  \\\n",
       "0         NaN         NaN   Group     NaN   \n",
       "1        1963         NaN  Person  female   \n",
       "2  1937-12-30  2001-06-04  Person    male   \n",
       "3  1962-02-11         NaN  Person  female   \n",
       "4  1922-10-29  2008-10-11  Person    male   \n",
       "\n",
       "                            disambiguation  \n",
       "0                                      NaN  \n",
       "1                                  harpist  \n",
       "2                                      NaN  \n",
       "3  American singer-songwriter and musician  \n",
       "4                                      NaN  "
      ]
     },
     "execution_count": 3,
     "metadata": {},
     "output_type": "execute_result"
    }
   ],
   "source": [
    "df = pd.read_csv(\"../data/musicbrainz_artists.csv\")\n",
    "df.head()"
   ]
  }
 ],
 "metadata": {
  "kernelspec": {
   "display_name": "venv",
   "language": "python",
   "name": "python3"
  },
  "language_info": {
   "codemirror_mode": {
    "name": "ipython",
    "version": 3
   },
   "file_extension": ".py",
   "mimetype": "text/x-python",
   "name": "python",
   "nbconvert_exporter": "python",
   "pygments_lexer": "ipython3",
   "version": "3.11.4"
  }
 },
 "nbformat": 4,
 "nbformat_minor": 5
}
