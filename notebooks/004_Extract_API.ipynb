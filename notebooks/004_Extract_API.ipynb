{
 "cells": [
  {
   "cell_type": "markdown",
   "id": "6be7a6fc",
   "metadata": {},
   "source": [
    "### Importación de bibliotecas necesarias"
   ]
  },
  {
   "cell_type": "code",
   "execution_count": 5,
   "id": "131e0496",
   "metadata": {},
   "outputs": [],
   "source": [
    "import pandas as pd\n",
    "import requests\n",
    "from tqdm import tqdm\n",
    "import time\n",
    "import re\n"
   ]
  },
  {
   "cell_type": "markdown",
   "id": "16002b50",
   "metadata": {},
   "source": [
    "### Consultar Wikidata"
   ]
  },
  {
   "cell_type": "code",
   "execution_count": null,
   "id": "4cc75855",
   "metadata": {},
   "outputs": [
    {
     "name": "stdout",
     "output_type": "stream",
     "text": [
      "Total artistas únicos: 24063\n",
      "🚀 Consultando Wikidata...\n"
     ]
    },
    {
     "name": "stderr",
     "output_type": "stream",
     "text": [
      "🔎 Batches SPARQL:  75%|███████▌  | 18160/24063 [08:50<02:37, 37.56it/s]"
     ]
    }
   ],
   "source": [
    "\n",
    "def limpiar_nombre(nombre):\n",
    "    \"\"\"Limpia nombres de artistas eliminando caracteres problemáticos para consultas SPARQL.\n",
    "\n",
    "    Args:\n",
    "        nombre: Nombre del artista como cadena de texto (str o NaN).\n",
    "\n",
    "    Returns:\n",
    "        str o None: Nombre limpio o None si está vacío o es NaN.\n",
    "    \"\"\"\n",
    "    if pd.isna(nombre) or not nombre.strip():\n",
    "        return None\n",
    "   \n",
    "    nombre = nombre.replace(\"\\\\\", \"\")   \n",
    "    nombre = nombre.replace('\"', '')  \n",
    "    nombre = nombre.replace(\"'\", \"\")    \n",
    "    nombre = nombre.replace(\"/\", \" \")   \n",
    "    nombre = nombre.replace(\"&\", \"and\") \n",
    "    nombre = nombre.strip()\n",
    "    return nombre\n",
    "\n",
    "\n",
    "df = pd.read_csv(\"../data/artists.csv\", header=None, names=[\"raw\"])\n",
    "nombres_limpios = [limpiar_nombre(nombre) for nombre in df[\"raw\"]]\n",
    "artistas_unicos = sorted(set([nombre for nombre in nombres_limpios if nombre]))\n",
    "\n",
    "\n",
    "print(f\"Total artistas únicos: {len(artistas_unicos)}\")\n",
    "\n",
    "\n",
    "WIKIDATA_ENDPOINT = \"https://query.wikidata.org/sparql\"\n",
    "HEADERS = {\n",
    "    \"Accept\": \"application/sparql-results+json\",\n",
    "    \"User-Agent\": \"ETL-MusicalProject/1.0 (tu_correo_ejemplo@gmail.com)\"  \n",
    "}\n",
    "\n",
    "def construir_query_sparql(artistas):\n",
    "    \"\"\"Construye una consulta SPARQL para obtener datos de artistas desde Wikidata.\n",
    "\n",
    "    Args:\n",
    "        artistas: Lista de nombres de artistas (list).\n",
    "\n",
    "    Returns:\n",
    "        str: Consulta SPARQL como cadena de texto.\n",
    "    \"\"\"\n",
    "    values = \"\\n\".join([f'\"{nombre}\"@en' for nombre in artistas])\n",
    "    query = f\"\"\"\n",
    "    SELECT ?artistLabel ?death ?countryLabel ?awardLabel ?genderLabel WHERE {{\n",
    "      VALUES ?name {{ {values} }}\n",
    "      ?artist rdfs:label ?name.\n",
    "      ?artist wdt:P166 ?award.\n",
    "      ?award rdfs:label ?awardLabel.\n",
    "      OPTIONAL {{ ?artist wdt:P27 ?country. }}\n",
    "      OPTIONAL {{ ?artist wdt:P570 ?death. }}\n",
    "      OPTIONAL {{ ?artist wdt:P21 ?gender. }}\n",
    "      SERVICE wikibase:label {{ bd:serviceParam wikibase:language \"[AUTO_LANGUAGE],en\". }}\n",
    "    }}\n",
    "    \"\"\"\n",
    "    return query\n",
    "\n",
    "def obtener_datos_wikidata(artistas_batch):\n",
    "    \"\"\"Realiza una consulta a Wikidata y devuelve los resultados en formato JSON.\n",
    "\n",
    "    Args:\n",
    "        artistas_batch: Lista de nombres de artistas en el batch (list).\n",
    "\n",
    "    Returns:\n",
    "        dict o None: Resultados en JSON o None si hay un error.\n",
    "    \"\"\"\n",
    "    query = construir_query_sparql(artistas_batch)\n",
    "    try:\n",
    "        response = requests.post(WIKIDATA_ENDPOINT, data={\"query\": query}, headers=HEADERS)\n",
    "        response.raise_for_status()\n",
    "        return response.json()\n",
    "    except requests.exceptions.RequestException as e:\n",
    "        print(\"Error en SPARQL:\", e)\n",
    "        return None\n",
    "\n",
    "\n",
    "print(\"🚀 Consultando Wikidata...\")\n",
    "\n",
    "MAX_QUERY_SIZE = 60000  \n",
    "results = []\n",
    "i = 0\n",
    "\n",
    "with tqdm(total=len(artistas_unicos), desc=\"🔎 Batches SPARQL\") as pbar:\n",
    "    while i < len(artistas_unicos):\n",
    "        batch_size = 80 \n",
    "        batch_success = False\n",
    "\n",
    "        while batch_size > 0 and not batch_success:\n",
    "            batch = artistas_unicos[i:i+batch_size]\n",
    "            query = construir_query_sparql(batch)\n",
    "            if len(query.encode(\"utf-8\")) > MAX_QUERY_SIZE:\n",
    "                batch_size -= 5  \n",
    "                continue\n",
    "\n",
    "            data = obtener_datos_wikidata(batch)\n",
    "            if data:\n",
    "                for row in data[\"results\"][\"bindings\"]:\n",
    "                    results.append({\n",
    "                        \"artist\": row.get(\"artistLabel\", {}).get(\"value\", \"\"),\n",
    "                        \"death\": row.get(\"death\", {}).get(\"value\", \"\"),\n",
    "                        \"country\": row.get(\"countryLabel\", {}).get(\"value\", \"\"),\n",
    "                        \"award\": row.get(\"awardLabel\", {}).get(\"value\", \"No awards\"),\n",
    "                        \"gender\": row.get(\"genderLabel\", {}).get(\"value\", \"Unknown\")\n",
    "                    })\n",
    "                batch_success = True\n",
    "                i += batch_size\n",
    "                pbar.update(batch_size)\n",
    "                time.sleep(0.8)  \n",
    "            else:\n",
    "                batch_size = batch_size // 2  \n",
    "\n",
    "        if not batch_success:\n",
    "            print(f\"⚠️  Saltando artista en índice {i}: {artistas_unicos[i]}\")\n",
    "            i += 1\n",
    "            pbar.update(1)\n",
    "\n",
    "\n",
    "columnas_ordenadas = [\"artist\", \"country\", \"award\", \"death\", \"gender\"]\n",
    "df_result = pd.DataFrame(results, columns=columnas_ordenadas)\n"
   ]
  },
  {
   "cell_type": "markdown",
   "id": "ccade190",
   "metadata": {},
   "source": [
    "### Dividir y guardar el DataFrame en dos partes"
   ]
  },
  {
   "cell_type": "code",
   "execution_count": 4,
   "id": "c37231c7",
   "metadata": {},
   "outputs": [
    {
     "name": "stdout",
     "output_type": "stream",
     "text": [
      "✅ Archivo 'wikidata_artists_part1.csv' creado correctamente.\n",
      "✅ Archivo 'wikidata_artists_part2.csv' creado correctamente.\n"
     ]
    }
   ],
   "source": [
    "\n",
    "halfway = len(df_result) // 2\n",
    "\n",
    "\n",
    "df_result.iloc[:halfway].to_csv(\"../data/wikidata_artists_part1.csv\", index=False)\n",
    "print(\"✅ Archivo 'wikidata_artists_part1.csv' creado correctamente.\")\n",
    "\n",
    "df_result.iloc[halfway:].to_csv(\"../data/wikidata_artists_part2.csv\", index=False)\n",
    "print(\"✅ Archivo 'wikidata_artists_part2.csv' creado correctamente.\")"
   ]
  }
 ],
 "metadata": {
  "kernelspec": {
   "display_name": "Python venv",
   "language": "python",
   "name": "venv"
  },
  "language_info": {
   "codemirror_mode": {
    "name": "ipython",
    "version": 3
   },
   "file_extension": ".py",
   "mimetype": "text/x-python",
   "name": "python",
   "nbconvert_exporter": "python",
   "pygments_lexer": "ipython3",
   "version": "3.12.3"
  }
 },
 "nbformat": 4,
 "nbformat_minor": 5
}
