{
 "cells": [
  {
   "cell_type": "markdown",
   "id": "c69b2542",
   "metadata": {},
   "source": [
    "### Importacion de bibliotecas "
   ]
  },
  {
   "cell_type": "code",
   "execution_count": null,
   "id": "bae5be90",
   "metadata": {},
   "outputs": [],
   "source": [
    "import pandas as pd\n",
    "import matplotlib.pyplot as plt\n",
    "import seaborn as sns\n",
    "from langdetect import detect\n",
    "from tqdm import tqdm"
   ]
  },
  {
   "cell_type": "markdown",
   "id": "9633e67b",
   "metadata": {},
   "source": [
    "## Info"
   ]
  },
  {
   "cell_type": "code",
   "execution_count": 30,
   "id": "307e0511",
   "metadata": {},
   "outputs": [
    {
     "data": {
      "text/html": [
       "<div>\n",
       "<style scoped>\n",
       "    .dataframe tbody tr th:only-of-type {\n",
       "        vertical-align: middle;\n",
       "    }\n",
       "\n",
       "    .dataframe tbody tr th {\n",
       "        vertical-align: top;\n",
       "    }\n",
       "\n",
       "    .dataframe thead th {\n",
       "        text-align: right;\n",
       "    }\n",
       "</style>\n",
       "<table border=\"1\" class=\"dataframe\">\n",
       "  <thead>\n",
       "    <tr style=\"text-align: right;\">\n",
       "      <th></th>\n",
       "      <th>artist</th>\n",
       "      <th>country</th>\n",
       "      <th>award</th>\n",
       "      <th>death</th>\n",
       "      <th>gender</th>\n",
       "    </tr>\n",
       "  </thead>\n",
       "  <tbody>\n",
       "    <tr>\n",
       "      <th>0</th>\n",
       "      <td>2Baba</td>\n",
       "      <td>Nigeria</td>\n",
       "      <td>MTV Europe Music Awards</td>\n",
       "      <td>NaN</td>\n",
       "      <td>male</td>\n",
       "    </tr>\n",
       "    <tr>\n",
       "      <th>1</th>\n",
       "      <td>2Baba</td>\n",
       "      <td>Nigeria</td>\n",
       "      <td>جوائز إم تي في الموسيقى الأوروبية</td>\n",
       "      <td>NaN</td>\n",
       "      <td>male</td>\n",
       "    </tr>\n",
       "    <tr>\n",
       "      <th>2</th>\n",
       "      <td>2Baba</td>\n",
       "      <td>Nigeria</td>\n",
       "      <td>جوايز مزيكا ام تى ڤى اوروبا</td>\n",
       "      <td>NaN</td>\n",
       "      <td>male</td>\n",
       "    </tr>\n",
       "    <tr>\n",
       "      <th>3</th>\n",
       "      <td>2Baba</td>\n",
       "      <td>Nigeria</td>\n",
       "      <td>MTV Europe Music Awards</td>\n",
       "      <td>NaN</td>\n",
       "      <td>male</td>\n",
       "    </tr>\n",
       "    <tr>\n",
       "      <th>4</th>\n",
       "      <td>2Baba</td>\n",
       "      <td>Nigeria</td>\n",
       "      <td>MTV Europe Music Awards</td>\n",
       "      <td>NaN</td>\n",
       "      <td>male</td>\n",
       "    </tr>\n",
       "  </tbody>\n",
       "</table>\n",
       "</div>"
      ],
      "text/plain": [
       "  artist  country                              award death gender\n",
       "0  2Baba  Nigeria            MTV Europe Music Awards   NaN   male\n",
       "1  2Baba  Nigeria  جوائز إم تي في الموسيقى الأوروبية   NaN   male\n",
       "2  2Baba  Nigeria        جوايز مزيكا ام تى ڤى اوروبا   NaN   male\n",
       "3  2Baba  Nigeria            MTV Europe Music Awards   NaN   male\n",
       "4  2Baba  Nigeria            MTV Europe Music Awards   NaN   male"
      ]
     },
     "execution_count": 30,
     "metadata": {},
     "output_type": "execute_result"
    }
   ],
   "source": [
    "df1 = pd.read_csv(\"../data/wikidata_artists_part1.csv\")\n",
    "df2= pd.read_csv(\"../data/wikidata_artists_part2.csv\")\n",
    "\n",
    "df = pd.concat([df1, df2], ignore_index=True)\n",
    "df.head()"
   ]
  },
  {
   "cell_type": "code",
   "execution_count": 31,
   "id": "b48a776a",
   "metadata": {},
   "outputs": [
    {
     "name": "stdout",
     "output_type": "stream",
     "text": [
      "<class 'pandas.core.frame.DataFrame'>\n",
      "RangeIndex: 298061 entries, 0 to 298060\n",
      "Data columns (total 5 columns):\n",
      " #   Column   Non-Null Count   Dtype \n",
      "---  ------   --------------   ----- \n",
      " 0   artist   298061 non-null  object\n",
      " 1   country  264420 non-null  object\n",
      " 2   award    298061 non-null  object\n",
      " 3   death    110678 non-null  object\n",
      " 4   gender   298061 non-null  object\n",
      "dtypes: object(5)\n",
      "memory usage: 11.4+ MB\n"
     ]
    }
   ],
   "source": [
    "df.info()"
   ]
  },
  {
   "cell_type": "code",
   "execution_count": 32,
   "id": "c6d91f7d",
   "metadata": {},
   "outputs": [
    {
     "data": {
      "text/plain": [
       "artist          0\n",
       "country     33641\n",
       "award           0\n",
       "death      187383\n",
       "gender          0\n",
       "dtype: int64"
      ]
     },
     "execution_count": 32,
     "metadata": {},
     "output_type": "execute_result"
    }
   ],
   "source": [
    "df.isnull().sum()"
   ]
  },
  {
   "cell_type": "markdown",
   "id": "6442232d",
   "metadata": {},
   "source": [
    "La mayoría de los artistas no tienen fecha de fallecimiento registrada, y un porcentaje carece de pais de origen. "
   ]
  },
  {
   "cell_type": "code",
   "execution_count": 33,
   "id": "70655f20",
   "metadata": {},
   "outputs": [
    {
     "data": {
      "text/plain": [
       "country\n",
       "United States     80194\n",
       "United Kingdom    29477\n",
       "France            15172\n",
       "India             13717\n",
       "Soviet Union      11810\n",
       "                  ...  \n",
       "Haiti                 9\n",
       "Egypt                 6\n",
       "Ivory Coast           5\n",
       "Ethiopia              4\n",
       "Croatia               3\n",
       "Name: count, Length: 134, dtype: int64"
      ]
     },
     "execution_count": 33,
     "metadata": {},
     "output_type": "execute_result"
    }
   ],
   "source": [
    "df['country'].value_counts()"
   ]
  },
  {
   "cell_type": "markdown",
   "id": "4c0dc475",
   "metadata": {},
   "source": [
    "## Nulos"
   ]
  },
  {
   "cell_type": "markdown",
   "id": "c330fe4f",
   "metadata": {},
   "source": [
    "### Rellenar valores nulos en 'country' con 'Unknown'"
   ]
  },
  {
   "cell_type": "code",
   "execution_count": 34,
   "id": "5a79bee0",
   "metadata": {},
   "outputs": [],
   "source": [
    "df['country'] = df['country'].fillna('Unknown')"
   ]
  },
  {
   "cell_type": "markdown",
   "id": "67e9b869",
   "metadata": {},
   "source": [
    "### Convertir 'death' a booleano (True si no nulo, False si nulo) y luego a categorías"
   ]
  },
  {
   "cell_type": "code",
   "execution_count": null,
   "id": "d0d8d8df",
   "metadata": {},
   "outputs": [
    {
     "data": {
      "text/plain": [
       "death\n",
       "False    187383\n",
       "True     110678\n",
       "Name: count, dtype: int64"
      ]
     },
     "execution_count": 35,
     "metadata": {},
     "output_type": "execute_result"
    }
   ],
   "source": [
    "df['death'] = df['death'].notna()  \n",
    "df['death'].value_counts()"
   ]
  },
  {
   "cell_type": "code",
   "execution_count": 36,
   "id": "52282420",
   "metadata": {},
   "outputs": [
    {
     "data": {
      "text/plain": [
       "death\n",
       "alive       187383\n",
       "deceased    110678\n",
       "Name: count, dtype: int64"
      ]
     },
     "execution_count": 36,
     "metadata": {},
     "output_type": "execute_result"
    }
   ],
   "source": [
    "df['death'] = df['death'].map({False: 'alive', True: 'deceased'})\n",
    "df['death'].value_counts()"
   ]
  },
  {
   "cell_type": "code",
   "execution_count": 37,
   "id": "0651a1ea",
   "metadata": {},
   "outputs": [
    {
     "data": {
      "text/plain": [
       "artist     0\n",
       "country    0\n",
       "award      0\n",
       "death      0\n",
       "gender     0\n",
       "dtype: int64"
      ]
     },
     "execution_count": 37,
     "metadata": {},
     "output_type": "execute_result"
    }
   ],
   "source": [
    "df.isnull().sum()"
   ]
  },
  {
   "cell_type": "code",
   "execution_count": 38,
   "id": "485ce003",
   "metadata": {},
   "outputs": [
    {
     "data": {
      "text/html": [
       "<div>\n",
       "<style scoped>\n",
       "    .dataframe tbody tr th:only-of-type {\n",
       "        vertical-align: middle;\n",
       "    }\n",
       "\n",
       "    .dataframe tbody tr th {\n",
       "        vertical-align: top;\n",
       "    }\n",
       "\n",
       "    .dataframe thead th {\n",
       "        text-align: right;\n",
       "    }\n",
       "</style>\n",
       "<table border=\"1\" class=\"dataframe\">\n",
       "  <thead>\n",
       "    <tr style=\"text-align: right;\">\n",
       "      <th></th>\n",
       "      <th>artist</th>\n",
       "      <th>country</th>\n",
       "      <th>award</th>\n",
       "      <th>death</th>\n",
       "      <th>gender</th>\n",
       "    </tr>\n",
       "  </thead>\n",
       "  <tbody>\n",
       "    <tr>\n",
       "      <th>0</th>\n",
       "      <td>2Baba</td>\n",
       "      <td>Nigeria</td>\n",
       "      <td>MTV Europe Music Awards</td>\n",
       "      <td>alive</td>\n",
       "      <td>male</td>\n",
       "    </tr>\n",
       "    <tr>\n",
       "      <th>1</th>\n",
       "      <td>2Baba</td>\n",
       "      <td>Nigeria</td>\n",
       "      <td>جوائز إم تي في الموسيقى الأوروبية</td>\n",
       "      <td>alive</td>\n",
       "      <td>male</td>\n",
       "    </tr>\n",
       "    <tr>\n",
       "      <th>2</th>\n",
       "      <td>2Baba</td>\n",
       "      <td>Nigeria</td>\n",
       "      <td>جوايز مزيكا ام تى ڤى اوروبا</td>\n",
       "      <td>alive</td>\n",
       "      <td>male</td>\n",
       "    </tr>\n",
       "    <tr>\n",
       "      <th>3</th>\n",
       "      <td>2Baba</td>\n",
       "      <td>Nigeria</td>\n",
       "      <td>MTV Europe Music Awards</td>\n",
       "      <td>alive</td>\n",
       "      <td>male</td>\n",
       "    </tr>\n",
       "    <tr>\n",
       "      <th>4</th>\n",
       "      <td>2Baba</td>\n",
       "      <td>Nigeria</td>\n",
       "      <td>MTV Europe Music Awards</td>\n",
       "      <td>alive</td>\n",
       "      <td>male</td>\n",
       "    </tr>\n",
       "  </tbody>\n",
       "</table>\n",
       "</div>"
      ],
      "text/plain": [
       "  artist  country                              award  death gender\n",
       "0  2Baba  Nigeria            MTV Europe Music Awards  alive   male\n",
       "1  2Baba  Nigeria  جوائز إم تي في الموسيقى الأوروبية  alive   male\n",
       "2  2Baba  Nigeria        جوايز مزيكا ام تى ڤى اوروبا  alive   male\n",
       "3  2Baba  Nigeria            MTV Europe Music Awards  alive   male\n",
       "4  2Baba  Nigeria            MTV Europe Music Awards  alive   male"
      ]
     },
     "execution_count": 38,
     "metadata": {},
     "output_type": "execute_result"
    }
   ],
   "source": [
    "df.head()"
   ]
  },
  {
   "cell_type": "markdown",
   "id": "28c4b403",
   "metadata": {},
   "source": [
    "## Duplicados"
   ]
  },
  {
   "cell_type": "markdown",
   "id": "4baa44f6",
   "metadata": {},
   "source": [
    "### Eliminar duplicados completos"
   ]
  },
  {
   "cell_type": "code",
   "execution_count": 39,
   "id": "51ca58f1",
   "metadata": {},
   "outputs": [
    {
     "name": "stdout",
     "output_type": "stream",
     "text": [
      "              artist  country                                  award  death  \\\n",
      "3              2Baba  Nigeria                MTV Europe Music Awards  alive   \n",
      "4              2Baba  Nigeria                MTV Europe Music Awards  alive   \n",
      "5              2Baba  Nigeria                MTV Europe Music Awards  alive   \n",
      "6              2Baba  Nigeria                MTV Europe Music Awards  alive   \n",
      "7              2Baba  Nigeria                MTV Europe Music Awards  alive   \n",
      "...              ...      ...                                    ...    ...   \n",
      "298047  Étienne Daho   France                            藝術與文學勳章司令勳位  alive   \n",
      "298048  Étienne Daho   France     Commandeur des Arts et des Lettres  alive   \n",
      "298050  Étienne Daho   France  Командор ордена Мистецтв і літератури  alive   \n",
      "298055  Étienne Daho   France      Comendador das Artes e das Letras  alive   \n",
      "298059  Étienne Daho   France               Victoire de l'album rock  alive   \n",
      "\n",
      "       gender  \n",
      "3        male  \n",
      "4        male  \n",
      "5        male  \n",
      "6        male  \n",
      "7        male  \n",
      "...       ...  \n",
      "298047   male  \n",
      "298048   male  \n",
      "298050   male  \n",
      "298055   male  \n",
      "298059   male  \n",
      "\n",
      "[67071 rows x 5 columns]\n"
     ]
    }
   ],
   "source": [
    "duplicados = df.duplicated()\n",
    "\n",
    "print(df[duplicados])"
   ]
  },
  {
   "cell_type": "code",
   "execution_count": 40,
   "id": "41091ffb",
   "metadata": {},
   "outputs": [],
   "source": [
    "df = df.drop_duplicates()"
   ]
  },
  {
   "cell_type": "code",
   "execution_count": 41,
   "id": "14ca195b",
   "metadata": {},
   "outputs": [
    {
     "name": "stdout",
     "output_type": "stream",
     "text": [
      "Empty DataFrame\n",
      "Columns: [artist, country, award, death, gender]\n",
      "Index: []\n"
     ]
    }
   ],
   "source": [
    "duplicados = df.duplicated()\n",
    "\n",
    "print(df[duplicados])"
   ]
  },
  {
   "cell_type": "code",
   "execution_count": 42,
   "id": "e91b4c77",
   "metadata": {},
   "outputs": [
    {
     "data": {
      "text/plain": [
       "(230990, 5)"
      ]
     },
     "execution_count": 42,
     "metadata": {},
     "output_type": "execute_result"
    }
   ],
   "source": [
    "df.shape"
   ]
  },
  {
   "cell_type": "markdown",
   "id": "89dc1f00",
   "metadata": {},
   "source": [
    "### Contar artistas repetidos por 'artist'"
   ]
  },
  {
   "cell_type": "code",
   "execution_count": null,
   "id": "5de85c5b",
   "metadata": {},
   "outputs": [
    {
     "name": "stdout",
     "output_type": "stream",
     "text": [
      "=== Artistas duplicados por 'artists' ===\n",
      "Número de combinaciones duplicadas: 2608\n"
     ]
    },
    {
     "data": {
      "text/html": [
       "<div>\n",
       "<style scoped>\n",
       "    .dataframe tbody tr th:only-of-type {\n",
       "        vertical-align: middle;\n",
       "    }\n",
       "\n",
       "    .dataframe tbody tr th {\n",
       "        vertical-align: top;\n",
       "    }\n",
       "\n",
       "    .dataframe thead th {\n",
       "        text-align: right;\n",
       "    }\n",
       "</style>\n",
       "<table border=\"1\" class=\"dataframe\">\n",
       "  <thead>\n",
       "    <tr style=\"text-align: right;\">\n",
       "      <th></th>\n",
       "      <th>artist</th>\n",
       "      <th>counts</th>\n",
       "    </tr>\n",
       "  </thead>\n",
       "  <tbody>\n",
       "    <tr>\n",
       "      <th>0</th>\n",
       "      <td>Mstislav Rostropovich</td>\n",
       "      <td>3338</td>\n",
       "    </tr>\n",
       "    <tr>\n",
       "      <th>1</th>\n",
       "      <td>Daniel Barenboim</td>\n",
       "      <td>3303</td>\n",
       "    </tr>\n",
       "    <tr>\n",
       "      <th>2</th>\n",
       "      <td>Valery Gergiev</td>\n",
       "      <td>2940</td>\n",
       "    </tr>\n",
       "    <tr>\n",
       "      <th>3</th>\n",
       "      <td>Zubin Mehta</td>\n",
       "      <td>2892</td>\n",
       "    </tr>\n",
       "    <tr>\n",
       "      <th>4</th>\n",
       "      <td>Dmitri Shostakovich</td>\n",
       "      <td>2620</td>\n",
       "    </tr>\n",
       "    <tr>\n",
       "      <th>5</th>\n",
       "      <td>Vladimir Fedoseyev</td>\n",
       "      <td>1810</td>\n",
       "    </tr>\n",
       "    <tr>\n",
       "      <th>6</th>\n",
       "      <td>Yo-Yo Ma</td>\n",
       "      <td>1677</td>\n",
       "    </tr>\n",
       "    <tr>\n",
       "      <th>7</th>\n",
       "      <td>Frank Sinatra</td>\n",
       "      <td>1628</td>\n",
       "    </tr>\n",
       "    <tr>\n",
       "      <th>8</th>\n",
       "      <td>Plácido Domingo</td>\n",
       "      <td>1580</td>\n",
       "    </tr>\n",
       "    <tr>\n",
       "      <th>9</th>\n",
       "      <td>Nicodemus</td>\n",
       "      <td>1416</td>\n",
       "    </tr>\n",
       "    <tr>\n",
       "      <th>10</th>\n",
       "      <td>Yuri Temirkanov</td>\n",
       "      <td>1356</td>\n",
       "    </tr>\n",
       "    <tr>\n",
       "      <th>11</th>\n",
       "      <td>Stephen Hawking</td>\n",
       "      <td>1332</td>\n",
       "    </tr>\n",
       "    <tr>\n",
       "      <th>12</th>\n",
       "      <td>Igor Krutoy</td>\n",
       "      <td>1260</td>\n",
       "    </tr>\n",
       "    <tr>\n",
       "      <th>13</th>\n",
       "      <td>John Williams</td>\n",
       "      <td>1259</td>\n",
       "    </tr>\n",
       "    <tr>\n",
       "      <th>14</th>\n",
       "      <td>Arvo Pärt</td>\n",
       "      <td>1254</td>\n",
       "    </tr>\n",
       "    <tr>\n",
       "      <th>15</th>\n",
       "      <td>Vladimir Horowitz</td>\n",
       "      <td>1242</td>\n",
       "    </tr>\n",
       "    <tr>\n",
       "      <th>16</th>\n",
       "      <td>Claudio Abbado</td>\n",
       "      <td>1222</td>\n",
       "    </tr>\n",
       "    <tr>\n",
       "      <th>17</th>\n",
       "      <td>Dietrich Fischer-Dieskau</td>\n",
       "      <td>1176</td>\n",
       "    </tr>\n",
       "    <tr>\n",
       "      <th>18</th>\n",
       "      <td>Hans Zimmer</td>\n",
       "      <td>1150</td>\n",
       "    </tr>\n",
       "    <tr>\n",
       "      <th>19</th>\n",
       "      <td>John Adams</td>\n",
       "      <td>1112</td>\n",
       "    </tr>\n",
       "  </tbody>\n",
       "</table>\n",
       "</div>"
      ],
      "text/plain": [
       "                      artist  counts\n",
       "0      Mstislav Rostropovich    3338\n",
       "1           Daniel Barenboim    3303\n",
       "2             Valery Gergiev    2940\n",
       "3                Zubin Mehta    2892\n",
       "4        Dmitri Shostakovich    2620\n",
       "5         Vladimir Fedoseyev    1810\n",
       "6                   Yo-Yo Ma    1677\n",
       "7              Frank Sinatra    1628\n",
       "8            Plácido Domingo    1580\n",
       "9                  Nicodemus    1416\n",
       "10           Yuri Temirkanov    1356\n",
       "11           Stephen Hawking    1332\n",
       "12               Igor Krutoy    1260\n",
       "13             John Williams    1259\n",
       "14                 Arvo Pärt    1254\n",
       "15         Vladimir Horowitz    1242\n",
       "16            Claudio Abbado    1222\n",
       "17  Dietrich Fischer-Dieskau    1176\n",
       "18               Hans Zimmer    1150\n",
       "19                John Adams    1112"
      ]
     },
     "execution_count": 15,
     "metadata": {},
     "output_type": "execute_result"
    }
   ],
   "source": [
    "repeaated_name = df.value_counts(subset=['artist']).reset_index(name='counts')\n",
    "\n",
    "\n",
    "repeated = repeaated_name[repeaated_name['counts'] > 1]\n",
    "\n",
    "\n",
    "print(\"=== Artistas duplicados por 'artists' ===\")\n",
    "print(f\"Número de combinaciones duplicadas: {len(repeated)}\")\n",
    "repeated.head(20)"
   ]
  },
  {
   "cell_type": "markdown",
   "id": "f79a5105",
   "metadata": {},
   "source": [
    "3,110 artistas aparecen más de una vez, con Mstislav Rostropovich liderando (3,332 entradas).\n",
    "Esto sucede porque hay Artistas con muchos premios, incluso el mismo premio en diferentes idiomas."
   ]
  },
  {
   "cell_type": "markdown",
   "id": "add0a7ba",
   "metadata": {},
   "source": [
    "## Filtrar premios en inglés"
   ]
  },
  {
   "cell_type": "code",
   "execution_count": null,
   "id": "abe2b309",
   "metadata": {},
   "outputs": [
    {
     "name": "stderr",
     "output_type": "stream",
     "text": [
      "🔍 Filtrando premios válidos: 100%|██████████| 230990/230990 [01:51<00:00, 2066.70it/s] \n"
     ]
    },
    {
     "data": {
      "text/html": [
       "<div>\n",
       "<style scoped>\n",
       "    .dataframe tbody tr th:only-of-type {\n",
       "        vertical-align: middle;\n",
       "    }\n",
       "\n",
       "    .dataframe tbody tr th {\n",
       "        vertical-align: top;\n",
       "    }\n",
       "\n",
       "    .dataframe thead th {\n",
       "        text-align: right;\n",
       "    }\n",
       "</style>\n",
       "<table border=\"1\" class=\"dataframe\">\n",
       "  <thead>\n",
       "    <tr style=\"text-align: right;\">\n",
       "      <th></th>\n",
       "      <th>artist</th>\n",
       "      <th>country</th>\n",
       "      <th>award</th>\n",
       "      <th>death</th>\n",
       "      <th>gender</th>\n",
       "    </tr>\n",
       "  </thead>\n",
       "  <tbody>\n",
       "    <tr>\n",
       "      <th>77</th>\n",
       "      <td>1995</td>\n",
       "      <td>Unknown</td>\n",
       "      <td>Victory of the album of urban musics</td>\n",
       "      <td>alive</td>\n",
       "      <td>Unknown</td>\n",
       "    </tr>\n",
       "    <tr>\n",
       "      <th>86</th>\n",
       "      <td>50 Cent</td>\n",
       "      <td>United States</td>\n",
       "      <td>Billboard Music Awards</td>\n",
       "      <td>alive</td>\n",
       "      <td>male</td>\n",
       "    </tr>\n",
       "    <tr>\n",
       "      <th>90</th>\n",
       "      <td>50 Cent</td>\n",
       "      <td>United States</td>\n",
       "      <td>Billboard Music Award</td>\n",
       "      <td>alive</td>\n",
       "      <td>male</td>\n",
       "    </tr>\n",
       "    <tr>\n",
       "      <th>129</th>\n",
       "      <td>A Tribe Called Quest</td>\n",
       "      <td>Unknown</td>\n",
       "      <td>Rock and Roll Hall of Fame</td>\n",
       "      <td>alive</td>\n",
       "      <td>Unknown</td>\n",
       "    </tr>\n",
       "    <tr>\n",
       "      <th>304</th>\n",
       "      <td>50 Cent</td>\n",
       "      <td>United States</td>\n",
       "      <td>star on Hollywood Walk of Fame</td>\n",
       "      <td>alive</td>\n",
       "      <td>male</td>\n",
       "    </tr>\n",
       "  </tbody>\n",
       "</table>\n",
       "</div>"
      ],
      "text/plain": [
       "                   artist        country  \\\n",
       "77                   1995        Unknown   \n",
       "86                50 Cent  United States   \n",
       "90                50 Cent  United States   \n",
       "129  A Tribe Called Quest        Unknown   \n",
       "304               50 Cent  United States   \n",
       "\n",
       "                                    award  death   gender  \n",
       "77   Victory of the album of urban musics  alive  Unknown  \n",
       "86                 Billboard Music Awards  alive     male  \n",
       "90                  Billboard Music Award  alive     male  \n",
       "129            Rock and Roll Hall of Fame  alive  Unknown  \n",
       "304        star on Hollywood Walk of Fame  alive     male  "
      ]
     },
     "execution_count": 16,
     "metadata": {},
     "output_type": "execute_result"
    }
   ],
   "source": [
    "palabras_no_ingles = [\n",
    "    \"stär um\", \"para\", \"prêmio\", \"premio\", \"prix\", \"voor\", \"de\", \"sus\", \"la\", \"das\", \"del\", \"der\", \"des\",\n",
    "    \"el\", \"le\", \"pe\", \"stella\", \"sulla\", \"nagroda\", \"carriera\", \"réalta\", \"premi\", \"xelata\",\n",
    "    \"tähti\", \"æresdoktor\", \"famen\", \"doktor\", \"oriel\", \"anfarwolion\", \"auf dem\", \"or merit\", \"kpakpando\", \"stäär üüb\"\n",
    "]\n",
    "\n",
    "award_lang_cache = {}\n",
    "\n",
    "def is_english_filtered(text):\n",
    "    \"\"\"Determina si un texto está en inglés y no contiene palabras comunes de otros idiomas.\n",
    "\n",
    "    Args:\n",
    "        text: Texto a evaluar (str).\n",
    "\n",
    "    Returns:\n",
    "        bool: True si es inglés y no contiene palabras no inglesas, False en caso contrario.\n",
    "    \"\"\"\n",
    "    text_l = str(text).lower().strip()\n",
    "    if text not in award_lang_cache:\n",
    "        try:\n",
    "            award_lang_cache[text] = detect(text)\n",
    "        except:\n",
    "            award_lang_cache[text] = \"unknown\"\n",
    "    if award_lang_cache[text] != \"en\":\n",
    "        return False\n",
    "    for palabra in palabras_no_ingles:\n",
    "        if palabra in text_l:\n",
    "            return False\n",
    "    return True\n",
    "\n",
    "\n",
    "tqdm.pandas(desc=\"Filtrando premios válidos\")\n",
    "df = df[df['award'].notna() & df['award'].progress_apply(is_english_filtered)]\n",
    "df.head()\n"
   ]
  },
  {
   "cell_type": "code",
   "execution_count": 17,
   "id": "d6d9c1ae",
   "metadata": {},
   "outputs": [
    {
     "data": {
      "text/plain": [
       "(6293, 5)"
      ]
     },
     "execution_count": 17,
     "metadata": {},
     "output_type": "execute_result"
    }
   ],
   "source": [
    "df.shape"
   ]
  },
  {
   "cell_type": "markdown",
   "id": "98f91ef1",
   "metadata": {},
   "source": [
    "El filtrado eliminó las filas que no cumplian con el idioma, enfocándose en premios en inglés y reduciendo ruido multilingüe."
   ]
  },
  {
   "cell_type": "markdown",
   "id": "cbd146f0",
   "metadata": {},
   "source": [
    "### Agrupar premios y creacion de nuevas columnas"
   ]
  },
  {
   "cell_type": "code",
   "execution_count": null,
   "id": "0141a0f7",
   "metadata": {},
   "outputs": [
    {
     "name": "stdout",
     "output_type": "stream",
     "text": [
      "                 artist        country  death   gender  \\\n",
      "0                  1995        Unknown  alive  Unknown   \n",
      "1   5 Seconds of Summer        Unknown  alive  Unknown   \n",
      "2               50 Cent  United States  alive     male   \n",
      "3  A Tribe Called Quest        Unknown  alive  Unknown   \n",
      "4        A. Kanyakumari          India  alive   female   \n",
      "\n",
      "                                               award  award_count  won_grammy  \n",
      "0               Victory of the album of urban musics            1       False  \n",
      "1  American Music Award for New Artist of the Yea...            2       False  \n",
      "2  Billboard Music Award; Billboard Music Awards;...            4       False  \n",
      "3  BRIT Awards/International Group; Brit Award fo...            4       False  \n",
      "4                                 Padma Shri in arts            1       False  \n"
     ]
    }
   ],
   "source": [
    "\n",
    "def valor_mas_comun(serie):\n",
    "    \"\"\"Devuelve el valor más común en una serie; si no hay moda, toma el primer no nulo.\n",
    "\n",
    "    Args:\n",
    "        serie: Serie de pandas (pd.Series).\n",
    "\n",
    "    Returns:\n",
    "        any: Valor más común o primer valor no nulo.\n",
    "    \"\"\"\n",
    "    return serie.mode().iloc[0] if not serie.mode().empty else serie.dropna().iloc[0]\n",
    "\n",
    "# Agrupar por artista y consolidar información\n",
    "agrupado = df.groupby(\"artist\").agg({\n",
    "    \"country\": valor_mas_comun,\n",
    "    \"death\": valor_mas_comun,\n",
    "    \"gender\": valor_mas_comun,\n",
    "    \"award\": lambda x: sorted(set(x))\n",
    "}).reset_index()\n",
    "\n",
    "\n",
    "agrupado[\"award_count\"] = agrupado[\"award\"].apply(len)\n",
    "\n",
    "\n",
    "agrupado[\"won_grammy\"] = agrupado[\"award\"].apply(\n",
    "    lambda premios: any(\"grammy\" in premio.lower() for premio in premios)\n",
    ")\n",
    "\n",
    "\n",
    "agrupado[\"award\"] = agrupado[\"award\"].apply(lambda x: \"; \".join(x))\n",
    "\n",
    "df = agrupado\n",
    "print(df.head())\n",
    "\n"
   ]
  },
  {
   "cell_type": "code",
   "execution_count": 19,
   "id": "396907e9",
   "metadata": {},
   "outputs": [
    {
     "data": {
      "text/plain": [
       "(1632, 7)"
      ]
     },
     "execution_count": 19,
     "metadata": {},
     "output_type": "execute_result"
    }
   ],
   "source": [
    "df.shape"
   ]
  },
  {
   "cell_type": "markdown",
   "id": "c5c10161",
   "metadata": {},
   "source": [
    "La consolidación eliminó redundancias por artista, creando un dataset compacto con información agregada."
   ]
  },
  {
   "cell_type": "markdown",
   "id": "9d16e5fe",
   "metadata": {},
   "source": [
    "## Visualizaciones "
   ]
  },
  {
   "cell_type": "code",
   "execution_count": 20,
   "id": "9de75084",
   "metadata": {},
   "outputs": [
    {
     "data": {
      "image/png": "[encoded data removed]",
      "text/plain": [
       "<Figure size 1000x600 with 1 Axes>"
      ]
     },
     "metadata": {},
     "output_type": "display_data"
    }
   ],
   "source": [
    "plt.figure(figsize=(10, 6))\n",
    "sns.countplot(x='country', data=df, order=df['country'].value_counts().index[:10])\n",
    "plt.title('Top 10 Países de Origen')\n",
    "plt.xticks(rotation=45)\n",
    "plt.show()"
   ]
  },
  {
   "cell_type": "markdown",
   "id": "052d3366",
   "metadata": {},
   "source": [
    "El sesgo hacia EE.UU. y Reino Unido podría subrepresentar la diversidad musical global, especialmente de regiones como América Latina, Asia o África, cuyos artistas podrían estar menos documentados o premiados en contextos anglosajones.\n",
    "La alta presencia de \"Unknown\" limita el análisis geográfico y sugiere una oportunidad para enriquecer el dataset con otras fuentes."
   ]
  },
  {
   "cell_type": "code",
   "execution_count": 22,
   "id": "dcf92a44",
   "metadata": {},
   "outputs": [
    {
     "data": {
      "text/plain": [
       "<Axes: title={'center': 'Distribución de premios por artista'}, ylabel='Frequency'>"
      ]
     },
     "execution_count": 22,
     "metadata": {},
     "output_type": "execute_result"
    },
    {
     "data": {
      "image/png": "[encoded data removed]",
      "text/plain": [
       "<Figure size 640x480 with 1 Axes>"
      ]
     },
     "metadata": {},
     "output_type": "display_data"
    }
   ],
   "source": [
    "df[\"award_count\"].plot.hist(bins=20, title=\"Distribución de premios por artista\")\n"
   ]
  },
  {
   "cell_type": "markdown",
   "id": "4baa2ced",
   "metadata": {},
   "source": [
    "La cola larga sugiere que un pequeño grupo de artistas \"superestrella\" acumula reconocimientos, mientras que la mayoría son reconocidos esporádicamente.\n",
    "El pico en 1-2 premios podría incluir premios comunes como \"Billboard Music Award\" o \"American Music Award\"."
   ]
  },
  {
   "cell_type": "code",
   "execution_count": 26,
   "id": "5f4006a7",
   "metadata": {},
   "outputs": [
    {
     "data": {
      "text/plain": [
       "<Axes: title={'center': 'Distribución de artistas según premios Grammy'}, ylabel='count'>"
      ]
     },
     "execution_count": 26,
     "metadata": {},
     "output_type": "execute_result"
    },
    {
     "data": {
      "image/png": "[encoded data removed]",
      "text/plain": [
       "<Figure size 640x480 with 1 Axes>"
      ]
     },
     "metadata": {},
     "output_type": "display_data"
    }
   ],
   "source": [
    "df[\"won_grammy\"].value_counts().plot.pie(autopct='%1.1f%%', labels=[\"Sin Grammy\", \"Ganó Grammy\"], title=\"Distribución de artistas según premios Grammy\")\n"
   ]
  },
  {
   "cell_type": "markdown",
   "id": "e6a8ca2b",
   "metadata": {},
   "source": [
    "La minoría con Grammys sugiere que otros premios (Billboard, American Music Awards) son más frecuentes entre estos artistas."
   ]
  },
  {
   "cell_type": "code",
   "execution_count": null,
   "id": "56ba5198",
   "metadata": {},
   "outputs": [
    {
     "data": {
      "image/png": "[encoded data removed]",
      "text/plain": [
       "<Figure size 800x800 with 1 Axes>"
      ]
     },
     "metadata": {},
     "output_type": "display_data"
    }
   ],
   "source": [
    "\n",
    "gender_counts = df[df[\"gender\"] != \"Unknown\"][\"gender\"].value_counts()\n",
    "\n",
    "\n",
    "colors = [\"#90caf9\", \"#ffca28\", \"#f48fb1\", \"#a1887f\", \"#ce93d8\"]\n",
    "\n",
    "\n",
    "plt.figure(figsize=(8, 8))\n",
    "plt.pie(\n",
    "    gender_counts,\n",
    "    labels=None,  \n",
    "    autopct='%1.1f%%',\n",
    "    startangle=90,\n",
    "    colors=colors,\n",
    "    textprops={'fontsize': 12}\n",
    ")\n",
    "plt.title(\"Distribución por género (excluyendo 'Unknown')\", fontsize=14)\n",
    "plt.axis(\"equal\")\n",
    "\n",
    "\n",
    "plt.legend(\n",
    "    labels=gender_counts.index,\n",
    "    loc=\"center left\",\n",
    "    bbox_to_anchor=(1, 0.5),\n",
    "    title=\"Género\"\n",
    ")\n",
    "\n",
    "plt.tight_layout()\n",
    "plt.show()\n",
    "\n"
   ]
  },
  {
   "cell_type": "markdown",
   "id": "e9310ac8",
   "metadata": {},
   "source": [
    "La gráfica muestra una distribución de género muy desigual: los hombres (male) representan el 71.6%, las mujeres (female) 27.8%, y las personas no binarias solo 0.5%. Las categorías \"trans woman\" y \"genderfluid\" no tienen porcentajes visibles, lo que sugiere que su representación es mínima o nula."
   ]
  }
 ],
 "metadata": {
  "kernelspec": {
   "display_name": "venv",
   "language": "python",
   "name": "python3"
  },
  "language_info": {
   "codemirror_mode": {
    "name": "ipython",
    "version": 3
   },
   "file_extension": ".py",
   "mimetype": "text/x-python",
   "name": "python",
   "nbconvert_exporter": "python",
   "pygments_lexer": "ipython3",
   "version": "3.11.4"
  }
 },
 "nbformat": 4,
 "nbformat_minor": 5
}
