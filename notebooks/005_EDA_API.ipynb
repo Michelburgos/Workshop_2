{
 "cells": [
  {
   "cell_type": "code",
   "execution_count": 2,
   "id": "bae5be90",
   "metadata": {},
   "outputs": [],
   "source": [
    "import pandas as pd\n",
    "import matplotlib.pyplot as plt\n",
    "import seaborn as sns"
   ]
  },
  {
   "cell_type": "markdown",
   "id": "9633e67b",
   "metadata": {},
   "source": [
    "## Info"
   ]
  },
  {
   "cell_type": "code",
   "execution_count": 143,
   "id": "307e0511",
   "metadata": {},
   "outputs": [
    {
     "data": {
      "text/html": [
       "<div>\n",
       "<style scoped>\n",
       "    .dataframe tbody tr th:only-of-type {\n",
       "        vertical-align: middle;\n",
       "    }\n",
       "\n",
       "    .dataframe tbody tr th {\n",
       "        vertical-align: top;\n",
       "    }\n",
       "\n",
       "    .dataframe thead th {\n",
       "        text-align: right;\n",
       "    }\n",
       "</style>\n",
       "<table border=\"1\" class=\"dataframe\">\n",
       "  <thead>\n",
       "    <tr style=\"text-align: right;\">\n",
       "      <th></th>\n",
       "      <th>artist</th>\n",
       "      <th>country</th>\n",
       "      <th>type</th>\n",
       "      <th>genre</th>\n",
       "      <th>award</th>\n",
       "      <th>birth</th>\n",
       "      <th>death</th>\n",
       "      <th>gender</th>\n",
       "    </tr>\n",
       "  </thead>\n",
       "  <tbody>\n",
       "    <tr>\n",
       "      <th>0</th>\n",
       "      <td>13</td>\n",
       "      <td>NaN</td>\n",
       "      <td>album</td>\n",
       "      <td>new wave</td>\n",
       "      <td>álbum</td>\n",
       "      <td>NaN</td>\n",
       "      <td>NaN</td>\n",
       "      <td>Unknown</td>\n",
       "    </tr>\n",
       "    <tr>\n",
       "      <th>1</th>\n",
       "      <td>13</td>\n",
       "      <td>NaN</td>\n",
       "      <td>album</td>\n",
       "      <td>new wave</td>\n",
       "      <td>album de diamant du SNEP</td>\n",
       "      <td>NaN</td>\n",
       "      <td>NaN</td>\n",
       "      <td>Unknown</td>\n",
       "    </tr>\n",
       "    <tr>\n",
       "      <th>2</th>\n",
       "      <td>13</td>\n",
       "      <td>NaN</td>\n",
       "      <td>album</td>\n",
       "      <td>new wave</td>\n",
       "      <td>תואר יהלום מ-SNEP</td>\n",
       "      <td>NaN</td>\n",
       "      <td>NaN</td>\n",
       "      <td>Unknown</td>\n",
       "    </tr>\n",
       "    <tr>\n",
       "      <th>3</th>\n",
       "      <td>13</td>\n",
       "      <td>NaN</td>\n",
       "      <td>album</td>\n",
       "      <td>new wave</td>\n",
       "      <td>diamantalbum enligt SNEP</td>\n",
       "      <td>NaN</td>\n",
       "      <td>NaN</td>\n",
       "      <td>Unknown</td>\n",
       "    </tr>\n",
       "    <tr>\n",
       "      <th>4</th>\n",
       "      <td>13</td>\n",
       "      <td>NaN</td>\n",
       "      <td>album</td>\n",
       "      <td>new wave</td>\n",
       "      <td>diamantni album SNEP</td>\n",
       "      <td>NaN</td>\n",
       "      <td>NaN</td>\n",
       "      <td>Unknown</td>\n",
       "    </tr>\n",
       "  </tbody>\n",
       "</table>\n",
       "</div>"
      ],
      "text/plain": [
       "  artist country   type     genre                     award birth death  \\\n",
       "0     13     NaN  album  new wave                     álbum   NaN   NaN   \n",
       "1     13     NaN  album  new wave  album de diamant du SNEP   NaN   NaN   \n",
       "2     13     NaN  album  new wave         תואר יהלום מ-SNEP   NaN   NaN   \n",
       "3     13     NaN  album  new wave  diamantalbum enligt SNEP   NaN   NaN   \n",
       "4     13     NaN  album  new wave      diamantni album SNEP   NaN   NaN   \n",
       "\n",
       "    gender  \n",
       "0  Unknown  \n",
       "1  Unknown  \n",
       "2  Unknown  \n",
       "3  Unknown  \n",
       "4  Unknown  "
      ]
     },
     "execution_count": 143,
     "metadata": {},
     "output_type": "execute_result"
    }
   ],
   "source": [
    "df1 = pd.read_csv(\"../data/wikidata_artists_part1.csv\")\n",
    "df2= pd.read_csv(\"../data/wikidata_artists_part2.csv\")\n",
    "\n",
    "df = pd.concat([df1, df2], ignore_index=True)\n",
    "df.head()"
   ]
  },
  {
   "cell_type": "code",
   "execution_count": 144,
   "id": "b48a776a",
   "metadata": {},
   "outputs": [
    {
     "name": "stdout",
     "output_type": "stream",
     "text": [
      "<class 'pandas.core.frame.DataFrame'>\n",
      "RangeIndex: 1029557 entries, 0 to 1029556\n",
      "Data columns (total 8 columns):\n",
      " #   Column   Non-Null Count    Dtype \n",
      "---  ------   --------------    ----- \n",
      " 0   artist   1029557 non-null  object\n",
      " 1   country  867348 non-null   object\n",
      " 2   type     1029557 non-null  object\n",
      " 3   genre    926248 non-null   object\n",
      " 4   award    1029557 non-null  object\n",
      " 5   birth    868474 non-null   object\n",
      " 6   death    335799 non-null   object\n",
      " 7   gender   1029557 non-null  object\n",
      "dtypes: object(8)\n",
      "memory usage: 62.8+ MB\n"
     ]
    }
   ],
   "source": [
    "df.info()"
   ]
  },
  {
   "cell_type": "code",
   "execution_count": 145,
   "id": "c6d91f7d",
   "metadata": {},
   "outputs": [
    {
     "data": {
      "text/plain": [
       "artist          0\n",
       "country    162209\n",
       "type            0\n",
       "genre      103309\n",
       "award           0\n",
       "birth      161083\n",
       "death      693758\n",
       "gender          0\n",
       "dtype: int64"
      ]
     },
     "execution_count": 145,
     "metadata": {},
     "output_type": "execute_result"
    }
   ],
   "source": [
    "df.isnull().sum()"
   ]
  },
  {
   "cell_type": "code",
   "execution_count": 146,
   "id": "70655f20",
   "metadata": {},
   "outputs": [
    {
     "data": {
      "text/plain": [
       "country\n",
       "United States     367675\n",
       "United Kingdom    100718\n",
       "Canada             41333\n",
       "France             38695\n",
       "Soviet Union       37632\n",
       "                   ...  \n",
       "Troy                   9\n",
       "Georgia                9\n",
       "Ethiopia               8\n",
       "Ivory Coast            5\n",
       "Croatia                3\n",
       "Name: count, Length: 139, dtype: int64"
      ]
     },
     "execution_count": 146,
     "metadata": {},
     "output_type": "execute_result"
    }
   ],
   "source": [
    "df['country'].value_counts()"
   ]
  },
  {
   "cell_type": "markdown",
   "id": "4c0dc475",
   "metadata": {},
   "source": [
    "## Nulos"
   ]
  },
  {
   "cell_type": "code",
   "execution_count": 147,
   "id": "5a79bee0",
   "metadata": {},
   "outputs": [],
   "source": [
    "df['country'] = df['country'].fillna('Unknown')"
   ]
  },
  {
   "cell_type": "code",
   "execution_count": 148,
   "id": "d0d8d8df",
   "metadata": {},
   "outputs": [
    {
     "data": {
      "text/plain": [
       "death\n",
       "False    693758\n",
       "True     335799\n",
       "Name: count, dtype: int64"
      ]
     },
     "execution_count": 148,
     "metadata": {},
     "output_type": "execute_result"
    }
   ],
   "source": [
    "df['death'] = df['death'].notna()  # Convierte valores no nulos en True y los nulos en False\n",
    "df['death'].value_counts()"
   ]
  },
  {
   "cell_type": "code",
   "execution_count": 149,
   "id": "52282420",
   "metadata": {},
   "outputs": [
    {
     "data": {
      "text/plain": [
       "death\n",
       "alive       693758\n",
       "deceased    335799\n",
       "Name: count, dtype: int64"
      ]
     },
     "execution_count": 149,
     "metadata": {},
     "output_type": "execute_result"
    }
   ],
   "source": [
    "df['death'] = df['death'].map({False: 'alive', True: 'deceased'})\n",
    "df['death'].value_counts()"
   ]
  },
  {
   "cell_type": "code",
   "execution_count": 150,
   "id": "538b4fa4",
   "metadata": {},
   "outputs": [
    {
     "data": {
      "text/plain": [
       "genre\n",
       "classical music             64448\n",
       "pop music                   61765\n",
       "rock music                  39150\n",
       "opera                       37079\n",
       "jazz                        30859\n",
       "                            ...  \n",
       "short film                      1\n",
       "psychological drama film        1\n",
       "true crime                      1\n",
       "history book                    1\n",
       "essay film                      1\n",
       "Name: count, Length: 812, dtype: int64"
      ]
     },
     "execution_count": 150,
     "metadata": {},
     "output_type": "execute_result"
    }
   ],
   "source": [
    "df['genre'].value_counts()"
   ]
  },
  {
   "cell_type": "code",
   "execution_count": 151,
   "id": "1a9ff46a",
   "metadata": {},
   "outputs": [],
   "source": [
    "df['birth'] = df['birth'].fillna('Unknown')"
   ]
  },
  {
   "cell_type": "code",
   "execution_count": 152,
   "id": "ba778c59",
   "metadata": {},
   "outputs": [],
   "source": [
    "df = df.drop(columns= ['genre'])"
   ]
  },
  {
   "cell_type": "code",
   "execution_count": 153,
   "id": "0651a1ea",
   "metadata": {},
   "outputs": [
    {
     "data": {
      "text/plain": [
       "artist     0\n",
       "country    0\n",
       "type       0\n",
       "award      0\n",
       "birth      0\n",
       "death      0\n",
       "gender     0\n",
       "dtype: int64"
      ]
     },
     "execution_count": 153,
     "metadata": {},
     "output_type": "execute_result"
    }
   ],
   "source": [
    "df.isnull().sum()"
   ]
  },
  {
   "cell_type": "code",
   "execution_count": 154,
   "id": "485ce003",
   "metadata": {},
   "outputs": [
    {
     "data": {
      "text/html": [
       "<div>\n",
       "<style scoped>\n",
       "    .dataframe tbody tr th:only-of-type {\n",
       "        vertical-align: middle;\n",
       "    }\n",
       "\n",
       "    .dataframe tbody tr th {\n",
       "        vertical-align: top;\n",
       "    }\n",
       "\n",
       "    .dataframe thead th {\n",
       "        text-align: right;\n",
       "    }\n",
       "</style>\n",
       "<table border=\"1\" class=\"dataframe\">\n",
       "  <thead>\n",
       "    <tr style=\"text-align: right;\">\n",
       "      <th></th>\n",
       "      <th>artist</th>\n",
       "      <th>country</th>\n",
       "      <th>type</th>\n",
       "      <th>award</th>\n",
       "      <th>birth</th>\n",
       "      <th>death</th>\n",
       "      <th>gender</th>\n",
       "    </tr>\n",
       "  </thead>\n",
       "  <tbody>\n",
       "    <tr>\n",
       "      <th>0</th>\n",
       "      <td>13</td>\n",
       "      <td>Unknown</td>\n",
       "      <td>album</td>\n",
       "      <td>álbum</td>\n",
       "      <td>Unknown</td>\n",
       "      <td>alive</td>\n",
       "      <td>Unknown</td>\n",
       "    </tr>\n",
       "    <tr>\n",
       "      <th>1</th>\n",
       "      <td>13</td>\n",
       "      <td>Unknown</td>\n",
       "      <td>album</td>\n",
       "      <td>album de diamant du SNEP</td>\n",
       "      <td>Unknown</td>\n",
       "      <td>alive</td>\n",
       "      <td>Unknown</td>\n",
       "    </tr>\n",
       "    <tr>\n",
       "      <th>2</th>\n",
       "      <td>13</td>\n",
       "      <td>Unknown</td>\n",
       "      <td>album</td>\n",
       "      <td>תואר יהלום מ-SNEP</td>\n",
       "      <td>Unknown</td>\n",
       "      <td>alive</td>\n",
       "      <td>Unknown</td>\n",
       "    </tr>\n",
       "    <tr>\n",
       "      <th>3</th>\n",
       "      <td>13</td>\n",
       "      <td>Unknown</td>\n",
       "      <td>album</td>\n",
       "      <td>diamantalbum enligt SNEP</td>\n",
       "      <td>Unknown</td>\n",
       "      <td>alive</td>\n",
       "      <td>Unknown</td>\n",
       "    </tr>\n",
       "    <tr>\n",
       "      <th>4</th>\n",
       "      <td>13</td>\n",
       "      <td>Unknown</td>\n",
       "      <td>album</td>\n",
       "      <td>diamantni album SNEP</td>\n",
       "      <td>Unknown</td>\n",
       "      <td>alive</td>\n",
       "      <td>Unknown</td>\n",
       "    </tr>\n",
       "  </tbody>\n",
       "</table>\n",
       "</div>"
      ],
      "text/plain": [
       "  artist  country   type                     award    birth  death   gender\n",
       "0     13  Unknown  album                     álbum  Unknown  alive  Unknown\n",
       "1     13  Unknown  album  album de diamant du SNEP  Unknown  alive  Unknown\n",
       "2     13  Unknown  album         תואר יהלום מ-SNEP  Unknown  alive  Unknown\n",
       "3     13  Unknown  album  diamantalbum enligt SNEP  Unknown  alive  Unknown\n",
       "4     13  Unknown  album      diamantni album SNEP  Unknown  alive  Unknown"
      ]
     },
     "execution_count": 154,
     "metadata": {},
     "output_type": "execute_result"
    }
   ],
   "source": [
    "df.head()"
   ]
  },
  {
   "cell_type": "markdown",
   "id": "28c4b403",
   "metadata": {},
   "source": [
    "## Duplicados"
   ]
  },
  {
   "cell_type": "code",
   "execution_count": 155,
   "id": "51ca58f1",
   "metadata": {},
   "outputs": [
    {
     "name": "stdout",
     "output_type": "stream",
     "text": [
      "               artist  country   type  \\\n",
      "6                  13  Unknown  album   \n",
      "7                  13  Unknown  album   \n",
      "8                  13  Unknown  album   \n",
      "9                  13  Unknown  album   \n",
      "10                 13  Unknown  album   \n",
      "...               ...      ...    ...   \n",
      "1029531  Étienne Daho   France  human   \n",
      "1029532  Étienne Daho   France  human   \n",
      "1029533  Étienne Daho   France  human   \n",
      "1029534  Étienne Daho   France  human   \n",
      "1029535  Étienne Daho   France  human   \n",
      "\n",
      "                                                     award  \\\n",
      "6                                                    álbum   \n",
      "7                                 album de diamant du SNEP   \n",
      "8                                        תואר יהלום מ-SNEP   \n",
      "9                                 diamantalbum enligt SNEP   \n",
      "10                                    diamantni album SNEP   \n",
      "...                                                    ...   \n",
      "1029531                         מפקד מסדר האמנויות והספרות   \n",
      "1029532  Francia Köztársaság Művészeti és Irodalmi Rend...   \n",
      "1029533        Արվեստների և գրականության շքանշանի կոմանդոր   \n",
      "1029534  Արուեստներու եւ գրականութեան «հրամանատար»ի  շք...   \n",
      "1029535                 Commandeur des Arts et des Lettres   \n",
      "\n",
      "                        birth  death   gender  \n",
      "6                     Unknown  alive  Unknown  \n",
      "7                     Unknown  alive  Unknown  \n",
      "8                     Unknown  alive  Unknown  \n",
      "9                     Unknown  alive  Unknown  \n",
      "10                    Unknown  alive  Unknown  \n",
      "...                       ...    ...      ...  \n",
      "1029531  1956-01-14T00:00:00Z  alive     male  \n",
      "1029532  1956-01-14T00:00:00Z  alive     male  \n",
      "1029533  1956-01-14T00:00:00Z  alive     male  \n",
      "1029534  1956-01-14T00:00:00Z  alive     male  \n",
      "1029535  1956-01-14T00:00:00Z  alive     male  \n",
      "\n",
      "[733290 rows x 7 columns]\n"
     ]
    }
   ],
   "source": [
    "duplicados = df.duplicated()\n",
    "\n",
    "print(df[duplicados])"
   ]
  },
  {
   "cell_type": "code",
   "execution_count": 156,
   "id": "41091ffb",
   "metadata": {},
   "outputs": [],
   "source": [
    "df = df.drop_duplicates()"
   ]
  },
  {
   "cell_type": "code",
   "execution_count": 157,
   "id": "14ca195b",
   "metadata": {},
   "outputs": [
    {
     "name": "stdout",
     "output_type": "stream",
     "text": [
      "Empty DataFrame\n",
      "Columns: [artist, country, type, award, birth, death, gender]\n",
      "Index: []\n"
     ]
    }
   ],
   "source": [
    "duplicados = df.duplicated()\n",
    "\n",
    "print(df[duplicados])"
   ]
  },
  {
   "cell_type": "code",
   "execution_count": 158,
   "id": "e91b4c77",
   "metadata": {},
   "outputs": [
    {
     "data": {
      "text/plain": [
       "(296267, 7)"
      ]
     },
     "execution_count": 158,
     "metadata": {},
     "output_type": "execute_result"
    }
   ],
   "source": [
    "df.shape"
   ]
  },
  {
   "cell_type": "code",
   "execution_count": 159,
   "id": "5de85c5b",
   "metadata": {},
   "outputs": [
    {
     "name": "stdout",
     "output_type": "stream",
     "text": [
      "=== Artistas duplicados por 'artists' ===\n",
      "Número de combinaciones duplicadas: 3150\n"
     ]
    },
    {
     "data": {
      "text/html": [
       "<div>\n",
       "<style scoped>\n",
       "    .dataframe tbody tr th:only-of-type {\n",
       "        vertical-align: middle;\n",
       "    }\n",
       "\n",
       "    .dataframe tbody tr th {\n",
       "        vertical-align: top;\n",
       "    }\n",
       "\n",
       "    .dataframe thead th {\n",
       "        text-align: right;\n",
       "    }\n",
       "</style>\n",
       "<table border=\"1\" class=\"dataframe\">\n",
       "  <thead>\n",
       "    <tr style=\"text-align: right;\">\n",
       "      <th></th>\n",
       "      <th>artist</th>\n",
       "      <th>counts</th>\n",
       "    </tr>\n",
       "  </thead>\n",
       "  <tbody>\n",
       "    <tr>\n",
       "      <th>0</th>\n",
       "      <td>Mstislav Rostropovich</td>\n",
       "      <td>3332</td>\n",
       "    </tr>\n",
       "    <tr>\n",
       "      <th>1</th>\n",
       "      <td>Daniel Barenboim</td>\n",
       "      <td>3303</td>\n",
       "    </tr>\n",
       "    <tr>\n",
       "      <th>2</th>\n",
       "      <td>Valery Gergiev</td>\n",
       "      <td>2940</td>\n",
       "    </tr>\n",
       "    <tr>\n",
       "      <th>3</th>\n",
       "      <td>Zubin Mehta</td>\n",
       "      <td>2892</td>\n",
       "    </tr>\n",
       "    <tr>\n",
       "      <th>4</th>\n",
       "      <td>Ivan Petrov</td>\n",
       "      <td>2768</td>\n",
       "    </tr>\n",
       "    <tr>\n",
       "      <th>5</th>\n",
       "      <td>Dmitri Shostakovich</td>\n",
       "      <td>2620</td>\n",
       "    </tr>\n",
       "    <tr>\n",
       "      <th>6</th>\n",
       "      <td>Lyudmila Zykina</td>\n",
       "      <td>2016</td>\n",
       "    </tr>\n",
       "    <tr>\n",
       "      <th>7</th>\n",
       "      <td>Galina Vishnevskaya</td>\n",
       "      <td>1878</td>\n",
       "    </tr>\n",
       "    <tr>\n",
       "      <th>8</th>\n",
       "      <td>Vladimir Fedoseyev</td>\n",
       "      <td>1810</td>\n",
       "    </tr>\n",
       "    <tr>\n",
       "      <th>9</th>\n",
       "      <td>Angela Lansbury</td>\n",
       "      <td>1764</td>\n",
       "    </tr>\n",
       "    <tr>\n",
       "      <th>10</th>\n",
       "      <td>Yo-Yo Ma</td>\n",
       "      <td>1677</td>\n",
       "    </tr>\n",
       "    <tr>\n",
       "      <th>11</th>\n",
       "      <td>Frank Sinatra</td>\n",
       "      <td>1628</td>\n",
       "    </tr>\n",
       "    <tr>\n",
       "      <th>12</th>\n",
       "      <td>Plácido Domingo</td>\n",
       "      <td>1580</td>\n",
       "    </tr>\n",
       "    <tr>\n",
       "      <th>13</th>\n",
       "      <td>Yevgeny Svetlanov</td>\n",
       "      <td>1512</td>\n",
       "    </tr>\n",
       "    <tr>\n",
       "      <th>14</th>\n",
       "      <td>Nicodemus</td>\n",
       "      <td>1416</td>\n",
       "    </tr>\n",
       "    <tr>\n",
       "      <th>15</th>\n",
       "      <td>Yuri Temirkanov</td>\n",
       "      <td>1356</td>\n",
       "    </tr>\n",
       "    <tr>\n",
       "      <th>16</th>\n",
       "      <td>Stephen Hawking</td>\n",
       "      <td>1332</td>\n",
       "    </tr>\n",
       "    <tr>\n",
       "      <th>17</th>\n",
       "      <td>Igor Krutoy</td>\n",
       "      <td>1260</td>\n",
       "    </tr>\n",
       "    <tr>\n",
       "      <th>18</th>\n",
       "      <td>John Williams</td>\n",
       "      <td>1259</td>\n",
       "    </tr>\n",
       "    <tr>\n",
       "      <th>19</th>\n",
       "      <td>Arvo Pärt</td>\n",
       "      <td>1251</td>\n",
       "    </tr>\n",
       "  </tbody>\n",
       "</table>\n",
       "</div>"
      ],
      "text/plain": [
       "                   artist  counts\n",
       "0   Mstislav Rostropovich    3332\n",
       "1        Daniel Barenboim    3303\n",
       "2          Valery Gergiev    2940\n",
       "3             Zubin Mehta    2892\n",
       "4             Ivan Petrov    2768\n",
       "5     Dmitri Shostakovich    2620\n",
       "6         Lyudmila Zykina    2016\n",
       "7     Galina Vishnevskaya    1878\n",
       "8      Vladimir Fedoseyev    1810\n",
       "9         Angela Lansbury    1764\n",
       "10               Yo-Yo Ma    1677\n",
       "11          Frank Sinatra    1628\n",
       "12        Plácido Domingo    1580\n",
       "13      Yevgeny Svetlanov    1512\n",
       "14              Nicodemus    1416\n",
       "15        Yuri Temirkanov    1356\n",
       "16        Stephen Hawking    1332\n",
       "17            Igor Krutoy    1260\n",
       "18          John Williams    1259\n",
       "19              Arvo Pärt    1251"
      ]
     },
     "execution_count": 159,
     "metadata": {},
     "output_type": "execute_result"
    }
   ],
   "source": [
    "repeaated_name = df.value_counts(subset=['artist']).reset_index(name='counts')\n",
    "\n",
    "# Filtrar solo las combinaciones que aparecen más de una vez\n",
    "repeated = repeaated_name[repeaated_name['counts'] > 1]\n",
    "\n",
    "# Mostrar resultados\n",
    "print(\"=== Artistas duplicados por 'artists' ===\")\n",
    "print(f\"Número de combinaciones duplicadas: {len(repeated)}\")\n",
    "repeated.head(20)"
   ]
  },
  {
   "cell_type": "markdown",
   "id": "add0a7ba",
   "metadata": {},
   "source": [
    "## Idioma"
   ]
  },
  {
   "cell_type": "code",
   "execution_count": 160,
   "id": "abe2b309",
   "metadata": {},
   "outputs": [
    {
     "name": "stderr",
     "output_type": "stream",
     "text": [
      "🔍 Filtrando premios válidos:   0%|          | 0/296267 [00:00<?, ?it/s]"
     ]
    },
    {
     "name": "stderr",
     "output_type": "stream",
     "text": [
      "🔍 Filtrando premios válidos: 100%|██████████| 296267/296267 [03:08<00:00, 1568.15it/s]\n"
     ]
    },
    {
     "data": {
      "text/html": [
       "<div>\n",
       "<style scoped>\n",
       "    .dataframe tbody tr th:only-of-type {\n",
       "        vertical-align: middle;\n",
       "    }\n",
       "\n",
       "    .dataframe tbody tr th {\n",
       "        vertical-align: top;\n",
       "    }\n",
       "\n",
       "    .dataframe thead th {\n",
       "        text-align: right;\n",
       "    }\n",
       "</style>\n",
       "<table border=\"1\" class=\"dataframe\">\n",
       "  <thead>\n",
       "    <tr style=\"text-align: right;\">\n",
       "      <th></th>\n",
       "      <th>artist</th>\n",
       "      <th>country</th>\n",
       "      <th>type</th>\n",
       "      <th>award</th>\n",
       "      <th>birth</th>\n",
       "      <th>death</th>\n",
       "      <th>gender</th>\n",
       "    </tr>\n",
       "  </thead>\n",
       "  <tbody>\n",
       "    <tr>\n",
       "      <th>99</th>\n",
       "      <td>1995</td>\n",
       "      <td>Unknown</td>\n",
       "      <td>musical group</td>\n",
       "      <td>Victory of the album of urban musics</td>\n",
       "      <td>Unknown</td>\n",
       "      <td>alive</td>\n",
       "      <td>Unknown</td>\n",
       "    </tr>\n",
       "    <tr>\n",
       "      <th>434</th>\n",
       "      <td>50 Cent</td>\n",
       "      <td>United States</td>\n",
       "      <td>human</td>\n",
       "      <td>Billboard Music Awards</td>\n",
       "      <td>1975-07-06T00:00:00Z</td>\n",
       "      <td>alive</td>\n",
       "      <td>male</td>\n",
       "    </tr>\n",
       "    <tr>\n",
       "      <th>438</th>\n",
       "      <td>50 Cent</td>\n",
       "      <td>United States</td>\n",
       "      <td>human</td>\n",
       "      <td>Billboard Music Award</td>\n",
       "      <td>1975-07-06T00:00:00Z</td>\n",
       "      <td>alive</td>\n",
       "      <td>male</td>\n",
       "    </tr>\n",
       "    <tr>\n",
       "      <th>778</th>\n",
       "      <td>50 Cent</td>\n",
       "      <td>United States</td>\n",
       "      <td>human</td>\n",
       "      <td>star on Hollywood Walk of Fame</td>\n",
       "      <td>1975-07-06T00:00:00Z</td>\n",
       "      <td>alive</td>\n",
       "      <td>male</td>\n",
       "    </tr>\n",
       "    <tr>\n",
       "      <th>1012</th>\n",
       "      <td>5 Seconds of Summer</td>\n",
       "      <td>Unknown</td>\n",
       "      <td>musical group</td>\n",
       "      <td>American Music Award for New Artist of the Year</td>\n",
       "      <td>Unknown</td>\n",
       "      <td>alive</td>\n",
       "      <td>Unknown</td>\n",
       "    </tr>\n",
       "  </tbody>\n",
       "</table>\n",
       "</div>"
      ],
      "text/plain": [
       "                   artist        country           type  \\\n",
       "99                   1995        Unknown  musical group   \n",
       "434               50 Cent  United States          human   \n",
       "438               50 Cent  United States          human   \n",
       "778               50 Cent  United States          human   \n",
       "1012  5 Seconds of Summer        Unknown  musical group   \n",
       "\n",
       "                                                award                 birth  \\\n",
       "99               Victory of the album of urban musics               Unknown   \n",
       "434                            Billboard Music Awards  1975-07-06T00:00:00Z   \n",
       "438                             Billboard Music Award  1975-07-06T00:00:00Z   \n",
       "778                    star on Hollywood Walk of Fame  1975-07-06T00:00:00Z   \n",
       "1012  American Music Award for New Artist of the Year               Unknown   \n",
       "\n",
       "      death   gender  \n",
       "99    alive  Unknown  \n",
       "434   alive     male  \n",
       "438   alive     male  \n",
       "778   alive     male  \n",
       "1012  alive  Unknown  "
      ]
     },
     "execution_count": 160,
     "metadata": {},
     "output_type": "execute_result"
    }
   ],
   "source": [
    "import pandas as pd\n",
    "from langdetect import detect\n",
    "from tqdm import tqdm\n",
    "\n",
    "# Frases o palabras comunes en otros idiomas\n",
    "palabras_no_ingles = [\n",
    "    \"stär um\", \"para\", \"prêmio\", \"premio\", \"prix\", \"voor\", \"de\", \"sus\", \"la\", \"das\", \"del\", \"der\", \"des\",\n",
    "    \"el\", \"le\", \"pe\", \"stella\", \"sulla\", \"nagroda\", \"carriera\", \"réalta\", \"premi\", \"xelata\",\n",
    "    \"tähti\", \"æresdoktor\", \"famen\", \"doktor\", \"oriel\", \"anfarwolion\", \"auf dem\", \"or merit\", \"kpakpando\", \"stäär üüb\"\n",
    "    \n",
    "]\n",
    "\n",
    "# Caché para langdetect\n",
    "award_lang_cache = {}\n",
    "\n",
    "def is_english_filtered(text):\n",
    "    text_l = str(text).lower().strip()\n",
    "    \n",
    "    if text not in award_lang_cache:\n",
    "        try:\n",
    "            award_lang_cache[text] = detect(text)\n",
    "        except:\n",
    "            award_lang_cache[text] = \"unknown\"\n",
    "    \n",
    "    if award_lang_cache[text] != \"en\":\n",
    "        return False\n",
    "\n",
    "    for palabra in palabras_no_ingles:\n",
    "        if palabra in text_l:\n",
    "            return False\n",
    "\n",
    "    return True\n",
    "\n",
    "# Aplicar el filtro sobre la columna 'award'\n",
    "tqdm.pandas(desc=\"🔍 Filtrando premios válidos\")\n",
    "df = df[df['award'].notna() & df['award'].progress_apply(is_english_filtered)]\n",
    "\n",
    "df.head()\n"
   ]
  },
  {
   "cell_type": "code",
   "execution_count": 161,
   "id": "d6d9c1ae",
   "metadata": {},
   "outputs": [
    {
     "data": {
      "text/plain": [
       "(7935, 7)"
      ]
     },
     "execution_count": 161,
     "metadata": {},
     "output_type": "execute_result"
    }
   ],
   "source": [
    "df.shape"
   ]
  },
  {
   "cell_type": "markdown",
   "id": "cbd146f0",
   "metadata": {},
   "source": [
    "### Agrupar premios y creacion de nuevas columnas"
   ]
  },
  {
   "cell_type": "code",
   "execution_count": null,
   "id": "0141a0f7",
   "metadata": {},
   "outputs": [
    {
     "name": "stdout",
     "output_type": "stream",
     "text": [
      "                 artist        country           type                 birth  \\\n",
      "0                  1995        Unknown  musical group               Unknown   \n",
      "1   5 Seconds of Summer        Unknown  musical group               Unknown   \n",
      "2               50 Cent  United States          human  1975-07-06T00:00:00Z   \n",
      "3  A Tribe Called Quest        Unknown  musical group               Unknown   \n",
      "4                  ABBA        Unknown  musical group               Unknown   \n",
      "\n",
      "   death   gender                                              award  \\\n",
      "0  alive  Unknown               Victory of the album of urban musics   \n",
      "1  alive  Unknown  American Music Award for New Artist of the Yea...   \n",
      "2  alive     male  Billboard Music Award; Billboard Music Awards;...   \n",
      "3  alive  Unknown  BRIT Awards/International Group; Brit Award fo...   \n",
      "4  alive  Unknown  First prize of the Eurovision Song Contest; Ro...   \n",
      "\n",
      "   award_count  won_grammy  \n",
      "0            1       False  \n",
      "1            2       False  \n",
      "2            3       False  \n",
      "3            4       False  \n",
      "4            4       False  \n"
     ]
    }
   ],
   "source": [
    "\n",
    "# Función para obtener el valor más común en cada grupo\n",
    "def valor_mas_comun(serie):\n",
    "    return serie.mode().iloc[0] if not serie.mode().empty else serie.dropna().iloc[0]\n",
    "\n",
    "# Agrupar por artista consolidando la información\n",
    "agrupado = df.groupby(\"artist\").agg({\n",
    "    \"country\": valor_mas_comun,\n",
    "    \"type\": valor_mas_comun,\n",
    "    \"birth\": valor_mas_comun,\n",
    "    \"death\": valor_mas_comun,\n",
    "    \"gender\": valor_mas_comun,\n",
    "    \"award\": lambda x: sorted(set(x))\n",
    "}).reset_index()\n",
    "\n",
    "# Crear columna: número de premios\n",
    "agrupado[\"award_count\"] = agrupado[\"award\"].apply(len)\n",
    "\n",
    "# Crear columna: si ganó un Grammy (busca \"grammy\" en los premios)\n",
    "agrupado[\"won_grammy\"] = agrupado[\"award\"].apply(\n",
    "    lambda premios: any(\"grammy\" in premio.lower() for premio in premios)\n",
    ")\n",
    "\n",
    "# Convertir lista de premios en string separado por punto y coma\n",
    "agrupado[\"award\"] = agrupado[\"award\"].apply(lambda x: \"; \".join(x))\n",
    "\n",
    "# Asignar al DataFrame final\n",
    "df = agrupado\n",
    "\n",
    "# Mostrar resultado\n",
    "print(df.head())\n",
    "\n"
   ]
  },
  {
   "cell_type": "code",
   "execution_count": 167,
   "id": "396907e9",
   "metadata": {},
   "outputs": [
    {
     "data": {
      "text/plain": [
       "(2012, 9)"
      ]
     },
     "execution_count": 167,
     "metadata": {},
     "output_type": "execute_result"
    }
   ],
   "source": [
    "df.shape"
   ]
  },
  {
   "cell_type": "code",
   "execution_count": 168,
   "id": "9de75084",
   "metadata": {},
   "outputs": [
    {
     "data": {
      "image/png": "[encoded data removed]",
      "text/plain": [
       "<Figure size 1000x600 with 1 Axes>"
      ]
     },
     "metadata": {},
     "output_type": "display_data"
    }
   ],
   "source": [
    "plt.figure(figsize=(10, 6))\n",
    "sns.countplot(x='country', data=df, order=df['country'].value_counts().index[:10])\n",
    "plt.title('Top 10 Países de Origen')\n",
    "plt.xticks(rotation=45)\n",
    "plt.show()"
   ]
  },
  {
   "cell_type": "code",
   "execution_count": 169,
   "id": "f2e68ce1",
   "metadata": {},
   "outputs": [
    {
     "data": {
      "text/plain": [
       "<Axes: title={'center': 'Top 20 artistas con más premios'}, ylabel='artist'>"
      ]
     },
     "execution_count": 169,
     "metadata": {},
     "output_type": "execute_result"
    },
    {
     "data": {
      "image/png": "[encoded data removed]",
      "text/plain": [
       "<Figure size 1000x800 with 1 Axes>"
      ]
     },
     "metadata": {},
     "output_type": "display_data"
    }
   ],
   "source": [
    "df.sort_values(\"award_count\", ascending=False).head(20).plot.barh(\n",
    "    x=\"artist\", y=\"award_count\", figsize=(10, 8), title=\"Top 20 artistas con más premios\")\n"
   ]
  },
  {
   "cell_type": "code",
   "execution_count": 170,
   "id": "dcf92a44",
   "metadata": {},
   "outputs": [
    {
     "data": {
      "text/plain": [
       "<Axes: title={'center': 'Distribución de premios por artista'}, ylabel='Frequency'>"
      ]
     },
     "execution_count": 170,
     "metadata": {},
     "output_type": "execute_result"
    },
    {
     "data": {
      "image/png": "[encoded data removed]",
      "text/plain": [
       "<Figure size 640x480 with 1 Axes>"
      ]
     },
     "metadata": {},
     "output_type": "display_data"
    }
   ],
   "source": [
    "df[\"award_count\"].plot.hist(bins=20, title=\"Distribución de premios por artista\")\n"
   ]
  },
  {
   "cell_type": "code",
   "execution_count": 171,
   "id": "5f4006a7",
   "metadata": {},
   "outputs": [
    {
     "data": {
      "text/plain": [
       "<Axes: title={'center': 'Distribución de artistas según premios Grammy'}, ylabel='count'>"
      ]
     },
     "execution_count": 171,
     "metadata": {},
     "output_type": "execute_result"
    },
    {
     "data": {
      "image/png": "[encoded data removed]",
      "text/plain": [
       "<Figure size 640x480 with 1 Axes>"
      ]
     },
     "metadata": {},
     "output_type": "display_data"
    }
   ],
   "source": [
    "df[\"won_grammy\"].value_counts().plot.pie(autopct='%1.1f%%', labels=[\"Sin Grammy\", \"Ganó Grammy\"], title=\"Distribución de artistas según premios Grammy\")\n"
   ]
  },
  {
   "cell_type": "code",
   "execution_count": 172,
   "id": "f1833b41",
   "metadata": {},
   "outputs": [
    {
     "data": {
      "text/plain": [
       "<Axes: title={'center': 'Top 10 países con más artistas'}, xlabel='country'>"
      ]
     },
     "execution_count": 172,
     "metadata": {},
     "output_type": "execute_result"
    },
    {
     "data": {
      "image/png": "[encoded data removed]",
      "text/plain": [
       "<Figure size 640x480 with 1 Axes>"
      ]
     },
     "metadata": {},
     "output_type": "display_data"
    }
   ],
   "source": [
    "df[\"country\"].value_counts().head(10).plot.bar(title=\"Top 10 países con más artistas\")\n"
   ]
  },
  {
   "cell_type": "code",
   "execution_count": null,
   "id": "56ba5198",
   "metadata": {},
   "outputs": [
    {
     "data": {
      "image/png": "[encoded data removed]",
      "text/plain": [
       "<Figure size 800x800 with 1 Axes>"
      ]
     },
     "metadata": {},
     "output_type": "display_data"
    }
   ],
   "source": [
    "# Excluir \"Unknown\"\n",
    "gender_counts = df[df[\"gender\"] != \"Unknown\"][\"gender\"].value_counts()\n",
    "\n",
    "# Colores personalizados (opcional)\n",
    "colors = [\"#90caf9\", \"#ffca28\", \"#f48fb1\", \"#a1887f\", \"#ce93d8\"]\n",
    "\n",
    "# Crear figura\n",
    "plt.figure(figsize=(8, 8))\n",
    "plt.pie(\n",
    "    gender_counts,\n",
    "    labels=None,  # Las quitamos del gráfico\n",
    "    autopct='%1.1f%%',\n",
    "    startangle=90,\n",
    "    colors=colors,\n",
    "    textprops={'fontsize': 12}\n",
    ")\n",
    "plt.title(\"Distribución por género (excluyendo 'Unknown')\", fontsize=14)\n",
    "plt.axis(\"equal\")\n",
    "\n",
    "# Añadir leyenda al costado\n",
    "plt.legend(\n",
    "    labels=gender_counts.index,\n",
    "    loc=\"center left\",\n",
    "    bbox_to_anchor=(1, 0.5),\n",
    "    title=\"Género\"\n",
    ")\n",
    "\n",
    "plt.tight_layout()\n",
    "plt.show()\n",
    "\n"
   ]
  }
 ],
 "metadata": {
  "kernelspec": {
   "display_name": "venv",
   "language": "python",
   "name": "python3"
  },
  "language_info": {
   "codemirror_mode": {
    "name": "ipython",
    "version": 3
   },
   "file_extension": ".py",
   "mimetype": "text/x-python",
   "name": "python",
   "nbconvert_exporter": "python",
   "pygments_lexer": "ipython3",
   "version": "3.11.4"
  }
 },
 "nbformat": 4,
 "nbformat_minor": 5
}
